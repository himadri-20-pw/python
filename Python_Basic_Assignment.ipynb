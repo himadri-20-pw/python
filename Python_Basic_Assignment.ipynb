{
  "cells": [
    {
      "cell_type": "markdown",
      "id": "3a794077-6eb1-47b5-b880-69307d5905f7",
      "metadata": {
        "jp-MarkdownHeadingCollapsed": true,
        "id": "3a794077-6eb1-47b5-b880-69307d5905f7"
      },
      "source": [
        "# Q1)Explain the key features of python that makes it a popular choice for programming.\n",
        "ANS-The key features of python that makes it a popular choice for programming are:\n",
        ">>Easy to learn,read and to use\n",
        ">>Free and open source\n",
        ">>A lot of libraries\n",
        ">>Lot of databases\n",
        ">>Huge active community\n",
        ">>Scalability and Versatility\n"
      ]
    },
    {
      "cell_type": "markdown",
      "id": "1bf49824-648c-48cd-963f-88aea95400ae",
      "metadata": {
        "jp-MarkdownHeadingCollapsed": true,
        "id": "1bf49824-648c-48cd-963f-88aea95400ae"
      },
      "source": [
        "# Q2)Describe the role of predefined keywords in Python and provide examples if how they are used in a programm.\n",
        "ANS-The role of predefined keywords in Python is to perform some kind of specific tasks like defining the structure,making the code logical etc.\n",
        "They are also a part of the syntax of the programme.Example:-"
      ]
    },
    {
      "cell_type": "code",
      "execution_count": null,
      "id": "1c4a9886-6777-4870-9267-57811096a131",
      "metadata": {
        "id": "1c4a9886-6777-4870-9267-57811096a131",
        "outputId": "46139836-1ddd-433f-cc2e-e78727f1dcac"
      },
      "outputs": [
        {
          "name": "stdin",
          "output_type": "stream",
          "text": [
            "please enter ur name: HIMADRI\n"
          ]
        }
      ],
      "source": [
        "name = input(\"please enter ur name:\")    #here input is a predefined keyword"
      ]
    },
    {
      "cell_type": "code",
      "execution_count": null,
      "id": "c5df5f9a-7dd3-4c9a-801f-b3f2a45ae28b",
      "metadata": {
        "id": "c5df5f9a-7dd3-4c9a-801f-b3f2a45ae28b",
        "outputId": "cb711eb1-0730-4190-ec61-dd4968c4355c"
      },
      "outputs": [
        {
          "name": "stdout",
          "output_type": "stream",
          "text": [
            "1\n",
            "2\n",
            "skills\n"
          ]
        }
      ],
      "source": [
        "l=[1,2,\"skills\"]               #here for is a predefined keyword\n",
        "for i in l:\n",
        "    print(i)"
      ]
    },
    {
      "cell_type": "code",
      "execution_count": null,
      "id": "f187b3c5-c080-4baa-a001-ad9aa74ccf52",
      "metadata": {
        "id": "f187b3c5-c080-4baa-a001-ad9aa74ccf52",
        "outputId": "37f3b654-2122-4831-e028-4684e5fa3892"
      },
      "outputs": [
        {
          "data": {
            "text/plain": [
              "False"
            ]
          },
          "execution_count": 8,
          "metadata": {},
          "output_type": "execute_result"
        }
      ],
      "source": [
        "not True                #True for is a predefined keyword"
      ]
    },
    {
      "cell_type": "markdown",
      "id": "1f86fd2d-9cd9-465b-84f7-1fb7ed39211e",
      "metadata": {
        "jp-MarkdownHeadingCollapsed": true,
        "id": "1f86fd2d-9cd9-465b-84f7-1fb7ed39211e"
      },
      "source": [
        "# Q3)Compare and constract mutable and immutable objects in Python with examples.\n",
        "ANS-The values that can be changed after they are created are called as mutable objects.Example:-"
      ]
    },
    {
      "cell_type": "code",
      "execution_count": null,
      "id": "68fb2974-683f-48f2-b71b-e57422741997",
      "metadata": {
        "id": "68fb2974-683f-48f2-b71b-e57422741997",
        "outputId": "d78b8fea-f3bd-4a4c-9bff-8064cd256bec"
      },
      "outputs": [
        {
          "data": {
            "text/plain": [
              "[4, 29, 300, 'Dog', True, 8.3, (2+3j)]"
            ]
          },
          "execution_count": 20,
          "metadata": {},
          "output_type": "execute_result"
        }
      ],
      "source": [
        "l_cont = [4,29,300,\"Dog\",True,8.3,2+3J]\n",
        "l_cont                                     #orginal content"
      ]
    },
    {
      "cell_type": "code",
      "execution_count": null,
      "id": "55069545-a47f-4956-b129-244ba636b452",
      "metadata": {
        "id": "55069545-a47f-4956-b129-244ba636b452",
        "outputId": "ab2d1f0e-930f-414d-a2b4-af9364b2d741"
      },
      "outputs": [
        {
          "data": {
            "text/plain": [
              "[4, 29, 300, 'flower', True, 8.3, (2+3j)]"
            ]
          },
          "execution_count": 22,
          "metadata": {},
          "output_type": "execute_result"
        }
      ],
      "source": [
        "l_cont[3]=\"flower\"\n",
        "l_cont"
      ]
    },
    {
      "cell_type": "code",
      "execution_count": null,
      "id": "fb7664c9-0413-4072-bb49-db1bc3e88a85",
      "metadata": {
        "id": "fb7664c9-0413-4072-bb49-db1bc3e88a85",
        "outputId": "aa9c2c46-97be-4e9e-f698-d71ac893a297"
      },
      "outputs": [
        {
          "data": {
            "text/plain": [
              "150"
            ]
          },
          "execution_count": 23,
          "metadata": {},
          "output_type": "execute_result"
        }
      ],
      "source": [
        "l_cont[0]=150\n",
        "l_cont[0]"
      ]
    },
    {
      "cell_type": "code",
      "execution_count": null,
      "id": "c33ef7f3-ffd2-4ed2-ad5f-3cfc4d3cc282",
      "metadata": {
        "id": "c33ef7f3-ffd2-4ed2-ad5f-3cfc4d3cc282",
        "outputId": "567bc656-11a5-4d4d-9c78-f6c316fedbbc"
      },
      "outputs": [
        {
          "data": {
            "text/plain": [
              "[150, 29, 300, 'flower', True, 8.3, (2+3j)]"
            ]
          },
          "execution_count": 24,
          "metadata": {},
          "output_type": "execute_result"
        }
      ],
      "source": [
        "l_cont                                   #updated content"
      ]
    },
    {
      "cell_type": "code",
      "execution_count": null,
      "id": "6a7f3121-b4ce-4120-a3e2-56bdc514ec45",
      "metadata": {
        "id": "6a7f3121-b4ce-4120-a3e2-56bdc514ec45"
      },
      "outputs": [],
      "source": [
        "###lIST,DICTIONARY are example of mutable objects."
      ]
    },
    {
      "cell_type": "raw",
      "id": "c2026136-e101-4f1f-aeca-cdbe33260648",
      "metadata": {
        "id": "c2026136-e101-4f1f-aeca-cdbe33260648"
      },
      "source": [
        "The values that cannot be changed after they are created are called as immutable objects.Example:-"
      ]
    },
    {
      "cell_type": "code",
      "execution_count": null,
      "id": "166d709f-3478-477f-905b-0a8e9a04a7a2",
      "metadata": {
        "id": "166d709f-3478-477f-905b-0a8e9a04a7a2",
        "outputId": "e42d6454-b2bd-4879-d757-8a5bf176d0aa"
      },
      "outputs": [
        {
          "data": {
            "text/plain": [
              "'flowers'"
            ]
          },
          "execution_count": 25,
          "metadata": {},
          "output_type": "execute_result"
        }
      ],
      "source": [
        "word = \"flowers\"\n",
        "word"
      ]
    },
    {
      "cell_type": "code",
      "execution_count": null,
      "id": "a4bce29e-bc5b-431b-b28d-183809216db8",
      "metadata": {
        "id": "a4bce29e-bc5b-431b-b28d-183809216db8",
        "outputId": "8a93bba7-ed20-4a73-f0de-3ddb3c1d4861"
      },
      "outputs": [
        {
          "ename": "TypeError",
          "evalue": "'str' object does not support item assignment",
          "output_type": "error",
          "traceback": [
            "\u001b[31m---------------------------------------------------------------------------\u001b[39m",
            "\u001b[31mTypeError\u001b[39m                                 Traceback (most recent call last)",
            "\u001b[36mCell\u001b[39m\u001b[36m \u001b[39m\u001b[32mIn[27]\u001b[39m\u001b[32m, line 1\u001b[39m\n\u001b[32m----> \u001b[39m\u001b[32m1\u001b[39m \u001b[43mword\u001b[49m\u001b[43m[\u001b[49m\u001b[32;43m5\u001b[39;49m\u001b[43m]\u001b[49m=\u001b[33m\"\u001b[39m\u001b[33mp\u001b[39m\u001b[33m\"\u001b[39m                         \u001b[38;5;66;03m#in string we cannot change the characters after once being written\u001b[39;00m\n",
            "\u001b[31mTypeError\u001b[39m: 'str' object does not support item assignment"
          ]
        }
      ],
      "source": [
        "word[5]=\"p\"                         #in string we cannot change the characters after once being written"
      ]
    },
    {
      "cell_type": "code",
      "execution_count": null,
      "id": "1a2067d3-3be9-49ed-b26e-b0abbf71e4db",
      "metadata": {
        "id": "1a2067d3-3be9-49ed-b26e-b0abbf71e4db"
      },
      "outputs": [],
      "source": [
        "###STRING,TUPLES are example of immutable objects."
      ]
    },
    {
      "cell_type": "markdown",
      "id": "55576b7a-c89c-4382-8caa-2edbc3fdd631",
      "metadata": {
        "jp-MarkdownHeadingCollapsed": true,
        "id": "55576b7a-c89c-4382-8caa-2edbc3fdd631"
      },
      "source": [
        "# Q4)Discuss the different types of operators in Python and provide examples of how they are used\n",
        "ANS-Different types of operators in Python are:\n",
        ">>Arithmatics operators\n",
        ">>Comparison operators\n",
        ">>Logical operators\n",
        ">>Bitwise operators\n",
        ">>Assignment operators\n",
        ">>Membership operators\n",
        ">>Identify operators"
      ]
    },
    {
      "cell_type": "markdown",
      "id": "92a84a8b-d878-4330-8a39-33f5ae523d9e",
      "metadata": {
        "jp-MarkdownHeadingCollapsed": true,
        "id": "92a84a8b-d878-4330-8a39-33f5ae523d9e"
      },
      "source": [
        "### arithmatic operators"
      ]
    },
    {
      "cell_type": "code",
      "execution_count": null,
      "id": "09a5c6a0-8f16-4b15-8b91-37a45d29b0d3",
      "metadata": {
        "id": "09a5c6a0-8f16-4b15-8b91-37a45d29b0d3",
        "outputId": "ce2c5d1a-9c9a-4a17-d18c-5d841e4a5985"
      },
      "outputs": [
        {
          "data": {
            "text/plain": [
              "84"
            ]
          },
          "execution_count": 127,
          "metadata": {},
          "output_type": "execute_result"
        }
      ],
      "source": [
        "a=45\n",
        "b=39\n",
        "a+b      #addition"
      ]
    },
    {
      "cell_type": "code",
      "execution_count": null,
      "id": "a73d7e31-0a14-46e7-a467-b4149d4f326b",
      "metadata": {
        "id": "a73d7e31-0a14-46e7-a467-b4149d4f326b",
        "outputId": "2e4939f3-28b5-4365-f6ee-1b2cb0675f62"
      },
      "outputs": [
        {
          "data": {
            "text/plain": [
              "6"
            ]
          },
          "execution_count": 51,
          "metadata": {},
          "output_type": "execute_result"
        }
      ],
      "source": [
        "a-b       #substraction"
      ]
    },
    {
      "cell_type": "code",
      "execution_count": null,
      "id": "c38d9552-634d-4159-9a7c-5b1831afafb2",
      "metadata": {
        "id": "c38d9552-634d-4159-9a7c-5b1831afafb2",
        "outputId": "287c75e4-e88e-425b-dbfb-1efc86dbf952"
      },
      "outputs": [
        {
          "data": {
            "text/plain": [
              "1755"
            ]
          },
          "execution_count": 52,
          "metadata": {},
          "output_type": "execute_result"
        }
      ],
      "source": [
        "a*b       #multiplication"
      ]
    },
    {
      "cell_type": "code",
      "execution_count": null,
      "id": "ef4b5824-6e01-46bb-81e4-f55964ab8623",
      "metadata": {
        "id": "ef4b5824-6e01-46bb-81e4-f55964ab8623",
        "outputId": "5c493cce-7a9e-4ce3-ca56-a40a8404801f"
      },
      "outputs": [
        {
          "data": {
            "text/plain": [
              "1.1538461538461537"
            ]
          },
          "execution_count": 53,
          "metadata": {},
          "output_type": "execute_result"
        }
      ],
      "source": [
        "a/b       #division"
      ]
    },
    {
      "cell_type": "code",
      "execution_count": null,
      "id": "38599314-0877-4002-8319-1746592206dc",
      "metadata": {
        "id": "38599314-0877-4002-8319-1746592206dc",
        "outputId": "bf833bc8-6e8a-4b2f-f28d-49333c8cab25"
      },
      "outputs": [
        {
          "data": {
            "text/plain": [
              "6"
            ]
          },
          "execution_count": 54,
          "metadata": {},
          "output_type": "execute_result"
        }
      ],
      "source": [
        "a%b         #modulus"
      ]
    },
    {
      "cell_type": "markdown",
      "id": "307ef276-4ae1-433f-9054-2b02cc64d36d",
      "metadata": {
        "jp-MarkdownHeadingCollapsed": true,
        "id": "307ef276-4ae1-433f-9054-2b02cc64d36d"
      },
      "source": [
        "### comparison operators"
      ]
    },
    {
      "cell_type": "code",
      "execution_count": null,
      "id": "7ed95c2b-402f-479b-bfe2-285192430461",
      "metadata": {
        "id": "7ed95c2b-402f-479b-bfe2-285192430461",
        "outputId": "6d572e68-2952-4e70-8f2a-d6a55a420a77"
      },
      "outputs": [
        {
          "data": {
            "text/plain": [
              "1444"
            ]
          },
          "execution_count": 55,
          "metadata": {},
          "output_type": "execute_result"
        }
      ],
      "source": [
        "a=38\n",
        "b=2\n",
        "a**2         #exponention"
      ]
    },
    {
      "cell_type": "code",
      "execution_count": null,
      "id": "99149dc4-fd7f-4f35-96c1-51927e29b609",
      "metadata": {
        "id": "99149dc4-fd7f-4f35-96c1-51927e29b609",
        "outputId": "fd4a0e50-d87a-4730-b239-fdf3cc9d7e7b"
      },
      "outputs": [
        {
          "data": {
            "text/plain": [
              "True"
            ]
          },
          "execution_count": 129,
          "metadata": {},
          "output_type": "execute_result"
        }
      ],
      "source": [
        "6==6                 #equal to"
      ]
    },
    {
      "cell_type": "code",
      "execution_count": null,
      "id": "f2bcdf6a-9f26-4422-bcfb-df1316c804c0",
      "metadata": {
        "id": "f2bcdf6a-9f26-4422-bcfb-df1316c804c0",
        "outputId": "e4352e7f-2b19-4b66-ba3d-fb77979fa989"
      },
      "outputs": [
        {
          "data": {
            "text/plain": [
              "True"
            ]
          },
          "execution_count": 45,
          "metadata": {},
          "output_type": "execute_result"
        }
      ],
      "source": [
        "4!=6                #NOT equal to"
      ]
    },
    {
      "cell_type": "code",
      "execution_count": null,
      "id": "d63d6196-44ce-4c29-9773-fcc18fd938aa",
      "metadata": {
        "id": "d63d6196-44ce-4c29-9773-fcc18fd938aa",
        "outputId": "2f9239da-96eb-47b2-8e7c-eadc36cf6d72"
      },
      "outputs": [
        {
          "data": {
            "text/plain": [
              "True"
            ]
          },
          "execution_count": 46,
          "metadata": {},
          "output_type": "execute_result"
        }
      ],
      "source": [
        "55>38              #greater than"
      ]
    },
    {
      "cell_type": "code",
      "execution_count": null,
      "id": "969d186a-ab50-42aa-818c-1d72f9286b1b",
      "metadata": {
        "id": "969d186a-ab50-42aa-818c-1d72f9286b1b",
        "outputId": "06f42e24-d33d-48b6-bd3a-0d1b68705d96"
      },
      "outputs": [
        {
          "data": {
            "text/plain": [
              "True"
            ]
          },
          "execution_count": 47,
          "metadata": {},
          "output_type": "execute_result"
        }
      ],
      "source": [
        "9<77              #less than"
      ]
    },
    {
      "cell_type": "code",
      "execution_count": null,
      "id": "e9fb99ea-94b9-44c6-8d42-9ca989e3eb73",
      "metadata": {
        "id": "e9fb99ea-94b9-44c6-8d42-9ca989e3eb73",
        "outputId": "0242376e-2330-41ca-a508-3e1fc8f5f1b5"
      },
      "outputs": [
        {
          "data": {
            "text/plain": [
              "False"
            ]
          },
          "execution_count": 48,
          "metadata": {},
          "output_type": "execute_result"
        }
      ],
      "source": [
        "89>=90              #greater than or equal to"
      ]
    },
    {
      "cell_type": "code",
      "execution_count": null,
      "id": "698ef13f-cf09-4cd0-8387-f2eba3c4b7d4",
      "metadata": {
        "id": "698ef13f-cf09-4cd0-8387-f2eba3c4b7d4",
        "outputId": "6045c490-38ad-4024-8312-9f24405cb616"
      },
      "outputs": [
        {
          "data": {
            "text/plain": [
              "True"
            ]
          },
          "execution_count": 49,
          "metadata": {},
          "output_type": "execute_result"
        }
      ],
      "source": [
        "7<=50             #less than or equal to"
      ]
    },
    {
      "cell_type": "markdown",
      "id": "6180c569-5f5b-4d1d-903d-88ad401965d4",
      "metadata": {
        "jp-MarkdownHeadingCollapsed": true,
        "id": "6180c569-5f5b-4d1d-903d-88ad401965d4"
      },
      "source": [
        "### logical operator"
      ]
    },
    {
      "cell_type": "code",
      "execution_count": null,
      "id": "f70ad9e4-8ab1-41a5-a140-6b2e9f43baa3",
      "metadata": {
        "id": "f70ad9e4-8ab1-41a5-a140-6b2e9f43baa3",
        "outputId": "ae70c54f-2e05-4289-ca59-eaddc70bd1cc"
      },
      "outputs": [
        {
          "data": {
            "text/plain": [
              "True"
            ]
          },
          "execution_count": 63,
          "metadata": {},
          "output_type": "execute_result"
        }
      ],
      "source": [
        "#and\n",
        "True and True"
      ]
    },
    {
      "cell_type": "code",
      "execution_count": null,
      "id": "4a52adda-42f0-4425-8543-d1cf35ff5620",
      "metadata": {
        "id": "4a52adda-42f0-4425-8543-d1cf35ff5620",
        "outputId": "0dcb8716-b8bb-482a-c895-b4d51dd30d42"
      },
      "outputs": [
        {
          "data": {
            "text/plain": [
              "False"
            ]
          },
          "execution_count": 57,
          "metadata": {},
          "output_type": "execute_result"
        }
      ],
      "source": [
        "True and False"
      ]
    },
    {
      "cell_type": "code",
      "execution_count": null,
      "id": "8c0b4fe5-af1f-4d53-97d8-1175aa0a7e04",
      "metadata": {
        "id": "8c0b4fe5-af1f-4d53-97d8-1175aa0a7e04",
        "outputId": "b2a45085-a3e0-4bb1-f489-781627831a75"
      },
      "outputs": [
        {
          "data": {
            "text/plain": [
              "False"
            ]
          },
          "execution_count": 60,
          "metadata": {},
          "output_type": "execute_result"
        }
      ],
      "source": [
        "False and True"
      ]
    },
    {
      "cell_type": "code",
      "execution_count": null,
      "id": "dc7a2f56-9672-460b-8935-02f5a55af360",
      "metadata": {
        "id": "dc7a2f56-9672-460b-8935-02f5a55af360",
        "outputId": "868d7db0-ca03-44f8-f2af-024d0d54b3f6"
      },
      "outputs": [
        {
          "data": {
            "text/plain": [
              "False"
            ]
          },
          "execution_count": 61,
          "metadata": {},
          "output_type": "execute_result"
        }
      ],
      "source": [
        "False and False"
      ]
    },
    {
      "cell_type": "code",
      "execution_count": null,
      "id": "a70361ed-3e4c-4969-a29c-04f5b8ddc9ed",
      "metadata": {
        "id": "a70361ed-3e4c-4969-a29c-04f5b8ddc9ed",
        "outputId": "d3c07e42-f57e-4d84-9b9d-641524185fea"
      },
      "outputs": [
        {
          "data": {
            "text/plain": [
              "True"
            ]
          },
          "execution_count": 62,
          "metadata": {},
          "output_type": "execute_result"
        }
      ],
      "source": [
        "#or\n",
        "True or True"
      ]
    },
    {
      "cell_type": "code",
      "execution_count": null,
      "id": "fef23093-b18f-474e-b83e-39470bcdd5bb",
      "metadata": {
        "id": "fef23093-b18f-474e-b83e-39470bcdd5bb",
        "outputId": "da8f04f7-9901-434c-950c-955037994cc1"
      },
      "outputs": [
        {
          "data": {
            "text/plain": [
              "True"
            ]
          },
          "execution_count": 64,
          "metadata": {},
          "output_type": "execute_result"
        }
      ],
      "source": [
        "True or False"
      ]
    },
    {
      "cell_type": "code",
      "execution_count": null,
      "id": "a214f30c-5a21-40f7-84c4-da01959b7f7f",
      "metadata": {
        "id": "a214f30c-5a21-40f7-84c4-da01959b7f7f",
        "outputId": "2115c725-76e9-4b28-ac00-7fc375916d11"
      },
      "outputs": [
        {
          "data": {
            "text/plain": [
              "True"
            ]
          },
          "execution_count": 65,
          "metadata": {},
          "output_type": "execute_result"
        }
      ],
      "source": [
        "False or True"
      ]
    },
    {
      "cell_type": "code",
      "execution_count": null,
      "id": "ea0d6970-e511-48f5-8f04-b771ffb25947",
      "metadata": {
        "id": "ea0d6970-e511-48f5-8f04-b771ffb25947",
        "outputId": "daae57b6-dece-44e3-96f8-0ac730d40658"
      },
      "outputs": [
        {
          "data": {
            "text/plain": [
              "False"
            ]
          },
          "execution_count": 66,
          "metadata": {},
          "output_type": "execute_result"
        }
      ],
      "source": [
        "False or False"
      ]
    },
    {
      "cell_type": "markdown",
      "id": "6edb72c0-e151-475d-9200-71347291b77c",
      "metadata": {
        "jp-MarkdownHeadingCollapsed": true,
        "id": "6edb72c0-e151-475d-9200-71347291b77c"
      },
      "source": [
        "### bitwise operator"
      ]
    },
    {
      "cell_type": "code",
      "execution_count": null,
      "id": "565a50ed-c5aa-44b4-965e-6e7733cb4be2",
      "metadata": {
        "id": "565a50ed-c5aa-44b4-965e-6e7733cb4be2",
        "outputId": "416dbdbd-9a22-4204-8ded-1cd293a85ca9"
      },
      "outputs": [
        {
          "data": {
            "text/plain": [
              "8"
            ]
          },
          "execution_count": 82,
          "metadata": {},
          "output_type": "execute_result"
        }
      ],
      "source": [
        "#bitwise and\n",
        "45&24               #bin(45)=101101 and bin(24)=11000 gives 1000 which is bin(8)"
      ]
    },
    {
      "cell_type": "code",
      "execution_count": null,
      "id": "b95677de-7770-4888-aa70-7e55593e55a4",
      "metadata": {
        "id": "b95677de-7770-4888-aa70-7e55593e55a4",
        "outputId": "39bb5a3f-6780-4573-be55-53cfcf3bf4e5"
      },
      "outputs": [
        {
          "data": {
            "text/plain": [
              "14"
            ]
          },
          "execution_count": 83,
          "metadata": {},
          "output_type": "execute_result"
        }
      ],
      "source": [
        "#bitwise or\n",
        "14|14          #bin(14)=1110 or bin(14)=1110 gives 1110 which is bin(14)"
      ]
    },
    {
      "cell_type": "code",
      "execution_count": null,
      "id": "5fc86330-0e8e-45f5-98df-6e3ef949763b",
      "metadata": {
        "id": "5fc86330-0e8e-45f5-98df-6e3ef949763b",
        "outputId": "81d815b5-652e-4c8b-8d08-8ebf5e2c7001"
      },
      "outputs": [
        {
          "data": {
            "text/plain": [
              "-68"
            ]
          },
          "execution_count": 84,
          "metadata": {},
          "output_type": "execute_result"
        }
      ],
      "source": [
        "#negotion\n",
        "~67"
      ]
    },
    {
      "cell_type": "code",
      "execution_count": null,
      "id": "d76f5e60-822f-4fbd-8996-61b5f903e419",
      "metadata": {
        "id": "d76f5e60-822f-4fbd-8996-61b5f903e419",
        "outputId": "6fd18546-aee2-4b02-a663-8d56a54bddc9"
      },
      "outputs": [
        {
          "data": {
            "text/plain": [
              "14"
            ]
          },
          "execution_count": 85,
          "metadata": {},
          "output_type": "execute_result"
        }
      ],
      "source": [
        "#XOR\n",
        "6^8    #bin(6)=110 ^ bin(8)=1000 gives 1110 which is bin(14)"
      ]
    },
    {
      "cell_type": "code",
      "execution_count": null,
      "id": "5192b07f-3aa5-46b9-b648-2ba325028cd9",
      "metadata": {
        "id": "5192b07f-3aa5-46b9-b648-2ba325028cd9",
        "outputId": "d1b2e517-5446-4621-b234-4e55e89c8026"
      },
      "outputs": [
        {
          "data": {
            "text/plain": [
              "1152"
            ]
          },
          "execution_count": 130,
          "metadata": {},
          "output_type": "execute_result"
        }
      ],
      "source": [
        "#left shift\n",
        "36<<5      #bin(36)=100100,bin(5)=101 by filling 0's on the right then we get 10010000000"
      ]
    },
    {
      "cell_type": "code",
      "execution_count": null,
      "id": "d5e0116a-7130-4cb0-be9f-cd172b9b9691",
      "metadata": {
        "id": "d5e0116a-7130-4cb0-be9f-cd172b9b9691"
      },
      "outputs": [],
      "source": []
    },
    {
      "cell_type": "code",
      "execution_count": null,
      "id": "76e4f758-bd16-4f22-8703-3965a04f68f8",
      "metadata": {
        "id": "76e4f758-bd16-4f22-8703-3965a04f68f8",
        "outputId": "5f76154a-cdec-4f43-8335-4e3752cbbaf3"
      },
      "outputs": [
        {
          "data": {
            "text/plain": [
              "26"
            ]
          },
          "execution_count": 131,
          "metadata": {},
          "output_type": "execute_result"
        }
      ],
      "source": [
        "#Right shift operator\n",
        "850>>5       #bin(850)=1101010010,bin(5)=101 by removing 0's on the left then we get 11010"
      ]
    },
    {
      "cell_type": "markdown",
      "id": "bfdce46e-abb5-43c0-8741-e2146dc9c14d",
      "metadata": {
        "jp-MarkdownHeadingCollapsed": true,
        "id": "bfdce46e-abb5-43c0-8741-e2146dc9c14d"
      },
      "source": [
        "### assignment operators"
      ]
    },
    {
      "cell_type": "code",
      "execution_count": null,
      "id": "90134342-52d2-4087-ac02-30285f91e1dd",
      "metadata": {
        "id": "90134342-52d2-4087-ac02-30285f91e1dd"
      },
      "outputs": [],
      "source": [
        "b=164               #assignment"
      ]
    },
    {
      "cell_type": "code",
      "execution_count": null,
      "id": "b7063030-17dc-4a7c-a7f9-1d210eaff641",
      "metadata": {
        "id": "b7063030-17dc-4a7c-a7f9-1d210eaff641",
        "outputId": "5d248469-1667-4c92-e7a7-98cd496c82f3"
      },
      "outputs": [
        {
          "data": {
            "text/plain": [
              "622"
            ]
          },
          "execution_count": 133,
          "metadata": {},
          "output_type": "execute_result"
        }
      ],
      "source": [
        "b=79\n",
        "b+=543               #additional assignment\n",
        "b"
      ]
    },
    {
      "cell_type": "code",
      "execution_count": null,
      "id": "eaa02e7b-6e05-4873-958a-050bf790e0d1",
      "metadata": {
        "id": "eaa02e7b-6e05-4873-958a-050bf790e0d1",
        "outputId": "6ee2cc08-ff6a-4a0d-96f6-2bd37f1c7bf6"
      },
      "outputs": [
        {
          "data": {
            "text/plain": [
              "36"
            ]
          },
          "execution_count": 134,
          "metadata": {},
          "output_type": "execute_result"
        }
      ],
      "source": [
        "n=79\n",
        "n-=43                     #substraction assignment\n",
        "n"
      ]
    },
    {
      "cell_type": "code",
      "execution_count": null,
      "id": "25a0e593-3543-45bd-95c0-c99ff01e4333",
      "metadata": {
        "id": "25a0e593-3543-45bd-95c0-c99ff01e4333",
        "outputId": "f5383c1a-68da-45d7-bc39-7d8ec3d7662f"
      },
      "outputs": [
        {
          "data": {
            "text/plain": [
              "387"
            ]
          },
          "execution_count": 135,
          "metadata": {},
          "output_type": "execute_result"
        }
      ],
      "source": [
        "b=9\n",
        "b*=43                   #multiplication assignment\n",
        "b"
      ]
    },
    {
      "cell_type": "code",
      "execution_count": null,
      "id": "2e75080d-1d94-4444-977d-3eddcdc1cefa",
      "metadata": {
        "id": "2e75080d-1d94-4444-977d-3eddcdc1cefa",
        "outputId": "778469e9-8330-40d9-8690-65d9c06097fd"
      },
      "outputs": [
        {
          "data": {
            "text/plain": [
              "0.14548802946593"
            ]
          },
          "execution_count": 136,
          "metadata": {},
          "output_type": "execute_result"
        }
      ],
      "source": [
        "a=79\n",
        "a/=543                     #division assignment\n",
        "a"
      ]
    },
    {
      "cell_type": "markdown",
      "id": "0599a9f2-b71f-4efc-8b7c-b14434554fda",
      "metadata": {
        "jp-MarkdownHeadingCollapsed": true,
        "id": "0599a9f2-b71f-4efc-8b7c-b14434554fda"
      },
      "source": [
        "### Membership operators"
      ]
    },
    {
      "cell_type": "code",
      "execution_count": null,
      "id": "33f41ce1-2ae0-4958-bf16-34436da7625c",
      "metadata": {
        "id": "33f41ce1-2ae0-4958-bf16-34436da7625c",
        "outputId": "44d5409c-2327-4c70-c105-e9e0787b18f1"
      },
      "outputs": [
        {
          "data": {
            "text/plain": [
              "True"
            ]
          },
          "execution_count": 138,
          "metadata": {},
          "output_type": "execute_result"
        }
      ],
      "source": [
        "a=\"Crackers\"\n",
        "\"ker\" in a        #in operator"
      ]
    },
    {
      "cell_type": "code",
      "execution_count": null,
      "id": "b502afb3-9959-4be4-9028-39eab421317d",
      "metadata": {
        "id": "b502afb3-9959-4be4-9028-39eab421317d",
        "outputId": "c60db5ac-4ba5-420e-c767-f7b5038480d3"
      },
      "outputs": [
        {
          "data": {
            "text/plain": [
              "False"
            ]
          },
          "execution_count": 123,
          "metadata": {},
          "output_type": "execute_result"
        }
      ],
      "source": [
        "\"s\" not in a        #not in operator"
      ]
    },
    {
      "cell_type": "markdown",
      "id": "f9fa53c7-34da-4af8-8216-8810dfe76bc8",
      "metadata": {
        "jp-MarkdownHeadingCollapsed": true,
        "id": "f9fa53c7-34da-4af8-8216-8810dfe76bc8"
      },
      "source": [
        "### Identify operators"
      ]
    },
    {
      "cell_type": "code",
      "execution_count": null,
      "id": "0dab614a-2760-45c0-8aba-04fbec371db9",
      "metadata": {
        "id": "0dab614a-2760-45c0-8aba-04fbec371db9",
        "outputId": "a1d5f8ed-0d2c-45ef-eda8-6d196724da79"
      },
      "outputs": [
        {
          "data": {
            "text/plain": [
              "False"
            ]
          },
          "execution_count": 139,
          "metadata": {},
          "output_type": "execute_result"
        }
      ],
      "source": [
        "a=26\n",
        "b=300                   #is operator\n",
        "a is b"
      ]
    },
    {
      "cell_type": "code",
      "execution_count": null,
      "id": "077ded1e-5db3-49bb-bc8c-22e55cc7f820",
      "metadata": {
        "id": "077ded1e-5db3-49bb-bc8c-22e55cc7f820",
        "outputId": "ee014e2e-7f2b-4e13-cf0e-23f762058d07"
      },
      "outputs": [
        {
          "data": {
            "text/plain": [
              "False"
            ]
          },
          "execution_count": 126,
          "metadata": {},
          "output_type": "execute_result"
        }
      ],
      "source": [
        "a=2758\n",
        "b=a                     #is not operator\n",
        "a is not b"
      ]
    },
    {
      "cell_type": "markdown",
      "id": "9af6d6dc-76ef-415c-99f1-b0444c82284d",
      "metadata": {
        "jp-MarkdownHeadingCollapsed": true,
        "id": "9af6d6dc-76ef-415c-99f1-b0444c82284d"
      },
      "source": [
        "# Q5)Explain the concept of type casting in Python with examples.\n",
        "ANS-Type Casting >>> The process of converting variable's data type to another data type using function like str(),float() or int()."
      ]
    },
    {
      "cell_type": "code",
      "execution_count": null,
      "id": "f4f7199b-9100-490b-aa77-62f6a54e449d",
      "metadata": {
        "id": "f4f7199b-9100-490b-aa77-62f6a54e449d"
      },
      "outputs": [],
      "source": [
        "#Typecasting are of two types\n",
        ">> implicit\n",
        ">> explicit"
      ]
    },
    {
      "cell_type": "markdown",
      "id": "f77f076c-2f1e-4ba6-a7b7-29b369ac162d",
      "metadata": {
        "jp-MarkdownHeadingCollapsed": true,
        "id": "f77f076c-2f1e-4ba6-a7b7-29b369ac162d"
      },
      "source": [
        "## explicit typecasting  \n",
        ">> convert datatype using inbuilt function such as str,int,float,bool"
      ]
    },
    {
      "cell_type": "markdown",
      "id": "3f753204-6f2b-435b-a28c-5c1880157a75",
      "metadata": {
        "jp-MarkdownHeadingCollapsed": true,
        "id": "3f753204-6f2b-435b-a28c-5c1880157a75"
      },
      "source": [
        "### Typecasting>>> float to int          "
      ]
    },
    {
      "cell_type": "code",
      "execution_count": null,
      "id": "1f5dc34f-74eb-4026-83d5-ca1dc6fbade9",
      "metadata": {
        "id": "1f5dc34f-74eb-4026-83d5-ca1dc6fbade9",
        "outputId": "61fd80fa-b6dd-42aa-a968-792d6b78f066"
      },
      "outputs": [
        {
          "data": {
            "text/plain": [
              "float"
            ]
          },
          "execution_count": 161,
          "metadata": {},
          "output_type": "execute_result"
        }
      ],
      "source": [
        "a=82.697\n",
        "type(a)"
      ]
    },
    {
      "cell_type": "code",
      "execution_count": null,
      "id": "5e6f5efe-cffb-485b-94b3-f2b15580fe57",
      "metadata": {
        "id": "5e6f5efe-cffb-485b-94b3-f2b15580fe57",
        "outputId": "e67bac96-abed-4eb6-958f-3416fe6b5ecd"
      },
      "outputs": [
        {
          "data": {
            "text/plain": [
              "int"
            ]
          },
          "execution_count": 162,
          "metadata": {},
          "output_type": "execute_result"
        }
      ],
      "source": [
        "float_value=int(a)\n",
        "type(float_value)"
      ]
    },
    {
      "cell_type": "code",
      "execution_count": null,
      "id": "63d3510b-3110-4f1b-88b0-b6a398e8486b",
      "metadata": {
        "id": "63d3510b-3110-4f1b-88b0-b6a398e8486b",
        "outputId": "eaa6cb71-ac29-456b-ffc7-1776f4132eb6"
      },
      "outputs": [
        {
          "name": "stdout",
          "output_type": "stream",
          "text": [
            "82\n"
          ]
        }
      ],
      "source": [
        "print(float_value)"
      ]
    },
    {
      "cell_type": "markdown",
      "id": "cac27e13-c4b0-45b8-b861-b6803033f0c4",
      "metadata": {
        "jp-MarkdownHeadingCollapsed": true,
        "id": "cac27e13-c4b0-45b8-b861-b6803033f0c4"
      },
      "source": [
        "### Typecasting>>> int to float"
      ]
    },
    {
      "cell_type": "code",
      "execution_count": null,
      "id": "f7ada7a4-13ba-46db-a670-d032592f8e90",
      "metadata": {
        "id": "f7ada7a4-13ba-46db-a670-d032592f8e90",
        "outputId": "2a7a2864-e5ca-4eaa-e24d-7e1aa857054e"
      },
      "outputs": [
        {
          "data": {
            "text/plain": [
              "int"
            ]
          },
          "execution_count": 164,
          "metadata": {},
          "output_type": "execute_result"
        }
      ],
      "source": [
        "a=265\n",
        "type(a)"
      ]
    },
    {
      "cell_type": "code",
      "execution_count": null,
      "id": "33011422-eca5-43f1-8fe2-0361d4128f07",
      "metadata": {
        "id": "33011422-eca5-43f1-8fe2-0361d4128f07",
        "outputId": "d9bc91a9-b8da-491d-8a30-615c7f650d51"
      },
      "outputs": [
        {
          "data": {
            "text/plain": [
              "265.0"
            ]
          },
          "execution_count": 165,
          "metadata": {},
          "output_type": "execute_result"
        }
      ],
      "source": [
        "value=float(a)\n",
        "value"
      ]
    },
    {
      "cell_type": "code",
      "execution_count": null,
      "id": "0bd9db72-7cae-4ca9-a958-ded980137a8c",
      "metadata": {
        "id": "0bd9db72-7cae-4ca9-a958-ded980137a8c",
        "outputId": "8fd5e6c2-a72a-49b9-ad5f-de1d69bcf164"
      },
      "outputs": [
        {
          "name": "stdout",
          "output_type": "stream",
          "text": [
            "265.0\n"
          ]
        }
      ],
      "source": [
        "print(value)"
      ]
    },
    {
      "cell_type": "markdown",
      "id": "44b21e97-8b22-4c12-8cbe-a79b70ca3958",
      "metadata": {
        "jp-MarkdownHeadingCollapsed": true,
        "id": "44b21e97-8b22-4c12-8cbe-a79b70ca3958"
      },
      "source": [
        "### Typecasting>>> str to int"
      ]
    },
    {
      "cell_type": "code",
      "execution_count": null,
      "id": "d0282b1e-5ae9-4a94-9b59-71fe138cda0c",
      "metadata": {
        "id": "d0282b1e-5ae9-4a94-9b59-71fe138cda0c",
        "outputId": "f00e223d-1ead-42ab-f64f-002427a2ccf6"
      },
      "outputs": [
        {
          "data": {
            "text/plain": [
              "str"
            ]
          },
          "execution_count": 183,
          "metadata": {},
          "output_type": "execute_result"
        }
      ],
      "source": [
        "a=\"20\"\n",
        "type(a)"
      ]
    },
    {
      "cell_type": "code",
      "execution_count": null,
      "id": "855f6bdd-9f23-4264-9293-b056ea78b1ec",
      "metadata": {
        "id": "855f6bdd-9f23-4264-9293-b056ea78b1ec",
        "outputId": "9ab50c18-64e9-4722-e07d-058b84ac718f"
      },
      "outputs": [
        {
          "data": {
            "text/plain": [
              "int"
            ]
          },
          "execution_count": 184,
          "metadata": {},
          "output_type": "execute_result"
        }
      ],
      "source": [
        "type(int(a))"
      ]
    },
    {
      "cell_type": "code",
      "execution_count": null,
      "id": "1ba415c7-9ba8-4391-aa50-067cf7b1d1bd",
      "metadata": {
        "id": "1ba415c7-9ba8-4391-aa50-067cf7b1d1bd",
        "outputId": "eb3d2f80-75b5-4cfe-e5c3-35dfc2ee5288"
      },
      "outputs": [
        {
          "name": "stdout",
          "output_type": "stream",
          "text": [
            "20\n"
          ]
        }
      ],
      "source": [
        "print(a)"
      ]
    },
    {
      "cell_type": "markdown",
      "id": "64d818e1-ff0d-42f2-9fa0-e0b14bf4ac70",
      "metadata": {
        "jp-MarkdownHeadingCollapsed": true,
        "id": "64d818e1-ff0d-42f2-9fa0-e0b14bf4ac70"
      },
      "source": [
        "### Typecasting>>> str to float"
      ]
    },
    {
      "cell_type": "code",
      "execution_count": null,
      "id": "7b326a36-e25c-4b5c-96d8-7f496690333b",
      "metadata": {
        "id": "7b326a36-e25c-4b5c-96d8-7f496690333b",
        "outputId": "b0a8c08f-4c5c-4c6b-9d69-d37c4fd4fbe4"
      },
      "outputs": [
        {
          "data": {
            "text/plain": [
              "str"
            ]
          },
          "execution_count": 167,
          "metadata": {},
          "output_type": "execute_result"
        }
      ],
      "source": [
        "a=\"6.48\"\n",
        "type(a)"
      ]
    },
    {
      "cell_type": "code",
      "execution_count": null,
      "id": "323b9ab6-2f84-4430-be1c-4b77288d0c57",
      "metadata": {
        "id": "323b9ab6-2f84-4430-be1c-4b77288d0c57",
        "outputId": "cda89bc5-16cc-423f-f98a-d289e4adefb3"
      },
      "outputs": [
        {
          "data": {
            "text/plain": [
              "float"
            ]
          },
          "execution_count": 168,
          "metadata": {},
          "output_type": "execute_result"
        }
      ],
      "source": [
        "b=float(a)\n",
        "type(b)"
      ]
    },
    {
      "cell_type": "code",
      "execution_count": null,
      "id": "59a83144-09f1-4ef5-9d2c-f3d8a776e2a9",
      "metadata": {
        "id": "59a83144-09f1-4ef5-9d2c-f3d8a776e2a9",
        "outputId": "aa2703d3-3223-4584-f185-b24b7e0176d5"
      },
      "outputs": [
        {
          "name": "stdout",
          "output_type": "stream",
          "text": [
            "6.48\n"
          ]
        }
      ],
      "source": [
        "print(b)"
      ]
    },
    {
      "cell_type": "code",
      "execution_count": null,
      "id": "edddd011-7763-4865-baa7-979b04e1bbda",
      "metadata": {
        "id": "edddd011-7763-4865-baa7-979b04e1bbda"
      },
      "outputs": [],
      "source": [
        "#This example is executed as the orginal string has numerial value inside it\n",
        "#But if the orginal string would be having characters then in that case string cannot be converted into float and int."
      ]
    },
    {
      "cell_type": "markdown",
      "id": "5613407b-69cd-4ce2-9248-44765b13f697",
      "metadata": {
        "id": "5613407b-69cd-4ce2-9248-44765b13f697"
      },
      "source": [
        ">>> case:\n",
        "string cannot be converted into float nor into int"
      ]
    },
    {
      "cell_type": "code",
      "execution_count": null,
      "id": "ac9ce34c-ff75-4d28-8ce2-b88ebad94f7b",
      "metadata": {
        "id": "ac9ce34c-ff75-4d28-8ce2-b88ebad94f7b",
        "outputId": "2e0fbb59-f021-4005-c611-062fadec3425"
      },
      "outputs": [
        {
          "data": {
            "text/plain": [
              "str"
            ]
          },
          "execution_count": 170,
          "metadata": {},
          "output_type": "execute_result"
        }
      ],
      "source": [
        "a=\"Tina\"         #a=\"Tina\" as here \"Tina\" is character cannot be converted to float or to int\n",
        "type(a)"
      ]
    },
    {
      "cell_type": "code",
      "execution_count": null,
      "id": "7b3a6cb4-c9f0-4a92-b99b-dfe8254b3ae8",
      "metadata": {
        "id": "7b3a6cb4-c9f0-4a92-b99b-dfe8254b3ae8",
        "outputId": "b524ec0b-b9a6-4220-9bb0-12ab864ecaa1"
      },
      "outputs": [
        {
          "ename": "ValueError",
          "evalue": "could not convert string to float: 'Tina'",
          "output_type": "error",
          "traceback": [
            "\u001b[31m---------------------------------------------------------------------------\u001b[39m",
            "\u001b[31mValueError\u001b[39m                                Traceback (most recent call last)",
            "\u001b[36mCell\u001b[39m\u001b[36m \u001b[39m\u001b[32mIn[172]\u001b[39m\u001b[32m, line 1\u001b[39m\n\u001b[32m----> \u001b[39m\u001b[32m1\u001b[39m r=\u001b[38;5;28mtype\u001b[39m(\u001b[38;5;28;43mfloat\u001b[39;49m\u001b[43m(\u001b[49m\u001b[43ma\u001b[49m\u001b[43m)\u001b[49m)\n\u001b[32m      2\u001b[39m r\n",
            "\u001b[31mValueError\u001b[39m: could not convert string to float: 'Tina'"
          ]
        }
      ],
      "source": [
        "r=type(float(a))\n",
        "r"
      ]
    },
    {
      "cell_type": "code",
      "execution_count": null,
      "id": "bdff4b13-b275-4fec-8207-b0a8d4457b3f",
      "metadata": {
        "id": "bdff4b13-b275-4fec-8207-b0a8d4457b3f",
        "outputId": "e4315d12-b957-4cf1-a5e4-6e255269acea"
      },
      "outputs": [
        {
          "ename": "ValueError",
          "evalue": "invalid literal for int() with base 10: 'Tina'",
          "output_type": "error",
          "traceback": [
            "\u001b[31m---------------------------------------------------------------------------\u001b[39m",
            "\u001b[31mValueError\u001b[39m                                Traceback (most recent call last)",
            "\u001b[36mCell\u001b[39m\u001b[36m \u001b[39m\u001b[32mIn[173]\u001b[39m\u001b[32m, line 1\u001b[39m\n\u001b[32m----> \u001b[39m\u001b[32m1\u001b[39m c=\u001b[38;5;28mtype\u001b[39m(\u001b[38;5;28;43mint\u001b[39;49m\u001b[43m(\u001b[49m\u001b[43ma\u001b[49m\u001b[43m)\u001b[49m)\n\u001b[32m      2\u001b[39m c\n",
            "\u001b[31mValueError\u001b[39m: invalid literal for int() with base 10: 'Tina'"
          ]
        }
      ],
      "source": [
        "c=type(int(a))\n",
        "c"
      ]
    },
    {
      "cell_type": "markdown",
      "id": "9d692fa0-c1b2-44a9-9833-e9619bbb12ee",
      "metadata": {
        "id": "9d692fa0-c1b2-44a9-9833-e9619bbb12ee"
      },
      "source": [
        "### Typecasting>>> int to str"
      ]
    },
    {
      "cell_type": "code",
      "execution_count": null,
      "id": "8bde32d6-4040-41d4-ab26-c8f6910a7814",
      "metadata": {
        "id": "8bde32d6-4040-41d4-ab26-c8f6910a7814",
        "outputId": "bd50402c-6f27-4b20-a37d-aff82e72dd25"
      },
      "outputs": [
        {
          "data": {
            "text/plain": [
              "int"
            ]
          },
          "execution_count": 177,
          "metadata": {},
          "output_type": "execute_result"
        }
      ],
      "source": [
        "a=5754\n",
        "type(a)"
      ]
    },
    {
      "cell_type": "code",
      "execution_count": null,
      "id": "4f43cfb5-ac27-49d3-8f68-885be07cf1b2",
      "metadata": {
        "id": "4f43cfb5-ac27-49d3-8f68-885be07cf1b2",
        "outputId": "5c9d8b91-7f74-4d23-9cf5-34c8d054ba98"
      },
      "outputs": [
        {
          "data": {
            "text/plain": [
              "'5754'"
            ]
          },
          "execution_count": 178,
          "metadata": {},
          "output_type": "execute_result"
        }
      ],
      "source": [
        "c=str(a)\n",
        "c"
      ]
    },
    {
      "cell_type": "markdown",
      "id": "6379f632-48a0-4817-a1bb-dc1df6f646d4",
      "metadata": {
        "id": "6379f632-48a0-4817-a1bb-dc1df6f646d4"
      },
      "source": [
        "### boolean typecasting"
      ]
    },
    {
      "cell_type": "code",
      "execution_count": null,
      "id": "bee36ebb-7ef3-4d71-8f1d-8dab3b4e2857",
      "metadata": {
        "id": "bee36ebb-7ef3-4d71-8f1d-8dab3b4e2857",
        "outputId": "c5ab6a09-a362-4bbd-a20f-333a26c68d78"
      },
      "outputs": [
        {
          "data": {
            "text/plain": [
              "True"
            ]
          },
          "execution_count": 190,
          "metadata": {},
          "output_type": "execute_result"
        }
      ],
      "source": [
        "bool(1655855)"
      ]
    },
    {
      "cell_type": "code",
      "execution_count": null,
      "id": "1e226b27-ea87-467f-a62e-d35c916d6d37",
      "metadata": {
        "id": "1e226b27-ea87-467f-a62e-d35c916d6d37",
        "outputId": "fafe5c61-a279-49f1-a244-7b8fe068490a"
      },
      "outputs": [
        {
          "data": {
            "text/plain": [
              "True"
            ]
          },
          "execution_count": 192,
          "metadata": {},
          "output_type": "execute_result"
        }
      ],
      "source": [
        "bool(-1)"
      ]
    },
    {
      "cell_type": "code",
      "execution_count": null,
      "id": "1ca5d356-756d-4663-9460-9b47555bbd78",
      "metadata": {
        "id": "1ca5d356-756d-4663-9460-9b47555bbd78",
        "outputId": "24a4927c-c06e-4e2e-ad58-9bf48d025d2f"
      },
      "outputs": [
        {
          "data": {
            "text/plain": [
              "True"
            ]
          },
          "execution_count": 191,
          "metadata": {},
          "output_type": "execute_result"
        }
      ],
      "source": [
        "bool(\"soft\")"
      ]
    },
    {
      "cell_type": "code",
      "execution_count": null,
      "id": "aa9ead50-35c6-4c9a-9c9f-c95b327698dd",
      "metadata": {
        "id": "aa9ead50-35c6-4c9a-9c9f-c95b327698dd",
        "outputId": "038cbea8-d8ae-4426-fd4a-e7c8085ec1a8"
      },
      "outputs": [
        {
          "data": {
            "text/plain": [
              "False"
            ]
          },
          "execution_count": 189,
          "metadata": {},
          "output_type": "execute_result"
        }
      ],
      "source": [
        "bool(0)"
      ]
    },
    {
      "cell_type": "code",
      "execution_count": null,
      "id": "d6d60a78-7a0f-47eb-b33d-128de6650311",
      "metadata": {
        "id": "d6d60a78-7a0f-47eb-b33d-128de6650311"
      },
      "outputs": [],
      "source": [
        "#every value other than '0' will be treated as True"
      ]
    },
    {
      "cell_type": "code",
      "execution_count": null,
      "id": "6fa5eb60-193f-4f1f-aacb-2357667a7a5f",
      "metadata": {
        "id": "6fa5eb60-193f-4f1f-aacb-2357667a7a5f"
      },
      "outputs": [],
      "source": [
        ">>> case:\n",
        "bool(\"\") #empty string will always be treated as false"
      ]
    },
    {
      "cell_type": "markdown",
      "id": "d3342238-b8c3-44da-b3ee-45b034e835e8",
      "metadata": {
        "id": "d3342238-b8c3-44da-b3ee-45b034e835e8"
      },
      "source": [
        "## implicit typecasting\n",
        ">> automatically understand the datatype of the data it is int,float,str,etc."
      ]
    },
    {
      "cell_type": "code",
      "execution_count": null,
      "id": "38352c89-b924-4774-bf31-d39a7094fd6a",
      "metadata": {
        "id": "38352c89-b924-4774-bf31-d39a7094fd6a",
        "outputId": "e5506c03-f931-4965-b59b-2013bb3d732c"
      },
      "outputs": [
        {
          "data": {
            "text/plain": [
              "61.87"
            ]
          },
          "execution_count": 193,
          "metadata": {},
          "output_type": "execute_result"
        }
      ],
      "source": [
        "56+5.87"
      ]
    },
    {
      "cell_type": "markdown",
      "id": "eb5886ce-ec53-4f90-87f8-6f6556f6612e",
      "metadata": {
        "id": "eb5886ce-ec53-4f90-87f8-6f6556f6612e"
      },
      "source": [
        "# Q6)How do conditional statements work in Python?Ilustrate with examples.\n",
        "ANS- To illustrate the working of conditional statements in Python ,let us dicuss it's each types with example!"
      ]
    },
    {
      "cell_type": "markdown",
      "id": "f2f2661d-27ba-4b07-91c5-716dccd9f1eb",
      "metadata": {
        "jp-MarkdownHeadingCollapsed": true,
        "id": "f2f2661d-27ba-4b07-91c5-716dccd9f1eb"
      },
      "source": [
        "### if statement"
      ]
    },
    {
      "cell_type": "code",
      "execution_count": null,
      "id": "3d58cb7e-64d6-4a1e-90b5-bd914ee6e02a",
      "metadata": {
        "id": "3d58cb7e-64d6-4a1e-90b5-bd914ee6e02a",
        "outputId": "aa3977b7-d7ca-4955-d300-7983bd162a73"
      },
      "outputs": [
        {
          "name": "stdin",
          "output_type": "stream",
          "text": [
            "please enter number: 97542\n"
          ]
        },
        {
          "name": "stdout",
          "output_type": "stream",
          "text": [
            "The number is even.\n"
          ]
        }
      ],
      "source": [
        "n=input(\"please enter a number:\")\n",
        "num=int(n)\n",
        "if num %2==0:\n",
        "    print(\"The number is even.\")"
      ]
    },
    {
      "cell_type": "markdown",
      "id": "9de25eee-ecfb-41ba-82fe-b08942604c7f",
      "metadata": {
        "id": "9de25eee-ecfb-41ba-82fe-b08942604c7f"
      },
      "source": [
        "### if-else statement"
      ]
    },
    {
      "cell_type": "code",
      "execution_count": null,
      "id": "dd057737-7367-4a03-a4ff-f9b5ebb3c031",
      "metadata": {
        "id": "dd057737-7367-4a03-a4ff-f9b5ebb3c031",
        "outputId": "001356d1-f5c5-40c6-a819-f77b14c3277c"
      },
      "outputs": [
        {
          "name": "stdin",
          "output_type": "stream",
          "text": [
            "please enter ur age: 5\n"
          ]
        },
        {
          "name": "stdout",
          "output_type": "stream",
          "text": [
            "minority\n"
          ]
        }
      ],
      "source": [
        "n = input(\"please enter ur age:\")\n",
        "age=int(n)\n",
        "if age>=18:\n",
        "    print(\"you are eligible to vote!\")\n",
        "else:\n",
        "    print(\"minority\")"
      ]
    },
    {
      "cell_type": "markdown",
      "id": "68cfa9cf-f227-4cbc-8c85-5bd145bae86f",
      "metadata": {
        "jp-MarkdownHeadingCollapsed": true,
        "id": "68cfa9cf-f227-4cbc-8c85-5bd145bae86f"
      },
      "source": [
        "### if elif else statement"
      ]
    },
    {
      "cell_type": "code",
      "execution_count": null,
      "id": "fec6c5ac-d2dd-42cc-971e-639032780940",
      "metadata": {
        "id": "fec6c5ac-d2dd-42cc-971e-639032780940",
        "outputId": "51fe18be-c491-4bda-988d-84e59e82e3c3"
      },
      "outputs": [
        {
          "name": "stdin",
          "output_type": "stream",
          "text": [
            "please enter ur mark: 65.76\n"
          ]
        },
        {
          "name": "stdout",
          "output_type": "stream",
          "text": [
            "grade D\n"
          ]
        }
      ],
      "source": [
        "num=input(\"please enter ur mark:\")\n",
        "score=float(num)\n",
        "if score>=90:\n",
        "    print(\"grade A\")\n",
        "elif(80<=score<90):\n",
        "    print(\"grade B\")\n",
        "elif(70<=score<80):\n",
        "    print(\"grade C\")\n",
        "elif(60<=score<70):\n",
        "    print(\"grade D\")\n",
        "elif(50<=score<60):\n",
        "    print(\"grade E\")\n",
        "else:\n",
        "    print(\"grade F\")"
      ]
    },
    {
      "cell_type": "markdown",
      "id": "d8b9d3d9-f466-4c93-ba9a-000d60eaadb4",
      "metadata": {
        "jp-MarkdownHeadingCollapsed": true,
        "id": "d8b9d3d9-f466-4c93-ba9a-000d60eaadb4"
      },
      "source": [
        "### nested if else statement"
      ]
    },
    {
      "cell_type": "code",
      "execution_count": null,
      "id": "58e5c373-f318-4e4c-ba4e-95280c66d684",
      "metadata": {
        "id": "58e5c373-f318-4e4c-ba4e-95280c66d684",
        "outputId": "98c11120-8bd4-4ac5-e9fd-74e3666a3327"
      },
      "outputs": [
        {
          "name": "stdout",
          "output_type": "stream",
          "text": [
            "x is not greater than 5\n"
          ]
        }
      ],
      "source": [
        "x=1\n",
        "y=6\n",
        "if x>5:\n",
        "    if y>5:\n",
        "     print(\"both x and y is greater than 5\")\n",
        "    else:\n",
        "     print(\"x is greater than 5 but y is less than 5\")\n",
        "else:\n",
        "     print(\"x is not greater than 5\")"
      ]
    },
    {
      "cell_type": "markdown",
      "id": "0424811b-c140-463a-bec0-7698c21a8d73",
      "metadata": {
        "id": "0424811b-c140-463a-bec0-7698c21a8d73"
      },
      "source": [
        "# Q7)Describe the different types of loops in Python and their use cases with examples\n",
        "ANS-There are two types of loops in Python:\n",
        ">>>while loop\n",
        ">>> for loop"
      ]
    },
    {
      "cell_type": "markdown",
      "id": "04f09905-6b28-4ec7-8ce7-40163b0a7d3e",
      "metadata": {
        "jp-MarkdownHeadingCollapsed": true,
        "id": "04f09905-6b28-4ec7-8ce7-40163b0a7d3e"
      },
      "source": [
        "### while loop"
      ]
    },
    {
      "cell_type": "code",
      "execution_count": null,
      "id": "825be131-ba80-401e-b19e-f6e0385a9974",
      "metadata": {
        "id": "825be131-ba80-401e-b19e-f6e0385a9974",
        "outputId": "be49bc8c-c477-4548-bc29-35d181336032"
      },
      "outputs": [
        {
          "name": "stdin",
          "output_type": "stream",
          "text": [
            "please enter a number: 45\n"
          ]
        },
        {
          "name": "stdout",
          "output_type": "stream",
          "text": [
            "1\n",
            "2\n",
            "3\n",
            "4\n",
            "5\n",
            "6\n",
            "7\n"
          ]
        }
      ],
      "source": [
        "num=input(\"please enter a number:\")\n",
        "n=int(num)\n",
        "i=1\n",
        "while i<n:\n",
        "      print(i)\n",
        "      i+=1\n",
        "      if i==8:\n",
        "          break\n",
        "          print(\"updated i is:\",i)\n",
        "else:\n",
        "    print(\"The program had executed successfully\")"
      ]
    },
    {
      "cell_type": "code",
      "execution_count": null,
      "id": "1c8113a0-6025-4906-bab6-8e2f4cd79fd9",
      "metadata": {
        "id": "1c8113a0-6025-4906-bab6-8e2f4cd79fd9",
        "outputId": "e5332b63-8fd5-4525-b7d5-c72eff93ba4d"
      },
      "outputs": [
        {
          "name": "stdout",
          "output_type": "stream",
          "text": [
            "1\n",
            "new i is 2\n",
            "2\n",
            "3\n",
            "new i is 4\n",
            "4\n",
            "new i is 5\n",
            "5\n",
            "new i is 6\n",
            "6\n",
            "new i is 7\n",
            "program executed successfully!\n"
          ]
        }
      ],
      "source": [
        "n=7\n",
        "i=1\n",
        "while i<n:\n",
        "      print(i)\n",
        "      i+=1\n",
        "      if i==3:\n",
        "          continue\n",
        "      print(\"new i is\",i)\n",
        "else:\n",
        "    print(\"program executed successfully!\")"
      ]
    },
    {
      "cell_type": "markdown",
      "id": "eb227e42-bf5a-4bf3-ba7f-49722a593f3d",
      "metadata": {
        "jp-MarkdownHeadingCollapsed": true,
        "id": "eb227e42-bf5a-4bf3-ba7f-49722a593f3d"
      },
      "source": [
        "### for loop"
      ]
    },
    {
      "cell_type": "code",
      "execution_count": null,
      "id": "4200f8c6-1fc2-4684-a0a7-8d2ac7ebdb2c",
      "metadata": {
        "id": "4200f8c6-1fc2-4684-a0a7-8d2ac7ebdb2c",
        "outputId": "962f5f95-b7bf-4eb5-9dfc-164504e63352"
      },
      "outputs": [
        {
          "name": "stdout",
          "output_type": "stream",
          "text": [
            "87\n",
            "22.88\n",
            "letter\n",
            "Skills\n"
          ]
        }
      ],
      "source": [
        "l=[87,22.88,\"letter\",\"Skills\"]\n",
        "for i in l:\n",
        "    print(i)"
      ]
    },
    {
      "cell_type": "code",
      "execution_count": null,
      "id": "f7625fcf-cede-4143-b418-9d582ebe593c",
      "metadata": {
        "id": "f7625fcf-cede-4143-b418-9d582ebe593c",
        "outputId": "d7801a82-bd8a-4c3d-ac37-ce194a45e731"
      },
      "outputs": [
        {
          "name": "stdout",
          "output_type": "stream",
          "text": [
            "30 32 34 36 38 40 42 44 46 48 50 52 54 56 58 60 62 64 66 68 70 72 74 76 78 "
          ]
        }
      ],
      "source": [
        "for i in range(30,80,2):\n",
        "    print(i,end=\" \")"
      ]
    },
    {
      "cell_type": "code",
      "execution_count": null,
      "id": "68daba7a-f3ad-439f-b18f-871c62d6001f",
      "metadata": {
        "id": "68daba7a-f3ad-439f-b18f-871c62d6001f"
      },
      "outputs": [],
      "source": []
    }
  ],
  "metadata": {
    "kernelspec": {
      "display_name": "Python 3 (ipykernel)",
      "language": "python",
      "name": "python3"
    },
    "language_info": {
      "codemirror_mode": {
        "name": "ipython",
        "version": 3
      },
      "file_extension": ".py",
      "mimetype": "text/x-python",
      "name": "python",
      "nbconvert_exporter": "python",
      "pygments_lexer": "ipython3",
      "version": "3.13.2"
    },
    "colab": {
      "provenance": []
    }
  },
  "nbformat": 4,
  "nbformat_minor": 5
}