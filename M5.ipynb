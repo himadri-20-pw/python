{
 "cells": [
  {
   "cell_type": "markdown",
   "id": "a240a616-ab11-471a-8dd5-b29c8e6d1dad",
   "metadata": {
    "id": "a240a616-ab11-471a-8dd5-b29c8e6d1dad"
   },
   "source": [
    "# THEORY QUESTION"
   ]
  },
  {
   "cell_type": "markdown",
   "id": "518784e3-966d-4727-b5ec-52b495b32719",
   "metadata": {
    "id": "518784e3-966d-4727-b5ec-52b495b32719"
   },
   "source": [
    "## Q1) What is the differecnce between a function and a method in Python?"
   ]
  },
  {
   "cell_type": "markdown",
   "id": "8dfe9ed8-38d6-4b73-b4fd-6ebae845e194",
   "metadata": {
    "id": "8dfe9ed8-38d6-4b73-b4fd-6ebae845e194"
   },
   "source": [
    "#### ANS-  Function is a structured,resuable block of code which performs some specific task/computation, whereas Method is a function that is associated with a class or object. Methods are always defined within a class,and operate on the data of the object of the class where as Function can be called from anywhere."
   ]
  },
  {
   "cell_type": "code",
   "execution_count": 3,
   "id": "2598539a-5b71-4a43-8cf9-5b59c94ff34c",
   "metadata": {
    "id": "2598539a-5b71-4a43-8cf9-5b59c94ff34c",
    "outputId": "43b3e66d-5640-4906-bf54-66dbcf52b564"
   },
   "outputs": [
    {
     "name": "stdout",
     "output_type": "stream",
     "text": [
      "Good Evening!\n"
     ]
    }
   ],
   "source": [
    "#EXAMPLE:\n",
    "\n",
    "def func():\n",
    "    print(\"Good Evening!\")\n",
    "func()"
   ]
  },
  {
   "cell_type": "code",
   "execution_count": 4,
   "id": "970a3abd-9672-41df-a745-0d456b6a8147",
   "metadata": {
    "id": "970a3abd-9672-41df-a745-0d456b6a8147",
    "outputId": "4a0df78b-eea4-4dee-90a0-5a9930cbd85f"
   },
   "outputs": [
    {
     "name": "stdout",
     "output_type": "stream",
     "text": [
      "Welcome to the office Gita\n"
     ]
    }
   ],
   "source": [
    "class greet:\n",
    "    def greetings(name):\n",
    "       print(\"Welcome to the office\", name)\n",
    "\n",
    "greet.greetings(\"Gita\")"
   ]
  },
  {
   "cell_type": "markdown",
   "id": "c8368424-740c-49b8-be13-43d2f33a0300",
   "metadata": {
    "id": "c8368424-740c-49b8-be13-43d2f33a0300"
   },
   "source": [
    "## Q2)Explain the concept of function arguments and parameters in Python."
   ]
  },
  {
   "cell_type": "markdown",
   "id": "89558d07-f1b8-4707-bad2-43a61b0fc489",
   "metadata": {
    "id": "89558d07-f1b8-4707-bad2-43a61b0fc489"
   },
   "source": [
    "#### ANS-  Function arguments are values that you provide to a function when you call it. These arguments can be used by the function to perform specific tasks. A parameters is the variables listed inside the parentheses in the function definition."
   ]
  },
  {
   "cell_type": "code",
   "execution_count": 5,
   "id": "181fb77f-e1bf-4577-b95c-cacfdecaaffc",
   "metadata": {
    "id": "181fb77f-e1bf-4577-b95c-cacfdecaaffc",
    "outputId": "ca949d6e-c536-4e20-aab0-5fa607f0e6cd"
   },
   "outputs": [
    {
     "data": {
      "text/plain": [
       "7"
      ]
     },
     "execution_count": 5,
     "metadata": {},
     "output_type": "execute_result"
    }
   ],
   "source": [
    "#EXAMPLE:\n",
    "               # add  is the function definition\n",
    "def add(a,b): #a,b  are parameters\n",
    "    return a+b\n",
    "\n",
    "add(3,4)     # 3,4  are arguments"
   ]
  },
  {
   "cell_type": "markdown",
   "id": "1455fce0-361c-4032-b872-8ecb63c1f7c9",
   "metadata": {
    "id": "1455fce0-361c-4032-b872-8ecb63c1f7c9"
   },
   "source": [
    "## Q3) What are the different ways to define and call a function in Python?"
   ]
  },
  {
   "cell_type": "markdown",
   "id": "0c3eda0a-98ed-4640-a071-f2ca2e4273c6",
   "metadata": {
    "id": "0c3eda0a-98ed-4640-a071-f2ca2e4273c6"
   },
   "source": [
    "#### ANS"
   ]
  },
  {
   "cell_type": "markdown",
   "id": "4c9c2d0d-3fbc-4cc2-805b-5f2f476b5753",
   "metadata": {
    "id": "4c9c2d0d-3fbc-4cc2-805b-5f2f476b5753"
   },
   "source": [
    "#### 1)Standard Function Definition"
   ]
  },
  {
   "cell_type": "code",
   "execution_count": 6,
   "id": "5073338b-1e07-4f24-9600-a720f6523121",
   "metadata": {
    "id": "5073338b-1e07-4f24-9600-a720f6523121",
    "outputId": "bdd0a325-e77b-4cf7-8941-f27d0fb81624"
   },
   "outputs": [
    {
     "data": {
      "text/plain": [
       "'Welcome to the office, Dhiraj'"
      ]
     },
     "execution_count": 6,
     "metadata": {},
     "output_type": "execute_result"
    }
   ],
   "source": [
    "#Definition:\n",
    "def greetings(name):\n",
    "    return f\"Welcome to the office, {name}\"\n",
    "\n",
    "\n",
    "#call:\n",
    "greetings(\"Dhiraj\")"
   ]
  },
  {
   "cell_type": "markdown",
   "id": "d9c773bc-d33f-4586-a8c8-8d9801853b19",
   "metadata": {
    "id": "d9c773bc-d33f-4586-a8c8-8d9801853b19"
   },
   "source": [
    "#### 2)Lambda Functions"
   ]
  },
  {
   "cell_type": "code",
   "execution_count": 7,
   "id": "97179ee4-119d-4666-bb99-ce154228ff94",
   "metadata": {
    "id": "97179ee4-119d-4666-bb99-ce154228ff94",
    "outputId": "f67669e1-d13d-40e9-8843-3942485cf205"
   },
   "outputs": [
    {
     "data": {
      "text/plain": [
       "8"
      ]
     },
     "execution_count": 7,
     "metadata": {},
     "output_type": "execute_result"
    }
   ],
   "source": [
    "#Definition:\n",
    "sum1= lambda x, y: x+y\n",
    "\n",
    "#call:\n",
    "sum1(3, 5)"
   ]
  },
  {
   "cell_type": "markdown",
   "id": "a76360e5-a335-40f9-94aa-9a2a40fbd0e1",
   "metadata": {
    "id": "a76360e5-a335-40f9-94aa-9a2a40fbd0e1"
   },
   "source": [
    "#### 3)Functions With Default Parameters"
   ]
  },
  {
   "cell_type": "code",
   "execution_count": 8,
   "id": "e18d8292-f6f2-4ac3-b5d1-14eafab52f02",
   "metadata": {
    "id": "e18d8292-f6f2-4ac3-b5d1-14eafab52f02",
    "outputId": "799c976e-e65b-4a38-abe3-463b4b020617"
   },
   "outputs": [
    {
     "name": "stdout",
     "output_type": "stream",
     "text": [
      "Hello, Good Night\n"
     ]
    }
   ],
   "source": [
    "#Definition:\n",
    "def func(message=\"Good Evening\"):\n",
    "    return f\"Hello, {message}\"\n",
    "\n",
    "\n",
    "#call:\n",
    "func()\n",
    "print(func(\"Good Night\"))"
   ]
  },
  {
   "cell_type": "markdown",
   "id": "c8b66143-c1af-492b-9fd6-18bd3f2d8ae2",
   "metadata": {
    "id": "c8b66143-c1af-492b-9fd6-18bd3f2d8ae2"
   },
   "source": [
    "#### 4)Variable-Length Arguments"
   ]
  },
  {
   "cell_type": "code",
   "execution_count": 9,
   "id": "93f0e528-66ed-4e65-80d0-c89597b22655",
   "metadata": {
    "id": "93f0e528-66ed-4e65-80d0-c89597b22655"
   },
   "outputs": [],
   "source": [
    "#Definition:\n",
    "def sum1(*args):\n",
    "    s = 0\n",
    "    for i in args:\n",
    "        s = s+i\n",
    "    return s\n",
    "\n",
    "\n",
    "def text(**kwargs):\n",
    "    for key, value in kwargs.items():\n",
    "        print(f\"{key}:{value}\")"
   ]
  },
  {
   "cell_type": "code",
   "execution_count": 10,
   "id": "e7b7af76-c39a-4b2b-913f-7a75fb0dc29c",
   "metadata": {
    "id": "e7b7af76-c39a-4b2b-913f-7a75fb0dc29c",
    "outputId": "49942e65-6b5a-4997-b228-62d7c669c1f3"
   },
   "outputs": [
    {
     "data": {
      "text/plain": [
       "12"
      ]
     },
     "execution_count": 10,
     "metadata": {},
     "output_type": "execute_result"
    }
   ],
   "source": [
    "#call:\n",
    "sum1(2,4,6)"
   ]
  },
  {
   "cell_type": "code",
   "execution_count": 11,
   "id": "a261723e-ebb6-47c9-ab11-78366d45f9b5",
   "metadata": {
    "id": "a261723e-ebb6-47c9-ab11-78366d45f9b5",
    "outputId": "9ec493a1-869f-4603-c925-ba549c8287c6"
   },
   "outputs": [
    {
     "name": "stdout",
     "output_type": "stream",
     "text": [
      "name:jeet\n",
      "age:34\n"
     ]
    }
   ],
   "source": [
    "text(name=\"jeet\", age=34)"
   ]
  },
  {
   "cell_type": "markdown",
   "id": "dc57edaf-85e1-4d5c-b1fd-f288cadc359d",
   "metadata": {
    "id": "dc57edaf-85e1-4d5c-b1fd-f288cadc359d"
   },
   "source": [
    "#### 5)Functions inside Functions"
   ]
  },
  {
   "cell_type": "code",
   "execution_count": 12,
   "id": "14e01361-4912-4bc3-a581-776fb3d9c5d9",
   "metadata": {
    "id": "14e01361-4912-4bc3-a581-776fb3d9c5d9"
   },
   "outputs": [],
   "source": [
    "#Definition:\n",
    "def total_marks(marks_list):\n",
    "    return sum(marks_list)\n",
    "\n",
    "def marks_in_subject(**kwargs):\n",
    "    marks_list = []\n",
    "    for sub, marks in kwargs.items():\n",
    "        marks_list.append(marks)\n",
    "\n",
    "    return total_marks(marks_list)"
   ]
  },
  {
   "cell_type": "code",
   "execution_count": 13,
   "id": "85548f36-d366-4aef-a46a-3e43afc01bae",
   "metadata": {
    "id": "85548f36-d366-4aef-a46a-3e43afc01bae",
    "outputId": "404195df-f274-48e0-d46c-fc7a7e3e2f99"
   },
   "outputs": [
    {
     "data": {
      "text/plain": [
       "245"
      ]
     },
     "execution_count": 13,
     "metadata": {},
     "output_type": "execute_result"
    }
   ],
   "source": [
    "#call:\n",
    "marks_in_subject(a= 51, b=66, c=43, d=85)"
   ]
  },
  {
   "cell_type": "markdown",
   "id": "0f35cff2-3e6d-4669-b26f-e3996a9b64ec",
   "metadata": {
    "id": "0f35cff2-3e6d-4669-b26f-e3996a9b64ec"
   },
   "source": [
    "## Q4)What is the purpose of the 'return' statement in a Python function?"
   ]
  },
  {
   "cell_type": "markdown",
   "id": "2e939af3-e1e1-411c-9aa1-3681f190ba72",
   "metadata": {
    "id": "2e939af3-e1e1-411c-9aa1-3681f190ba72"
   },
   "source": [
    "### ANS-  The purpose of the 'return' statement in a Python function determines the value that the function will return. If not included, the function defaults to retruning None."
   ]
  },
  {
   "cell_type": "code",
   "execution_count": 14,
   "id": "477f2558-7f0b-4c3a-a135-2906c681dd7a",
   "metadata": {
    "id": "477f2558-7f0b-4c3a-a135-2906c681dd7a",
    "outputId": "ec52a9db-a274-40fb-842d-2d011be2902d"
   },
   "outputs": [
    {
     "data": {
      "text/plain": [
       "'Sania is working on solar plane project.'"
      ]
     },
     "execution_count": 14,
     "metadata": {},
     "output_type": "execute_result"
    }
   ],
   "source": [
    "#Example:\n",
    "def my_class(name, topic):\n",
    "    return f\"{name} is working on {topic} project.\"\n",
    "\n",
    "my_class(\"Sania\", \"solar plane\")"
   ]
  },
  {
   "cell_type": "markdown",
   "id": "8a052a9c-702e-4050-b35b-4e03649677c6",
   "metadata": {
    "id": "8a052a9c-702e-4050-b35b-4e03649677c6"
   },
   "source": [
    "## Q5) What are iterators in Python and how do they differ from iterables?"
   ]
  },
  {
   "cell_type": "markdown",
   "id": "b0ba9c52-da1e-40e4-934b-5c69be473a4c",
   "metadata": {
    "id": "b0ba9c52-da1e-40e4-934b-5c69be473a4c"
   },
   "source": [
    "### ANS-  Iterator>> an iterator is an object representing a stream of data and return data one by one in sequence. Iterables are the objects that are capable of returning its members one at a time like lists, tuples, dicts, and sets.\n",
    "### Iterables returns an iterator whereas an iterator returns next value , using next ()."
   ]
  },
  {
   "cell_type": "code",
   "execution_count": 16,
   "id": "11081261-3bbf-4b41-aaa1-8ee0aec7cf8f",
   "metadata": {
    "id": "11081261-3bbf-4b41-aaa1-8ee0aec7cf8f",
    "outputId": "93d6f7d0-8101-4e2a-d253-6751ff56abfb"
   },
   "outputs": [
    {
     "data": {
      "text/plain": [
       "<list_iterator at 0x1772b2c3130>"
      ]
     },
     "execution_count": 16,
     "metadata": {},
     "output_type": "execute_result"
    }
   ],
   "source": [
    "#EXAMPLE:\n",
    "lis=[5,7,9]  #lis -- Iterable\n",
    "iter(lis)"
   ]
  },
  {
   "cell_type": "code",
   "execution_count": 17,
   "id": "3f1d08da-7529-4c17-a760-63ce40193ce2",
   "metadata": {
    "id": "3f1d08da-7529-4c17-a760-63ce40193ce2"
   },
   "outputs": [],
   "source": [
    "s= iter(lis)   #s ---Iterator"
   ]
  },
  {
   "cell_type": "code",
   "execution_count": 18,
   "id": "85ba0f83-ce5e-4eff-8df4-7cf82d0f1ed5",
   "metadata": {
    "id": "85ba0f83-ce5e-4eff-8df4-7cf82d0f1ed5",
    "outputId": "4f26576f-c783-483e-8c11-69259e540a42"
   },
   "outputs": [
    {
     "data": {
      "text/plain": [
       "5"
      ]
     },
     "execution_count": 18,
     "metadata": {},
     "output_type": "execute_result"
    }
   ],
   "source": [
    "next(s)"
   ]
  },
  {
   "cell_type": "code",
   "execution_count": 19,
   "id": "14f30e3b-19bc-4ea6-8775-416036774a6d",
   "metadata": {
    "id": "14f30e3b-19bc-4ea6-8775-416036774a6d",
    "outputId": "c7fd33cf-c78e-44b3-a13d-f2f35e5d323a"
   },
   "outputs": [
    {
     "data": {
      "text/plain": [
       "7"
      ]
     },
     "execution_count": 19,
     "metadata": {},
     "output_type": "execute_result"
    }
   ],
   "source": [
    "next(s)"
   ]
  },
  {
   "cell_type": "markdown",
   "id": "f54e1cae-7ca4-4636-80b9-69192984ecd4",
   "metadata": {
    "id": "f54e1cae-7ca4-4636-80b9-69192984ecd4"
   },
   "source": [
    "## Q6) Explain the concept of generators in Python and how they are defined."
   ]
  },
  {
   "cell_type": "markdown",
   "id": "a1537001-d05d-40df-9249-b6b627d2b29e",
   "metadata": {
    "id": "a1537001-d05d-40df-9249-b6b627d2b29e"
   },
   "source": [
    "#### ANS- A Generator instead of returning all the values of an itertable object at once! it yields them one at a time ,only when requested or instrcted. It improve performance and reduce memory usage."
   ]
  },
  {
   "cell_type": "code",
   "execution_count": 20,
   "id": "ffc6fa95-5784-4d6a-8c1e-932169f323ad",
   "metadata": {
    "id": "ffc6fa95-5784-4d6a-8c1e-932169f323ad",
    "outputId": "00be9b68-bd10-48d8-d5c2-0384b07a4769"
   },
   "outputs": [
    {
     "data": {
      "text/plain": [
       "<generator object power_generators at 0x000001772B2D58A0>"
      ]
     },
     "execution_count": 20,
     "metadata": {},
     "output_type": "execute_result"
    }
   ],
   "source": [
    "#EXAMPLE:\n",
    "def power_generators(n):\n",
    "    for i in range(n):\n",
    "        yield i**4\n",
    "\n",
    "power_generators(6)"
   ]
  },
  {
   "cell_type": "code",
   "execution_count": 21,
   "id": "732ed631-6dd6-4491-b3bd-2a7ae03bc6bf",
   "metadata": {
    "id": "732ed631-6dd6-4491-b3bd-2a7ae03bc6bf",
    "outputId": "539c4177-0839-46c6-bf57-eaf3e9fe5a05"
   },
   "outputs": [
    {
     "data": {
      "text/plain": [
       "<generator object power_generators at 0x000001772B123030>"
      ]
     },
     "execution_count": 21,
     "metadata": {},
     "output_type": "execute_result"
    }
   ],
   "source": [
    "f = power_generators(8)\n",
    "f"
   ]
  },
  {
   "cell_type": "code",
   "execution_count": 22,
   "id": "6877474d-1f18-4199-b9d0-3a1caf858e63",
   "metadata": {
    "id": "6877474d-1f18-4199-b9d0-3a1caf858e63",
    "outputId": "46b50566-11a3-4299-c0fb-cfc9232a79cd"
   },
   "outputs": [
    {
     "data": {
      "text/plain": [
       "0"
      ]
     },
     "execution_count": 22,
     "metadata": {},
     "output_type": "execute_result"
    }
   ],
   "source": [
    "next(f)"
   ]
  },
  {
   "cell_type": "code",
   "execution_count": 23,
   "id": "33eed6d2-46dc-4413-b829-f7853b72ab69",
   "metadata": {
    "id": "33eed6d2-46dc-4413-b829-f7853b72ab69",
    "outputId": "e47e77db-f1b3-4f8c-f20c-a5f6f5fd677b"
   },
   "outputs": [
    {
     "data": {
      "text/plain": [
       "1"
      ]
     },
     "execution_count": 23,
     "metadata": {},
     "output_type": "execute_result"
    }
   ],
   "source": [
    "next(f)"
   ]
  },
  {
   "cell_type": "code",
   "execution_count": 24,
   "id": "ceab814d-3d7f-4893-87aa-ecc18e802b4b",
   "metadata": {
    "id": "ceab814d-3d7f-4893-87aa-ecc18e802b4b",
    "outputId": "ede412f7-c727-4d22-fe82-e526ded53f89"
   },
   "outputs": [
    {
     "data": {
      "text/plain": [
       "16"
      ]
     },
     "execution_count": 24,
     "metadata": {},
     "output_type": "execute_result"
    }
   ],
   "source": [
    "next(f)"
   ]
  },
  {
   "cell_type": "code",
   "execution_count": 25,
   "id": "f2f94919-d1f7-4f25-88a8-52574f6e339d",
   "metadata": {
    "id": "f2f94919-d1f7-4f25-88a8-52574f6e339d",
    "outputId": "2f8ff97a-79bc-432c-9808-0125a6cb4af5"
   },
   "outputs": [
    {
     "data": {
      "text/plain": [
       "81"
      ]
     },
     "execution_count": 25,
     "metadata": {},
     "output_type": "execute_result"
    }
   ],
   "source": [
    "next(f)"
   ]
  },
  {
   "cell_type": "markdown",
   "id": "5c95c980-66b1-4b75-988d-6e66f79f336d",
   "metadata": {
    "id": "5c95c980-66b1-4b75-988d-6e66f79f336d"
   },
   "source": [
    "## Q7)What are the advantages of using generators over regular functions?"
   ]
  },
  {
   "cell_type": "code",
   "execution_count": 26,
   "id": "1ee4b537-6d0d-4df5-887c-c7ef436fc690",
   "metadata": {
    "id": "1ee4b537-6d0d-4df5-887c-c7ef436fc690"
   },
   "outputs": [],
   "source": [
    "#### ANS- The advantages of using generators over regular functions are:-"
   ]
  },
  {
   "cell_type": "raw",
   "id": "c56d8c52-c7c9-43ef-9170-26e53824dce9",
   "metadata": {
    "id": "c56d8c52-c7c9-43ef-9170-26e53824dce9"
   },
   "source": [
    ">>> Memory Efficiency: only one memory location is used for processing values, reducing RAM usage, especially beneficial for large datasets.\n",
    ">>> On- Demand Evaluation: values are generated only when requested, avoiding the need for storing all elements at once.\n",
    ">>> Improved performance for large sequences- generator can lead to faster execution as here u don't need to process the entire sequence all in one go.\n",
    ">>> Simpler and cleaner code for iterators- in generator function ,u can define it using yield keyword, instead of manually defining classes with iter() and next().\n"
   ]
  },
  {
   "cell_type": "markdown",
   "id": "93bb0d2e-14c0-45bb-945d-550d9395e502",
   "metadata": {
    "id": "93bb0d2e-14c0-45bb-945d-550d9395e502"
   },
   "source": [
    "## Q8) What is a lambda function in Python and when is it typically used?"
   ]
  },
  {
   "cell_type": "markdown",
   "id": "7b804b88-5d28-4eba-b715-8287f521cf80",
   "metadata": {
    "id": "7b804b88-5d28-4eba-b715-8287f521cf80"
   },
   "source": [
    "#### ANS- A lambda function are small, anonymous function defined using lambda keyword.They are used for creating small,throwaway functions without the need to formally define a function using def keyword. It is typically used when we need a quick output to a function within few seconds.  "
   ]
  },
  {
   "cell_type": "code",
   "execution_count": 27,
   "id": "816f9a03-0188-4495-be8f-382d0e8cd039",
   "metadata": {
    "id": "816f9a03-0188-4495-be8f-382d0e8cd039",
    "outputId": "b4dfa70c-c7e3-409d-9acb-f74507afb303"
   },
   "outputs": [
    {
     "data": {
      "text/plain": [
       "True"
      ]
     },
     "execution_count": 27,
     "metadata": {},
     "output_type": "execute_result"
    }
   ],
   "source": [
    "#EXAMPLE1:\n",
    "is_even = lambda x: x%2 == 0\n",
    "is_even(68)"
   ]
  },
  {
   "cell_type": "code",
   "execution_count": 28,
   "id": "4b839b7a-368b-407a-9286-b087f452ba11",
   "metadata": {
    "id": "4b839b7a-368b-407a-9286-b087f452ba11",
    "outputId": "dbc49b80-94cb-4149-a27d-6a696c7090ec"
   },
   "outputs": [
    {
     "data": {
      "text/plain": [
       "[0, 1, 1, 2, 3, 5, 8, 13, 21, 34]"
      ]
     },
     "execution_count": 28,
     "metadata": {},
     "output_type": "execute_result"
    }
   ],
   "source": [
    "#EXAMPLE2:fibonacci seriers\n",
    "fib = lambda n: n if n<=1 else fib(n-1) + fib(n-2)\n",
    "[fib(i) for i in range(10)]"
   ]
  },
  {
   "cell_type": "markdown",
   "id": "dca91961-54a8-4b80-983f-b63cb1652005",
   "metadata": {
    "id": "dca91961-54a8-4b80-983f-b63cb1652005"
   },
   "source": [
    "## Q9)Explain the purpose and usage of the 'map()' function in Python."
   ]
  },
  {
   "cell_type": "raw",
   "id": "f2fff128-78d1-4e67-874f-4f571bd25ade",
   "metadata": {
    "id": "7ad34a3a-2b72-485f-bc83-ad0ed2cbba82"
   },
   "source": [
    "#### ANS- The purpose of the 'map()' function is use to transform each item in an iterable by applying the specified function.\n",
    "#### usage-\n",
    ">>> syntax-- map(func, iterable)"
   ]
  },
  {
   "cell_type": "code",
   "execution_count": 30,
   "id": "cfc841a5-097a-44b4-a97d-145c7cfe97c9",
   "metadata": {
    "id": "cfc841a5-097a-44b4-a97d-145c7cfe97c9",
    "outputId": "2ac696e0-fb43-4ab6-c6ff-b540124880b6"
   },
   "outputs": [
    {
     "name": "stdout",
     "output_type": "stream",
     "text": [
      "[1, 4, 9, 16, 25]\n"
     ]
    }
   ],
   "source": [
    "#Example:\n",
    "l = [1, 2, 3, 4, 5]\n",
    "sq=map(lambda x: x**2,l)\n",
    "print(list(sq))"
   ]
  },
  {
   "cell_type": "markdown",
   "id": "5df84945-dff5-4215-85b0-d42d6cb650c1",
   "metadata": {
    "id": "5df84945-dff5-4215-85b0-d42d6cb650c1"
   },
   "source": [
    "## Q10)What is the difference between 'map()','reduce()'and 'filter()' functions in Python?"
   ]
  },
  {
   "cell_type": "raw",
   "id": "59b9e616-7d8f-4370-8d42-3a158d0cbf4d",
   "metadata": {
    "id": "873aa845-1906-449a-9dcf-a09d69c89fcb"
   },
   "source": [
    "#### ANS- map() function:\n",
    "The function applies a given function to all items in an input iterable and returns an iterator with the results.\n",
    "It is used to transform each item in an iterable by applying the specificed function.\n",
    "\n",
    "syntax:\n",
    "map(function,iterable)"
   ]
  },
  {
   "cell_type": "code",
   "execution_count": 32,
   "id": "eaa93ecb-f406-4193-9b99-2fb70bf16bff",
   "metadata": {
    "id": "eaa93ecb-f406-4193-9b99-2fb70bf16bff",
    "outputId": "eca76f6e-5e6d-49b1-dd30-6c9dfca25d4b"
   },
   "outputs": [
    {
     "data": {
      "text/plain": [
       "[9, 10, 11, 12, 13]"
      ]
     },
     "execution_count": 32,
     "metadata": {},
     "output_type": "execute_result"
    }
   ],
   "source": [
    "l = [1, 2, 3, 4, 5]\n",
    "def add(x):\n",
    "    return x+8\n",
    "\n",
    "list(map(add, l))\n"
   ]
  },
  {
   "cell_type": "raw",
   "id": "d070d5e4-bb08-4dc0-bfde-60fed91718eb",
   "metadata": {
    "id": "b912636a-57b7-4edc-a771-164643c9fb47"
   },
   "source": [
    "#### ANS- reduce() function:\n",
    "The reduce function from the functools module appiles a given function cumulatively to the items of a sequence, from left to right to reduce the sequence to a single value.\n",
    "It reduces an iterable to a single cumulative value by applying the function cumulatively.\n",
    "\n",
    "syntax:\n",
    "from functools import reduce\n",
    "reduce(function,iterable)"
   ]
  },
  {
   "cell_type": "code",
   "execution_count": 34,
   "id": "359624fb-71bd-479b-beff-03bd3f79e04c",
   "metadata": {
    "id": "359624fb-71bd-479b-beff-03bd3f79e04c",
    "outputId": "91aafa25-da61-4a7a-d98f-fe4e57e8b317"
   },
   "outputs": [
    {
     "data": {
      "text/plain": [
       "473616000"
      ]
     },
     "execution_count": 34,
     "metadata": {},
     "output_type": "execute_result"
    }
   ],
   "source": [
    "from functools import reduce\n",
    "l = [2, 11, 23, 40, 75, 52, 6]\n",
    "reduce(lambda x, y:x*y, l)"
   ]
  },
  {
   "cell_type": "code",
   "execution_count": 36,
   "id": "a8db4f89-ec45-4d0f-afbf-6e63e523d908",
   "metadata": {
    "id": "a8db4f89-ec45-4d0f-afbf-6e63e523d908"
   },
   "outputs": [
    {
     "ename": "SyntaxError",
     "evalue": "invalid syntax (3388771059.py, line 2)",
     "output_type": "error",
     "traceback": [
      "  \u001b[36mCell\u001b[39m\u001b[36m \u001b[39m\u001b[32mIn[36]\u001b[39m\u001b[32m, line 2\u001b[39m\n\u001b[31m    \u001b[39m\u001b[31mThe filter function constructs an iterator from elements of an iterable for which a specified function return True.\u001b[39m\n        ^\n\u001b[31mSyntaxError\u001b[39m\u001b[31m:\u001b[39m invalid syntax\n"
     ]
    }
   ],
   "source": [
    "#### ANS- filter() function:\n",
    "The filter function constructs an iterator from elements of an iterable for which a specified function return True.\n",
    "It used for filtering elements from an iterable based on a cindition defined by the function.\n",
    "\n",
    "syntax:\n",
    "filter(function,iterable)"
   ]
  },
  {
   "cell_type": "raw",
   "id": "3da7a640-79bf-4ad5-96be-e2d76ad24353",
   "metadata": {
    "id": "4ab12320-3b4a-4e42-abfc-8d09a8284f73",
    "outputId": "d036a916-d4d7-43db-be7d-26c56e904b0e"
   },
   "source": [
    "l1 = [-5, -2, 0, 4, 5]\n",
    "list(filter(lambda x: x < 0, l1))"
   ]
  },
  {
   "cell_type": "markdown",
   "id": "fb33f2a0-72c3-41c7-b9cb-b8175fd15307",
   "metadata": {
    "id": "fb33f2a0-72c3-41c7-b9cb-b8175fd15307"
   },
   "source": [
    "## Q11) Using pen & paper write the internal mechanism for sum operation using reduce function on this given list:[47,11,42,13];"
   ]
  },
  {
   "cell_type": "markdown",
   "id": "4be0c96e-9dd3-4ee0-a3f1-4b608bc82aa4",
   "metadata": {
    "id": "4be0c96e-9dd3-4ee0-a3f1-4b608bc82aa4"
   },
   "source": [
    "# Practical Questions:"
   ]
  },
  {
   "cell_type": "markdown",
   "id": "26ddf0c8-31f7-45a7-93e9-e712bb06dc5c",
   "metadata": {
    "id": "26ddf0c8-31f7-45a7-93e9-e712bb06dc5c"
   },
   "source": [
    "## Q1)Write a Python function that takes a list of numbers as input and return the sum of all even numbers in the list."
   ]
  },
  {
   "cell_type": "markdown",
   "id": "acfaf0f2-ea70-4f09-8508-87e73b1e67c5",
   "metadata": {
    "id": "acfaf0f2-ea70-4f09-8508-87e73b1e67c5"
   },
   "source": [
    "#### ANS:-"
   ]
  },
  {
   "cell_type": "code",
   "execution_count": 37,
   "id": "a0399a90-933a-4f43-8ee6-2a8f06509e63",
   "metadata": {
    "id": "a0399a90-933a-4f43-8ee6-2a8f06509e63"
   },
   "outputs": [],
   "source": [
    "#code:\n",
    "def check_even(num):\n",
    "    return sum(filter(lambda x: x%2 ==0,num))"
   ]
  },
  {
   "cell_type": "code",
   "execution_count": 38,
   "id": "34e06d23-9527-4a70-81eb-babb5711de2e",
   "metadata": {
    "id": "34e06d23-9527-4a70-81eb-babb5711de2e",
    "outputId": "c602b1f2-7fa3-48cd-bbf7-32a50715b549"
   },
   "outputs": [
    {
     "data": {
      "text/plain": [
       "12"
      ]
     },
     "execution_count": 38,
     "metadata": {},
     "output_type": "execute_result"
    }
   ],
   "source": [
    "#Usage:\n",
    "num=[2,5,8,5,9,2]\n",
    "check_even(num)"
   ]
  },
  {
   "cell_type": "markdown",
   "id": "ed459e24-1114-42d2-bd20-d93ec0c83f45",
   "metadata": {
    "id": "ed459e24-1114-42d2-bd20-d93ec0c83f45"
   },
   "source": [
    "## Q2)Create a Python function that accepts a string and returns the reverse of that string."
   ]
  },
  {
   "cell_type": "markdown",
   "id": "010b6e29-c122-4faf-80d4-2886d9b6efb0",
   "metadata": {
    "id": "010b6e29-c122-4faf-80d4-2886d9b6efb0"
   },
   "source": [
    "#### ANS-  "
   ]
  },
  {
   "cell_type": "code",
   "execution_count": 39,
   "id": "feb91878-53cc-4460-a8da-db63f5ee5735",
   "metadata": {
    "id": "feb91878-53cc-4460-a8da-db63f5ee5735",
    "outputId": "96e2bdcf-3cf7-420b-d42f-d7c16fde28c0"
   },
   "outputs": [
    {
     "data": {
      "text/plain": [
       "'gninroM dooG'"
      ]
     },
     "execution_count": 39,
     "metadata": {},
     "output_type": "execute_result"
    }
   ],
   "source": [
    "s=\"Good Morning\"\n",
    "s[::-1]"
   ]
  },
  {
   "cell_type": "markdown",
   "id": "52eb5cc2-7a6b-46c8-aae6-4a172540471e",
   "metadata": {
    "id": "52eb5cc2-7a6b-46c8-aae6-4a172540471e"
   },
   "source": [
    "## Q3)Implement a Python function that takes a list of integers and returns a new list containing the squares of each number."
   ]
  },
  {
   "cell_type": "markdown",
   "id": "fd08d8b9-95f5-4bfd-adfc-7a958ebede61",
   "metadata": {
    "id": "fd08d8b9-95f5-4bfd-adfc-7a958ebede61"
   },
   "source": [
    "#### ANS:-"
   ]
  },
  {
   "cell_type": "code",
   "execution_count": 40,
   "id": "f36cbf95-ac98-4738-92a0-4ac4a1567c44",
   "metadata": {
    "id": "f36cbf95-ac98-4738-92a0-4ac4a1567c44",
    "outputId": "3d670137-e80a-402b-a711-3a6763a3da3e"
   },
   "outputs": [
    {
     "name": "stdout",
     "output_type": "stream",
     "text": [
      "[16, 49, 25, 400]\n"
     ]
    }
   ],
   "source": [
    "l=[4,7,5,20]\n",
    "squared = map(lambda x:x*x,(l))\n",
    "print(list(squared))"
   ]
  },
  {
   "cell_type": "markdown",
   "id": "d01c67d3-c945-424d-b456-4491da81ceb1",
   "metadata": {
    "id": "d01c67d3-c945-424d-b456-4491da81ceb1"
   },
   "source": [
    "## Q4)Write a Python function that checks if a given number is prime or not from 1 to 200."
   ]
  },
  {
   "cell_type": "markdown",
   "id": "fff7fea9-8903-49fb-a272-f5217a5db6f0",
   "metadata": {
    "id": "fff7fea9-8903-49fb-a272-f5217a5db6f0"
   },
   "source": [
    "#### ANS-"
   ]
  },
  {
   "cell_type": "code",
   "execution_count": 41,
   "id": "bfaeb0ae-d18e-4b8b-884e-b8cb74c7c6f5",
   "metadata": {
    "id": "bfaeb0ae-d18e-4b8b-884e-b8cb74c7c6f5"
   },
   "outputs": [],
   "source": [
    "#code\n",
    "def is_prime(n):\n",
    "    if n < 2 or n > 200:\n",
    "        return False\n",
    "    for i in range(2, int(n**0.5) + 1):\n",
    "        if n % i == 0:\n",
    "            return False\n",
    "    return True"
   ]
  },
  {
   "cell_type": "code",
   "execution_count": 42,
   "id": "fc25c68b-d34d-40cb-97f8-eba2d9cfaa49",
   "metadata": {
    "id": "fc25c68b-d34d-40cb-97f8-eba2d9cfaa49",
    "outputId": "ee634d93-61cd-48d7-e13f-c40f790bbbe7"
   },
   "outputs": [
    {
     "name": "stdout",
     "output_type": "stream",
     "text": [
      "2\n",
      "3\n",
      "5\n",
      "7\n",
      "11\n",
      "13\n",
      "17\n",
      "19\n",
      "23\n",
      "29\n",
      "31\n",
      "37\n",
      "41\n",
      "43\n",
      "47\n",
      "53\n",
      "59\n",
      "61\n",
      "67\n",
      "71\n",
      "73\n",
      "79\n",
      "83\n",
      "89\n",
      "97\n",
      "101\n",
      "103\n",
      "107\n",
      "109\n",
      "113\n",
      "127\n",
      "131\n",
      "137\n",
      "139\n",
      "149\n",
      "151\n",
      "157\n",
      "163\n",
      "167\n",
      "173\n",
      "179\n",
      "181\n",
      "191\n",
      "193\n",
      "197\n",
      "199\n"
     ]
    }
   ],
   "source": [
    "#usage\n",
    "for num in range(1, 201):\n",
    "    if is_prime(num):\n",
    "        print(f\"{num}\")"
   ]
  },
  {
   "cell_type": "markdown",
   "id": "a80a7c6b-6ec0-478e-bac5-7949440d6566",
   "metadata": {
    "id": "a80a7c6b-6ec0-478e-bac5-7949440d6566"
   },
   "source": [
    "## Q5)Create an iterator class in Python that generates the Fibonacci sequence up to a specific number of terms."
   ]
  },
  {
   "cell_type": "code",
   "execution_count": 43,
   "id": "fa68d1bc-487f-4bae-ad7a-0c84dcb22a3f",
   "metadata": {
    "id": "fa68d1bc-487f-4bae-ad7a-0c84dcb22a3f"
   },
   "outputs": [],
   "source": [
    "#### ANS-"
   ]
  },
  {
   "cell_type": "code",
   "execution_count": 44,
   "id": "c45237c9-b9a3-4aeb-b078-62de0b067d46",
   "metadata": {
    "id": "c45237c9-b9a3-4aeb-b078-62de0b067d46"
   },
   "outputs": [
    {
     "data": {
      "text/plain": [
       "[0, 1, 1, 2, 3, 5, 8, 13, 21, 34]"
      ]
     },
     "execution_count": 44,
     "metadata": {},
     "output_type": "execute_result"
    }
   ],
   "source": [
    "fib = lambda n: n if n<=1 else fib(n-1) + fib(n-2) #fibonacci seriers\n",
    "[fib(i) for i in range(10)]"
   ]
  },
  {
   "cell_type": "code",
   "execution_count": 45,
   "id": "3a8ef14b-5b6b-4c64-a2aa-ea6522af5029",
   "metadata": {
    "id": "3a8ef14b-5b6b-4c64-a2aa-ea6522af5029"
   },
   "outputs": [],
   "source": [
    "def fib(n):\n",
    "    a = 0\n",
    "    b = 1\n",
    "    for i in range(n): #if n=5, 0, 1, 2, 3, 4\n",
    "        yield a\n",
    "        a, b = b, a+b"
   ]
  },
  {
   "cell_type": "markdown",
   "id": "13f47557-3df2-466e-aa20-1a8ea9d640d5",
   "metadata": {
    "id": "13f47557-3df2-466e-aa20-1a8ea9d640d5"
   },
   "source": [
    "## Q6)Write a generates function in Python that yields the powers of 2 up to a given exponent."
   ]
  },
  {
   "cell_type": "markdown",
   "id": "bd982665-a1c9-4801-a6a4-ae9219870ba7",
   "metadata": {
    "id": "bd982665-a1c9-4801-a6a4-ae9219870ba7"
   },
   "source": [
    "#### ANS:-"
   ]
  },
  {
   "cell_type": "code",
   "execution_count": 46,
   "id": "e5db1885-515e-4bb7-be44-3bfab4c72a94",
   "metadata": {
    "id": "e5db1885-515e-4bb7-be44-3bfab4c72a94"
   },
   "outputs": [],
   "source": [
    "def sq_num_generators(n):\n",
    "    for i in range(n):\n",
    "        yield i**2"
   ]
  },
  {
   "cell_type": "code",
   "execution_count": 47,
   "id": "17faa684-6097-489f-b79e-10409ecb3003",
   "metadata": {
    "id": "17faa684-6097-489f-b79e-10409ecb3003",
    "outputId": "de5e6f6d-cc1b-4e8d-945f-555d5306adc6"
   },
   "outputs": [
    {
     "data": {
      "text/plain": [
       "<generator object sq_num_generators at 0x000001772B2D71D0>"
      ]
     },
     "execution_count": 47,
     "metadata": {},
     "output_type": "execute_result"
    }
   ],
   "source": [
    "gen = sq_num_generators(10)\n",
    "gen"
   ]
  },
  {
   "cell_type": "code",
   "execution_count": 48,
   "id": "9800caa1-1e2c-4c90-964e-d28e03c1f26e",
   "metadata": {
    "id": "9800caa1-1e2c-4c90-964e-d28e03c1f26e",
    "outputId": "6b63f117-5b37-49eb-e578-c3943dcbfe37"
   },
   "outputs": [
    {
     "data": {
      "text/plain": [
       "0"
      ]
     },
     "execution_count": 48,
     "metadata": {},
     "output_type": "execute_result"
    }
   ],
   "source": [
    "next(gen)"
   ]
  },
  {
   "cell_type": "code",
   "execution_count": 49,
   "id": "49a964ff-d434-436e-a071-5f65bebaa152",
   "metadata": {
    "id": "49a964ff-d434-436e-a071-5f65bebaa152",
    "outputId": "66248558-ef0e-438b-b3a1-33d06cccfba2"
   },
   "outputs": [
    {
     "data": {
      "text/plain": [
       "1"
      ]
     },
     "execution_count": 49,
     "metadata": {},
     "output_type": "execute_result"
    }
   ],
   "source": [
    "next(gen)"
   ]
  },
  {
   "cell_type": "code",
   "execution_count": 50,
   "id": "a4ce3e85-bb0d-4ef0-9289-cadcae3be834",
   "metadata": {
    "id": "a4ce3e85-bb0d-4ef0-9289-cadcae3be834",
    "outputId": "6e038ec3-fdd9-4d9d-b1d7-80ad83fcf1eb"
   },
   "outputs": [
    {
     "data": {
      "text/plain": [
       "4"
      ]
     },
     "execution_count": 50,
     "metadata": {},
     "output_type": "execute_result"
    }
   ],
   "source": [
    "next(gen)"
   ]
  },
  {
   "cell_type": "code",
   "execution_count": 51,
   "id": "6279d0c6-078d-419f-9363-2ca7a9e24c43",
   "metadata": {
    "id": "6279d0c6-078d-419f-9363-2ca7a9e24c43",
    "outputId": "ec7179a5-415e-42d5-9905-cdc6e796be06"
   },
   "outputs": [
    {
     "data": {
      "text/plain": [
       "9"
      ]
     },
     "execution_count": 51,
     "metadata": {},
     "output_type": "execute_result"
    }
   ],
   "source": [
    "next(gen)"
   ]
  },
  {
   "cell_type": "code",
   "execution_count": 52,
   "id": "f67b29eb-762a-4e5f-96c3-038b1038b8ce",
   "metadata": {
    "id": "f67b29eb-762a-4e5f-96c3-038b1038b8ce",
    "outputId": "117fc47f-a5e3-465c-c3b2-6abffc1f134b"
   },
   "outputs": [
    {
     "data": {
      "text/plain": [
       "16"
      ]
     },
     "execution_count": 52,
     "metadata": {},
     "output_type": "execute_result"
    }
   ],
   "source": [
    "next(gen)"
   ]
  },
  {
   "cell_type": "code",
   "execution_count": 53,
   "id": "fc356d98-6eab-4a1a-9d11-065a94d3aeff",
   "metadata": {
    "id": "fc356d98-6eab-4a1a-9d11-065a94d3aeff",
    "outputId": "1ed025d6-37c8-453f-f05a-b774e96b1540"
   },
   "outputs": [
    {
     "data": {
      "text/plain": [
       "25"
      ]
     },
     "execution_count": 53,
     "metadata": {},
     "output_type": "execute_result"
    }
   ],
   "source": [
    "next(gen)"
   ]
  },
  {
   "cell_type": "markdown",
   "id": "955e052c-12a2-4bf6-ae89-4a7158d97f16",
   "metadata": {
    "id": "955e052c-12a2-4bf6-ae89-4a7158d97f16"
   },
   "source": [
    "## Q7)Implement a generator function that reads a file line by line and yields each line as a string."
   ]
  },
  {
   "cell_type": "code",
   "execution_count": 54,
   "id": "ddbeb8e7-ce99-4073-8f24-88ea0d0126fd",
   "metadata": {
    "id": "ddbeb8e7-ce99-4073-8f24-88ea0d0126fd"
   },
   "outputs": [],
   "source": [
    "#### ANS-"
   ]
  },
  {
   "cell_type": "code",
   "execution_count": 55,
   "id": "b6d6591c-910a-4e20-be37-cfd34b107e80",
   "metadata": {
    "id": "b6d6591c-910a-4e20-be37-cfd34b107e80"
   },
   "outputs": [],
   "source": [
    "def read_file_line_by_line(file_path):\n",
    "    with open(file_path, 'r') as file:\n",
    "        for line in file:\n",
    "            yield line.rstrip('\\n')"
   ]
  },
  {
   "cell_type": "code",
   "execution_count": 56,
   "id": "3eb5bcd4-888a-4658-b43a-070dae39bee2",
   "metadata": {
    "id": "3eb5bcd4-888a-4658-b43a-070dae39bee2",
    "outputId": "9386f1df-b674-480f-a3f8-7d23fb70ddb6"
   },
   "outputs": [
    {
     "name": "stdout",
     "output_type": "stream",
     "text": [
      "Hello! Myself Himadri Tanaya Sahu.\n",
      "I am doing Data Analytics Course.\n",
      "This is my first Python program.\n"
     ]
    }
   ],
   "source": [
    "for line in read_file_line_by_line('example.txt'):\n",
    "    print(line)"
   ]
  },
  {
   "cell_type": "markdown",
   "id": "1d883607-6274-4cfc-b9bf-4d33d61bfb7e",
   "metadata": {
    "id": "1d883607-6274-4cfc-b9bf-4d33d61bfb7e"
   },
   "source": [
    "## Q8)Use a lambda function in Python to sort a list of tuples based on the second element of each tuples."
   ]
  },
  {
   "cell_type": "code",
   "execution_count": 57,
   "id": "721c12c2-ef47-401c-acad-269bc65c9412",
   "metadata": {
    "id": "721c12c2-ef47-401c-acad-269bc65c9412"
   },
   "outputs": [],
   "source": [
    "#### ANS-"
   ]
  },
  {
   "cell_type": "code",
   "execution_count": 58,
   "id": "e6c584a4-f523-4fc6-b2fa-0203f0341b2f",
   "metadata": {
    "id": "e6c584a4-f523-4fc6-b2fa-0203f0341b2f",
    "outputId": "972ab0c5-4f8f-449b-fe79-9b3f4e273a72"
   },
   "outputs": [
    {
     "name": "stdout",
     "output_type": "stream",
     "text": [
      "[(2, 1), (4, 2), (1, 3)]\n"
     ]
    }
   ],
   "source": [
    "data = [(1, 3), (2, 1), (4, 2)]\n",
    "sorted_data = sorted(data, key=lambda x: x[1])\n",
    "print(sorted_data)"
   ]
  },
  {
   "cell_type": "markdown",
   "id": "4077f656-85d4-4665-9daf-3f53658624af",
   "metadata": {
    "id": "4077f656-85d4-4665-9daf-3f53658624af"
   },
   "source": [
    "## Q9)Write a Python program that uses 'map()' to convert a list of temperatures from Celsius to Fahrenheit."
   ]
  },
  {
   "cell_type": "markdown",
   "id": "3e744b39-4776-462d-adf5-75b142c46551",
   "metadata": {
    "id": "3e744b39-4776-462d-adf5-75b142c46551"
   },
   "source": [
    "#### ANS:-"
   ]
  },
  {
   "cell_type": "code",
   "execution_count": 59,
   "id": "2c94c230-f9d4-4787-8e7b-6464f512eec0",
   "metadata": {
    "id": "2c94c230-f9d4-4787-8e7b-6464f512eec0"
   },
   "outputs": [],
   "source": [
    "def convert(cel):\n",
    "    return (cel*9/5)+32"
   ]
  },
  {
   "cell_type": "code",
   "execution_count": 60,
   "id": "8c4ec0e8-0e92-456a-afc7-3ac06385418c",
   "metadata": {
    "id": "8c4ec0e8-0e92-456a-afc7-3ac06385418c"
   },
   "outputs": [],
   "source": [
    "temp=[0,25,34,100]\n",
    "fah_temp= list(map(convert,temp))"
   ]
  },
  {
   "cell_type": "code",
   "execution_count": 61,
   "id": "01ad8eef-5b78-47bb-8a1c-2bd4c6928600",
   "metadata": {
    "id": "01ad8eef-5b78-47bb-8a1c-2bd4c6928600",
    "outputId": "9e9baaa8-a1fc-4952-deb7-6cf69e6b50a1"
   },
   "outputs": [
    {
     "name": "stdout",
     "output_type": "stream",
     "text": [
      "celsius temp: [0, 25, 34, 100]\n",
      "fah temp: [32.0, 77.0, 93.2, 212.0]\n"
     ]
    }
   ],
   "source": [
    "print(\"celsius temp:\",temp)\n",
    "print(\"fah temp:\" ,fah_temp)"
   ]
  },
  {
   "cell_type": "markdown",
   "id": "1bbe2362-087b-4d31-beb2-83666cae79bf",
   "metadata": {
    "id": "1bbe2362-087b-4d31-beb2-83666cae79bf"
   },
   "source": [
    "## Q10)Create a Python program that uses 'filter()' to remove all the vowels from a given string."
   ]
  },
  {
   "cell_type": "markdown",
   "id": "0905ff9b-ecd3-46d0-9401-74b848f36eaa",
   "metadata": {
    "id": "0905ff9b-ecd3-46d0-9401-74b848f36eaa"
   },
   "source": [
    "#### ANS:-"
   ]
  },
  {
   "cell_type": "code",
   "execution_count": 62,
   "id": "0861586f-788f-4129-952a-6c033d643a58",
   "metadata": {
    "id": "0861586f-788f-4129-952a-6c033d643a58"
   },
   "outputs": [],
   "source": [
    "s= list(\"program\")\n",
    "def vowel(x):\n",
    "    v=('a','e','i','o','u')\n",
    "    return x not in v"
   ]
  },
  {
   "cell_type": "code",
   "execution_count": 63,
   "id": "a52901d9-fe0f-4002-b6ed-141a15686a7a",
   "metadata": {
    "id": "a52901d9-fe0f-4002-b6ed-141a15686a7a",
    "outputId": "dffac313-af8b-4fa9-d28b-6b1172f36917"
   },
   "outputs": [
    {
     "name": "stdout",
     "output_type": "stream",
     "text": [
      "vowel: ['p', 'r', 'g', 'r', 'm']\n"
     ]
    }
   ],
   "source": [
    "l=list(filter(vowel,s))\n",
    "print(\"vowel:\", l)"
   ]
  },
  {
   "cell_type": "markdown",
   "id": "2549f2bd-7d48-402e-9896-a2f0242acf97",
   "metadata": {
    "id": "2549f2bd-7d48-402e-9896-a2f0242acf97"
   },
   "source": [
    "## Q11)"
   ]
  },
  {
   "cell_type": "markdown",
   "id": "722acda6-cdb7-45d1-b688-417152065229",
   "metadata": {
    "id": "722acda6-cdb7-45d1-b688-417152065229"
   },
   "source": [
    "#### ANS-"
   ]
  },
  {
   "cell_type": "code",
   "execution_count": 64,
   "id": "a24da647-6086-440c-91dc-94361ecf2686",
   "metadata": {
    "id": "a24da647-6086-440c-91dc-94361ecf2686"
   },
   "outputs": [],
   "source": [
    "book_data =[(34587,\"Learning Python, Mark Lutz\",4,40.95),\n",
    "            (98762,\"Programming Python, Mark Lutz\",5,56.80),\n",
    "            (77226,\"Head First Python, Paul Barry\",3,32.95),\n",
    "            (88112,\"Einfuhrung in Python, Bernd Klein\",3,24.99)]"
   ]
  },
  {
   "cell_type": "code",
   "execution_count": 65,
   "id": "9c1015d3-ed69-4c31-9abc-efb5f29336cb",
   "metadata": {
    "id": "9c1015d3-ed69-4c31-9abc-efb5f29336cb",
    "outputId": "6038027a-9588-4351-a106-59f5898f38aa"
   },
   "outputs": [
    {
     "name": "stdout",
     "output_type": "stream",
     "text": [
      "[(34587, 163.8), (98762, 284.0), (77226, 108.85000000000001), (88112, 84.97)]\n"
     ]
    }
   ],
   "source": [
    "result = list(map(lambda x: (x[0],x[2] *x[3] + 10 if x[2] *x[3] < 100 else x[2] *x[3]),book_data))\n",
    "print(result)"
   ]
  },
  {
   "cell_type": "code",
   "execution_count": null,
   "id": "e1cf697e-5dda-4d73-85d9-73808a1899ad",
   "metadata": {
    "id": "e1cf697e-5dda-4d73-85d9-73808a1899ad"
   },
   "outputs": [],
   "source": []
  }
 ],
 "metadata": {
  "colab": {
   "provenance": []
  },
  "kernelspec": {
   "display_name": "Python 3 (ipykernel)",
   "language": "python",
   "name": "python3"
  },
  "language_info": {
   "codemirror_mode": {
    "name": "ipython",
    "version": 3
   },
   "file_extension": ".py",
   "mimetype": "text/x-python",
   "name": "python",
   "nbconvert_exporter": "python",
   "pygments_lexer": "ipython3",
   "version": "3.13.2"
  }
 },
 "nbformat": 4,
 "nbformat_minor": 5
}
