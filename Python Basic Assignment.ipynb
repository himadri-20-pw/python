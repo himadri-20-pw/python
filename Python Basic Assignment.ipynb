{
 "cells": [
  {
   "cell_type": "markdown",
   "id": "3a794077-6eb1-47b5-b880-69307d5905f7",
   "metadata": {
    "jp-MarkdownHeadingCollapsed": true
   },
   "source": [
    "# Q1)Explain the key features of python that makes it a popular choice for programming. \n",
    "ANS-The key features of python that makes it a popular choice for programming are:\n",
    ">>Easy to learn,read and to use\n",
    ">>Free and open source\n",
    ">>A lot of libraries\n",
    ">>Lot of databases\n",
    ">>Huge active community\n",
    ">>Scalability and Versatility\n"
   ]
  },
  {
   "cell_type": "markdown",
   "id": "1bf49824-648c-48cd-963f-88aea95400ae",
   "metadata": {
    "jp-MarkdownHeadingCollapsed": true
   },
   "source": [
    "# Q2)Describe the role of predefined keywords in Python and provide examples if how they are used in a programm.\n",
    "ANS-The role of predefined keywords in Python is to perform some kind of specific tasks like defining the structure,making the code logical etc.\n",
    "They are also a part of the syntax of the programme.Example:-"
   ]
  },
  {
   "cell_type": "code",
   "execution_count": 2,
   "id": "1c4a9886-6777-4870-9267-57811096a131",
   "metadata": {},
   "outputs": [
    {
     "name": "stdin",
     "output_type": "stream",
     "text": [
      "please enter ur name: HIMADRI\n"
     ]
    }
   ],
   "source": [
    "name = input(\"please enter ur name:\")    #here input is a predefined keyword"
   ]
  },
  {
   "cell_type": "code",
   "execution_count": 5,
   "id": "c5df5f9a-7dd3-4c9a-801f-b3f2a45ae28b",
   "metadata": {},
   "outputs": [
    {
     "name": "stdout",
     "output_type": "stream",
     "text": [
      "1\n",
      "2\n",
      "skills\n"
     ]
    }
   ],
   "source": [
    "l=[1,2,\"skills\"]               #here for is a predefined keyword\n",
    "for i in l:\n",
    "    print(i)"
   ]
  },
  {
   "cell_type": "code",
   "execution_count": 8,
   "id": "f187b3c5-c080-4baa-a001-ad9aa74ccf52",
   "metadata": {},
   "outputs": [
    {
     "data": {
      "text/plain": [
       "False"
      ]
     },
     "execution_count": 8,
     "metadata": {},
     "output_type": "execute_result"
    }
   ],
   "source": [
    "not True                #True for is a predefined keyword"
   ]
  },
  {
   "cell_type": "markdown",
   "id": "1f86fd2d-9cd9-465b-84f7-1fb7ed39211e",
   "metadata": {
    "jp-MarkdownHeadingCollapsed": true
   },
   "source": [
    "# Q3)Compare and constract mutable and immutable objects in Python with examples.\n",
    "ANS-The values that can be changed after they are created are called as mutable objects.Example:-"
   ]
  },
  {
   "cell_type": "code",
   "execution_count": 20,
   "id": "68fb2974-683f-48f2-b71b-e57422741997",
   "metadata": {},
   "outputs": [
    {
     "data": {
      "text/plain": [
       "[4, 29, 300, 'Dog', True, 8.3, (2+3j)]"
      ]
     },
     "execution_count": 20,
     "metadata": {},
     "output_type": "execute_result"
    }
   ],
   "source": [
    "l_cont = [4,29,300,\"Dog\",True,8.3,2+3J]\n",
    "l_cont                                     #orginal content"
   ]
  },
  {
   "cell_type": "code",
   "execution_count": 22,
   "id": "55069545-a47f-4956-b129-244ba636b452",
   "metadata": {},
   "outputs": [
    {
     "data": {
      "text/plain": [
       "[4, 29, 300, 'flower', True, 8.3, (2+3j)]"
      ]
     },
     "execution_count": 22,
     "metadata": {},
     "output_type": "execute_result"
    }
   ],
   "source": [
    "l_cont[3]=\"flower\"\n",
    "l_cont"
   ]
  },
  {
   "cell_type": "code",
   "execution_count": 23,
   "id": "fb7664c9-0413-4072-bb49-db1bc3e88a85",
   "metadata": {},
   "outputs": [
    {
     "data": {
      "text/plain": [
       "150"
      ]
     },
     "execution_count": 23,
     "metadata": {},
     "output_type": "execute_result"
    }
   ],
   "source": [
    "l_cont[0]=150\n",
    "l_cont[0]"
   ]
  },
  {
   "cell_type": "code",
   "execution_count": 24,
   "id": "c33ef7f3-ffd2-4ed2-ad5f-3cfc4d3cc282",
   "metadata": {},
   "outputs": [
    {
     "data": {
      "text/plain": [
       "[150, 29, 300, 'flower', True, 8.3, (2+3j)]"
      ]
     },
     "execution_count": 24,
     "metadata": {},
     "output_type": "execute_result"
    }
   ],
   "source": [
    "l_cont                                   #updated content  "
   ]
  },
  {
   "cell_type": "code",
   "execution_count": null,
   "id": "6a7f3121-b4ce-4120-a3e2-56bdc514ec45",
   "metadata": {},
   "outputs": [],
   "source": [
    "###lIST,DICTIONARY are example of mutable objects."
   ]
  },
  {
   "cell_type": "raw",
   "id": "c2026136-e101-4f1f-aeca-cdbe33260648",
   "metadata": {},
   "source": [
    "The values that cannot be changed after they are created are called as immutable objects.Example:-"
   ]
  },
  {
   "cell_type": "code",
   "execution_count": 25,
   "id": "166d709f-3478-477f-905b-0a8e9a04a7a2",
   "metadata": {},
   "outputs": [
    {
     "data": {
      "text/plain": [
       "'flowers'"
      ]
     },
     "execution_count": 25,
     "metadata": {},
     "output_type": "execute_result"
    }
   ],
   "source": [
    "word = \"flowers\"\n",
    "word"
   ]
  },
  {
   "cell_type": "code",
   "execution_count": 27,
   "id": "a4bce29e-bc5b-431b-b28d-183809216db8",
   "metadata": {},
   "outputs": [
    {
     "ename": "TypeError",
     "evalue": "'str' object does not support item assignment",
     "output_type": "error",
     "traceback": [
      "\u001b[31m---------------------------------------------------------------------------\u001b[39m",
      "\u001b[31mTypeError\u001b[39m                                 Traceback (most recent call last)",
      "\u001b[36mCell\u001b[39m\u001b[36m \u001b[39m\u001b[32mIn[27]\u001b[39m\u001b[32m, line 1\u001b[39m\n\u001b[32m----> \u001b[39m\u001b[32m1\u001b[39m \u001b[43mword\u001b[49m\u001b[43m[\u001b[49m\u001b[32;43m5\u001b[39;49m\u001b[43m]\u001b[49m=\u001b[33m\"\u001b[39m\u001b[33mp\u001b[39m\u001b[33m\"\u001b[39m                         \u001b[38;5;66;03m#in string we cannot change the characters after once being written\u001b[39;00m\n",
      "\u001b[31mTypeError\u001b[39m: 'str' object does not support item assignment"
     ]
    }
   ],
   "source": [
    "word[5]=\"p\"                         #in string we cannot change the characters after once being written"
   ]
  },
  {
   "cell_type": "code",
   "execution_count": 28,
   "id": "1a2067d3-3be9-49ed-b26e-b0abbf71e4db",
   "metadata": {},
   "outputs": [],
   "source": [
    "###STRING,TUPLES are example of immutable objects."
   ]
  },
  {
   "cell_type": "markdown",
   "id": "55576b7a-c89c-4382-8caa-2edbc3fdd631",
   "metadata": {
    "jp-MarkdownHeadingCollapsed": true
   },
   "source": [
    "# Q4)Discuss the different types of operators in Python and provide examples of how they are used\n",
    "ANS-Different types of operators in Python are:\n",
    ">>Arithmatics operators\n",
    ">>Comparison operators\n",
    ">>Logical operators\n",
    ">>Bitwise operators\n",
    ">>Assignment operators\n",
    ">>Membership operators\n",
    ">>Identify operators"
   ]
  },
  {
   "cell_type": "markdown",
   "id": "92a84a8b-d878-4330-8a39-33f5ae523d9e",
   "metadata": {
    "jp-MarkdownHeadingCollapsed": true
   },
   "source": [
    "### arithmatic operators"
   ]
  },
  {
   "cell_type": "code",
   "execution_count": 127,
   "id": "09a5c6a0-8f16-4b15-8b91-37a45d29b0d3",
   "metadata": {},
   "outputs": [
    {
     "data": {
      "text/plain": [
       "84"
      ]
     },
     "execution_count": 127,
     "metadata": {},
     "output_type": "execute_result"
    }
   ],
   "source": [
    "a=45\n",
    "b=39\n",
    "a+b      #addition"
   ]
  },
  {
   "cell_type": "code",
   "execution_count": 51,
   "id": "a73d7e31-0a14-46e7-a467-b4149d4f326b",
   "metadata": {},
   "outputs": [
    {
     "data": {
      "text/plain": [
       "6"
      ]
     },
     "execution_count": 51,
     "metadata": {},
     "output_type": "execute_result"
    }
   ],
   "source": [
    "a-b       #substraction"
   ]
  },
  {
   "cell_type": "code",
   "execution_count": 52,
   "id": "c38d9552-634d-4159-9a7c-5b1831afafb2",
   "metadata": {},
   "outputs": [
    {
     "data": {
      "text/plain": [
       "1755"
      ]
     },
     "execution_count": 52,
     "metadata": {},
     "output_type": "execute_result"
    }
   ],
   "source": [
    "a*b       #multiplication"
   ]
  },
  {
   "cell_type": "code",
   "execution_count": 53,
   "id": "ef4b5824-6e01-46bb-81e4-f55964ab8623",
   "metadata": {},
   "outputs": [
    {
     "data": {
      "text/plain": [
       "1.1538461538461537"
      ]
     },
     "execution_count": 53,
     "metadata": {},
     "output_type": "execute_result"
    }
   ],
   "source": [
    "a/b       #division"
   ]
  },
  {
   "cell_type": "code",
   "execution_count": 54,
   "id": "38599314-0877-4002-8319-1746592206dc",
   "metadata": {},
   "outputs": [
    {
     "data": {
      "text/plain": [
       "6"
      ]
     },
     "execution_count": 54,
     "metadata": {},
     "output_type": "execute_result"
    }
   ],
   "source": [
    "a%b         #modulus"
   ]
  },
  {
   "cell_type": "markdown",
   "id": "307ef276-4ae1-433f-9054-2b02cc64d36d",
   "metadata": {
    "jp-MarkdownHeadingCollapsed": true
   },
   "source": [
    "### comparison operators"
   ]
  },
  {
   "cell_type": "code",
   "execution_count": 55,
   "id": "7ed95c2b-402f-479b-bfe2-285192430461",
   "metadata": {},
   "outputs": [
    {
     "data": {
      "text/plain": [
       "1444"
      ]
     },
     "execution_count": 55,
     "metadata": {},
     "output_type": "execute_result"
    }
   ],
   "source": [
    "a=38\n",
    "b=2\n",
    "a**2         #exponention"
   ]
  },
  {
   "cell_type": "code",
   "execution_count": 129,
   "id": "99149dc4-fd7f-4f35-96c1-51927e29b609",
   "metadata": {},
   "outputs": [
    {
     "data": {
      "text/plain": [
       "True"
      ]
     },
     "execution_count": 129,
     "metadata": {},
     "output_type": "execute_result"
    }
   ],
   "source": [
    "6==6                 #equal to"
   ]
  },
  {
   "cell_type": "code",
   "execution_count": 45,
   "id": "f2bcdf6a-9f26-4422-bcfb-df1316c804c0",
   "metadata": {},
   "outputs": [
    {
     "data": {
      "text/plain": [
       "True"
      ]
     },
     "execution_count": 45,
     "metadata": {},
     "output_type": "execute_result"
    }
   ],
   "source": [
    "4!=6                #NOT equal to"
   ]
  },
  {
   "cell_type": "code",
   "execution_count": 46,
   "id": "d63d6196-44ce-4c29-9773-fcc18fd938aa",
   "metadata": {},
   "outputs": [
    {
     "data": {
      "text/plain": [
       "True"
      ]
     },
     "execution_count": 46,
     "metadata": {},
     "output_type": "execute_result"
    }
   ],
   "source": [
    "55>38              #greater than"
   ]
  },
  {
   "cell_type": "code",
   "execution_count": 47,
   "id": "969d186a-ab50-42aa-818c-1d72f9286b1b",
   "metadata": {},
   "outputs": [
    {
     "data": {
      "text/plain": [
       "True"
      ]
     },
     "execution_count": 47,
     "metadata": {},
     "output_type": "execute_result"
    }
   ],
   "source": [
    "9<77              #less than"
   ]
  },
  {
   "cell_type": "code",
   "execution_count": 48,
   "id": "e9fb99ea-94b9-44c6-8d42-9ca989e3eb73",
   "metadata": {},
   "outputs": [
    {
     "data": {
      "text/plain": [
       "False"
      ]
     },
     "execution_count": 48,
     "metadata": {},
     "output_type": "execute_result"
    }
   ],
   "source": [
    "89>=90              #greater than or equal to"
   ]
  },
  {
   "cell_type": "code",
   "execution_count": 49,
   "id": "698ef13f-cf09-4cd0-8387-f2eba3c4b7d4",
   "metadata": {},
   "outputs": [
    {
     "data": {
      "text/plain": [
       "True"
      ]
     },
     "execution_count": 49,
     "metadata": {},
     "output_type": "execute_result"
    }
   ],
   "source": [
    "7<=50             #less than or equal to"
   ]
  },
  {
   "cell_type": "markdown",
   "id": "6180c569-5f5b-4d1d-903d-88ad401965d4",
   "metadata": {
    "jp-MarkdownHeadingCollapsed": true
   },
   "source": [
    "### logical operator"
   ]
  },
  {
   "cell_type": "code",
   "execution_count": 63,
   "id": "f70ad9e4-8ab1-41a5-a140-6b2e9f43baa3",
   "metadata": {},
   "outputs": [
    {
     "data": {
      "text/plain": [
       "True"
      ]
     },
     "execution_count": 63,
     "metadata": {},
     "output_type": "execute_result"
    }
   ],
   "source": [
    "#and\n",
    "True and True"
   ]
  },
  {
   "cell_type": "code",
   "execution_count": 57,
   "id": "4a52adda-42f0-4425-8543-d1cf35ff5620",
   "metadata": {},
   "outputs": [
    {
     "data": {
      "text/plain": [
       "False"
      ]
     },
     "execution_count": 57,
     "metadata": {},
     "output_type": "execute_result"
    }
   ],
   "source": [
    "True and False"
   ]
  },
  {
   "cell_type": "code",
   "execution_count": 60,
   "id": "8c0b4fe5-af1f-4d53-97d8-1175aa0a7e04",
   "metadata": {},
   "outputs": [
    {
     "data": {
      "text/plain": [
       "False"
      ]
     },
     "execution_count": 60,
     "metadata": {},
     "output_type": "execute_result"
    }
   ],
   "source": [
    "False and True"
   ]
  },
  {
   "cell_type": "code",
   "execution_count": 61,
   "id": "dc7a2f56-9672-460b-8935-02f5a55af360",
   "metadata": {},
   "outputs": [
    {
     "data": {
      "text/plain": [
       "False"
      ]
     },
     "execution_count": 61,
     "metadata": {},
     "output_type": "execute_result"
    }
   ],
   "source": [
    "False and False"
   ]
  },
  {
   "cell_type": "code",
   "execution_count": 62,
   "id": "a70361ed-3e4c-4969-a29c-04f5b8ddc9ed",
   "metadata": {},
   "outputs": [
    {
     "data": {
      "text/plain": [
       "True"
      ]
     },
     "execution_count": 62,
     "metadata": {},
     "output_type": "execute_result"
    }
   ],
   "source": [
    "#or\n",
    "True or True"
   ]
  },
  {
   "cell_type": "code",
   "execution_count": 64,
   "id": "fef23093-b18f-474e-b83e-39470bcdd5bb",
   "metadata": {},
   "outputs": [
    {
     "data": {
      "text/plain": [
       "True"
      ]
     },
     "execution_count": 64,
     "metadata": {},
     "output_type": "execute_result"
    }
   ],
   "source": [
    "True or False"
   ]
  },
  {
   "cell_type": "code",
   "execution_count": 65,
   "id": "a214f30c-5a21-40f7-84c4-da01959b7f7f",
   "metadata": {},
   "outputs": [
    {
     "data": {
      "text/plain": [
       "True"
      ]
     },
     "execution_count": 65,
     "metadata": {},
     "output_type": "execute_result"
    }
   ],
   "source": [
    "False or True"
   ]
  },
  {
   "cell_type": "code",
   "execution_count": 66,
   "id": "ea0d6970-e511-48f5-8f04-b771ffb25947",
   "metadata": {},
   "outputs": [
    {
     "data": {
      "text/plain": [
       "False"
      ]
     },
     "execution_count": 66,
     "metadata": {},
     "output_type": "execute_result"
    }
   ],
   "source": [
    "False or False"
   ]
  },
  {
   "cell_type": "markdown",
   "id": "6edb72c0-e151-475d-9200-71347291b77c",
   "metadata": {
    "jp-MarkdownHeadingCollapsed": true
   },
   "source": [
    "### bitwise operator"
   ]
  },
  {
   "cell_type": "code",
   "execution_count": 82,
   "id": "565a50ed-c5aa-44b4-965e-6e7733cb4be2",
   "metadata": {},
   "outputs": [
    {
     "data": {
      "text/plain": [
       "8"
      ]
     },
     "execution_count": 82,
     "metadata": {},
     "output_type": "execute_result"
    }
   ],
   "source": [
    "#bitwise and\n",
    "45&24               #bin(45)=101101 and bin(24)=11000 gives 1000 which is bin(8)"
   ]
  },
  {
   "cell_type": "code",
   "execution_count": 83,
   "id": "b95677de-7770-4888-aa70-7e55593e55a4",
   "metadata": {},
   "outputs": [
    {
     "data": {
      "text/plain": [
       "14"
      ]
     },
     "execution_count": 83,
     "metadata": {},
     "output_type": "execute_result"
    }
   ],
   "source": [
    "#bitwise or\n",
    "14|14          #bin(14)=1110 or bin(14)=1110 gives 1110 which is bin(14)"
   ]
  },
  {
   "cell_type": "code",
   "execution_count": 84,
   "id": "5fc86330-0e8e-45f5-98df-6e3ef949763b",
   "metadata": {},
   "outputs": [
    {
     "data": {
      "text/plain": [
       "-68"
      ]
     },
     "execution_count": 84,
     "metadata": {},
     "output_type": "execute_result"
    }
   ],
   "source": [
    "#negotion\n",
    "~67              "
   ]
  },
  {
   "cell_type": "code",
   "execution_count": 85,
   "id": "d76f5e60-822f-4fbd-8996-61b5f903e419",
   "metadata": {},
   "outputs": [
    {
     "data": {
      "text/plain": [
       "14"
      ]
     },
     "execution_count": 85,
     "metadata": {},
     "output_type": "execute_result"
    }
   ],
   "source": [
    "#XOR\n",
    "6^8    #bin(6)=110 ^ bin(8)=1000 gives 1110 which is bin(14)"
   ]
  },
  {
   "cell_type": "code",
   "execution_count": 130,
   "id": "5192b07f-3aa5-46b9-b648-2ba325028cd9",
   "metadata": {},
   "outputs": [
    {
     "data": {
      "text/plain": [
       "1152"
      ]
     },
     "execution_count": 130,
     "metadata": {},
     "output_type": "execute_result"
    }
   ],
   "source": [
    "#left shift\n",
    "36<<5      #bin(36)=100100,bin(5)=101 by filling 0's on the right then we get 10010000000"
   ]
  },
  {
   "cell_type": "code",
   "execution_count": null,
   "id": "d5e0116a-7130-4cb0-be9f-cd172b9b9691",
   "metadata": {},
   "outputs": [],
   "source": []
  },
  {
   "cell_type": "code",
   "execution_count": 131,
   "id": "76e4f758-bd16-4f22-8703-3965a04f68f8",
   "metadata": {},
   "outputs": [
    {
     "data": {
      "text/plain": [
       "26"
      ]
     },
     "execution_count": 131,
     "metadata": {},
     "output_type": "execute_result"
    }
   ],
   "source": [
    "#Right shift operator\n",
    "850>>5       #bin(850)=1101010010,bin(5)=101 by removing 0's on the left then we get 11010"
   ]
  },
  {
   "cell_type": "markdown",
   "id": "bfdce46e-abb5-43c0-8741-e2146dc9c14d",
   "metadata": {
    "jp-MarkdownHeadingCollapsed": true
   },
   "source": [
    "### assignment operators"
   ]
  },
  {
   "cell_type": "code",
   "execution_count": 137,
   "id": "90134342-52d2-4087-ac02-30285f91e1dd",
   "metadata": {},
   "outputs": [],
   "source": [
    "b=164               #assignment"
   ]
  },
  {
   "cell_type": "code",
   "execution_count": 133,
   "id": "b7063030-17dc-4a7c-a7f9-1d210eaff641",
   "metadata": {},
   "outputs": [
    {
     "data": {
      "text/plain": [
       "622"
      ]
     },
     "execution_count": 133,
     "metadata": {},
     "output_type": "execute_result"
    }
   ],
   "source": [
    "b=79\n",
    "b+=543               #additional assignment\n",
    "b                    "
   ]
  },
  {
   "cell_type": "code",
   "execution_count": 134,
   "id": "eaa02e7b-6e05-4873-958a-050bf790e0d1",
   "metadata": {},
   "outputs": [
    {
     "data": {
      "text/plain": [
       "36"
      ]
     },
     "execution_count": 134,
     "metadata": {},
     "output_type": "execute_result"
    }
   ],
   "source": [
    "n=79\n",
    "n-=43                     #substraction assignment\n",
    "n"
   ]
  },
  {
   "cell_type": "code",
   "execution_count": 135,
   "id": "25a0e593-3543-45bd-95c0-c99ff01e4333",
   "metadata": {},
   "outputs": [
    {
     "data": {
      "text/plain": [
       "387"
      ]
     },
     "execution_count": 135,
     "metadata": {},
     "output_type": "execute_result"
    }
   ],
   "source": [
    "b=9\n",
    "b*=43                   #multiplication assignment\n",
    "b"
   ]
  },
  {
   "cell_type": "code",
   "execution_count": 136,
   "id": "2e75080d-1d94-4444-977d-3eddcdc1cefa",
   "metadata": {},
   "outputs": [
    {
     "data": {
      "text/plain": [
       "0.14548802946593"
      ]
     },
     "execution_count": 136,
     "metadata": {},
     "output_type": "execute_result"
    }
   ],
   "source": [
    "a=79\n",
    "a/=543                     #division assignment\n",
    "a"
   ]
  },
  {
   "cell_type": "markdown",
   "id": "0599a9f2-b71f-4efc-8b7c-b14434554fda",
   "metadata": {
    "jp-MarkdownHeadingCollapsed": true
   },
   "source": [
    "### Membership operators"
   ]
  },
  {
   "cell_type": "code",
   "execution_count": 138,
   "id": "33f41ce1-2ae0-4958-bf16-34436da7625c",
   "metadata": {},
   "outputs": [
    {
     "data": {
      "text/plain": [
       "True"
      ]
     },
     "execution_count": 138,
     "metadata": {},
     "output_type": "execute_result"
    }
   ],
   "source": [
    "a=\"Crackers\"\n",
    "\"ker\" in a        #in operator"
   ]
  },
  {
   "cell_type": "code",
   "execution_count": 123,
   "id": "b502afb3-9959-4be4-9028-39eab421317d",
   "metadata": {},
   "outputs": [
    {
     "data": {
      "text/plain": [
       "False"
      ]
     },
     "execution_count": 123,
     "metadata": {},
     "output_type": "execute_result"
    }
   ],
   "source": [
    "\"s\" not in a        #not in operator"
   ]
  },
  {
   "cell_type": "markdown",
   "id": "f9fa53c7-34da-4af8-8216-8810dfe76bc8",
   "metadata": {
    "jp-MarkdownHeadingCollapsed": true
   },
   "source": [
    "### Identify operators"
   ]
  },
  {
   "cell_type": "code",
   "execution_count": 139,
   "id": "0dab614a-2760-45c0-8aba-04fbec371db9",
   "metadata": {},
   "outputs": [
    {
     "data": {
      "text/plain": [
       "False"
      ]
     },
     "execution_count": 139,
     "metadata": {},
     "output_type": "execute_result"
    }
   ],
   "source": [
    "a=26\n",
    "b=300                   #is operator\n",
    "a is b"
   ]
  },
  {
   "cell_type": "code",
   "execution_count": 126,
   "id": "077ded1e-5db3-49bb-bc8c-22e55cc7f820",
   "metadata": {},
   "outputs": [
    {
     "data": {
      "text/plain": [
       "False"
      ]
     },
     "execution_count": 126,
     "metadata": {},
     "output_type": "execute_result"
    }
   ],
   "source": [
    "a=2758\n",
    "b=a                     #is not operator\n",
    "a is not b"
   ]
  },
  {
   "cell_type": "markdown",
   "id": "9af6d6dc-76ef-415c-99f1-b0444c82284d",
   "metadata": {
    "jp-MarkdownHeadingCollapsed": true
   },
   "source": [
    "# Q5)Explain the concept of type casting in Python with examples.\n",
    "ANS-Type Casting >>> The process of converting variable's data type to another data type using function like str(),float() or int(). "
   ]
  },
  {
   "cell_type": "code",
   "execution_count": null,
   "id": "f4f7199b-9100-490b-aa77-62f6a54e449d",
   "metadata": {},
   "outputs": [],
   "source": [
    "#Typecasting are of two types\n",
    ">> implicit \n",
    ">> explicit"
   ]
  },
  {
   "cell_type": "markdown",
   "id": "f77f076c-2f1e-4ba6-a7b7-29b369ac162d",
   "metadata": {
    "jp-MarkdownHeadingCollapsed": true
   },
   "source": [
    "## explicit typecasting  \n",
    ">> convert datatype using inbuilt function such as str,int,float,bool"
   ]
  },
  {
   "cell_type": "markdown",
   "id": "3f753204-6f2b-435b-a28c-5c1880157a75",
   "metadata": {
    "jp-MarkdownHeadingCollapsed": true
   },
   "source": [
    "### Typecasting>>> float to int          "
   ]
  },
  {
   "cell_type": "code",
   "execution_count": 161,
   "id": "1f5dc34f-74eb-4026-83d5-ca1dc6fbade9",
   "metadata": {},
   "outputs": [
    {
     "data": {
      "text/plain": [
       "float"
      ]
     },
     "execution_count": 161,
     "metadata": {},
     "output_type": "execute_result"
    }
   ],
   "source": [
    "a=82.697\n",
    "type(a)"
   ]
  },
  {
   "cell_type": "code",
   "execution_count": 162,
   "id": "5e6f5efe-cffb-485b-94b3-f2b15580fe57",
   "metadata": {},
   "outputs": [
    {
     "data": {
      "text/plain": [
       "int"
      ]
     },
     "execution_count": 162,
     "metadata": {},
     "output_type": "execute_result"
    }
   ],
   "source": [
    "float_value=int(a)\n",
    "type(float_value)"
   ]
  },
  {
   "cell_type": "code",
   "execution_count": 163,
   "id": "63d3510b-3110-4f1b-88b0-b6a398e8486b",
   "metadata": {},
   "outputs": [
    {
     "name": "stdout",
     "output_type": "stream",
     "text": [
      "82\n"
     ]
    }
   ],
   "source": [
    "print(float_value)"
   ]
  },
  {
   "cell_type": "markdown",
   "id": "cac27e13-c4b0-45b8-b861-b6803033f0c4",
   "metadata": {
    "jp-MarkdownHeadingCollapsed": true
   },
   "source": [
    "### Typecasting>>> int to float "
   ]
  },
  {
   "cell_type": "code",
   "execution_count": 164,
   "id": "f7ada7a4-13ba-46db-a670-d032592f8e90",
   "metadata": {},
   "outputs": [
    {
     "data": {
      "text/plain": [
       "int"
      ]
     },
     "execution_count": 164,
     "metadata": {},
     "output_type": "execute_result"
    }
   ],
   "source": [
    "a=265\n",
    "type(a)"
   ]
  },
  {
   "cell_type": "code",
   "execution_count": 165,
   "id": "33011422-eca5-43f1-8fe2-0361d4128f07",
   "metadata": {},
   "outputs": [
    {
     "data": {
      "text/plain": [
       "265.0"
      ]
     },
     "execution_count": 165,
     "metadata": {},
     "output_type": "execute_result"
    }
   ],
   "source": [
    "value=float(a)\n",
    "value"
   ]
  },
  {
   "cell_type": "code",
   "execution_count": 166,
   "id": "0bd9db72-7cae-4ca9-a958-ded980137a8c",
   "metadata": {},
   "outputs": [
    {
     "name": "stdout",
     "output_type": "stream",
     "text": [
      "265.0\n"
     ]
    }
   ],
   "source": [
    "print(value)"
   ]
  },
  {
   "cell_type": "markdown",
   "id": "44b21e97-8b22-4c12-8cbe-a79b70ca3958",
   "metadata": {
    "jp-MarkdownHeadingCollapsed": true
   },
   "source": [
    "### Typecasting>>> str to int "
   ]
  },
  {
   "cell_type": "code",
   "execution_count": 183,
   "id": "d0282b1e-5ae9-4a94-9b59-71fe138cda0c",
   "metadata": {},
   "outputs": [
    {
     "data": {
      "text/plain": [
       "str"
      ]
     },
     "execution_count": 183,
     "metadata": {},
     "output_type": "execute_result"
    }
   ],
   "source": [
    "a=\"20\"\n",
    "type(a)"
   ]
  },
  {
   "cell_type": "code",
   "execution_count": 184,
   "id": "855f6bdd-9f23-4264-9293-b056ea78b1ec",
   "metadata": {},
   "outputs": [
    {
     "data": {
      "text/plain": [
       "int"
      ]
     },
     "execution_count": 184,
     "metadata": {},
     "output_type": "execute_result"
    }
   ],
   "source": [
    "type(int(a))"
   ]
  },
  {
   "cell_type": "code",
   "execution_count": 185,
   "id": "1ba415c7-9ba8-4391-aa50-067cf7b1d1bd",
   "metadata": {},
   "outputs": [
    {
     "name": "stdout",
     "output_type": "stream",
     "text": [
      "20\n"
     ]
    }
   ],
   "source": [
    "print(a)"
   ]
  },
  {
   "cell_type": "markdown",
   "id": "64d818e1-ff0d-42f2-9fa0-e0b14bf4ac70",
   "metadata": {
    "jp-MarkdownHeadingCollapsed": true
   },
   "source": [
    "### Typecasting>>> str to float "
   ]
  },
  {
   "cell_type": "code",
   "execution_count": 167,
   "id": "7b326a36-e25c-4b5c-96d8-7f496690333b",
   "metadata": {},
   "outputs": [
    {
     "data": {
      "text/plain": [
       "str"
      ]
     },
     "execution_count": 167,
     "metadata": {},
     "output_type": "execute_result"
    }
   ],
   "source": [
    "a=\"6.48\"          \n",
    "type(a) "
   ]
  },
  {
   "cell_type": "code",
   "execution_count": 168,
   "id": "323b9ab6-2f84-4430-be1c-4b77288d0c57",
   "metadata": {},
   "outputs": [
    {
     "data": {
      "text/plain": [
       "float"
      ]
     },
     "execution_count": 168,
     "metadata": {},
     "output_type": "execute_result"
    }
   ],
   "source": [
    "b=float(a)\n",
    "type(b)"
   ]
  },
  {
   "cell_type": "code",
   "execution_count": 169,
   "id": "59a83144-09f1-4ef5-9d2c-f3d8a776e2a9",
   "metadata": {},
   "outputs": [
    {
     "name": "stdout",
     "output_type": "stream",
     "text": [
      "6.48\n"
     ]
    }
   ],
   "source": [
    "print(b)"
   ]
  },
  {
   "cell_type": "code",
   "execution_count": null,
   "id": "edddd011-7763-4865-baa7-979b04e1bbda",
   "metadata": {},
   "outputs": [],
   "source": [
    "#This example is executed as the orginal string has numerial value inside it \n",
    "#But if the orginal string would be having characters then in that case string cannot be converted into float and int. "
   ]
  },
  {
   "cell_type": "markdown",
   "id": "5613407b-69cd-4ce2-9248-44765b13f697",
   "metadata": {},
   "source": [
    ">>> case:\n",
    "string cannot be converted into float nor into int"
   ]
  },
  {
   "cell_type": "code",
   "execution_count": 170,
   "id": "ac9ce34c-ff75-4d28-8ce2-b88ebad94f7b",
   "metadata": {},
   "outputs": [
    {
     "data": {
      "text/plain": [
       "str"
      ]
     },
     "execution_count": 170,
     "metadata": {},
     "output_type": "execute_result"
    }
   ],
   "source": [
    "a=\"Tina\"         #a=\"Tina\" as here \"Tina\" is character cannot be converted to float or to int\n",
    "type(a) "
   ]
  },
  {
   "cell_type": "code",
   "execution_count": 172,
   "id": "7b3a6cb4-c9f0-4a92-b99b-dfe8254b3ae8",
   "metadata": {},
   "outputs": [
    {
     "ename": "ValueError",
     "evalue": "could not convert string to float: 'Tina'",
     "output_type": "error",
     "traceback": [
      "\u001b[31m---------------------------------------------------------------------------\u001b[39m",
      "\u001b[31mValueError\u001b[39m                                Traceback (most recent call last)",
      "\u001b[36mCell\u001b[39m\u001b[36m \u001b[39m\u001b[32mIn[172]\u001b[39m\u001b[32m, line 1\u001b[39m\n\u001b[32m----> \u001b[39m\u001b[32m1\u001b[39m r=\u001b[38;5;28mtype\u001b[39m(\u001b[38;5;28;43mfloat\u001b[39;49m\u001b[43m(\u001b[49m\u001b[43ma\u001b[49m\u001b[43m)\u001b[49m)\n\u001b[32m      2\u001b[39m r\n",
      "\u001b[31mValueError\u001b[39m: could not convert string to float: 'Tina'"
     ]
    }
   ],
   "source": [
    "r=type(float(a))\n",
    "r"
   ]
  },
  {
   "cell_type": "code",
   "execution_count": 173,
   "id": "bdff4b13-b275-4fec-8207-b0a8d4457b3f",
   "metadata": {},
   "outputs": [
    {
     "ename": "ValueError",
     "evalue": "invalid literal for int() with base 10: 'Tina'",
     "output_type": "error",
     "traceback": [
      "\u001b[31m---------------------------------------------------------------------------\u001b[39m",
      "\u001b[31mValueError\u001b[39m                                Traceback (most recent call last)",
      "\u001b[36mCell\u001b[39m\u001b[36m \u001b[39m\u001b[32mIn[173]\u001b[39m\u001b[32m, line 1\u001b[39m\n\u001b[32m----> \u001b[39m\u001b[32m1\u001b[39m c=\u001b[38;5;28mtype\u001b[39m(\u001b[38;5;28;43mint\u001b[39;49m\u001b[43m(\u001b[49m\u001b[43ma\u001b[49m\u001b[43m)\u001b[49m)\n\u001b[32m      2\u001b[39m c\n",
      "\u001b[31mValueError\u001b[39m: invalid literal for int() with base 10: 'Tina'"
     ]
    }
   ],
   "source": [
    "c=type(int(a))\n",
    "c"
   ]
  },
  {
   "cell_type": "markdown",
   "id": "9d692fa0-c1b2-44a9-9833-e9619bbb12ee",
   "metadata": {},
   "source": [
    "### Typecasting>>> int to str"
   ]
  },
  {
   "cell_type": "code",
   "execution_count": 177,
   "id": "8bde32d6-4040-41d4-ab26-c8f6910a7814",
   "metadata": {},
   "outputs": [
    {
     "data": {
      "text/plain": [
       "int"
      ]
     },
     "execution_count": 177,
     "metadata": {},
     "output_type": "execute_result"
    }
   ],
   "source": [
    "a=5754\n",
    "type(a)"
   ]
  },
  {
   "cell_type": "code",
   "execution_count": 178,
   "id": "4f43cfb5-ac27-49d3-8f68-885be07cf1b2",
   "metadata": {},
   "outputs": [
    {
     "data": {
      "text/plain": [
       "'5754'"
      ]
     },
     "execution_count": 178,
     "metadata": {},
     "output_type": "execute_result"
    }
   ],
   "source": [
    "c=str(a)\n",
    "c"
   ]
  },
  {
   "cell_type": "markdown",
   "id": "6379f632-48a0-4817-a1bb-dc1df6f646d4",
   "metadata": {},
   "source": [
    "### boolean typecasting"
   ]
  },
  {
   "cell_type": "code",
   "execution_count": 190,
   "id": "bee36ebb-7ef3-4d71-8f1d-8dab3b4e2857",
   "metadata": {},
   "outputs": [
    {
     "data": {
      "text/plain": [
       "True"
      ]
     },
     "execution_count": 190,
     "metadata": {},
     "output_type": "execute_result"
    }
   ],
   "source": [
    "bool(1655855)"
   ]
  },
  {
   "cell_type": "code",
   "execution_count": 192,
   "id": "1e226b27-ea87-467f-a62e-d35c916d6d37",
   "metadata": {},
   "outputs": [
    {
     "data": {
      "text/plain": [
       "True"
      ]
     },
     "execution_count": 192,
     "metadata": {},
     "output_type": "execute_result"
    }
   ],
   "source": [
    "bool(-1)"
   ]
  },
  {
   "cell_type": "code",
   "execution_count": 191,
   "id": "1ca5d356-756d-4663-9460-9b47555bbd78",
   "metadata": {},
   "outputs": [
    {
     "data": {
      "text/plain": [
       "True"
      ]
     },
     "execution_count": 191,
     "metadata": {},
     "output_type": "execute_result"
    }
   ],
   "source": [
    "bool(\"soft\")"
   ]
  },
  {
   "cell_type": "code",
   "execution_count": 189,
   "id": "aa9ead50-35c6-4c9a-9c9f-c95b327698dd",
   "metadata": {},
   "outputs": [
    {
     "data": {
      "text/plain": [
       "False"
      ]
     },
     "execution_count": 189,
     "metadata": {},
     "output_type": "execute_result"
    }
   ],
   "source": [
    "bool(0)"
   ]
  },
  {
   "cell_type": "code",
   "execution_count": null,
   "id": "d6d60a78-7a0f-47eb-b33d-128de6650311",
   "metadata": {},
   "outputs": [],
   "source": [
    "#every value other than '0' will be treated as True"
   ]
  },
  {
   "cell_type": "code",
   "execution_count": null,
   "id": "6fa5eb60-193f-4f1f-aacb-2357667a7a5f",
   "metadata": {},
   "outputs": [],
   "source": [
    ">>> case:\n",
    "bool(\"\") #empty string will always be treated as false"
   ]
  },
  {
   "cell_type": "markdown",
   "id": "d3342238-b8c3-44da-b3ee-45b034e835e8",
   "metadata": {},
   "source": [
    "## implicit typecasting \n",
    ">> automatically understand the datatype of the data it is int,float,str,etc."
   ]
  },
  {
   "cell_type": "code",
   "execution_count": 193,
   "id": "38352c89-b924-4774-bf31-d39a7094fd6a",
   "metadata": {},
   "outputs": [
    {
     "data": {
      "text/plain": [
       "61.87"
      ]
     },
     "execution_count": 193,
     "metadata": {},
     "output_type": "execute_result"
    }
   ],
   "source": [
    "56+5.87"
   ]
  },
  {
   "cell_type": "markdown",
   "id": "eb5886ce-ec53-4f90-87f8-6f6556f6612e",
   "metadata": {},
   "source": [
    "# Q6)How do conditional statements work in Python?Ilustrate with examples.\n",
    "ANS- To illustrate the working of conditional statements in Python ,let us dicuss it's each types with example!"
   ]
  },
  {
   "cell_type": "markdown",
   "id": "f2f2661d-27ba-4b07-91c5-716dccd9f1eb",
   "metadata": {
    "jp-MarkdownHeadingCollapsed": true
   },
   "source": [
    "### if statement"
   ]
  },
  {
   "cell_type": "code",
   "execution_count": 200,
   "id": "3d58cb7e-64d6-4a1e-90b5-bd914ee6e02a",
   "metadata": {},
   "outputs": [
    {
     "name": "stdin",
     "output_type": "stream",
     "text": [
      "please enter number: 97542\n"
     ]
    },
    {
     "name": "stdout",
     "output_type": "stream",
     "text": [
      "The number is even.\n"
     ]
    }
   ],
   "source": [
    "n=input(\"please enter a number:\")\n",
    "num=int(n)\n",
    "if num %2==0:\n",
    "    print(\"The number is even.\")"
   ]
  },
  {
   "cell_type": "markdown",
   "id": "9de25eee-ecfb-41ba-82fe-b08942604c7f",
   "metadata": {},
   "source": [
    "### if-else statement"
   ]
  },
  {
   "cell_type": "code",
   "execution_count": 196,
   "id": "dd057737-7367-4a03-a4ff-f9b5ebb3c031",
   "metadata": {},
   "outputs": [
    {
     "name": "stdin",
     "output_type": "stream",
     "text": [
      "please enter ur age: 5\n"
     ]
    },
    {
     "name": "stdout",
     "output_type": "stream",
     "text": [
      "minority\n"
     ]
    }
   ],
   "source": [
    "n = input(\"please enter ur age:\")\n",
    "age=int(n)\n",
    "if age>=18:\n",
    "    print(\"you are eligible to vote!\")\n",
    "else:\n",
    "    print(\"minority\")"
   ]
  },
  {
   "cell_type": "markdown",
   "id": "68cfa9cf-f227-4cbc-8c85-5bd145bae86f",
   "metadata": {
    "jp-MarkdownHeadingCollapsed": true
   },
   "source": [
    "### if elif else statement"
   ]
  },
  {
   "cell_type": "code",
   "execution_count": 201,
   "id": "fec6c5ac-d2dd-42cc-971e-639032780940",
   "metadata": {},
   "outputs": [
    {
     "name": "stdin",
     "output_type": "stream",
     "text": [
      "please enter ur mark: 65.76\n"
     ]
    },
    {
     "name": "stdout",
     "output_type": "stream",
     "text": [
      "grade D\n"
     ]
    }
   ],
   "source": [
    "num=input(\"please enter ur mark:\")\n",
    "score=float(num)\n",
    "if score>=90:\n",
    "    print(\"grade A\")\n",
    "elif(80<=score<90):\n",
    "    print(\"grade B\")\n",
    "elif(70<=score<80):\n",
    "    print(\"grade C\")\n",
    "elif(60<=score<70):\n",
    "    print(\"grade D\")\n",
    "elif(50<=score<60):\n",
    "    print(\"grade E\") \n",
    "else:\n",
    "    print(\"grade F\")    "
   ]
  },
  {
   "cell_type": "markdown",
   "id": "d8b9d3d9-f466-4c93-ba9a-000d60eaadb4",
   "metadata": {
    "jp-MarkdownHeadingCollapsed": true
   },
   "source": [
    "### nested if else statement"
   ]
  },
  {
   "cell_type": "code",
   "execution_count": 202,
   "id": "58e5c373-f318-4e4c-ba4e-95280c66d684",
   "metadata": {},
   "outputs": [
    {
     "name": "stdout",
     "output_type": "stream",
     "text": [
      "x is not greater than 5\n"
     ]
    }
   ],
   "source": [
    "x=1\n",
    "y=6\n",
    "if x>5:\n",
    "    if y>5:\n",
    "     print(\"both x and y is greater than 5\") \n",
    "    else:\n",
    "     print(\"x is greater than 5 but y is less than 5\") \n",
    "else: \n",
    "     print(\"x is not greater than 5\") "
   ]
  },
  {
   "cell_type": "markdown",
   "id": "0424811b-c140-463a-bec0-7698c21a8d73",
   "metadata": {},
   "source": [
    "# Q7)Describe the different types of loops in Python and their use cases with examples\n",
    "ANS-There are two types of loops in Python:\n",
    ">>>while loop \n",
    ">>> for loop"
   ]
  },
  {
   "cell_type": "markdown",
   "id": "04f09905-6b28-4ec7-8ce7-40163b0a7d3e",
   "metadata": {
    "jp-MarkdownHeadingCollapsed": true
   },
   "source": [
    "### while loop "
   ]
  },
  {
   "cell_type": "code",
   "execution_count": 207,
   "id": "825be131-ba80-401e-b19e-f6e0385a9974",
   "metadata": {},
   "outputs": [
    {
     "name": "stdin",
     "output_type": "stream",
     "text": [
      "please enter a number: 45\n"
     ]
    },
    {
     "name": "stdout",
     "output_type": "stream",
     "text": [
      "1\n",
      "2\n",
      "3\n",
      "4\n",
      "5\n",
      "6\n",
      "7\n"
     ]
    }
   ],
   "source": [
    "num=input(\"please enter a number:\")\n",
    "n=int(num)           \n",
    "i=1                      \n",
    "while i<n:\n",
    "      print(i)\n",
    "      i+=1  \n",
    "      if i==8:\n",
    "          break\n",
    "          print(\"updated i is:\",i)\n",
    "else:\n",
    "    print(\"The program had executed successfully\")"
   ]
  },
  {
   "cell_type": "code",
   "execution_count": 209,
   "id": "1c8113a0-6025-4906-bab6-8e2f4cd79fd9",
   "metadata": {},
   "outputs": [
    {
     "name": "stdout",
     "output_type": "stream",
     "text": [
      "1\n",
      "new i is 2\n",
      "2\n",
      "3\n",
      "new i is 4\n",
      "4\n",
      "new i is 5\n",
      "5\n",
      "new i is 6\n",
      "6\n",
      "new i is 7\n",
      "program executed successfully!\n"
     ]
    }
   ],
   "source": [
    "n=7                   \n",
    "i=1                      \n",
    "while i<n:                 \n",
    "      print(i)\n",
    "      i+=1  \n",
    "      if i==3:                 \n",
    "          continue \n",
    "      print(\"new i is\",i)    \n",
    "else:\n",
    "    print(\"program executed successfully!\")"
   ]
  },
  {
   "cell_type": "markdown",
   "id": "eb227e42-bf5a-4bf3-ba7f-49722a593f3d",
   "metadata": {
    "jp-MarkdownHeadingCollapsed": true
   },
   "source": [
    "### for loop "
   ]
  },
  {
   "cell_type": "code",
   "execution_count": 208,
   "id": "4200f8c6-1fc2-4684-a0a7-8d2ac7ebdb2c",
   "metadata": {},
   "outputs": [
    {
     "name": "stdout",
     "output_type": "stream",
     "text": [
      "87\n",
      "22.88\n",
      "letter\n",
      "Skills\n"
     ]
    }
   ],
   "source": [
    "l=[87,22.88,\"letter\",\"Skills\"]\n",
    "for i in l:\n",
    "    print(i)"
   ]
  },
  {
   "cell_type": "code",
   "execution_count": 214,
   "id": "f7625fcf-cede-4143-b418-9d582ebe593c",
   "metadata": {},
   "outputs": [
    {
     "name": "stdout",
     "output_type": "stream",
     "text": [
      "30 32 34 36 38 40 42 44 46 48 50 52 54 56 58 60 62 64 66 68 70 72 74 76 78 "
     ]
    }
   ],
   "source": [
    "for i in range(30,80,2):\n",
    "    print(i,end=\" \")"
   ]
  },
  {
   "cell_type": "code",
   "execution_count": null,
   "id": "68daba7a-f3ad-439f-b18f-871c62d6001f",
   "metadata": {},
   "outputs": [],
   "source": []
  }
 ],
 "metadata": {
  "kernelspec": {
   "display_name": "Python 3 (ipykernel)",
   "language": "python",
   "name": "python3"
  },
  "language_info": {
   "codemirror_mode": {
    "name": "ipython",
    "version": 3
   },
   "file_extension": ".py",
   "mimetype": "text/x-python",
   "name": "python",
   "nbconvert_exporter": "python",
   "pygments_lexer": "ipython3",
   "version": "3.13.2"
  }
 },
 "nbformat": 4,
 "nbformat_minor": 5
}
