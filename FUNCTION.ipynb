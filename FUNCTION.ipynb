{
 "cells": [
  {
   "cell_type": "markdown",
   "id": "a240a616-ab11-471a-8dd5-b29c8e6d1dad",
   "metadata": {
    "id": "a240a616-ab11-471a-8dd5-b29c8e6d1dad"
   },
   "source": [
    "# THEORY QUESTIONS"
   ]
  },
  {
   "cell_type": "markdown",
   "id": "518784e3-966d-4727-b5ec-52b495b32719",
   "metadata": {
    "id": "518784e3-966d-4727-b5ec-52b495b32719",
    "jp-MarkdownHeadingCollapsed": true
   },
   "source": [
    "## Q1) What is the differecnce between a function and a method in Python?"
   ]
  },
  {
   "cell_type": "markdown",
   "id": "8dfe9ed8-38d6-4b73-b4fd-6ebae845e194",
   "metadata": {
    "id": "8dfe9ed8-38d6-4b73-b4fd-6ebae845e194"
   },
   "source": [
    "#### ANS-  Function is a structured,resuable block of code which performs some specific task/computation, whereas Method is a function that is associated with a class or object. Methods are always defined within a class,and operate on the data of the object of the class where as Function can be called from anywhere."
   ]
  },
  {
   "cell_type": "code",
   "execution_count": null,
   "id": "2598539a-5b71-4a43-8cf9-5b59c94ff34c",
   "metadata": {
    "id": "2598539a-5b71-4a43-8cf9-5b59c94ff34c",
    "outputId": "43b3e66d-5640-4906-bf54-66dbcf52b564"
   },
   "outputs": [
    {
     "name": "stdout",
     "output_type": "stream",
     "text": [
      "Good Evening!\n"
     ]
    }
   ],
   "source": [
    "#EXAMPLE:\n",
    "\n",
    "def func():\n",
    "    print(\"Good Evening!\")\n",
    "func()"
   ]
  },
  {
   "cell_type": "code",
   "execution_count": null,
   "id": "970a3abd-9672-41df-a745-0d456b6a8147",
   "metadata": {
    "id": "970a3abd-9672-41df-a745-0d456b6a8147",
    "outputId": "4a0df78b-eea4-4dee-90a0-5a9930cbd85f"
   },
   "outputs": [
    {
     "name": "stdout",
     "output_type": "stream",
     "text": [
      "Welcome to the office Gita\n"
     ]
    }
   ],
   "source": [
    "class greet:\n",
    "    def greetings(name):\n",
    "       print(\"Welcome to the office\", name)\n",
    "\n",
    "greet.greetings(\"Gita\")"
   ]
  },
  {
   "cell_type": "markdown",
   "id": "c8368424-740c-49b8-be13-43d2f33a0300",
   "metadata": {
    "id": "c8368424-740c-49b8-be13-43d2f33a0300",
    "jp-MarkdownHeadingCollapsed": true
   },
   "source": [
    "## Q2)Explain the concept of function arguments and parameters in Python."
   ]
  },
  {
   "cell_type": "markdown",
   "id": "89558d07-f1b8-4707-bad2-43a61b0fc489",
   "metadata": {
    "id": "89558d07-f1b8-4707-bad2-43a61b0fc489"
   },
   "source": [
    "#### ANS-  Function arguments are values that you provide to a function when you call it. These arguments can be used by the function to perform specific tasks. A parameters is the variables listed inside the parentheses in the function definition."
   ]
  },
  {
   "cell_type": "code",
   "execution_count": null,
   "id": "181fb77f-e1bf-4577-b95c-cacfdecaaffc",
   "metadata": {
    "id": "181fb77f-e1bf-4577-b95c-cacfdecaaffc",
    "outputId": "ca949d6e-c536-4e20-aab0-5fa607f0e6cd"
   },
   "outputs": [
    {
     "data": {
      "text/plain": [
       "7"
      ]
     },
     "execution_count": 10,
     "metadata": {},
     "output_type": "execute_result"
    }
   ],
   "source": [
    "#EXAMPLE:\n",
    "               # add  is the function definition\n",
    "def add(a,b): #a,b  are parameters\n",
    "    return a+b\n",
    "\n",
    "add(3,4)     # 3,4  are arguments"
   ]
  },
  {
   "cell_type": "markdown",
   "id": "1455fce0-361c-4032-b872-8ecb63c1f7c9",
   "metadata": {
    "id": "1455fce0-361c-4032-b872-8ecb63c1f7c9",
    "jp-MarkdownHeadingCollapsed": true
   },
   "source": [
    "## Q3) What are the different ways to define and call a function in Python?"
   ]
  },
  {
   "cell_type": "markdown",
   "id": "0c3eda0a-98ed-4640-a071-f2ca2e4273c6",
   "metadata": {
    "id": "0c3eda0a-98ed-4640-a071-f2ca2e4273c6"
   },
   "source": [
    "#### ANS"
   ]
  },
  {
   "cell_type": "markdown",
   "id": "4c9c2d0d-3fbc-4cc2-805b-5f2f476b5753",
   "metadata": {
    "id": "4c9c2d0d-3fbc-4cc2-805b-5f2f476b5753"
   },
   "source": [
    "#### 1)Standard Function Definition"
   ]
  },
  {
   "cell_type": "code",
   "execution_count": null,
   "id": "5073338b-1e07-4f24-9600-a720f6523121",
   "metadata": {
    "id": "5073338b-1e07-4f24-9600-a720f6523121",
    "outputId": "bdd0a325-e77b-4cf7-8941-f27d0fb81624"
   },
   "outputs": [
    {
     "data": {
      "text/plain": [
       "'Welcome to the office, Dhiraj'"
      ]
     },
     "execution_count": 16,
     "metadata": {},
     "output_type": "execute_result"
    }
   ],
   "source": [
    "#Definition:\n",
    "def greetings(name):\n",
    "    return f\"Welcome to the office, {name}\"\n",
    "\n",
    "\n",
    "#call:\n",
    "greetings(\"Dhiraj\")"
   ]
  },
  {
   "cell_type": "markdown",
   "id": "d9c773bc-d33f-4586-a8c8-8d9801853b19",
   "metadata": {
    "id": "d9c773bc-d33f-4586-a8c8-8d9801853b19"
   },
   "source": [
    "#### 2)Lambda Functions"
   ]
  },
  {
   "cell_type": "code",
   "execution_count": null,
   "id": "97179ee4-119d-4666-bb99-ce154228ff94",
   "metadata": {
    "id": "97179ee4-119d-4666-bb99-ce154228ff94",
    "outputId": "f67669e1-d13d-40e9-8843-3942485cf205"
   },
   "outputs": [
    {
     "data": {
      "text/plain": [
       "8"
      ]
     },
     "execution_count": 17,
     "metadata": {},
     "output_type": "execute_result"
    }
   ],
   "source": [
    "#Definition:\n",
    "sum1= lambda x, y: x+y\n",
    "\n",
    "#call:\n",
    "sum1(3, 5)"
   ]
  },
  {
   "cell_type": "markdown",
   "id": "a76360e5-a335-40f9-94aa-9a2a40fbd0e1",
   "metadata": {
    "id": "a76360e5-a335-40f9-94aa-9a2a40fbd0e1"
   },
   "source": [
    "#### 3)Functions With Default Parameters"
   ]
  },
  {
   "cell_type": "code",
   "execution_count": null,
   "id": "e18d8292-f6f2-4ac3-b5d1-14eafab52f02",
   "metadata": {
    "id": "e18d8292-f6f2-4ac3-b5d1-14eafab52f02",
    "outputId": "799c976e-e65b-4a38-abe3-463b4b020617"
   },
   "outputs": [
    {
     "name": "stdout",
     "output_type": "stream",
     "text": [
      "Hello, Good Night\n"
     ]
    }
   ],
   "source": [
    "#Definition:\n",
    "def func(message=\"Good Evening\"):\n",
    "    return f\"Hello, {message}\"\n",
    "\n",
    "\n",
    "#call:\n",
    "func()\n",
    "print(func(\"Good Night\"))"
   ]
  },
  {
   "cell_type": "markdown",
   "id": "c8b66143-c1af-492b-9fd6-18bd3f2d8ae2",
   "metadata": {
    "id": "c8b66143-c1af-492b-9fd6-18bd3f2d8ae2"
   },
   "source": [
    "#### 4)Variable-Length Arguments"
   ]
  },
  {
   "cell_type": "code",
   "execution_count": null,
   "id": "93f0e528-66ed-4e65-80d0-c89597b22655",
   "metadata": {
    "id": "93f0e528-66ed-4e65-80d0-c89597b22655"
   },
   "outputs": [],
   "source": [
    "#Definition:\n",
    "def sum1(*args):\n",
    "    s = 0\n",
    "    for i in args:\n",
    "        s = s+i\n",
    "    return s\n",
    "\n",
    "\n",
    "def text(**kwargs):\n",
    "    for key, value in kwargs.items():\n",
    "        print(f\"{key}:{value}\")"
   ]
  },
  {
   "cell_type": "code",
   "execution_count": null,
   "id": "e7b7af76-c39a-4b2b-913f-7a75fb0dc29c",
   "metadata": {
    "id": "e7b7af76-c39a-4b2b-913f-7a75fb0dc29c",
    "outputId": "49942e65-6b5a-4997-b228-62d7c669c1f3"
   },
   "outputs": [
    {
     "data": {
      "text/plain": [
       "12"
      ]
     },
     "execution_count": 21,
     "metadata": {},
     "output_type": "execute_result"
    }
   ],
   "source": [
    "#call:\n",
    "sum1(2,4,6)"
   ]
  },
  {
   "cell_type": "code",
   "execution_count": null,
   "id": "a261723e-ebb6-47c9-ab11-78366d45f9b5",
   "metadata": {
    "id": "a261723e-ebb6-47c9-ab11-78366d45f9b5",
    "outputId": "9ec493a1-869f-4603-c925-ba549c8287c6"
   },
   "outputs": [
    {
     "name": "stdout",
     "output_type": "stream",
     "text": [
      "name:jeet\n",
      "age:34\n"
     ]
    }
   ],
   "source": [
    "text(name=\"jeet\", age=34)"
   ]
  },
  {
   "cell_type": "markdown",
   "id": "dc57edaf-85e1-4d5c-b1fd-f288cadc359d",
   "metadata": {
    "id": "dc57edaf-85e1-4d5c-b1fd-f288cadc359d"
   },
   "source": [
    "#### 5)Functions inside Functions"
   ]
  },
  {
   "cell_type": "code",
   "execution_count": null,
   "id": "14e01361-4912-4bc3-a581-776fb3d9c5d9",
   "metadata": {
    "id": "14e01361-4912-4bc3-a581-776fb3d9c5d9"
   },
   "outputs": [],
   "source": [
    "#Definition:\n",
    "def total_marks(marks_list):\n",
    "    return sum(marks_list)\n",
    "\n",
    "def marks_in_subject(**kwargs):\n",
    "    marks_list = []\n",
    "    for sub, marks in kwargs.items():\n",
    "        marks_list.append(marks)\n",
    "\n",
    "    return total_marks(marks_list)"
   ]
  },
  {
   "cell_type": "code",
   "execution_count": null,
   "id": "85548f36-d366-4aef-a46a-3e43afc01bae",
   "metadata": {
    "id": "85548f36-d366-4aef-a46a-3e43afc01bae",
    "outputId": "404195df-f274-48e0-d46c-fc7a7e3e2f99"
   },
   "outputs": [
    {
     "data": {
      "text/plain": [
       "245"
      ]
     },
     "execution_count": 24,
     "metadata": {},
     "output_type": "execute_result"
    }
   ],
   "source": [
    "#call:\n",
    "marks_in_subject(a= 51, b=66, c=43, d=85)"
   ]
  },
  {
   "cell_type": "markdown",
   "id": "0f35cff2-3e6d-4669-b26f-e3996a9b64ec",
   "metadata": {
    "id": "0f35cff2-3e6d-4669-b26f-e3996a9b64ec",
    "jp-MarkdownHeadingCollapsed": true
   },
   "source": [
    "## Q4)What is the purpose of the 'return' statement in a Python function?"
   ]
  },
  {
   "cell_type": "markdown",
   "id": "2e939af3-e1e1-411c-9aa1-3681f190ba72",
   "metadata": {
    "id": "2e939af3-e1e1-411c-9aa1-3681f190ba72"
   },
   "source": [
    "### ANS-  The purpose of the 'return' statement in a Python function determines the value that the function will return. If not included, the function defaults to retruning None."
   ]
  },
  {
   "cell_type": "code",
   "execution_count": null,
   "id": "477f2558-7f0b-4c3a-a135-2906c681dd7a",
   "metadata": {
    "id": "477f2558-7f0b-4c3a-a135-2906c681dd7a",
    "outputId": "ec52a9db-a274-40fb-842d-2d011be2902d"
   },
   "outputs": [
    {
     "data": {
      "text/plain": [
       "'Sania is working on solar plane project.'"
      ]
     },
     "execution_count": 28,
     "metadata": {},
     "output_type": "execute_result"
    }
   ],
   "source": [
    "#Example:\n",
    "def my_class(name, topic):\n",
    "    return f\"{name} is working on {topic} project.\"\n",
    "\n",
    "my_class(\"Sania\", \"solar plane\")"
   ]
  },
  {
   "cell_type": "markdown",
   "id": "8a052a9c-702e-4050-b35b-4e03649677c6",
   "metadata": {
    "id": "8a052a9c-702e-4050-b35b-4e03649677c6",
    "jp-MarkdownHeadingCollapsed": true
   },
   "source": [
    "## Q5) What are iterators in Python and how do they differ from iterables?"
   ]
  },
  {
   "cell_type": "markdown",
   "id": "b0ba9c52-da1e-40e4-934b-5c69be473a4c",
   "metadata": {
    "id": "b0ba9c52-da1e-40e4-934b-5c69be473a4c"
   },
   "source": [
    "### ANS-  Iterator>> an iterator is an object representing a stream of data and return data one by one in sequence. Iterables are the objects that are capable of returning its members one at a time like lists, tuples, dicts, and sets.\n",
    "### Iterables returns an iterator whereas an iterator returns next value , using next ()."
   ]
  },
  {
   "cell_type": "code",
   "execution_count": null,
   "id": "11081261-3bbf-4b41-aaa1-8ee0aec7cf8f",
   "metadata": {
    "id": "11081261-3bbf-4b41-aaa1-8ee0aec7cf8f",
    "outputId": "93d6f7d0-8101-4e2a-d253-6751ff56abfb"
   },
   "outputs": [
    {
     "data": {
      "text/plain": [
       "<list_iterator at 0x28a31447580>"
      ]
     },
     "execution_count": 29,
     "metadata": {},
     "output_type": "execute_result"
    }
   ],
   "source": [
    "#EXAMPLE:\n",
    "lis=[5,7,9]  #lis -- Iterable\n",
    "iter(lis)"
   ]
  },
  {
   "cell_type": "code",
   "execution_count": null,
   "id": "3f1d08da-7529-4c17-a760-63ce40193ce2",
   "metadata": {
    "id": "3f1d08da-7529-4c17-a760-63ce40193ce2"
   },
   "outputs": [],
   "source": [
    "s= iter(lis)   #s ---Iterator"
   ]
  },
  {
   "cell_type": "code",
   "execution_count": null,
   "id": "85ba0f83-ce5e-4eff-8df4-7cf82d0f1ed5",
   "metadata": {
    "id": "85ba0f83-ce5e-4eff-8df4-7cf82d0f1ed5",
    "outputId": "4f26576f-c783-483e-8c11-69259e540a42"
   },
   "outputs": [
    {
     "data": {
      "text/plain": [
       "5"
      ]
     },
     "execution_count": 31,
     "metadata": {},
     "output_type": "execute_result"
    }
   ],
   "source": [
    "next(s)"
   ]
  },
  {
   "cell_type": "code",
   "execution_count": null,
   "id": "14f30e3b-19bc-4ea6-8775-416036774a6d",
   "metadata": {
    "id": "14f30e3b-19bc-4ea6-8775-416036774a6d",
    "outputId": "c7fd33cf-c78e-44b3-a13d-f2f35e5d323a"
   },
   "outputs": [
    {
     "data": {
      "text/plain": [
       "7"
      ]
     },
     "execution_count": 32,
     "metadata": {},
     "output_type": "execute_result"
    }
   ],
   "source": [
    "next(s)"
   ]
  },
  {
   "cell_type": "markdown",
   "id": "f54e1cae-7ca4-4636-80b9-69192984ecd4",
   "metadata": {
    "id": "f54e1cae-7ca4-4636-80b9-69192984ecd4",
    "jp-MarkdownHeadingCollapsed": true
   },
   "source": [
    "## Q6) Explain the concept of generators in Python and how they are defined."
   ]
  },
  {
   "cell_type": "markdown",
   "id": "a1537001-d05d-40df-9249-b6b627d2b29e",
   "metadata": {
    "id": "a1537001-d05d-40df-9249-b6b627d2b29e"
   },
   "source": [
    "#### ANS- A Generator instead of returning all the values of an itertable object at once! it yields them one at a time ,only when requested or instrcted. It improve performance and reduce memory usage."
   ]
  },
  {
   "cell_type": "code",
   "execution_count": null,
   "id": "ffc6fa95-5784-4d6a-8c1e-932169f323ad",
   "metadata": {
    "id": "ffc6fa95-5784-4d6a-8c1e-932169f323ad",
    "outputId": "00be9b68-bd10-48d8-d5c2-0384b07a4769"
   },
   "outputs": [
    {
     "data": {
      "text/plain": [
       "<generator object power_generators at 0x0000028A3191A740>"
      ]
     },
     "execution_count": 38,
     "metadata": {},
     "output_type": "execute_result"
    }
   ],
   "source": [
    "#EXAMPLE:\n",
    "def power_generators(n):\n",
    "    for i in range(n):\n",
    "        yield i**4\n",
    "\n",
    "power_generators(6)"
   ]
  },
  {
   "cell_type": "code",
   "execution_count": null,
   "id": "732ed631-6dd6-4491-b3bd-2a7ae03bc6bf",
   "metadata": {
    "id": "732ed631-6dd6-4491-b3bd-2a7ae03bc6bf",
    "outputId": "539c4177-0839-46c6-bf57-eaf3e9fe5a05"
   },
   "outputs": [
    {
     "data": {
      "text/plain": [
       "<generator object power_generators at 0x0000028A31918930>"
      ]
     },
     "execution_count": 39,
     "metadata": {},
     "output_type": "execute_result"
    }
   ],
   "source": [
    "f = power_generators(8)\n",
    "f"
   ]
  },
  {
   "cell_type": "code",
   "execution_count": null,
   "id": "6877474d-1f18-4199-b9d0-3a1caf858e63",
   "metadata": {
    "id": "6877474d-1f18-4199-b9d0-3a1caf858e63",
    "outputId": "46b50566-11a3-4299-c0fb-cfc9232a79cd"
   },
   "outputs": [
    {
     "data": {
      "text/plain": [
       "0"
      ]
     },
     "execution_count": 40,
     "metadata": {},
     "output_type": "execute_result"
    }
   ],
   "source": [
    "next(f)"
   ]
  },
  {
   "cell_type": "code",
   "execution_count": null,
   "id": "33eed6d2-46dc-4413-b829-f7853b72ab69",
   "metadata": {
    "id": "33eed6d2-46dc-4413-b829-f7853b72ab69",
    "outputId": "e47e77db-f1b3-4f8c-f20c-a5f6f5fd677b"
   },
   "outputs": [
    {
     "data": {
      "text/plain": [
       "1"
      ]
     },
     "execution_count": 41,
     "metadata": {},
     "output_type": "execute_result"
    }
   ],
   "source": [
    "next(f)"
   ]
  },
  {
   "cell_type": "code",
   "execution_count": null,
   "id": "ceab814d-3d7f-4893-87aa-ecc18e802b4b",
   "metadata": {
    "id": "ceab814d-3d7f-4893-87aa-ecc18e802b4b",
    "outputId": "ede412f7-c727-4d22-fe82-e526ded53f89"
   },
   "outputs": [
    {
     "data": {
      "text/plain": [
       "16"
      ]
     },
     "execution_count": 42,
     "metadata": {},
     "output_type": "execute_result"
    }
   ],
   "source": [
    "next(f)"
   ]
  },
  {
   "cell_type": "code",
   "execution_count": null,
   "id": "f2f94919-d1f7-4f25-88a8-52574f6e339d",
   "metadata": {
    "id": "f2f94919-d1f7-4f25-88a8-52574f6e339d",
    "outputId": "2f8ff97a-79bc-432c-9808-0125a6cb4af5"
   },
   "outputs": [
    {
     "data": {
      "text/plain": [
       "81"
      ]
     },
     "execution_count": 43,
     "metadata": {},
     "output_type": "execute_result"
    }
   ],
   "source": [
    "next(f)"
   ]
  },
  {
   "cell_type": "markdown",
   "id": "5c95c980-66b1-4b75-988d-6e66f79f336d",
   "metadata": {
    "id": "5c95c980-66b1-4b75-988d-6e66f79f336d",
    "jp-MarkdownHeadingCollapsed": true
   },
   "source": [
    "## Q7)What are the advantages of using generators over regular functions?"
   ]
  },
  {
   "cell_type": "code",
   "execution_count": null,
   "id": "1ee4b537-6d0d-4df5-887c-c7ef436fc690",
   "metadata": {
    "id": "1ee4b537-6d0d-4df5-887c-c7ef436fc690"
   },
   "outputs": [],
   "source": [
    "#### ANS- The advantages of using generators over regular functions are:-"
   ]
  },
  {
   "cell_type": "raw",
   "id": "c56d8c52-c7c9-43ef-9170-26e53824dce9",
   "metadata": {
    "id": "c56d8c52-c7c9-43ef-9170-26e53824dce9"
   },
   "source": [
    ">>> Memory Efficiency: only one memory location is used for processing values, reducing RAM usage, especially beneficial for large datasets.\n",
    ">>> On- Demand Evaluation: values are generated only when requested, avoiding the need for storing all elements at once.\n",
    ">>> Improved performance for large sequences- generator can lead to faster execution as here u don't need to process the entire sequence all in one go.\n",
    ">>> Simpler and cleaner code for iterators- in generator function ,u can define it using yield keyword, instead of manually defining classes with iter() and next().\n"
   ]
  },
  {
   "cell_type": "markdown",
   "id": "93bb0d2e-14c0-45bb-945d-550d9395e502",
   "metadata": {
    "id": "93bb0d2e-14c0-45bb-945d-550d9395e502",
    "jp-MarkdownHeadingCollapsed": true
   },
   "source": [
    "## Q8) What is a lambda function in Python and when is it typically used?"
   ]
  },
  {
   "cell_type": "markdown",
   "id": "7b804b88-5d28-4eba-b715-8287f521cf80",
   "metadata": {
    "id": "7b804b88-5d28-4eba-b715-8287f521cf80"
   },
   "source": [
    "#### ANS- A lambda function are small, anonymous function defined using lambda keyword.They are used for creating small,throwaway functions without the need to formally define a function using def keyword. It is typically used when we need a quick output to a function within few seconds.  "
   ]
  },
  {
   "cell_type": "code",
   "execution_count": null,
   "id": "816f9a03-0188-4495-be8f-382d0e8cd039",
   "metadata": {
    "id": "816f9a03-0188-4495-be8f-382d0e8cd039",
    "outputId": "b4dfa70c-c7e3-409d-9acb-f74507afb303"
   },
   "outputs": [
    {
     "data": {
      "text/plain": [
       "True"
      ]
     },
     "execution_count": 44,
     "metadata": {},
     "output_type": "execute_result"
    }
   ],
   "source": [
    "#EXAMPLE1:\n",
    "is_even = lambda x: x%2 == 0\n",
    "is_even(68)"
   ]
  },
  {
   "cell_type": "code",
   "execution_count": null,
   "id": "4b839b7a-368b-407a-9286-b087f452ba11",
   "metadata": {
    "id": "4b839b7a-368b-407a-9286-b087f452ba11",
    "outputId": "dbc49b80-94cb-4149-a27d-6a696c7090ec"
   },
   "outputs": [
    {
     "data": {
      "text/plain": [
       "[0, 1, 1, 2, 3, 5, 8, 13, 21, 34]"
      ]
     },
     "execution_count": 45,
     "metadata": {},
     "output_type": "execute_result"
    }
   ],
   "source": [
    "#EXAMPLE2:fibonacci seriers\n",
    "fib = lambda n: n if n<=1 else fib(n-1) + fib(n-2)\n",
    "[fib(i) for i in range(10)]"
   ]
  },
  {
   "cell_type": "markdown",
   "id": "dca91961-54a8-4b80-983f-b63cb1652005",
   "metadata": {
    "id": "dca91961-54a8-4b80-983f-b63cb1652005",
    "jp-MarkdownHeadingCollapsed": true
   },
   "source": [
    "## Q9)Explain the purpose and usage of the 'map()' function in Python."
   ]
  },
  {
   "cell_type": "code",
   "execution_count": null,
   "id": "7ad34a3a-2b72-485f-bc83-ad0ed2cbba82",
   "metadata": {
    "id": "7ad34a3a-2b72-485f-bc83-ad0ed2cbba82"
   },
   "outputs": [],
   "source": [
    "#### ANS- The purpose of the 'map()' function is use to transform each item in an iterable by applying the specified function.\n",
    "#### usage-\n",
    ">>> syntax-- map(func, iterable)"
   ]
  },
  {
   "cell_type": "code",
   "execution_count": null,
   "id": "cfc841a5-097a-44b4-a97d-145c7cfe97c9",
   "metadata": {
    "id": "cfc841a5-097a-44b4-a97d-145c7cfe97c9",
    "outputId": "2ac696e0-fb43-4ab6-c6ff-b540124880b6"
   },
   "outputs": [
    {
     "name": "stdout",
     "output_type": "stream",
     "text": [
      "[1, 4, 9, 16, 25]\n"
     ]
    }
   ],
   "source": [
    "#Example:\n",
    "l = [1, 2, 3, 4, 5]\n",
    "sq=map(lambda x: x**2,l)\n",
    "print(list(sq))"
   ]
  },
  {
   "cell_type": "markdown",
   "id": "5df84945-dff5-4215-85b0-d42d6cb650c1",
   "metadata": {
    "id": "5df84945-dff5-4215-85b0-d42d6cb650c1",
    "jp-MarkdownHeadingCollapsed": true
   },
   "source": [
    "## Q10)What is the difference between 'map()','reduce()'and 'filter()' functions in Python?"
   ]
  },
  {
   "cell_type": "code",
   "execution_count": null,
   "id": "873aa845-1906-449a-9dcf-a09d69c89fcb",
   "metadata": {
    "id": "873aa845-1906-449a-9dcf-a09d69c89fcb"
   },
   "outputs": [],
   "source": [
    "#### ANS- map() function:\n",
    "The function applies a given function to all items in an input iterable and returns an iterator with the results.\n",
    "It is used to transform each item in an iterable by applying the specificed function.\n",
    "\n",
    "syntax:\n",
    "map(function,iterable)"
   ]
  },
  {
   "cell_type": "code",
   "execution_count": null,
   "id": "eaa93ecb-f406-4193-9b99-2fb70bf16bff",
   "metadata": {
    "id": "eaa93ecb-f406-4193-9b99-2fb70bf16bff",
    "outputId": "eca76f6e-5e6d-49b1-dd30-6c9dfca25d4b"
   },
   "outputs": [
    {
     "data": {
      "text/plain": [
       "[9, 10, 11, 12, 13]"
      ]
     },
     "execution_count": 48,
     "metadata": {},
     "output_type": "execute_result"
    }
   ],
   "source": [
    "l = [1, 2, 3, 4, 5]\n",
    "def add(x):\n",
    "    return x+8\n",
    "\n",
    "list(map(add, l))\n"
   ]
  },
  {
   "cell_type": "code",
   "execution_count": null,
   "id": "b912636a-57b7-4edc-a771-164643c9fb47",
   "metadata": {
    "id": "b912636a-57b7-4edc-a771-164643c9fb47"
   },
   "outputs": [],
   "source": [
    "#### ANS- reduce() function:\n",
    "The reduce function from the functools module appiles a given function cumulatively to the items of a sequence, from left to right to reduce the sequence to a single value.\n",
    "It reduces an iterable to a single cumulative value by applying the function cumulatively.\n",
    "\n",
    "syntax:\n",
    "from functools import reduce\n",
    "reduce(function,iterable)"
   ]
  },
  {
   "cell_type": "code",
   "execution_count": null,
   "id": "359624fb-71bd-479b-beff-03bd3f79e04c",
   "metadata": {
    "id": "359624fb-71bd-479b-beff-03bd3f79e04c",
    "outputId": "91aafa25-da61-4a7a-d98f-fe4e57e8b317"
   },
   "outputs": [
    {
     "data": {
      "text/plain": [
       "473616000"
      ]
     },
     "execution_count": 50,
     "metadata": {},
     "output_type": "execute_result"
    }
   ],
   "source": [
    "from functools import reduce\n",
    "l = [2, 11, 23, 40, 75, 52, 6]\n",
    "reduce(lambda x, y:x*y, l)"
   ]
  },
  {
   "cell_type": "code",
   "execution_count": null,
   "id": "a8db4f89-ec45-4d0f-afbf-6e63e523d908",
   "metadata": {
    "id": "a8db4f89-ec45-4d0f-afbf-6e63e523d908"
   },
   "outputs": [],
   "source": [
    "#### ANS- filter() function:\n",
    "The filter function constructs an iterator from elements of an iterable for which a specified function return True.\n",
    "It used for filtering elements from an iterable based on a cindition defined by the function.\n",
    "\n",
    "syntax:\n",
    "filter(function,iterable)"
   ]
  },
  {
   "cell_type": "code",
   "execution_count": null,
   "id": "4ab12320-3b4a-4e42-abfc-8d09a8284f73",
   "metadata": {
    "id": "4ab12320-3b4a-4e42-abfc-8d09a8284f73",
    "outputId": "d036a916-d4d7-43db-be7d-26c56e904b0e"
   },
   "outputs": [
    {
     "data": {
      "text/plain": [
       "[-5, -2]"
      ]
     },
     "execution_count": 52,
     "metadata": {},
     "output_type": "execute_result"
    }
   ],
   "source": [
    "l1 = [-5, -2, 0, 4, 5]\n",
    "list(filter(lambda x: x < 0, l1))"
   ]
  },
  {
   "cell_type": "markdown",
   "id": "fb33f2a0-72c3-41c7-b9cb-b8175fd15307",
   "metadata": {
    "id": "fb33f2a0-72c3-41c7-b9cb-b8175fd15307"
   },
   "source": [
    "## Q11) Using pen & paper write the internal mechanism for sum operation using reduce function on this given list:[47,11,42,13];"
   ]
  },
  {
   "cell_type": "markdown",
   "id": "f3fcc548-219a-4797-8bb6-3c8f9721d1f6",
   "metadata": {
    "id": "f3fcc548-219a-4797-8bb6-3c8f9721d1f6"
   },
   "source": [
    "![11)ANS.jpg](attachment:2620900c-324d-47e6-959a-1e17001ab741.jpg)\n",
    "![11)ANS.jpg](data:image/jpeg;base64,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)"
   ]
  },
  {
   "cell_type": "markdown",
   "id": "4be0c96e-9dd3-4ee0-a3f1-4b608bc82aa4",
   "metadata": {
    "id": "4be0c96e-9dd3-4ee0-a3f1-4b608bc82aa4"
   },
   "source": [
    "# Practical Questions:"
   ]
  },
  {
   "cell_type": "markdown",
   "id": "26ddf0c8-31f7-45a7-93e9-e712bb06dc5c",
   "metadata": {
    "id": "26ddf0c8-31f7-45a7-93e9-e712bb06dc5c",
    "jp-MarkdownHeadingCollapsed": true
   },
   "source": [
    "## Q1)Write a Python function that takes a list of numbers as input and return the sum of all even numbers in the list."
   ]
  },
  {
   "cell_type": "markdown",
   "id": "acfaf0f2-ea70-4f09-8508-87e73b1e67c5",
   "metadata": {
    "id": "acfaf0f2-ea70-4f09-8508-87e73b1e67c5"
   },
   "source": [
    "#### ANS:-"
   ]
  },
  {
   "cell_type": "code",
   "execution_count": null,
   "id": "a0399a90-933a-4f43-8ee6-2a8f06509e63",
   "metadata": {
    "id": "a0399a90-933a-4f43-8ee6-2a8f06509e63"
   },
   "outputs": [],
   "source": [
    "#code:\n",
    "def check_even(num):\n",
    "    return sum(filter(lambda x: x%2 ==0,num))"
   ]
  },
  {
   "cell_type": "code",
   "execution_count": null,
   "id": "34e06d23-9527-4a70-81eb-babb5711de2e",
   "metadata": {
    "id": "34e06d23-9527-4a70-81eb-babb5711de2e",
    "outputId": "c602b1f2-7fa3-48cd-bbf7-32a50715b549"
   },
   "outputs": [
    {
     "data": {
      "text/plain": [
       "12"
      ]
     },
     "execution_count": 82,
     "metadata": {},
     "output_type": "execute_result"
    }
   ],
   "source": [
    "#Usage:\n",
    "num=[2,5,8,5,9,2]\n",
    "check_even(num)"
   ]
  },
  {
   "cell_type": "markdown",
   "id": "ed459e24-1114-42d2-bd20-d93ec0c83f45",
   "metadata": {
    "id": "ed459e24-1114-42d2-bd20-d93ec0c83f45",
    "jp-MarkdownHeadingCollapsed": true
   },
   "source": [
    "## Q2)Create a Python function that accepts a string and returns the reverse of that string."
   ]
  },
  {
   "cell_type": "markdown",
   "id": "010b6e29-c122-4faf-80d4-2886d9b6efb0",
   "metadata": {
    "id": "010b6e29-c122-4faf-80d4-2886d9b6efb0"
   },
   "source": [
    "#### ANS-  "
   ]
  },
  {
   "cell_type": "code",
   "execution_count": null,
   "id": "feb91878-53cc-4460-a8da-db63f5ee5735",
   "metadata": {
    "id": "feb91878-53cc-4460-a8da-db63f5ee5735",
    "outputId": "96e2bdcf-3cf7-420b-d42f-d7c16fde28c0"
   },
   "outputs": [
    {
     "data": {
      "text/plain": [
       "'gninroM dooG'"
      ]
     },
     "execution_count": 83,
     "metadata": {},
     "output_type": "execute_result"
    }
   ],
   "source": [
    "s=\"Good Morning\"\n",
    "s[::-1]"
   ]
  },
  {
   "cell_type": "markdown",
   "id": "52eb5cc2-7a6b-46c8-aae6-4a172540471e",
   "metadata": {
    "id": "52eb5cc2-7a6b-46c8-aae6-4a172540471e",
    "jp-MarkdownHeadingCollapsed": true
   },
   "source": [
    "## Q3)Implement a Python function that takes a list of integers and returns a new list containing the squares of each number."
   ]
  },
  {
   "cell_type": "markdown",
   "id": "fd08d8b9-95f5-4bfd-adfc-7a958ebede61",
   "metadata": {
    "id": "fd08d8b9-95f5-4bfd-adfc-7a958ebede61"
   },
   "source": [
    "#### ANS:-"
   ]
  },
  {
   "cell_type": "code",
   "execution_count": null,
   "id": "f36cbf95-ac98-4738-92a0-4ac4a1567c44",
   "metadata": {
    "id": "f36cbf95-ac98-4738-92a0-4ac4a1567c44",
    "outputId": "3d670137-e80a-402b-a711-3a6763a3da3e"
   },
   "outputs": [
    {
     "name": "stdout",
     "output_type": "stream",
     "text": [
      "[16, 49, 25, 400]\n"
     ]
    }
   ],
   "source": [
    "l=[4,7,5,20]\n",
    "squared = map(lambda x:x*x,(l))\n",
    "print(list(squared))"
   ]
  },
  {
   "cell_type": "markdown",
   "id": "d01c67d3-c945-424d-b456-4491da81ceb1",
   "metadata": {
    "id": "d01c67d3-c945-424d-b456-4491da81ceb1"
   },
   "source": [
    "## Q4)Write a Python function that checks if a given number is prime or not from 1 to 200."
   ]
  },
  {
   "cell_type": "markdown",
   "id": "fff7fea9-8903-49fb-a272-f5217a5db6f0",
   "metadata": {
    "id": "fff7fea9-8903-49fb-a272-f5217a5db6f0"
   },
   "source": [
    "#### ANS-"
   ]
  },
  {
   "cell_type": "code",
   "execution_count": null,
   "id": "bfaeb0ae-d18e-4b8b-884e-b8cb74c7c6f5",
   "metadata": {
    "id": "bfaeb0ae-d18e-4b8b-884e-b8cb74c7c6f5"
   },
   "outputs": [],
   "source": [
    "#code\n",
    "def is_prime(n):\n",
    "    if n < 2 or n > 200:\n",
    "        return False\n",
    "    for i in range(2, int(n**0.5) + 1):\n",
    "        if n % i == 0:\n",
    "            return False\n",
    "    return True"
   ]
  },
  {
   "cell_type": "code",
   "execution_count": null,
   "id": "fc25c68b-d34d-40cb-97f8-eba2d9cfaa49",
   "metadata": {
    "id": "fc25c68b-d34d-40cb-97f8-eba2d9cfaa49",
    "outputId": "ee634d93-61cd-48d7-e13f-c40f790bbbe7"
   },
   "outputs": [
    {
     "name": "stdout",
     "output_type": "stream",
     "text": [
      "2\n",
      "3\n",
      "5\n",
      "7\n",
      "11\n",
      "13\n",
      "17\n",
      "19\n",
      "23\n",
      "29\n",
      "31\n",
      "37\n",
      "41\n",
      "43\n",
      "47\n",
      "53\n",
      "59\n",
      "61\n",
      "67\n",
      "71\n",
      "73\n",
      "79\n",
      "83\n",
      "89\n",
      "97\n",
      "101\n",
      "103\n",
      "107\n",
      "109\n",
      "113\n",
      "127\n",
      "131\n",
      "137\n",
      "139\n",
      "149\n",
      "151\n",
      "157\n",
      "163\n",
      "167\n",
      "173\n",
      "179\n",
      "181\n",
      "191\n",
      "193\n",
      "197\n",
      "199\n"
     ]
    }
   ],
   "source": [
    "#usage\n",
    "for num in range(1, 201):\n",
    "    if is_prime(num):\n",
    "        print(f\"{num}\")"
   ]
  },
  {
   "cell_type": "markdown",
   "id": "a80a7c6b-6ec0-478e-bac5-7949440d6566",
   "metadata": {
    "id": "a80a7c6b-6ec0-478e-bac5-7949440d6566"
   },
   "source": [
    "## Q5)Create an iterator class in Python that generates the Fibonacci sequence up to a specific number of terms."
   ]
  },
  {
   "cell_type": "code",
   "execution_count": null,
   "id": "fa68d1bc-487f-4bae-ad7a-0c84dcb22a3f",
   "metadata": {
    "id": "fa68d1bc-487f-4bae-ad7a-0c84dcb22a3f"
   },
   "outputs": [],
   "source": [
    "#### ANS-"
   ]
  },
  {
   "cell_type": "code",
   "execution_count": null,
   "id": "c45237c9-b9a3-4aeb-b078-62de0b067d46",
   "metadata": {
    "id": "c45237c9-b9a3-4aeb-b078-62de0b067d46"
   },
   "outputs": [],
   "source": [
    "fib = lambda n: n if n<=1 else fib(n-1) + fib(n-2) #fibonacci seriers\n",
    "[fib(i) for i in range(10)]"
   ]
  },
  {
   "cell_type": "code",
   "execution_count": null,
   "id": "3a8ef14b-5b6b-4c64-a2aa-ea6522af5029",
   "metadata": {
    "id": "3a8ef14b-5b6b-4c64-a2aa-ea6522af5029"
   },
   "outputs": [],
   "source": [
    "def fib(n):\n",
    "    a = 0\n",
    "    b = 1\n",
    "    for i in range(n): #if n=5, 0, 1, 2, 3, 4\n",
    "        yield a\n",
    "        a, b = b, a+b"
   ]
  },
  {
   "cell_type": "markdown",
   "id": "13f47557-3df2-466e-aa20-1a8ea9d640d5",
   "metadata": {
    "id": "13f47557-3df2-466e-aa20-1a8ea9d640d5",
    "jp-MarkdownHeadingCollapsed": true
   },
   "source": [
    "## Q6)Write a generates function in Python that yields the powers of 2 up to a given exponent."
   ]
  },
  {
   "cell_type": "markdown",
   "id": "bd982665-a1c9-4801-a6a4-ae9219870ba7",
   "metadata": {
    "id": "bd982665-a1c9-4801-a6a4-ae9219870ba7"
   },
   "source": [
    "#### ANS:-"
   ]
  },
  {
   "cell_type": "code",
   "execution_count": null,
   "id": "e5db1885-515e-4bb7-be44-3bfab4c72a94",
   "metadata": {
    "id": "e5db1885-515e-4bb7-be44-3bfab4c72a94"
   },
   "outputs": [],
   "source": [
    "def sq_num_generators(n):\n",
    "    for i in range(n):\n",
    "        yield i**2"
   ]
  },
  {
   "cell_type": "code",
   "execution_count": null,
   "id": "17faa684-6097-489f-b79e-10409ecb3003",
   "metadata": {
    "id": "17faa684-6097-489f-b79e-10409ecb3003",
    "outputId": "de5e6f6d-cc1b-4e8d-945f-555d5306adc6"
   },
   "outputs": [
    {
     "data": {
      "text/plain": [
       "<generator object sq_num_generators at 0x0000028AE966CFB0>"
      ]
     },
     "execution_count": 12,
     "metadata": {},
     "output_type": "execute_result"
    }
   ],
   "source": [
    "gen = sq_num_generators(10)\n",
    "gen"
   ]
  },
  {
   "cell_type": "code",
   "execution_count": null,
   "id": "9800caa1-1e2c-4c90-964e-d28e03c1f26e",
   "metadata": {
    "id": "9800caa1-1e2c-4c90-964e-d28e03c1f26e",
    "outputId": "6b63f117-5b37-49eb-e578-c3943dcbfe37"
   },
   "outputs": [
    {
     "data": {
      "text/plain": [
       "0"
      ]
     },
     "execution_count": 13,
     "metadata": {},
     "output_type": "execute_result"
    }
   ],
   "source": [
    "next(gen)"
   ]
  },
  {
   "cell_type": "code",
   "execution_count": null,
   "id": "49a964ff-d434-436e-a071-5f65bebaa152",
   "metadata": {
    "id": "49a964ff-d434-436e-a071-5f65bebaa152",
    "outputId": "66248558-ef0e-438b-b3a1-33d06cccfba2"
   },
   "outputs": [
    {
     "data": {
      "text/plain": [
       "1"
      ]
     },
     "execution_count": 14,
     "metadata": {},
     "output_type": "execute_result"
    }
   ],
   "source": [
    "next(gen)"
   ]
  },
  {
   "cell_type": "code",
   "execution_count": null,
   "id": "a4ce3e85-bb0d-4ef0-9289-cadcae3be834",
   "metadata": {
    "id": "a4ce3e85-bb0d-4ef0-9289-cadcae3be834",
    "outputId": "6e038ec3-fdd9-4d9d-b1d7-80ad83fcf1eb"
   },
   "outputs": [
    {
     "data": {
      "text/plain": [
       "4"
      ]
     },
     "execution_count": 15,
     "metadata": {},
     "output_type": "execute_result"
    }
   ],
   "source": [
    "next(gen)"
   ]
  },
  {
   "cell_type": "code",
   "execution_count": null,
   "id": "6279d0c6-078d-419f-9363-2ca7a9e24c43",
   "metadata": {
    "id": "6279d0c6-078d-419f-9363-2ca7a9e24c43",
    "outputId": "ec7179a5-415e-42d5-9905-cdc6e796be06"
   },
   "outputs": [
    {
     "data": {
      "text/plain": [
       "9"
      ]
     },
     "execution_count": 16,
     "metadata": {},
     "output_type": "execute_result"
    }
   ],
   "source": [
    "next(gen)"
   ]
  },
  {
   "cell_type": "code",
   "execution_count": null,
   "id": "f67b29eb-762a-4e5f-96c3-038b1038b8ce",
   "metadata": {
    "id": "f67b29eb-762a-4e5f-96c3-038b1038b8ce",
    "outputId": "117fc47f-a5e3-465c-c3b2-6abffc1f134b"
   },
   "outputs": [
    {
     "data": {
      "text/plain": [
       "16"
      ]
     },
     "execution_count": 17,
     "metadata": {},
     "output_type": "execute_result"
    }
   ],
   "source": [
    "next(gen)"
   ]
  },
  {
   "cell_type": "code",
   "execution_count": null,
   "id": "fc356d98-6eab-4a1a-9d11-065a94d3aeff",
   "metadata": {
    "id": "fc356d98-6eab-4a1a-9d11-065a94d3aeff",
    "outputId": "1ed025d6-37c8-453f-f05a-b774e96b1540"
   },
   "outputs": [
    {
     "data": {
      "text/plain": [
       "25"
      ]
     },
     "execution_count": 18,
     "metadata": {},
     "output_type": "execute_result"
    }
   ],
   "source": [
    "next(gen)"
   ]
  },
  {
   "cell_type": "markdown",
   "id": "955e052c-12a2-4bf6-ae89-4a7158d97f16",
   "metadata": {
    "id": "955e052c-12a2-4bf6-ae89-4a7158d97f16",
    "jp-MarkdownHeadingCollapsed": true
   },
   "source": [
    "## Q7)Implement a generator function that reads a file line by line and yields each line as a string."
   ]
  },
  {
   "cell_type": "code",
   "execution_count": null,
   "id": "ddbeb8e7-ce99-4073-8f24-88ea0d0126fd",
   "metadata": {
    "id": "ddbeb8e7-ce99-4073-8f24-88ea0d0126fd"
   },
   "outputs": [],
   "source": [
    "#### ANS-"
   ]
  },
  {
   "cell_type": "code",
   "execution_count": null,
   "id": "b6d6591c-910a-4e20-be37-cfd34b107e80",
   "metadata": {
    "id": "b6d6591c-910a-4e20-be37-cfd34b107e80"
   },
   "outputs": [],
   "source": [
    "def read_file_line_by_line(file_path):\n",
    "    with open(file_path, 'r') as file:\n",
    "        for line in file:\n",
    "            yield line.rstrip('\\n')"
   ]
  },
  {
   "cell_type": "code",
   "execution_count": null,
   "id": "3eb5bcd4-888a-4658-b43a-070dae39bee2",
   "metadata": {
    "id": "3eb5bcd4-888a-4658-b43a-070dae39bee2",
    "outputId": "9386f1df-b674-480f-a3f8-7d23fb70ddb6"
   },
   "outputs": [
    {
     "name": "stdout",
     "output_type": "stream",
     "text": [
      "Hello! Myself Himadri Tanaya Sahu.\n",
      "I am doing Data Analytics Course.\n",
      "This is my first Python program.\n"
     ]
    }
   ],
   "source": [
    "for line in read_file_line_by_line('example.txt'):\n",
    "    print(line)"
   ]
  },
  {
   "cell_type": "markdown",
   "id": "1d883607-6274-4cfc-b9bf-4d33d61bfb7e",
   "metadata": {
    "id": "1d883607-6274-4cfc-b9bf-4d33d61bfb7e",
    "jp-MarkdownHeadingCollapsed": true
   },
   "source": [
    "## Q8)Use a lambda function in Python to sort a list of tuples based on the second element of each tuples."
   ]
  },
  {
   "cell_type": "code",
   "execution_count": null,
   "id": "721c12c2-ef47-401c-acad-269bc65c9412",
   "metadata": {
    "id": "721c12c2-ef47-401c-acad-269bc65c9412"
   },
   "outputs": [],
   "source": [
    "#### ANS-"
   ]
  },
  {
   "cell_type": "code",
   "execution_count": null,
   "id": "e6c584a4-f523-4fc6-b2fa-0203f0341b2f",
   "metadata": {
    "id": "e6c584a4-f523-4fc6-b2fa-0203f0341b2f",
    "outputId": "972ab0c5-4f8f-449b-fe79-9b3f4e273a72"
   },
   "outputs": [
    {
     "name": "stdout",
     "output_type": "stream",
     "text": [
      "[(2, 1), (4, 2), (1, 3)]\n"
     ]
    }
   ],
   "source": [
    "data = [(1, 3), (2, 1), (4, 2)]\n",
    "sorted_data = sorted(data, key=lambda x: x[1])\n",
    "print(sorted_data)"
   ]
  },
  {
   "cell_type": "markdown",
   "id": "4077f656-85d4-4665-9daf-3f53658624af",
   "metadata": {
    "id": "4077f656-85d4-4665-9daf-3f53658624af",
    "jp-MarkdownHeadingCollapsed": true
   },
   "source": [
    "## Q9)Write a Python program that uses 'map()' to convert a list of temperatures from Celsius to Fahrenheit."
   ]
  },
  {
   "cell_type": "markdown",
   "id": "3e744b39-4776-462d-adf5-75b142c46551",
   "metadata": {
    "id": "3e744b39-4776-462d-adf5-75b142c46551"
   },
   "source": [
    "#### ANS:-"
   ]
  },
  {
   "cell_type": "code",
   "execution_count": null,
   "id": "2c94c230-f9d4-4787-8e7b-6464f512eec0",
   "metadata": {
    "id": "2c94c230-f9d4-4787-8e7b-6464f512eec0"
   },
   "outputs": [],
   "source": [
    "def convert(cel):\n",
    "    return (cel*9/5)+32"
   ]
  },
  {
   "cell_type": "code",
   "execution_count": null,
   "id": "8c4ec0e8-0e92-456a-afc7-3ac06385418c",
   "metadata": {
    "id": "8c4ec0e8-0e92-456a-afc7-3ac06385418c"
   },
   "outputs": [],
   "source": [
    "temp=[0,25,34,100]\n",
    "fah_temp= list(map(convert,temp))"
   ]
  },
  {
   "cell_type": "code",
   "execution_count": null,
   "id": "01ad8eef-5b78-47bb-8a1c-2bd4c6928600",
   "metadata": {
    "id": "01ad8eef-5b78-47bb-8a1c-2bd4c6928600",
    "outputId": "9e9baaa8-a1fc-4952-deb7-6cf69e6b50a1"
   },
   "outputs": [
    {
     "name": "stdout",
     "output_type": "stream",
     "text": [
      "celsius temp: [0, 25, 34, 100]\n",
      "fah temp: [32.0, 77.0, 93.2, 212.0]\n"
     ]
    }
   ],
   "source": [
    "print(\"celsius temp:\",temp)\n",
    "print(\"fah temp:\" ,fah_temp)"
   ]
  },
  {
   "cell_type": "markdown",
   "id": "1bbe2362-087b-4d31-beb2-83666cae79bf",
   "metadata": {
    "id": "1bbe2362-087b-4d31-beb2-83666cae79bf",
    "jp-MarkdownHeadingCollapsed": true
   },
   "source": [
    "## Q10)Create a Python program that uses 'filter()' to remove all the vowels from a given string."
   ]
  },
  {
   "cell_type": "markdown",
   "id": "0905ff9b-ecd3-46d0-9401-74b848f36eaa",
   "metadata": {
    "id": "0905ff9b-ecd3-46d0-9401-74b848f36eaa"
   },
   "source": [
    "#### ANS:-"
   ]
  },
  {
   "cell_type": "code",
   "execution_count": null,
   "id": "0861586f-788f-4129-952a-6c033d643a58",
   "metadata": {
    "id": "0861586f-788f-4129-952a-6c033d643a58"
   },
   "outputs": [],
   "source": [
    "s= list(\"program\")\n",
    "def vowel(x):\n",
    "    v=('a','e','i','o','u')\n",
    "    return x not in v"
   ]
  },
  {
   "cell_type": "code",
   "execution_count": null,
   "id": "a52901d9-fe0f-4002-b6ed-141a15686a7a",
   "metadata": {
    "id": "a52901d9-fe0f-4002-b6ed-141a15686a7a",
    "outputId": "dffac313-af8b-4fa9-d28b-6b1172f36917"
   },
   "outputs": [
    {
     "name": "stdout",
     "output_type": "stream",
     "text": [
      "vowel: ['p', 'r', 'g', 'r', 'm']\n"
     ]
    }
   ],
   "source": [
    "l=list(filter(vowel,s))\n",
    "print(\"vowel:\", l)"
   ]
  },
  {
   "cell_type": "markdown",
   "id": "2549f2bd-7d48-402e-9896-a2f0242acf97",
   "metadata": {
    "id": "2549f2bd-7d48-402e-9896-a2f0242acf97",
    "jp-MarkdownHeadingCollapsed": true
   },
   "source": [
    "## Q11)"
   ]
  },
  {
   "cell_type": "markdown",
   "id": "722acda6-cdb7-45d1-b688-417152065229",
   "metadata": {
    "id": "722acda6-cdb7-45d1-b688-417152065229"
   },
   "source": [
    "#### ANS-"
   ]
  },
  {
   "cell_type": "code",
   "execution_count": null,
   "id": "a24da647-6086-440c-91dc-94361ecf2686",
   "metadata": {
    "id": "a24da647-6086-440c-91dc-94361ecf2686"
   },
   "outputs": [],
   "source": [
    "book_data =[(34587,\"Learning Python, Mark Lutz\",4,40.95),\n",
    "            (98762,\"Programming Python, Mark Lutz\",5,56.80),\n",
    "            (77226,\"Head First Python, Paul Barry\",3,32.95),\n",
    "            (88112,\"Einfuhrung in Python, Bernd Klein\",3,24.99)]"
   ]
  },
  {
   "cell_type": "code",
   "execution_count": null,
   "id": "9c1015d3-ed69-4c31-9abc-efb5f29336cb",
   "metadata": {
    "id": "9c1015d3-ed69-4c31-9abc-efb5f29336cb",
    "outputId": "6038027a-9588-4351-a106-59f5898f38aa"
   },
   "outputs": [
    {
     "name": "stdout",
     "output_type": "stream",
     "text": [
      "[(34587, 163.8), (98762, 284.0), (77226, 108.85000000000001), (88112, 84.97)]\n"
     ]
    }
   ],
   "source": [
    "result = list(map(lambda x: (x[0],x[2] *x[3] + 10 if x[2] *x[3] < 100 else x[2] *x[3]),book_data))\n",
    "print(result)"
   ]
  },
  {
   "cell_type": "code",
   "execution_count": null,
   "id": "e1cf697e-5dda-4d73-85d9-73808a1899ad",
   "metadata": {
    "id": "e1cf697e-5dda-4d73-85d9-73808a1899ad"
   },
   "outputs": [],
   "source": []
  }
 ],
 "metadata": {
  "colab": {
   "provenance": []
  },
  "kernelspec": {
   "display_name": "Python 3 (ipykernel)",
   "language": "python",
   "name": "python3"
  },
  "language_info": {
   "codemirror_mode": {
    "name": "ipython",
    "version": 3
   },
   "file_extension": ".py",
   "mimetype": "text/x-python",
   "name": "python",
   "nbconvert_exporter": "python",
   "pygments_lexer": "ipython3",
   "version": "3.13.2"
  }
 },
 "nbformat": 4,
 "nbformat_minor": 5
}
