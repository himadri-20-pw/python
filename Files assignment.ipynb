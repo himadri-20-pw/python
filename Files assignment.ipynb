{
 "cells": [
  {
   "cell_type": "markdown",
   "id": "cc16c702-2274-4fec-8e65-58340902dd68",
   "metadata": {},
   "source": [
    "# Theory Questions"
   ]
  },
  {
   "cell_type": "markdown",
   "id": "e153516d-7da6-4e03-9b21-5564987496ab",
   "metadata": {
    "jp-MarkdownHeadingCollapsed": true
   },
   "source": [
    "### Q1) What is the difference between interpreted and compiled languages?"
   ]
  },
  {
   "cell_type": "markdown",
   "id": "94f69714-d65d-41aa-a9df-332939d3d845",
   "metadata": {},
   "source": [
    "#### ANS- The difference between interpreted and compiled languages are-"
   ]
  },
  {
   "cell_type": "markdown",
   "id": "001bf47e-6507-47e3-80fe-6f921c551092",
   "metadata": {},
   "source": [
    "In Interpreted languages, code is executed line by line which means code is executed directly without a separate complilation step to convert into machine code  where as In Compiled languages source code is transformed into machine code         "
   ]
  },
  {
   "cell_type": "code",
   "execution_count": null,
   "id": "aa613993-3461-4e7c-8540-f8d348947c6a",
   "metadata": {},
   "outputs": [],
   "source": [
    "example- Python                                                                                     examples-C,C,Swift           "
   ]
  },
  {
   "cell_type": "markdown",
   "id": "da09198c-a321-437c-b24f-d9e7243785d2",
   "metadata": {
    "jp-MarkdownHeadingCollapsed": true
   },
   "source": [
    "### Q2) What is exception handling in Python?"
   ]
  },
  {
   "cell_type": "markdown",
   "id": "9885f33d-9bda-477c-b99a-af4e725c2731",
   "metadata": {},
   "source": [
    "#### ANS- In Python an exception is an event that occurs during programme execution that disrupts the regular flow of code.Exception handling in Python is a process of resolving errors that occur in a program.This prevents the program from crashing and allows it to continue running,potentially after taking corrective actions.This is achieved through the use of try, except, else, and finally blocks."
   ]
  },
  {
   "cell_type": "code",
   "execution_count": 87,
   "id": "a369c071-c041-4b33-ad6b-ad8f01dc2f9d",
   "metadata": {},
   "outputs": [
    {
     "name": "stdout",
     "output_type": "stream",
     "text": [
      "8\n",
      "This will be executed if try except block is executed without any exception\n"
     ]
    }
   ],
   "source": [
    "#ex-1\n",
    "try:\n",
    "    f = open(\"p1.txt\", \"w\")\n",
    "except Exception as e:\n",
    "    print(\"There is an issue with the code and the issue is:\", e)\n",
    "else:\n",
    "    print(5+3)\n",
    "    print(\"This will be executed if try except block is executed without any exception\")\n"
   ]
  },
  {
   "cell_type": "code",
   "execution_count": 90,
   "id": "36b15e0f-b88e-40b6-b45d-76ba3c7010cd",
   "metadata": {},
   "outputs": [],
   "source": [
    "#ex-2\n",
    "def test(file):\n",
    "    try:\n",
    "        f = open(file, \"w\")\n",
    "        f.write(\"Anything being written\")\n",
    "    except FileNotFoundError as e:\n",
    "        print(f\"My file was not found {e}\")\n",
    "    finally:\n",
    "        f.close()"
   ]
  },
  {
   "cell_type": "markdown",
   "id": "b28d6326-846a-4b5a-baa7-c72ce30c8e42",
   "metadata": {
    "jp-MarkdownHeadingCollapsed": true
   },
   "source": [
    "### Q3) What is the purpose of the finally block in exception handling?"
   ]
  },
  {
   "cell_type": "markdown",
   "id": "97247e43-3e17-4a45-8627-86704363f30d",
   "metadata": {},
   "source": [
    "#### ANS- The purpose of the finally block in exception handling is to ensure that specific code, often used for cleanup operations is executed regardless occurs within the try block. It guarantess that crucial tasks,such as closing files or releasing resources are performed , preventing resource leaks and ensuring the program's stability."
   ]
  },
  {
   "cell_type": "code",
   "execution_count": 91,
   "id": "207df087-e6b6-4a58-8edb-6af5e0baf6a8",
   "metadata": {},
   "outputs": [],
   "source": [
    "def test(file):\n",
    "    try:\n",
    "        f = open(file, \"w\")\n",
    "        f.write(\"Anything being written\")\n",
    "    except FileNotFoundError as e:\n",
    "        print(f\"My file was not found {e}\")\n",
    "    finally:\n",
    "        f.close()"
   ]
  },
  {
   "cell_type": "markdown",
   "id": "a25bfb5f-818a-442e-84e2-c1bfde8fb885",
   "metadata": {
    "jp-MarkdownHeadingCollapsed": true
   },
   "source": [
    "### Q4) What is logging in Python?"
   ]
  },
  {
   "cell_type": "markdown",
   "id": "1f37b8b2-e6eb-4bbf-89b2-ff3e555cb116",
   "metadata": {},
   "source": [
    "#### ANS- In Python,Logging is a crucial aspect of the coding process since it allows us to keep track of everything that happens when you run the code. It records the state and flow of your program/code/software. It is useful for understanding, monitoring and debugging of your code. It shows how program behaves over time. We can construct custom messages/events to signify different stages of the code by logging. "
   ]
  },
  {
   "cell_type": "code",
   "execution_count": 110,
   "id": "e93356c8-7e5c-4a27-921f-e76451480ebf",
   "metadata": {},
   "outputs": [],
   "source": [
    "import logging\n",
    "logging.basicConfig(filename = \"test_new.log\", level = logging.DEBUG, format = '%(asctime)s %(message)s')"
   ]
  },
  {
   "cell_type": "code",
   "execution_count": 111,
   "id": "9fef1bcc-4648-4b3e-8b20-924eb9ad94c9",
   "metadata": {},
   "outputs": [],
   "source": [
    "logging.debug(\"This msg is for debugging\")\n",
    "logging.info(\"This is my info msg\")\n",
    "logging.warning(\"This is my warning msg\")\n",
    "logging.shutdown()"
   ]
  },
  {
   "cell_type": "markdown",
   "id": "181161fe-0dd0-4e30-9541-dbfa0906f755",
   "metadata": {
    "jp-MarkdownHeadingCollapsed": true
   },
   "source": [
    "### Q5) What is the significance of the __del__ method in Python?"
   ]
  },
  {
   "cell_type": "markdown",
   "id": "b1c0f201-fe07-4992-8574-e456c2717254",
   "metadata": {},
   "source": [
    "#### ANS-The significance of the __del__ method is to perform cleanup actions, such as releasing external resources held by the object, before the memory occupied by the object is reclaimed by the garbage collector. It helps ensure that resources such as file handles, network connections, and database connections are released automatically when an object is destroyed."
   ]
  },
  {
   "cell_type": "markdown",
   "id": "0ed2aedd-2bc2-48a1-8088-56ebdf4672b2",
   "metadata": {
    "jp-MarkdownHeadingCollapsed": true
   },
   "source": [
    "### Q6) What is the difference between import and from ... import in Python?"
   ]
  },
  {
   "cell_type": "markdown",
   "id": "3e2988bb-d84f-4298-9aae-14e0f93aec73",
   "metadata": {},
   "source": [
    "#### ANS- The difference between import and from ... import in Python are -"
   ]
  },
  {
   "cell_type": "markdown",
   "id": "47f0dd9e-daa0-4f91-af30-80dbe5b7d9ac",
   "metadata": {},
   "source": [
    "                                    \n",
    "#### import>>>imports the entire module.     from....import>>>imports specific items from the module.\n",
    "#### import>>>access items using dot notation.           from....import>>>access items directly without dot notation.\n",
    "#### import>>>ex- import math                            from....import>>>ex- from math import pi\n",
    "####     >>>>>math.sqrt(25)                 >>>>>>>   print(pi)  "
   ]
  },
  {
   "cell_type": "code",
   "execution_count": null,
   "id": "3ffdb8ca-231b-4669-ae19-447104148c4e",
   "metadata": {},
   "outputs": [],
   "source": []
  },
  {
   "cell_type": "markdown",
   "id": "45716f2b-5511-4b57-8029-bb13a41044b8",
   "metadata": {
    "jp-MarkdownHeadingCollapsed": true
   },
   "source": [
    "### Q7) How can you handle multiple exceptions in Python?"
   ]
  },
  {
   "cell_type": "markdown",
   "id": "6357c229-3da8-46c5-a065-218871fe56b3",
   "metadata": {},
   "source": [
    "#### ANS-In Python, multiple exceptions can be handled using several approaches:"
   ]
  },
  {
   "cell_type": "markdown",
   "id": "bb1c3e6b-f275-421d-a661-c30fd1d354ec",
   "metadata": {},
   "source": [
    "#### Multiple except blocks: Each except block handles a specific exception type. If an exception occurs, Python checks each except block in order and executes the first one that matches the exception type."
   ]
  },
  {
   "cell_type": "code",
   "execution_count": 143,
   "id": "db33cc12-67a3-4e75-87b5-165e74e35614",
   "metadata": {},
   "outputs": [
    {
     "name": "stdout",
     "output_type": "stream",
     "text": [
      "Cannot divide by zero\n"
     ]
    }
   ],
   "source": [
    "try:\n",
    "    result = 10 / 0\n",
    "except ZeroDivisionError:\n",
    "    print(\"Cannot divide by zero\")\n",
    "except TypeError:\n",
    "    print(\"Type error occurred\")"
   ]
  },
  {
   "cell_type": "markdown",
   "id": "b4f7d561-e99d-4239-95c1-a18610e89bd5",
   "metadata": {},
   "source": [
    "#### Single except block with a tuple of exceptions: This approach handles multiple exception types with the same code."
   ]
  },
  {
   "cell_type": "code",
   "execution_count": 144,
   "id": "60dcce3b-ea8b-4e1b-8d28-eaba733ca886",
   "metadata": {},
   "outputs": [
    {
     "name": "stdout",
     "output_type": "stream",
     "text": [
      "Invalid input\n"
     ]
    }
   ],
   "source": [
    "try:\n",
    "    value = int(\"abc\")\n",
    "except (ValueError, TypeError):\n",
    "    print(\"Invalid input\")"
   ]
  },
  {
   "cell_type": "markdown",
   "id": "e26049a5-8489-4c9c-9701-b5c0648c92c8",
   "metadata": {},
   "source": [
    "#### Catching a base class: Catching a base class like Exception will handle any exception that inherits from it. However, this should be used cautiously as it might mask specific errors."
   ]
  },
  {
   "cell_type": "code",
   "execution_count": 145,
   "id": "2f836769-8f12-42d6-858f-a40f090fad05",
   "metadata": {},
   "outputs": [
    {
     "name": "stdout",
     "output_type": "stream",
     "text": [
      "An error occurred: [Errno 2] No such file or directory: 'nonexistent_file.txt'\n"
     ]
    }
   ],
   "source": [
    "try:\n",
    "    open(\"nonexistent_file.txt\")\n",
    "except Exception as e:\n",
    "    print(f\"An error occurred: {e}\")"
   ]
  },
  {
   "cell_type": "markdown",
   "id": "a3646bb7-0c98-4660-ad45-66abb5a3df13",
   "metadata": {},
   "source": [
    "#### try...except...else...finally blocks:The else block executes if no exception is raised in the try block.The finally block always executes, regardless of whether an exception occurred or not. This is often used for cleanup actions"
   ]
  },
  {
   "cell_type": "code",
   "execution_count": 147,
   "id": "f018e1e1-2e61-4fef-9eef-1c0dafa4154b",
   "metadata": {},
   "outputs": [
    {
     "name": "stdout",
     "output_type": "stream",
     "text": [
      "File not found\n"
     ]
    }
   ],
   "source": [
    "try:\n",
    "    f = open(\"p4.txt\", \"r\")\n",
    "    content = f.read()\n",
    "except FileNotFoundError:\n",
    "    print(\"File not found\")\n",
    "else:\n",
    "    print(\"File content:\", content)\n",
    "finally:\n",
    "        f.close()"
   ]
  },
  {
   "cell_type": "markdown",
   "id": "a9e9757b-62aa-41f9-8866-0be69f0ebdaf",
   "metadata": {
    "jp-MarkdownHeadingCollapsed": true
   },
   "source": [
    "### Q8) What is the purpose of the with statement when handling files in Python?"
   ]
  },
  {
   "cell_type": "markdown",
   "id": "9e22ec89-4aca-4abb-9783-45a24aec4403",
   "metadata": {},
   "source": [
    "#### ANS- The purpose of the with statement is it simplifies resource management by automatically handling setup and cleanup, such as opening and closing files. It ensures that resources are properply handled, especially in cases where exceptions might occur.When dealing with files, the with statement guarantees that the file is automatically closed after the block of code within the with statement is executed, regardless of whether any errors were encountered."
   ]
  },
  {
   "cell_type": "markdown",
   "id": "31f85ffa-7793-4619-8635-500a7e3ad71f",
   "metadata": {
    "jp-MarkdownHeadingCollapsed": true
   },
   "source": [
    "### Q9) What is the difference between multithreading and multiprocessing?"
   ]
  },
  {
   "cell_type": "markdown",
   "id": "13f9754c-883c-4abc-9c47-962f875e6432",
   "metadata": {},
   "source": [
    "#### ANS- multithreading- since it happens on one processor,threads share same memory space and resources within a process. It occurs concurrently.\n",
    "#### multiprocessing- multiple cores processed are there,each process has its own memory space and resources which are isolated from other process.It occur truly CPU cores."
   ]
  },
  {
   "cell_type": "markdown",
   "id": "7a94e71d-3316-4110-a1f2-4eb3e265cc5a",
   "metadata": {},
   "source": [
    "#### use case of multithreading like input/output process like downloading the file.\n",
    "#### use case of multiprocessing like suitable for tasks that are independent and can run isolation e.g.some computation,server handling."
   ]
  },
  {
   "cell_type": "markdown",
   "id": "7f7210c9-e3b7-404a-8046-9a9d63a693c0",
   "metadata": {
    "jp-MarkdownHeadingCollapsed": true
   },
   "source": [
    "### Q10) What are the advantages of using logging in a program?"
   ]
  },
  {
   "cell_type": "markdown",
   "id": "d762dc9b-d202-46c7-8c22-165edf938b4f",
   "metadata": {},
   "source": [
    "#### ANS- The advantages of using logging in a program are-"
   ]
  },
  {
   "cell_type": "markdown",
   "id": "f2f463ca-143a-465b-8034-20722cfa5f08",
   "metadata": {},
   "source": [
    "#### Improved debugging\n",
    "#### easier truobleshooting\n",
    "#### enhanced system observability\n",
    "#### better communication between developers and administrators"
   ]
  },
  {
   "cell_type": "markdown",
   "id": "367cc9b1-1c81-46fc-ae29-cdcba08ea4ae",
   "metadata": {
    "jp-MarkdownHeadingCollapsed": true
   },
   "source": [
    "### Q11) What is memory management in Python?"
   ]
  },
  {
   "cell_type": "markdown",
   "id": "48ec30c2-25ad-4518-a89e-990184ffcc19",
   "metadata": {},
   "source": [
    "#### ANS- Memory management in Python refers to how Python handles the allocation, tracking, and deallocation of memory used by variables and data structures during the execution of a program. It is handled automatically by the Python interpreter, primarily through a private heap space. This process ensures efficient memory usage and prevents memory leaks."
   ]
  },
  {
   "cell_type": "markdown",
   "id": "fa271953-2c41-414e-be08-8641c4884bff",
   "metadata": {
    "jp-MarkdownHeadingCollapsed": true
   },
   "source": [
    "### Q12) What are the basic steps involved in exception handling in Python?"
   ]
  },
  {
   "cell_type": "markdown",
   "id": "d1ccd13d-5109-4969-aa9c-63c7e420b320",
   "metadata": {},
   "source": [
    "#### ANS- Exception handling involves raising errors,catching them, and then deciding how to respond."
   ]
  },
  {
   "cell_type": "markdown",
   "id": "d5b36600-51d6-4696-a0c3-c3b56e6f2f6d",
   "metadata": {},
   "source": [
    "#### The basic steps involved in exception handling are-\n",
    "#### try block- The code that might raise an exception is placed within a try block.\n",
    "#### except block - If an exception occurs within the try block, the program flow immediately jumps to the except block that matches the type of exception raised. There can be multiple except blocks to handle different exception types.\n",
    "#### else block- An else block can follow the except block(s). The code within the else block will execute only if no exceptions were raised in the try block.\n",
    "#### finally block- A finally block can be included after the try and except (and else, if present) blocks. The code within the finally block will always execute, regardless of whether an exception was raised or caught. It's typically used for cleanup actions."
   ]
  },
  {
   "cell_type": "markdown",
   "id": "34b502a0-c6c8-4175-82ee-344e5d8e82ac",
   "metadata": {},
   "source": []
  },
  {
   "cell_type": "markdown",
   "id": "692baafd-5ea7-4c58-b46b-e07e7cbab54d",
   "metadata": {
    "jp-MarkdownHeadingCollapsed": true
   },
   "source": [
    "### Q13) Why is memory management important in Python?"
   ]
  },
  {
   "cell_type": "markdown",
   "id": "00d685f6-fc43-4618-ab43-a00e8e44619f",
   "metadata": {},
   "source": [
    "#### ANS- Memory management is important in Python because it directly impacts the performance, efficiency, and stability of applications. It involves allocating and deallocating memory to ensure that programs have the resources they need without wasting or leaking memory. Python automates memory management through techniques like garbage collection and reference counting, relieving developers from manual memory handling. Efficient memory management leads to faster processing, reduced resource consumption, and prevents issues like memory leaks, enhancing the overall robustness of Python applications."
   ]
  },
  {
   "cell_type": "markdown",
   "id": "62056cce-e304-42c7-90a8-1ee0db5d97f0",
   "metadata": {
    "jp-MarkdownHeadingCollapsed": true
   },
   "source": [
    "### Q14) What is the role of try and except in exception handling?"
   ]
  },
  {
   "cell_type": "markdown",
   "id": "7bde244e-348a-4715-989b-21e59c07db11",
   "metadata": {},
   "source": [
    "#### ANS- In exception handling, the try and except blocks work together to handle & manage errors that might occur during code execution. The try block contains the code that might potentially raise an exception, while the except block contains the code that handles that specific type of exception."
   ]
  },
  {
   "cell_type": "markdown",
   "id": "368a9655-79ca-4831-9159-d2d3ba75a4f3",
   "metadata": {},
   "source": [
    "#### The try block identifies the code that might cause an error, and the except block provides a mechanism to handle those errors, preventing the program from crashing and allowing for more robust and user-friendly error handling."
   ]
  },
  {
   "cell_type": "code",
   "execution_count": null,
   "id": "bee4a0b6-c660-4cb8-95fa-20b3f65754da",
   "metadata": {},
   "outputs": [],
   "source": []
  },
  {
   "cell_type": "markdown",
   "id": "9cdf71a2-9a5e-4810-8252-4e8e2cb6d123",
   "metadata": {
    "jp-MarkdownHeadingCollapsed": true
   },
   "source": [
    "### Q15) How does Python's garbage collection system work?"
   ]
  },
  {
   "cell_type": "markdown",
   "id": "652f2099-d57b-4368-9b53-1a62f01b2306",
   "metadata": {},
   "source": [
    "#### ANS- Python's garbage collection system works through gc module.It searches through all of the memory that is used by a program and complies any objects that are no longer being used by the program. These objects are then marked as garbage and are eligible for removal from memory. These are fast and deterministuc,but can't handle reference cycles."
   ]
  },
  {
   "cell_type": "markdown",
   "id": "25db81c4-e5c5-4c52-ac30-12376ab35c43",
   "metadata": {
    "jp-MarkdownHeadingCollapsed": true
   },
   "source": [
    "### Q16) What is the purpose of the else block in exception handling?"
   ]
  },
  {
   "cell_type": "markdown",
   "id": "2968ecaf-bd4b-455f-93f0-782579f13de6",
   "metadata": {},
   "source": [
    "#### ANS- The purpose of else block in exception handling is to executes only when no exceptions are raised within the try block. It provides a way to execute code that's intended to run when the try block executes successfully, effectively separating normal execution from exception handling."
   ]
  },
  {
   "cell_type": "markdown",
   "id": "05204ea6-1963-492a-a7d4-576c884fb773",
   "metadata": {
    "jp-MarkdownHeadingCollapsed": true
   },
   "source": [
    "### Q17) What are the common logging levels in Python?"
   ]
  },
  {
   "cell_type": "markdown",
   "id": "274f5d13-22af-494f-9e8d-e10c08b5c83b",
   "metadata": {},
   "source": [
    "#### ANS- The common logging levels in Python are-"
   ]
  },
  {
   "cell_type": "markdown",
   "id": "3e77058f-e1a5-4018-9164-ff5db5ea65f7",
   "metadata": {},
   "source": [
    "#### 1. DEBUG>>lowest level of logging. To give detailed information of any variable, msg, while doing debugging\n",
    "#### 2. INFO >> This is used to convey that the code is working as expected\n",
    "#### example \"Data analysis is completed\"\n",
    "#### 3. WARNING>>Used to indicate that something unexpected happend or potential issue in the code\n",
    "#### 4. ERROR > Serious problem with some function\n",
    "#### 5. CRITICAL>> Termination of program/code/software"
   ]
  },
  {
   "cell_type": "code",
   "execution_count": null,
   "id": "a92b5ea5-1812-47c7-b860-75063ba733f5",
   "metadata": {},
   "outputs": [],
   "source": []
  },
  {
   "cell_type": "markdown",
   "id": "8c6809c4-4867-478f-ba76-40cdc3357391",
   "metadata": {
    "jp-MarkdownHeadingCollapsed": true
   },
   "source": [
    "### Q18) What is the difference between os.fork() and multiprocessing in Python?"
   ]
  },
  {
   "cell_type": "markdown",
   "id": "25cc4dc8-5951-49e5-9beb-b19dd0876e81",
   "metadata": {},
   "source": [
    "#### ANS-"
   ]
  },
  {
   "cell_type": "markdown",
   "id": "cc86da6d-2d16-4bd3-be2e-6df221f9a2bf",
   "metadata": {},
   "source": [
    "#### os.fork() >>>> It is a system call that creates a new process by duplicating the calling process.  multiprocessing: >>>> It is a Python module that provides a higher-level interface for running code in parallel using processes."
   ]
  },
  {
   "cell_type": "markdown",
   "id": "7b390500-cfac-4527-9eaf-2665008e69b4",
   "metadata": {},
   "source": [
    "#### os.fork() >>>> It is available only on Unix-like systems.  multiprocessing: >>>>  It is more portable and works across different operating systems, including Windows."
   ]
  },
  {
   "cell_type": "markdown",
   "id": "b43a792e-d064-4660-adfe-961aa540a16e",
   "metadata": {
    "jp-MarkdownHeadingCollapsed": true
   },
   "source": [
    "### Q19) What is the importance of closing a file in Python?"
   ]
  },
  {
   "cell_type": "markdown",
   "id": "fc53f13a-2c3f-44ed-8884-f6c453fa2cce",
   "metadata": {},
   "source": [
    "#### ANS- The importance of closing a file in Python is that helps maintain data integrity, prevent resource leaks,and ensure the reliability of your application.Additionaly, after closing a file only we can see it's inside content."
   ]
  },
  {
   "cell_type": "markdown",
   "id": "f2b58d39-c06e-4598-80cc-3c0e3c97cb33",
   "metadata": {
    "jp-MarkdownHeadingCollapsed": true
   },
   "source": [
    "### Q20) What is the difference between file.read() and file.readline() in Python?"
   ]
  },
  {
   "cell_type": "markdown",
   "id": "4bb8f140-510d-4fcc-874e-a3768b0e29c9",
   "metadata": {},
   "source": [
    "#### ANS- The difference between file.read() and file.readline() is -"
   ]
  },
  {
   "cell_type": "markdown",
   "id": "328a0480-0bd9-4445-9c3f-c000f1bca7cb",
   "metadata": {},
   "source": [
    "#### file.read() - reads the contents of the file where as file.readline() - reads only the first line of the file.       "
   ]
  },
  {
   "cell_type": "markdown",
   "id": "b62c0e48-41ae-4153-acd7-e4a844dacb44",
   "metadata": {
    "jp-MarkdownHeadingCollapsed": true
   },
   "source": [
    "### Q21) What is the logging module in Python used for?"
   ]
  },
  {
   "cell_type": "markdown",
   "id": "e89db6e0-d59f-41d6-badd-9d59769179c2",
   "metadata": {},
   "source": [
    "#### ANS- Logging module in Python used for recording events and debugging issues during application execution. It supports different levels of logging which helps to categorize messages based on their severity.It is useful for understanding, monitoring and debugging of your code.                                          "
   ]
  },
  {
   "cell_type": "markdown",
   "id": "8bfd2167-0202-4043-91c7-73f4ddbbc937",
   "metadata": {
    "jp-MarkdownHeadingCollapsed": true
   },
   "source": [
    "### Q22) What is the os module in Python used for in file handling?"
   ]
  },
  {
   "cell_type": "markdown",
   "id": "a930c646-028e-4eac-b30f-6dc3b220db9e",
   "metadata": {},
   "source": [
    "#### ANS- In file handlingthe os module in Python used for interacting with the operating system, like creating files and directories, management of files and directories, input, output, environment variables, process management, etc. It allows you to easily handle the current working directory, create and delete directories, list files and folders, and perform file operations."
   ]
  },
  {
   "cell_type": "markdown",
   "id": "7ebb3653-d1cd-41ab-b1ce-1f3cde3deaa8",
   "metadata": {
    "jp-MarkdownHeadingCollapsed": true
   },
   "source": [
    "### Q23) What are the challenges associated with memory management in Python?"
   ]
  },
  {
   "cell_type": "markdown",
   "id": "f693f092-089f-4e52-9bef-bbc25a0c5ae0",
   "metadata": {},
   "source": [
    "#### ANS- The challenges associated with memory management in Python are:-"
   ]
  },
  {
   "cell_type": "markdown",
   "id": "d224aba5-1231-4e0f-afc0-965d97dfa006",
   "metadata": {},
   "source": [
    "#### Garbage Collection Overload\n",
    "#### Memory leaks\n",
    "#### Memory fragmentation\n",
    "#### High memory consumption\n",
    "#### Global Interpreter lock\n",
    "#### Inefficient data structures\n",
    "#### over-optimization"
   ]
  },
  {
   "cell_type": "markdown",
   "id": "9e7e73f9-8203-4031-9891-00cdd988b0bc",
   "metadata": {
    "jp-MarkdownHeadingCollapsed": true
   },
   "source": [
    "### Q24)  How do you raise an exception manually in Python?"
   ]
  },
  {
   "cell_type": "markdown",
   "id": "964f1dff-77c6-4647-bf79-e935629016fd",
   "metadata": {},
   "source": [
    "#### ANS- we can raise an exception manually in Python by \"raise ExceptionType(\"Optional error message\")\""
   ]
  },
  {
   "cell_type": "code",
   "execution_count": null,
   "id": "e8ed0843-d7e8-477c-8727-d34fe5934a1b",
   "metadata": {},
   "outputs": [],
   "source": [
    "#### ex- Raising a built-in exception\n",
    "raise ValueError(\"Invalid value provided\")"
   ]
  },
  {
   "cell_type": "markdown",
   "id": "4b5f7fd2-b753-4b09-956c-ce02c9e6c488",
   "metadata": {
    "jp-MarkdownHeadingCollapsed": true
   },
   "source": [
    "### Q25) Why is it important to use multithreading in certain applications?"
   ]
  },
  {
   "cell_type": "markdown",
   "id": "deac8c95-f486-46cd-bf0d-66c83620782b",
   "metadata": {},
   "source": [
    "#### ANS- Multithreading is important in insertion applications to improve performance, responsiveness, and scalability. It enables applications to perform multiple tasks concurrently, making them faster and more efficient, especially in scenarios involving background processing or handling multiple user requests.Multithreading allows an application to execute multiple tasks concurrently, reducing idle time and improving overall performance, especially on multi-core processors.Multithreading can improve the user experience by making applications faster and more responsive, particularly in scenarios involving background tasks or complex operations."
   ]
  },
  {
   "cell_type": "markdown",
   "id": "063e4bd9-dd5f-49c5-9f9c-9761a5cfe50c",
   "metadata": {},
   "source": [
    "# Practical Questions"
   ]
  },
  {
   "cell_type": "markdown",
   "id": "0b40294c-3ffc-4261-b711-1921a7a764fb",
   "metadata": {
    "jp-MarkdownHeadingCollapsed": true
   },
   "source": [
    "### Q1) How can you open a file for writing in Python and write a string to it?"
   ]
  },
  {
   "cell_type": "markdown",
   "id": "e2e4f0e0-63e1-4fa8-8b1f-40fa30e7488d",
   "metadata": {},
   "source": [
    "#### ANS-"
   ]
  },
  {
   "cell_type": "code",
   "execution_count": 1,
   "id": "c9bf0edb-1fd8-4a8f-b66a-df8121d430f7",
   "metadata": {},
   "outputs": [],
   "source": [
    "file = open(\"file1.txt\", \"w\")"
   ]
  },
  {
   "cell_type": "code",
   "execution_count": 2,
   "id": "f2d69872-8593-45d0-b35c-0a514f0193aa",
   "metadata": {},
   "outputs": [
    {
     "data": {
      "text/plain": [
       "27"
      ]
     },
     "execution_count": 2,
     "metadata": {},
     "output_type": "execute_result"
    }
   ],
   "source": [
    "file.write(\"Hello this is my first line\")"
   ]
  },
  {
   "cell_type": "code",
   "execution_count": 3,
   "id": "ac58c047-724c-4c14-a811-588e9da03c1b",
   "metadata": {},
   "outputs": [],
   "source": [
    "file.close()"
   ]
  },
  {
   "cell_type": "markdown",
   "id": "8c161f90-772a-45b8-b8a2-3d0739f1a689",
   "metadata": {
    "jp-MarkdownHeadingCollapsed": true
   },
   "source": [
    "### Q2) Write a Python program to read the contents of a file and print each line."
   ]
  },
  {
   "cell_type": "markdown",
   "id": "d4f20c31-a009-4fd5-b5f5-6cd0f13aafed",
   "metadata": {},
   "source": [
    "#### ANS-"
   ]
  },
  {
   "cell_type": "code",
   "execution_count": 30,
   "id": "c1330395-2acd-4b33-ae49-ca3ee6994c97",
   "metadata": {},
   "outputs": [],
   "source": [
    "file = open(\"file1.txt\", \"w\")\n",
    "file.write(\"My file\\n\")\n",
    "file.write(\"Good Morning\\n\")\n",
    "file.write(\"Hello Everyone\\n\")\n",
    "file.write(\"Have a good day\\n\")\n",
    "file.close()"
   ]
  },
  {
   "cell_type": "code",
   "execution_count": 6,
   "id": "a52e002e-a232-4ac0-988d-0e21292cba31",
   "metadata": {},
   "outputs": [
    {
     "name": "stdout",
     "output_type": "stream",
     "text": [
      "My file\n",
      "Good Morning\n",
      "Hello Everyone\n",
      "Have a good day\n",
      "\n"
     ]
    }
   ],
   "source": [
    "f = open(\"file1.txt\", 'r')\n",
    "f.seek(0) \n",
    "print(f.read())\n",
    "f.close()"
   ]
  },
  {
   "cell_type": "markdown",
   "id": "535ef6d0-2f50-4940-b25c-65568577c209",
   "metadata": {
    "jp-MarkdownHeadingCollapsed": true
   },
   "source": [
    "### Q3) How would you handle a case where the file doesn't exist while trying to open it for reading?"
   ]
  },
  {
   "cell_type": "markdown",
   "id": "e98b6a75-d93e-466e-a20e-d6f087f7860d",
   "metadata": {},
   "source": [
    "#### ANS-"
   ]
  },
  {
   "cell_type": "code",
   "execution_count": 9,
   "id": "ea56e4ba-c3a7-4bf7-a48f-62c582f3593c",
   "metadata": {},
   "outputs": [
    {
     "ename": "FileNotFoundError",
     "evalue": "[Errno 2] No such file or directory: 'example1.txt'",
     "output_type": "error",
     "traceback": [
      "\u001b[31m---------------------------------------------------------------------------\u001b[39m",
      "\u001b[31mFileNotFoundError\u001b[39m                         Traceback (most recent call last)",
      "\u001b[36mCell\u001b[39m\u001b[36m \u001b[39m\u001b[32mIn[9]\u001b[39m\u001b[32m, line 1\u001b[39m\n\u001b[32m----> \u001b[39m\u001b[32m1\u001b[39m f = \u001b[38;5;28;43mopen\u001b[39;49m\u001b[43m(\u001b[49m\u001b[33;43m\"\u001b[39;49m\u001b[33;43mexample1.txt\u001b[39;49m\u001b[33;43m\"\u001b[39;49m\u001b[43m,\u001b[49m\u001b[43m \u001b[49m\u001b[33;43m\"\u001b[39;49m\u001b[33;43mr\u001b[39;49m\u001b[33;43m\"\u001b[39;49m\u001b[43m)\u001b[49m\n",
      "\u001b[36mFile \u001b[39m\u001b[32m~\\AppData\\Local\\Programs\\Python\\Python313\\Lib\\site-packages\\IPython\\core\\interactiveshell.py:325\u001b[39m, in \u001b[36m_modified_open\u001b[39m\u001b[34m(file, *args, **kwargs)\u001b[39m\n\u001b[32m    318\u001b[39m \u001b[38;5;28;01mif\u001b[39;00m file \u001b[38;5;129;01min\u001b[39;00m {\u001b[32m0\u001b[39m, \u001b[32m1\u001b[39m, \u001b[32m2\u001b[39m}:\n\u001b[32m    319\u001b[39m     \u001b[38;5;28;01mraise\u001b[39;00m \u001b[38;5;167;01mValueError\u001b[39;00m(\n\u001b[32m    320\u001b[39m         \u001b[33mf\u001b[39m\u001b[33m\"\u001b[39m\u001b[33mIPython won\u001b[39m\u001b[33m'\u001b[39m\u001b[33mt let you open fd=\u001b[39m\u001b[38;5;132;01m{\u001b[39;00mfile\u001b[38;5;132;01m}\u001b[39;00m\u001b[33m by default \u001b[39m\u001b[33m\"\u001b[39m\n\u001b[32m    321\u001b[39m         \u001b[33m\"\u001b[39m\u001b[33mas it is likely to crash IPython. If you know what you are doing, \u001b[39m\u001b[33m\"\u001b[39m\n\u001b[32m    322\u001b[39m         \u001b[33m\"\u001b[39m\u001b[33myou can use builtins\u001b[39m\u001b[33m'\u001b[39m\u001b[33m open.\u001b[39m\u001b[33m\"\u001b[39m\n\u001b[32m    323\u001b[39m     )\n\u001b[32m--> \u001b[39m\u001b[32m325\u001b[39m \u001b[38;5;28;01mreturn\u001b[39;00m \u001b[43mio_open\u001b[49m\u001b[43m(\u001b[49m\u001b[43mfile\u001b[49m\u001b[43m,\u001b[49m\u001b[43m \u001b[49m\u001b[43m*\u001b[49m\u001b[43margs\u001b[49m\u001b[43m,\u001b[49m\u001b[43m \u001b[49m\u001b[43m*\u001b[49m\u001b[43m*\u001b[49m\u001b[43mkwargs\u001b[49m\u001b[43m)\u001b[49m\n",
      "\u001b[31mFileNotFoundError\u001b[39m: [Errno 2] No such file or directory: 'example1.txt'"
     ]
    }
   ],
   "source": [
    "f = open(\"example1.txt\", \"r\")"
   ]
  },
  {
   "cell_type": "code",
   "execution_count": 10,
   "id": "dff705e1-79c0-48b8-8923-4e897ee51a59",
   "metadata": {},
   "outputs": [
    {
     "name": "stdout",
     "output_type": "stream",
     "text": [
      "The following file was not created, please re run the code [Errno 2] No such file or directory: 'example1.txt'\n"
     ]
    }
   ],
   "source": [
    "try:\n",
    "    f = open(\"example1.txt\", \"r\")\n",
    "    f.read()\n",
    "except FileNotFoundError as e:\n",
    "    print(\"The following file was not created, please re run the code\", e)"
   ]
  },
  {
   "cell_type": "markdown",
   "id": "0174e389-8165-4881-9112-ec764b04073c",
   "metadata": {
    "jp-MarkdownHeadingCollapsed": true
   },
   "source": [
    "### Q4) Write a Python script that reads from one file and writes its content to another file."
   ]
  },
  {
   "cell_type": "markdown",
   "id": "97cc27b2-37bb-4819-97f7-b6cb96815fdb",
   "metadata": {},
   "source": [
    "#### ANS-"
   ]
  },
  {
   "cell_type": "code",
   "execution_count": 131,
   "id": "b9345a58-51a7-4fed-8535-c50a3141ff22",
   "metadata": {},
   "outputs": [],
   "source": [
    "def copy_file(source_path, destination_path):\n",
    "    try:\n",
    "        with open(source_path, 'r') as source_file:\n",
    "            content = source_file.read()\n",
    "\n",
    "        with open(destination_path, 'w') as destination_file:\n",
    "            destination_file.write(content)\n",
    "\n",
    "        print(f\"Content copied from '{source_path}' to '{destination_path}' successfully.\")\n",
    "    except FileNotFoundError:\n",
    "        print(f\"Error: The file '{source_path}' was not found.\")"
   ]
  },
  {
   "cell_type": "code",
   "execution_count": 133,
   "id": "eeeb2b6e-120f-4950-9382-f97c6f6a9045",
   "metadata": {},
   "outputs": [
    {
     "name": "stdout",
     "output_type": "stream",
     "text": [
      "Content copied from 'file1.txt' to 'example.txt' successfully.\n"
     ]
    }
   ],
   "source": [
    "source=\"file1.txt\"\n",
    "destination='example.txt'    \n",
    "copy_file(source, destination)"
   ]
  },
  {
   "cell_type": "markdown",
   "id": "d8d87b59-cdbf-4050-b3d6-e1b0e687855d",
   "metadata": {
    "jp-MarkdownHeadingCollapsed": true
   },
   "source": [
    "### Q5) How would you catch and handle division by zero error in Python?"
   ]
  },
  {
   "cell_type": "markdown",
   "id": "a355feaf-e524-48ed-825c-31eb8871eff1",
   "metadata": {},
   "source": [
    "#### ANS-"
   ]
  },
  {
   "cell_type": "code",
   "execution_count": 11,
   "id": "b9d28d08-fc3a-47e8-beb3-c415af8f75de",
   "metadata": {},
   "outputs": [
    {
     "ename": "ZeroDivisionError",
     "evalue": "division by zero",
     "output_type": "error",
     "traceback": [
      "\u001b[31m---------------------------------------------------------------------------\u001b[39m",
      "\u001b[31mZeroDivisionError\u001b[39m                         Traceback (most recent call last)",
      "\u001b[36mCell\u001b[39m\u001b[36m \u001b[39m\u001b[32mIn[11]\u001b[39m\u001b[32m, line 1\u001b[39m\n\u001b[32m----> \u001b[39m\u001b[32m1\u001b[39m \u001b[32;43m10\u001b[39;49m\u001b[43m/\u001b[49m\u001b[32;43m0\u001b[39;49m\n",
      "\u001b[31mZeroDivisionError\u001b[39m: division by zero"
     ]
    }
   ],
   "source": [
    "10/0"
   ]
  },
  {
   "cell_type": "code",
   "execution_count": 12,
   "id": "16a09716-a23b-41ac-b546-8e2fa9942aaf",
   "metadata": {},
   "outputs": [
    {
     "name": "stdout",
     "output_type": "stream",
     "text": [
      "Here I am handling the zero divison error: division by zero\n"
     ]
    }
   ],
   "source": [
    "try:\n",
    "    10/0 #suspicion\n",
    "except ZeroDivisionError as e:\n",
    "    print(\"Here I am handling the zero divison error:\", e)"
   ]
  },
  {
   "cell_type": "markdown",
   "id": "23715c60-6755-4d99-9753-c58f99bb6b8c",
   "metadata": {
    "jp-MarkdownHeadingCollapsed": true
   },
   "source": [
    "### Q6) Write a Python program that logs an error message to a log file when a division by zero exception occurs."
   ]
  },
  {
   "cell_type": "markdown",
   "id": "b1f53575-f005-4fe1-9c3c-f2b6aa7b581e",
   "metadata": {},
   "source": [
    "#### ANS-"
   ]
  },
  {
   "cell_type": "code",
   "execution_count": 27,
   "id": "18c629c5-5567-429c-9dbb-b7edbc49c094",
   "metadata": {},
   "outputs": [],
   "source": [
    "import logging\n",
    "logging.basicConfig(filename = \"program1.log\", level = logging.DEBUG)\n",
    "try:\n",
    "    10/0\n",
    "except ZeroDivisionError as e:\n",
    "    logging.error(f\"My file was not found {e}\")"
   ]
  },
  {
   "cell_type": "code",
   "execution_count": null,
   "id": "04e8c938-8afb-4e1a-9f5e-f51a457d0857",
   "metadata": {},
   "outputs": [],
   "source": []
  },
  {
   "cell_type": "markdown",
   "id": "a9c063c4-620c-4186-8582-b72a093d673d",
   "metadata": {
    "jp-MarkdownHeadingCollapsed": true
   },
   "source": [
    "### Q7) How do you log information at different levels (INFO, ERROR, WARNING) in Python using the logging module?"
   ]
  },
  {
   "cell_type": "markdown",
   "id": "1318ed3d-1d3c-44b5-8f1e-679678b1ddfa",
   "metadata": {},
   "source": [
    "#### ANS-"
   ]
  },
  {
   "cell_type": "code",
   "execution_count": 112,
   "id": "8c4a1078-ed64-43b8-9c3f-03cc00715f86",
   "metadata": {},
   "outputs": [],
   "source": [
    "import logging\n",
    "logging.basicConfig(filename = \"test_new.log\", level = logging.DEBUG, format = '%(asctime)s %(message)s')"
   ]
  },
  {
   "cell_type": "code",
   "execution_count": 113,
   "id": "0db52526-cb8e-4444-b208-ad19f35a38f2",
   "metadata": {},
   "outputs": [],
   "source": [
    "logging.info(\"Info message being logged!!\")\n",
    "logging.warning(\"Warning message being logged!!\")\n",
    "logging.error(\"Error!!\")"
   ]
  },
  {
   "cell_type": "markdown",
   "id": "b8cc31c2-8ba1-4529-8978-db0f5e4508c6",
   "metadata": {
    "jp-MarkdownHeadingCollapsed": true
   },
   "source": [
    "### Q8) Write a program to handle a file opening error using exception handling."
   ]
  },
  {
   "cell_type": "markdown",
   "id": "bf3e94b4-02f0-4634-84af-7119e0549778",
   "metadata": {},
   "source": [
    "#### ANS-"
   ]
  },
  {
   "cell_type": "code",
   "execution_count": 28,
   "id": "42605912-5db3-4ca3-a34f-bed299567816",
   "metadata": {},
   "outputs": [],
   "source": [
    "def test(file):\n",
    "    try:\n",
    "        f = open(file, \"w\")\n",
    "        f.write(\"Anything being written\")\n",
    "    except FileNotFoundError as e:\n",
    "        print(f\"My file was not found {e}\")\n",
    "    finally:\n",
    "        f.close()"
   ]
  },
  {
   "cell_type": "code",
   "execution_count": null,
   "id": "f2dc34ff-4f31-4613-a0a6-d8a340b2f1b8",
   "metadata": {},
   "outputs": [],
   "source": []
  },
  {
   "cell_type": "markdown",
   "id": "88352c80-954b-47ff-b95e-0123aa96fb86",
   "metadata": {
    "jp-MarkdownHeadingCollapsed": true
   },
   "source": [
    "### Q9) How can you read a file line by line and store its content in a list in Python?"
   ]
  },
  {
   "cell_type": "markdown",
   "id": "7cc12dc8-8cf2-41f0-b0d6-4d7532f6adab",
   "metadata": {
    "jp-MarkdownHeadingCollapsed": true
   },
   "source": [
    "#### ANS-"
   ]
  },
  {
   "cell_type": "code",
   "execution_count": 32,
   "id": "57319964-2138-4d56-ada8-06dac8541a63",
   "metadata": {},
   "outputs": [],
   "source": [
    "file = open(\"file1.txt\", \"w\")\n",
    "file.write(\"My file\\n\")\n",
    "file.write(\"Good Morning\\n\")\n",
    "file.write(\"Hello Everyone\\n\")\n",
    "file.write(\"Have a good day\\n\")\n",
    "file.close()"
   ]
  },
  {
   "cell_type": "code",
   "execution_count": 33,
   "id": "c5c3b7ed-c87d-4e48-a708-df3ea53d5565",
   "metadata": {},
   "outputs": [
    {
     "name": "stdout",
     "output_type": "stream",
     "text": [
      "['My file\\n', 'Good Morning\\n', 'Hello Everyone\\n', 'Have a good day\\n']\n"
     ]
    }
   ],
   "source": [
    "f = open(\"file1.txt\", 'r')\n",
    "print(f.readlines()) \n",
    "f.close()"
   ]
  },
  {
   "cell_type": "code",
   "execution_count": null,
   "id": "f100aec4-bb63-403d-b024-55cd366c6f04",
   "metadata": {},
   "outputs": [],
   "source": []
  },
  {
   "cell_type": "markdown",
   "id": "7d8d8bee-a1cc-4fc3-b666-c398fdd41591",
   "metadata": {
    "jp-MarkdownHeadingCollapsed": true
   },
   "source": [
    "### Q10) How can you append data to an existing file in Python?"
   ]
  },
  {
   "cell_type": "markdown",
   "id": "236d1ed7-c106-44a8-b289-db1cef254d61",
   "metadata": {},
   "source": [
    "#### ANS-"
   ]
  },
  {
   "cell_type": "code",
   "execution_count": 38,
   "id": "a44f9351-50a7-4f99-8142-fee602fc221c",
   "metadata": {},
   "outputs": [],
   "source": [
    "file = open(\"file1.txt\", \"a\") \n",
    "file.write(\"Tata\")\n",
    "file.close()"
   ]
  },
  {
   "cell_type": "code",
   "execution_count": null,
   "id": "fc01666a-4881-4d5e-b3b6-e8fb549c577e",
   "metadata": {},
   "outputs": [],
   "source": []
  },
  {
   "cell_type": "markdown",
   "id": "f52b8821-f048-4017-8e47-a1ed1c942973",
   "metadata": {
    "jp-MarkdownHeadingCollapsed": true
   },
   "source": [
    "### Q11) Write a Python program that uses a try-except block to handle an error when attempting to access a dictionary key that doesn't exist."
   ]
  },
  {
   "cell_type": "markdown",
   "id": "f24478cd-2b0e-49b4-8a96-a48c7e2f1e8b",
   "metadata": {},
   "source": [
    "#### ANS-"
   ]
  },
  {
   "cell_type": "code",
   "execution_count": 39,
   "id": "3baa11b7-c3a6-4e49-a7f5-d0d20686e928",
   "metadata": {},
   "outputs": [
    {
     "name": "stdout",
     "output_type": "stream",
     "text": [
      "The key is not found 'age'\n"
     ]
    }
   ],
   "source": [
    "try:\n",
    "    d = {\"name\": \"Ajay\", \"class\": \"ds\"}\n",
    "    d[\"age\"]\n",
    "except KeyError as e:\n",
    "    print(\"The key is not found\", e)"
   ]
  },
  {
   "cell_type": "code",
   "execution_count": null,
   "id": "d41b86c6-44b8-4f05-909a-2a10f51069b8",
   "metadata": {},
   "outputs": [],
   "source": []
  },
  {
   "cell_type": "markdown",
   "id": "9232fb1c-4f71-4d7e-9554-5b48fd3310ed",
   "metadata": {
    "jp-MarkdownHeadingCollapsed": true
   },
   "source": [
    "### Q12) Write a program that demonstrates using multiple except blocks to handle different types of exceptions."
   ]
  },
  {
   "cell_type": "markdown",
   "id": "82f2f7b2-89a0-431a-8056-be52cb9739aa",
   "metadata": {},
   "source": [
    "#### ANS-"
   ]
  },
  {
   "cell_type": "code",
   "execution_count": 47,
   "id": "41216c5b-63b2-4736-8e62-495b3138dcf6",
   "metadata": {},
   "outputs": [],
   "source": [
    "def calculate(num,den):\n",
    "    try:\n",
    "        result=num/den\n",
    "        print(\"Result\",result)\n",
    "    except ZeroDivisionError as e:\n",
    "        print(\"The divison is not possible due the error>>\", e)\n",
    "    except TypeError as e:\n",
    "        print(\"This is value error>>\", e)   \n",
    "    except Exception as e: \n",
    "        print(\"An unexpected error occured\", e)     "
   ]
  },
  {
   "cell_type": "code",
   "execution_count": 48,
   "id": "339bb4fd-d6a4-47e4-9da5-3e60ff59fbb3",
   "metadata": {},
   "outputs": [
    {
     "name": "stdout",
     "output_type": "stream",
     "text": [
      "The divison is not possible due the error>> division by zero\n"
     ]
    }
   ],
   "source": [
    "calculate(10,0)"
   ]
  },
  {
   "cell_type": "code",
   "execution_count": 49,
   "id": "238d6b0e-2be8-47fb-aca3-1c19de11f5bc",
   "metadata": {},
   "outputs": [
    {
     "name": "stdout",
     "output_type": "stream",
     "text": [
      "This is value error>> unsupported operand type(s) for /: 'int' and 'str'\n"
     ]
    }
   ],
   "source": [
    "calculate(10,\"string\")"
   ]
  },
  {
   "cell_type": "markdown",
   "id": "4bd08e9a-1dc3-410e-82e5-0e15048d7418",
   "metadata": {
    "jp-MarkdownHeadingCollapsed": true
   },
   "source": [
    "### Q13) How would you check if a file exists before attempting to read it in Python?"
   ]
  },
  {
   "cell_type": "markdown",
   "id": "dceddde0-ba42-4e8f-843c-a19faf58174c",
   "metadata": {},
   "source": [
    "#### ANS-"
   ]
  },
  {
   "cell_type": "code",
   "execution_count": 55,
   "id": "c52d58bd-c9d8-44a8-9d69-7156090e939d",
   "metadata": {},
   "outputs": [],
   "source": [
    "import os"
   ]
  },
  {
   "cell_type": "code",
   "execution_count": 56,
   "id": "03a0405e-d37b-4131-ba97-2f42bf1df2ee",
   "metadata": {},
   "outputs": [
    {
     "data": {
      "text/plain": [
       "64"
      ]
     },
     "execution_count": 56,
     "metadata": {},
     "output_type": "execute_result"
    }
   ],
   "source": [
    "os.path.getsize(\"file1.txt\")   #by using os.path.getsize(\"filename\") ,we can check if a file exists ."
   ]
  },
  {
   "cell_type": "code",
   "execution_count": 57,
   "id": "ab30efa4-c158-48f9-bc0e-e94f10cfc3ed",
   "metadata": {},
   "outputs": [
    {
     "name": "stdout",
     "output_type": "stream",
     "text": [
      "My file\n",
      "Good Morning\n",
      "Hello Everyone\n",
      "Have a good day\n",
      "TataTata\n"
     ]
    }
   ],
   "source": [
    "with open(\"file1.txt\", \"r\") as file:\n",
    "    data = file.read()\n",
    "print(data)"
   ]
  },
  {
   "cell_type": "markdown",
   "id": "c41e6c73-ee68-4cf8-83ce-0cfbb24ca7f3",
   "metadata": {
    "jp-MarkdownHeadingCollapsed": true
   },
   "source": [
    "### Q14) Write a program that uses the logging module to log both informational and error messages."
   ]
  },
  {
   "cell_type": "markdown",
   "id": "9207d23b-d49a-4478-b861-1fdb13258485",
   "metadata": {},
   "source": [
    "#### ANS-"
   ]
  },
  {
   "cell_type": "code",
   "execution_count": 100,
   "id": "7659e990-fc0f-4d58-8b0a-a46d47b45357",
   "metadata": {},
   "outputs": [],
   "source": [
    "import logging\n",
    "logging.basicConfig(filename = \"program1.log\", level = logging.DEBUG)"
   ]
  },
  {
   "cell_type": "code",
   "execution_count": 106,
   "id": "a471ff0b-4bd5-43de-a337-dd8c380cb6d4",
   "metadata": {},
   "outputs": [],
   "source": [
    "def divide(a,b):\n",
    "    logging.info(f\"Attempting to divide{a} by {b}\")\n",
    "    try:\n",
    "        result=a/b\n",
    "        logging.info(f\"Division successful: {result}\")\n",
    "        return result\n",
    "    except ZeroDivisionError as e:\n",
    "        logging.error(\"Division by zero error\", exc_info=True) \n",
    "        return None"
   ]
  },
  {
   "cell_type": "code",
   "execution_count": 107,
   "id": "3d03f5ec-ad40-4b2e-82ea-b9d9e4abf475",
   "metadata": {},
   "outputs": [
    {
     "data": {
      "text/plain": [
       "5.0"
      ]
     },
     "execution_count": 107,
     "metadata": {},
     "output_type": "execute_result"
    }
   ],
   "source": [
    "divide(10,2)"
   ]
  },
  {
   "cell_type": "code",
   "execution_count": 109,
   "id": "549c8a86-38de-4288-b121-04d74570dc90",
   "metadata": {},
   "outputs": [],
   "source": [
    "divide(4,0)"
   ]
  },
  {
   "cell_type": "markdown",
   "id": "db72cb02-2025-4093-834e-10f0c99ca10a",
   "metadata": {
    "jp-MarkdownHeadingCollapsed": true
   },
   "source": [
    "### Q15) Write a Python program that prints the content of a file and handles the case when the file is empty."
   ]
  },
  {
   "cell_type": "markdown",
   "id": "f799dff2-17d6-4c09-b0e6-be40b31b84e6",
   "metadata": {},
   "source": [
    "#### ANS-"
   ]
  },
  {
   "cell_type": "code",
   "execution_count": 64,
   "id": "79e133a2-a3bf-4688-80d2-24763c412033",
   "metadata": {},
   "outputs": [],
   "source": [
    "def print_file_content(file_path):\n",
    "    try:\n",
    "        with open(file_path, 'r') as file:\n",
    "            content = file.read()\n",
    "            if not content:\n",
    "                print(\"The file is empty.\")\n",
    "            else:\n",
    "                print(content)\n",
    "    except Exception as e:\n",
    "        print(f\"An error occurred: {e}\")\n"
   ]
  },
  {
   "cell_type": "code",
   "execution_count": 65,
   "id": "fee451a3-2e32-4543-bce4-7ed0187d2731",
   "metadata": {},
   "outputs": [],
   "source": [
    "file_path = \"my_file.txt\""
   ]
  },
  {
   "cell_type": "code",
   "execution_count": 66,
   "id": "c93576d1-e89d-41dd-86a1-9db3e2b295c7",
   "metadata": {},
   "outputs": [
    {
     "name": "stdout",
     "output_type": "stream",
     "text": [
      "The file is empty.\n"
     ]
    }
   ],
   "source": [
    "with open(file_path, 'w') as f:\n",
    "    pass\n",
    "print_file_content(file_path)"
   ]
  },
  {
   "cell_type": "code",
   "execution_count": 67,
   "id": "d7e8621b-43f3-421c-9030-b755ef3bb992",
   "metadata": {},
   "outputs": [
    {
     "name": "stdout",
     "output_type": "stream",
     "text": [
      "This is a test.\n",
      "Another line.\n"
     ]
    }
   ],
   "source": [
    "with open(file_path, 'w') as f:\n",
    "    f.write(\"This is a test.\\nAnother line.\")\n",
    "print_file_content(file_path)    "
   ]
  },
  {
   "cell_type": "markdown",
   "id": "f2228843-0291-4700-839f-d981913c9b14",
   "metadata": {
    "jp-MarkdownHeadingCollapsed": true
   },
   "source": [
    "### Q16) Demonstrate how to use memory profiling to check the memory usage of a small program."
   ]
  },
  {
   "cell_type": "markdown",
   "id": "2971a896-7a92-4e42-a4f5-7a20fe602773",
   "metadata": {},
   "source": [
    "#### ANS-"
   ]
  },
  {
   "cell_type": "code",
   "execution_count": 176,
   "id": "10e145f3-03e8-458c-960a-7af7fc633b48",
   "metadata": {},
   "outputs": [
    {
     "name": "stdout",
     "output_type": "stream",
     "text": [
      "Requirement already satisfied: memory-profiler in c:\\users\\kiit\\appdata\\local\\programs\\python\\python313\\lib\\site-packages (0.61.0)\n",
      "Requirement already satisfied: ipython in c:\\users\\kiit\\appdata\\local\\programs\\python\\python313\\lib\\site-packages (9.0.2)\n",
      "Requirement already satisfied: psutil in c:\\users\\kiit\\appdata\\local\\programs\\python\\python313\\lib\\site-packages (from memory-profiler) (7.0.0)\n",
      "Requirement already satisfied: colorama in c:\\users\\kiit\\appdata\\local\\programs\\python\\python313\\lib\\site-packages (from ipython) (0.4.6)\n",
      "Requirement already satisfied: decorator in c:\\users\\kiit\\appdata\\local\\programs\\python\\python313\\lib\\site-packages (from ipython) (5.2.1)\n",
      "Requirement already satisfied: ipython-pygments-lexers in c:\\users\\kiit\\appdata\\local\\programs\\python\\python313\\lib\\site-packages (from ipython) (1.1.1)\n",
      "Requirement already satisfied: jedi>=0.16 in c:\\users\\kiit\\appdata\\local\\programs\\python\\python313\\lib\\site-packages (from ipython) (0.19.2)\n",
      "Requirement already satisfied: matplotlib-inline in c:\\users\\kiit\\appdata\\local\\programs\\python\\python313\\lib\\site-packages (from ipython) (0.1.7)\n",
      "Requirement already satisfied: prompt_toolkit<3.1.0,>=3.0.41 in c:\\users\\kiit\\appdata\\local\\programs\\python\\python313\\lib\\site-packages (from ipython) (3.0.50)\n",
      "Requirement already satisfied: pygments>=2.4.0 in c:\\users\\kiit\\appdata\\local\\programs\\python\\python313\\lib\\site-packages (from ipython) (2.19.1)\n",
      "Requirement already satisfied: stack_data in c:\\users\\kiit\\appdata\\local\\programs\\python\\python313\\lib\\site-packages (from ipython) (0.6.3)\n",
      "Requirement already satisfied: traitlets>=5.13.0 in c:\\users\\kiit\\appdata\\local\\programs\\python\\python313\\lib\\site-packages (from ipython) (5.14.3)\n",
      "Requirement already satisfied: parso<0.9.0,>=0.8.4 in c:\\users\\kiit\\appdata\\local\\programs\\python\\python313\\lib\\site-packages (from jedi>=0.16->ipython) (0.8.4)\n",
      "Requirement already satisfied: wcwidth in c:\\users\\kiit\\appdata\\local\\programs\\python\\python313\\lib\\site-packages (from prompt_toolkit<3.1.0,>=3.0.41->ipython) (0.2.13)\n",
      "Requirement already satisfied: executing>=1.2.0 in c:\\users\\kiit\\appdata\\local\\programs\\python\\python313\\lib\\site-packages (from stack_data->ipython) (2.2.0)\n",
      "Requirement already satisfied: asttokens>=2.1.0 in c:\\users\\kiit\\appdata\\local\\programs\\python\\python313\\lib\\site-packages (from stack_data->ipython) (3.0.0)\n",
      "Requirement already satisfied: pure-eval in c:\\users\\kiit\\appdata\\local\\programs\\python\\python313\\lib\\site-packages (from stack_data->ipython) (0.2.3)\n"
     ]
    },
    {
     "name": "stderr",
     "output_type": "stream",
     "text": [
      "\n",
      "[notice] A new release of pip is available: 24.3.1 -> 25.1.1\n",
      "[notice] To update, run: python.exe -m pip install --upgrade pip\n"
     ]
    }
   ],
   "source": [
    "!pip install memory-profiler ipython"
   ]
  },
  {
   "cell_type": "code",
   "execution_count": 177,
   "id": "a00fff02-4b81-4401-a939-cf296634b91b",
   "metadata": {},
   "outputs": [
    {
     "name": "stdout",
     "output_type": "stream",
     "text": [
      "The memory_profiler extension is already loaded. To reload it, use:\n",
      "  %reload_ext memory_profiler\n"
     ]
    }
   ],
   "source": [
    "%load_ext memory_profiler"
   ]
  },
  {
   "cell_type": "code",
   "execution_count": 178,
   "id": "5f9662b2-5764-486a-9b36-1c1b9f756e90",
   "metadata": {},
   "outputs": [
    {
     "name": "stdout",
     "output_type": "stream",
     "text": [
      "peak memory: 127.88 MiB, increment: 0.01 MiB\n"
     ]
    }
   ],
   "source": [
    "%memit [x*2 for x in range(10*6)]"
   ]
  },
  {
   "cell_type": "code",
   "execution_count": 181,
   "id": "7fb0a50d-b34e-4ebb-9577-afebcb4837e6",
   "metadata": {},
   "outputs": [],
   "source": [
    "def process_data():\n",
    "    a = [i for i in range(1000)]\n",
    "    b = [i * 2 for i in a]\n",
    "    del a\n",
    "    return b"
   ]
  },
  {
   "cell_type": "code",
   "execution_count": 182,
   "id": "9aaf98c5-4119-4838-bdf7-fbe7b4e44e8f",
   "metadata": {},
   "outputs": [
    {
     "data": {
      "text/plain": [
       "[0,\n",
       " 2,\n",
       " 4,\n",
       " 6,\n",
       " 8,\n",
       " 10,\n",
       " 12,\n",
       " 14,\n",
       " 16,\n",
       " 18,\n",
       " 20,\n",
       " 22,\n",
       " 24,\n",
       " 26,\n",
       " 28,\n",
       " 30,\n",
       " 32,\n",
       " 34,\n",
       " 36,\n",
       " 38,\n",
       " 40,\n",
       " 42,\n",
       " 44,\n",
       " 46,\n",
       " 48,\n",
       " 50,\n",
       " 52,\n",
       " 54,\n",
       " 56,\n",
       " 58,\n",
       " 60,\n",
       " 62,\n",
       " 64,\n",
       " 66,\n",
       " 68,\n",
       " 70,\n",
       " 72,\n",
       " 74,\n",
       " 76,\n",
       " 78,\n",
       " 80,\n",
       " 82,\n",
       " 84,\n",
       " 86,\n",
       " 88,\n",
       " 90,\n",
       " 92,\n",
       " 94,\n",
       " 96,\n",
       " 98,\n",
       " 100,\n",
       " 102,\n",
       " 104,\n",
       " 106,\n",
       " 108,\n",
       " 110,\n",
       " 112,\n",
       " 114,\n",
       " 116,\n",
       " 118,\n",
       " 120,\n",
       " 122,\n",
       " 124,\n",
       " 126,\n",
       " 128,\n",
       " 130,\n",
       " 132,\n",
       " 134,\n",
       " 136,\n",
       " 138,\n",
       " 140,\n",
       " 142,\n",
       " 144,\n",
       " 146,\n",
       " 148,\n",
       " 150,\n",
       " 152,\n",
       " 154,\n",
       " 156,\n",
       " 158,\n",
       " 160,\n",
       " 162,\n",
       " 164,\n",
       " 166,\n",
       " 168,\n",
       " 170,\n",
       " 172,\n",
       " 174,\n",
       " 176,\n",
       " 178,\n",
       " 180,\n",
       " 182,\n",
       " 184,\n",
       " 186,\n",
       " 188,\n",
       " 190,\n",
       " 192,\n",
       " 194,\n",
       " 196,\n",
       " 198,\n",
       " 200,\n",
       " 202,\n",
       " 204,\n",
       " 206,\n",
       " 208,\n",
       " 210,\n",
       " 212,\n",
       " 214,\n",
       " 216,\n",
       " 218,\n",
       " 220,\n",
       " 222,\n",
       " 224,\n",
       " 226,\n",
       " 228,\n",
       " 230,\n",
       " 232,\n",
       " 234,\n",
       " 236,\n",
       " 238,\n",
       " 240,\n",
       " 242,\n",
       " 244,\n",
       " 246,\n",
       " 248,\n",
       " 250,\n",
       " 252,\n",
       " 254,\n",
       " 256,\n",
       " 258,\n",
       " 260,\n",
       " 262,\n",
       " 264,\n",
       " 266,\n",
       " 268,\n",
       " 270,\n",
       " 272,\n",
       " 274,\n",
       " 276,\n",
       " 278,\n",
       " 280,\n",
       " 282,\n",
       " 284,\n",
       " 286,\n",
       " 288,\n",
       " 290,\n",
       " 292,\n",
       " 294,\n",
       " 296,\n",
       " 298,\n",
       " 300,\n",
       " 302,\n",
       " 304,\n",
       " 306,\n",
       " 308,\n",
       " 310,\n",
       " 312,\n",
       " 314,\n",
       " 316,\n",
       " 318,\n",
       " 320,\n",
       " 322,\n",
       " 324,\n",
       " 326,\n",
       " 328,\n",
       " 330,\n",
       " 332,\n",
       " 334,\n",
       " 336,\n",
       " 338,\n",
       " 340,\n",
       " 342,\n",
       " 344,\n",
       " 346,\n",
       " 348,\n",
       " 350,\n",
       " 352,\n",
       " 354,\n",
       " 356,\n",
       " 358,\n",
       " 360,\n",
       " 362,\n",
       " 364,\n",
       " 366,\n",
       " 368,\n",
       " 370,\n",
       " 372,\n",
       " 374,\n",
       " 376,\n",
       " 378,\n",
       " 380,\n",
       " 382,\n",
       " 384,\n",
       " 386,\n",
       " 388,\n",
       " 390,\n",
       " 392,\n",
       " 394,\n",
       " 396,\n",
       " 398,\n",
       " 400,\n",
       " 402,\n",
       " 404,\n",
       " 406,\n",
       " 408,\n",
       " 410,\n",
       " 412,\n",
       " 414,\n",
       " 416,\n",
       " 418,\n",
       " 420,\n",
       " 422,\n",
       " 424,\n",
       " 426,\n",
       " 428,\n",
       " 430,\n",
       " 432,\n",
       " 434,\n",
       " 436,\n",
       " 438,\n",
       " 440,\n",
       " 442,\n",
       " 444,\n",
       " 446,\n",
       " 448,\n",
       " 450,\n",
       " 452,\n",
       " 454,\n",
       " 456,\n",
       " 458,\n",
       " 460,\n",
       " 462,\n",
       " 464,\n",
       " 466,\n",
       " 468,\n",
       " 470,\n",
       " 472,\n",
       " 474,\n",
       " 476,\n",
       " 478,\n",
       " 480,\n",
       " 482,\n",
       " 484,\n",
       " 486,\n",
       " 488,\n",
       " 490,\n",
       " 492,\n",
       " 494,\n",
       " 496,\n",
       " 498,\n",
       " 500,\n",
       " 502,\n",
       " 504,\n",
       " 506,\n",
       " 508,\n",
       " 510,\n",
       " 512,\n",
       " 514,\n",
       " 516,\n",
       " 518,\n",
       " 520,\n",
       " 522,\n",
       " 524,\n",
       " 526,\n",
       " 528,\n",
       " 530,\n",
       " 532,\n",
       " 534,\n",
       " 536,\n",
       " 538,\n",
       " 540,\n",
       " 542,\n",
       " 544,\n",
       " 546,\n",
       " 548,\n",
       " 550,\n",
       " 552,\n",
       " 554,\n",
       " 556,\n",
       " 558,\n",
       " 560,\n",
       " 562,\n",
       " 564,\n",
       " 566,\n",
       " 568,\n",
       " 570,\n",
       " 572,\n",
       " 574,\n",
       " 576,\n",
       " 578,\n",
       " 580,\n",
       " 582,\n",
       " 584,\n",
       " 586,\n",
       " 588,\n",
       " 590,\n",
       " 592,\n",
       " 594,\n",
       " 596,\n",
       " 598,\n",
       " 600,\n",
       " 602,\n",
       " 604,\n",
       " 606,\n",
       " 608,\n",
       " 610,\n",
       " 612,\n",
       " 614,\n",
       " 616,\n",
       " 618,\n",
       " 620,\n",
       " 622,\n",
       " 624,\n",
       " 626,\n",
       " 628,\n",
       " 630,\n",
       " 632,\n",
       " 634,\n",
       " 636,\n",
       " 638,\n",
       " 640,\n",
       " 642,\n",
       " 644,\n",
       " 646,\n",
       " 648,\n",
       " 650,\n",
       " 652,\n",
       " 654,\n",
       " 656,\n",
       " 658,\n",
       " 660,\n",
       " 662,\n",
       " 664,\n",
       " 666,\n",
       " 668,\n",
       " 670,\n",
       " 672,\n",
       " 674,\n",
       " 676,\n",
       " 678,\n",
       " 680,\n",
       " 682,\n",
       " 684,\n",
       " 686,\n",
       " 688,\n",
       " 690,\n",
       " 692,\n",
       " 694,\n",
       " 696,\n",
       " 698,\n",
       " 700,\n",
       " 702,\n",
       " 704,\n",
       " 706,\n",
       " 708,\n",
       " 710,\n",
       " 712,\n",
       " 714,\n",
       " 716,\n",
       " 718,\n",
       " 720,\n",
       " 722,\n",
       " 724,\n",
       " 726,\n",
       " 728,\n",
       " 730,\n",
       " 732,\n",
       " 734,\n",
       " 736,\n",
       " 738,\n",
       " 740,\n",
       " 742,\n",
       " 744,\n",
       " 746,\n",
       " 748,\n",
       " 750,\n",
       " 752,\n",
       " 754,\n",
       " 756,\n",
       " 758,\n",
       " 760,\n",
       " 762,\n",
       " 764,\n",
       " 766,\n",
       " 768,\n",
       " 770,\n",
       " 772,\n",
       " 774,\n",
       " 776,\n",
       " 778,\n",
       " 780,\n",
       " 782,\n",
       " 784,\n",
       " 786,\n",
       " 788,\n",
       " 790,\n",
       " 792,\n",
       " 794,\n",
       " 796,\n",
       " 798,\n",
       " 800,\n",
       " 802,\n",
       " 804,\n",
       " 806,\n",
       " 808,\n",
       " 810,\n",
       " 812,\n",
       " 814,\n",
       " 816,\n",
       " 818,\n",
       " 820,\n",
       " 822,\n",
       " 824,\n",
       " 826,\n",
       " 828,\n",
       " 830,\n",
       " 832,\n",
       " 834,\n",
       " 836,\n",
       " 838,\n",
       " 840,\n",
       " 842,\n",
       " 844,\n",
       " 846,\n",
       " 848,\n",
       " 850,\n",
       " 852,\n",
       " 854,\n",
       " 856,\n",
       " 858,\n",
       " 860,\n",
       " 862,\n",
       " 864,\n",
       " 866,\n",
       " 868,\n",
       " 870,\n",
       " 872,\n",
       " 874,\n",
       " 876,\n",
       " 878,\n",
       " 880,\n",
       " 882,\n",
       " 884,\n",
       " 886,\n",
       " 888,\n",
       " 890,\n",
       " 892,\n",
       " 894,\n",
       " 896,\n",
       " 898,\n",
       " 900,\n",
       " 902,\n",
       " 904,\n",
       " 906,\n",
       " 908,\n",
       " 910,\n",
       " 912,\n",
       " 914,\n",
       " 916,\n",
       " 918,\n",
       " 920,\n",
       " 922,\n",
       " 924,\n",
       " 926,\n",
       " 928,\n",
       " 930,\n",
       " 932,\n",
       " 934,\n",
       " 936,\n",
       " 938,\n",
       " 940,\n",
       " 942,\n",
       " 944,\n",
       " 946,\n",
       " 948,\n",
       " 950,\n",
       " 952,\n",
       " 954,\n",
       " 956,\n",
       " 958,\n",
       " 960,\n",
       " 962,\n",
       " 964,\n",
       " 966,\n",
       " 968,\n",
       " 970,\n",
       " 972,\n",
       " 974,\n",
       " 976,\n",
       " 978,\n",
       " 980,\n",
       " 982,\n",
       " 984,\n",
       " 986,\n",
       " 988,\n",
       " 990,\n",
       " 992,\n",
       " 994,\n",
       " 996,\n",
       " 998,\n",
       " 1000,\n",
       " 1002,\n",
       " 1004,\n",
       " 1006,\n",
       " 1008,\n",
       " 1010,\n",
       " 1012,\n",
       " 1014,\n",
       " 1016,\n",
       " 1018,\n",
       " 1020,\n",
       " 1022,\n",
       " 1024,\n",
       " 1026,\n",
       " 1028,\n",
       " 1030,\n",
       " 1032,\n",
       " 1034,\n",
       " 1036,\n",
       " 1038,\n",
       " 1040,\n",
       " 1042,\n",
       " 1044,\n",
       " 1046,\n",
       " 1048,\n",
       " 1050,\n",
       " 1052,\n",
       " 1054,\n",
       " 1056,\n",
       " 1058,\n",
       " 1060,\n",
       " 1062,\n",
       " 1064,\n",
       " 1066,\n",
       " 1068,\n",
       " 1070,\n",
       " 1072,\n",
       " 1074,\n",
       " 1076,\n",
       " 1078,\n",
       " 1080,\n",
       " 1082,\n",
       " 1084,\n",
       " 1086,\n",
       " 1088,\n",
       " 1090,\n",
       " 1092,\n",
       " 1094,\n",
       " 1096,\n",
       " 1098,\n",
       " 1100,\n",
       " 1102,\n",
       " 1104,\n",
       " 1106,\n",
       " 1108,\n",
       " 1110,\n",
       " 1112,\n",
       " 1114,\n",
       " 1116,\n",
       " 1118,\n",
       " 1120,\n",
       " 1122,\n",
       " 1124,\n",
       " 1126,\n",
       " 1128,\n",
       " 1130,\n",
       " 1132,\n",
       " 1134,\n",
       " 1136,\n",
       " 1138,\n",
       " 1140,\n",
       " 1142,\n",
       " 1144,\n",
       " 1146,\n",
       " 1148,\n",
       " 1150,\n",
       " 1152,\n",
       " 1154,\n",
       " 1156,\n",
       " 1158,\n",
       " 1160,\n",
       " 1162,\n",
       " 1164,\n",
       " 1166,\n",
       " 1168,\n",
       " 1170,\n",
       " 1172,\n",
       " 1174,\n",
       " 1176,\n",
       " 1178,\n",
       " 1180,\n",
       " 1182,\n",
       " 1184,\n",
       " 1186,\n",
       " 1188,\n",
       " 1190,\n",
       " 1192,\n",
       " 1194,\n",
       " 1196,\n",
       " 1198,\n",
       " 1200,\n",
       " 1202,\n",
       " 1204,\n",
       " 1206,\n",
       " 1208,\n",
       " 1210,\n",
       " 1212,\n",
       " 1214,\n",
       " 1216,\n",
       " 1218,\n",
       " 1220,\n",
       " 1222,\n",
       " 1224,\n",
       " 1226,\n",
       " 1228,\n",
       " 1230,\n",
       " 1232,\n",
       " 1234,\n",
       " 1236,\n",
       " 1238,\n",
       " 1240,\n",
       " 1242,\n",
       " 1244,\n",
       " 1246,\n",
       " 1248,\n",
       " 1250,\n",
       " 1252,\n",
       " 1254,\n",
       " 1256,\n",
       " 1258,\n",
       " 1260,\n",
       " 1262,\n",
       " 1264,\n",
       " 1266,\n",
       " 1268,\n",
       " 1270,\n",
       " 1272,\n",
       " 1274,\n",
       " 1276,\n",
       " 1278,\n",
       " 1280,\n",
       " 1282,\n",
       " 1284,\n",
       " 1286,\n",
       " 1288,\n",
       " 1290,\n",
       " 1292,\n",
       " 1294,\n",
       " 1296,\n",
       " 1298,\n",
       " 1300,\n",
       " 1302,\n",
       " 1304,\n",
       " 1306,\n",
       " 1308,\n",
       " 1310,\n",
       " 1312,\n",
       " 1314,\n",
       " 1316,\n",
       " 1318,\n",
       " 1320,\n",
       " 1322,\n",
       " 1324,\n",
       " 1326,\n",
       " 1328,\n",
       " 1330,\n",
       " 1332,\n",
       " 1334,\n",
       " 1336,\n",
       " 1338,\n",
       " 1340,\n",
       " 1342,\n",
       " 1344,\n",
       " 1346,\n",
       " 1348,\n",
       " 1350,\n",
       " 1352,\n",
       " 1354,\n",
       " 1356,\n",
       " 1358,\n",
       " 1360,\n",
       " 1362,\n",
       " 1364,\n",
       " 1366,\n",
       " 1368,\n",
       " 1370,\n",
       " 1372,\n",
       " 1374,\n",
       " 1376,\n",
       " 1378,\n",
       " 1380,\n",
       " 1382,\n",
       " 1384,\n",
       " 1386,\n",
       " 1388,\n",
       " 1390,\n",
       " 1392,\n",
       " 1394,\n",
       " 1396,\n",
       " 1398,\n",
       " 1400,\n",
       " 1402,\n",
       " 1404,\n",
       " 1406,\n",
       " 1408,\n",
       " 1410,\n",
       " 1412,\n",
       " 1414,\n",
       " 1416,\n",
       " 1418,\n",
       " 1420,\n",
       " 1422,\n",
       " 1424,\n",
       " 1426,\n",
       " 1428,\n",
       " 1430,\n",
       " 1432,\n",
       " 1434,\n",
       " 1436,\n",
       " 1438,\n",
       " 1440,\n",
       " 1442,\n",
       " 1444,\n",
       " 1446,\n",
       " 1448,\n",
       " 1450,\n",
       " 1452,\n",
       " 1454,\n",
       " 1456,\n",
       " 1458,\n",
       " 1460,\n",
       " 1462,\n",
       " 1464,\n",
       " 1466,\n",
       " 1468,\n",
       " 1470,\n",
       " 1472,\n",
       " 1474,\n",
       " 1476,\n",
       " 1478,\n",
       " 1480,\n",
       " 1482,\n",
       " 1484,\n",
       " 1486,\n",
       " 1488,\n",
       " 1490,\n",
       " 1492,\n",
       " 1494,\n",
       " 1496,\n",
       " 1498,\n",
       " 1500,\n",
       " 1502,\n",
       " 1504,\n",
       " 1506,\n",
       " 1508,\n",
       " 1510,\n",
       " 1512,\n",
       " 1514,\n",
       " 1516,\n",
       " 1518,\n",
       " 1520,\n",
       " 1522,\n",
       " 1524,\n",
       " 1526,\n",
       " 1528,\n",
       " 1530,\n",
       " 1532,\n",
       " 1534,\n",
       " 1536,\n",
       " 1538,\n",
       " 1540,\n",
       " 1542,\n",
       " 1544,\n",
       " 1546,\n",
       " 1548,\n",
       " 1550,\n",
       " 1552,\n",
       " 1554,\n",
       " 1556,\n",
       " 1558,\n",
       " 1560,\n",
       " 1562,\n",
       " 1564,\n",
       " 1566,\n",
       " 1568,\n",
       " 1570,\n",
       " 1572,\n",
       " 1574,\n",
       " 1576,\n",
       " 1578,\n",
       " 1580,\n",
       " 1582,\n",
       " 1584,\n",
       " 1586,\n",
       " 1588,\n",
       " 1590,\n",
       " 1592,\n",
       " 1594,\n",
       " 1596,\n",
       " 1598,\n",
       " 1600,\n",
       " 1602,\n",
       " 1604,\n",
       " 1606,\n",
       " 1608,\n",
       " 1610,\n",
       " 1612,\n",
       " 1614,\n",
       " 1616,\n",
       " 1618,\n",
       " 1620,\n",
       " 1622,\n",
       " 1624,\n",
       " 1626,\n",
       " 1628,\n",
       " 1630,\n",
       " 1632,\n",
       " 1634,\n",
       " 1636,\n",
       " 1638,\n",
       " 1640,\n",
       " 1642,\n",
       " 1644,\n",
       " 1646,\n",
       " 1648,\n",
       " 1650,\n",
       " 1652,\n",
       " 1654,\n",
       " 1656,\n",
       " 1658,\n",
       " 1660,\n",
       " 1662,\n",
       " 1664,\n",
       " 1666,\n",
       " 1668,\n",
       " 1670,\n",
       " 1672,\n",
       " 1674,\n",
       " 1676,\n",
       " 1678,\n",
       " 1680,\n",
       " 1682,\n",
       " 1684,\n",
       " 1686,\n",
       " 1688,\n",
       " 1690,\n",
       " 1692,\n",
       " 1694,\n",
       " 1696,\n",
       " 1698,\n",
       " 1700,\n",
       " 1702,\n",
       " 1704,\n",
       " 1706,\n",
       " 1708,\n",
       " 1710,\n",
       " 1712,\n",
       " 1714,\n",
       " 1716,\n",
       " 1718,\n",
       " 1720,\n",
       " 1722,\n",
       " 1724,\n",
       " 1726,\n",
       " 1728,\n",
       " 1730,\n",
       " 1732,\n",
       " 1734,\n",
       " 1736,\n",
       " 1738,\n",
       " 1740,\n",
       " 1742,\n",
       " 1744,\n",
       " 1746,\n",
       " 1748,\n",
       " 1750,\n",
       " 1752,\n",
       " 1754,\n",
       " 1756,\n",
       " 1758,\n",
       " 1760,\n",
       " 1762,\n",
       " 1764,\n",
       " 1766,\n",
       " 1768,\n",
       " 1770,\n",
       " 1772,\n",
       " 1774,\n",
       " 1776,\n",
       " 1778,\n",
       " 1780,\n",
       " 1782,\n",
       " 1784,\n",
       " 1786,\n",
       " 1788,\n",
       " 1790,\n",
       " 1792,\n",
       " 1794,\n",
       " 1796,\n",
       " 1798,\n",
       " 1800,\n",
       " 1802,\n",
       " 1804,\n",
       " 1806,\n",
       " 1808,\n",
       " 1810,\n",
       " 1812,\n",
       " 1814,\n",
       " 1816,\n",
       " 1818,\n",
       " 1820,\n",
       " 1822,\n",
       " 1824,\n",
       " 1826,\n",
       " 1828,\n",
       " 1830,\n",
       " 1832,\n",
       " 1834,\n",
       " 1836,\n",
       " 1838,\n",
       " 1840,\n",
       " 1842,\n",
       " 1844,\n",
       " 1846,\n",
       " 1848,\n",
       " 1850,\n",
       " 1852,\n",
       " 1854,\n",
       " 1856,\n",
       " 1858,\n",
       " 1860,\n",
       " 1862,\n",
       " 1864,\n",
       " 1866,\n",
       " 1868,\n",
       " 1870,\n",
       " 1872,\n",
       " 1874,\n",
       " 1876,\n",
       " 1878,\n",
       " 1880,\n",
       " 1882,\n",
       " 1884,\n",
       " 1886,\n",
       " 1888,\n",
       " 1890,\n",
       " 1892,\n",
       " 1894,\n",
       " 1896,\n",
       " 1898,\n",
       " 1900,\n",
       " 1902,\n",
       " 1904,\n",
       " 1906,\n",
       " 1908,\n",
       " 1910,\n",
       " 1912,\n",
       " 1914,\n",
       " 1916,\n",
       " 1918,\n",
       " 1920,\n",
       " 1922,\n",
       " 1924,\n",
       " 1926,\n",
       " 1928,\n",
       " 1930,\n",
       " 1932,\n",
       " 1934,\n",
       " 1936,\n",
       " 1938,\n",
       " 1940,\n",
       " 1942,\n",
       " 1944,\n",
       " 1946,\n",
       " 1948,\n",
       " 1950,\n",
       " 1952,\n",
       " 1954,\n",
       " 1956,\n",
       " 1958,\n",
       " 1960,\n",
       " 1962,\n",
       " 1964,\n",
       " 1966,\n",
       " 1968,\n",
       " 1970,\n",
       " 1972,\n",
       " 1974,\n",
       " 1976,\n",
       " 1978,\n",
       " 1980,\n",
       " 1982,\n",
       " 1984,\n",
       " 1986,\n",
       " 1988,\n",
       " 1990,\n",
       " 1992,\n",
       " 1994,\n",
       " 1996,\n",
       " 1998]"
      ]
     },
     "execution_count": 182,
     "metadata": {},
     "output_type": "execute_result"
    }
   ],
   "source": [
    "process_data()"
   ]
  },
  {
   "cell_type": "code",
   "execution_count": 183,
   "id": "d9f186fd-348e-4305-8eaa-384f5e662db5",
   "metadata": {},
   "outputs": [
    {
     "name": "stdout",
     "output_type": "stream",
     "text": [
      "ERROR: Could not find file C:\\Users\\KIIT\\AppData\\Local\\Temp\\ipykernel_9420\\379972756.py\n",
      "\n"
     ]
    },
    {
     "data": {
      "text/plain": []
     },
     "metadata": {},
     "output_type": "display_data"
    }
   ],
   "source": [
    "%mprun -f process_data process_data()"
   ]
  },
  {
   "cell_type": "markdown",
   "id": "404d2b7c-55e5-40f3-bbc7-28e6b5eb2ae9",
   "metadata": {
    "jp-MarkdownHeadingCollapsed": true
   },
   "source": [
    "### Q17) Write a Python program to create and write a list of numbers to a file, one number per line."
   ]
  },
  {
   "cell_type": "markdown",
   "id": "866ed715-b67d-462d-9c60-9d23f4b77b63",
   "metadata": {
    "jp-MarkdownHeadingCollapsed": true
   },
   "source": [
    "#### ANS-"
   ]
  },
  {
   "cell_type": "code",
   "execution_count": 150,
   "id": "5bdafab5-1195-4c7f-818a-5cc4834de590",
   "metadata": {},
   "outputs": [
    {
     "name": "stdout",
     "output_type": "stream",
     "text": [
      "Successfully wrote 8 numbers to numbers.txt\n"
     ]
    }
   ],
   "source": [
    "numbers = [1, 2, 3, 4, 5, 10, 15, 20]\n",
    "\n",
    "filename = \"numbers.txt\"\n",
    "\n",
    "with open(filename, \"w\") as file:\n",
    "    for number in numbers:\n",
    "        file.write(f\"{number}\\n\")\n",
    "\n",
    "print(f\"Successfully wrote {len(numbers)} numbers to {filename}\")"
   ]
  },
  {
   "cell_type": "markdown",
   "id": "d47a62f4-0edb-4091-a5e6-7ae8e5bca260",
   "metadata": {
    "jp-MarkdownHeadingCollapsed": true
   },
   "source": [
    "### Q18) How would you implement a basic logging setup that logs to a file with rotation after 1MB?"
   ]
  },
  {
   "cell_type": "markdown",
   "id": "d0703d4e-7051-4055-b29f-93d5bbb6e00d",
   "metadata": {},
   "source": [
    "#### ANS-"
   ]
  },
  {
   "cell_type": "code",
   "execution_count": 126,
   "id": "a3fe68a2-60a1-48d5-95a4-eaa050358946",
   "metadata": {},
   "outputs": [],
   "source": [
    "import logging\n",
    "from logging.handlers import RotatingFileHandler\n",
    "\n",
    "\n",
    "log_file = 'app.log'\n",
    "max_log_size = 1 * 1024 * 1024  \n",
    "backup_count = 3  \n",
    "\n",
    "\n",
    "logger = logging.getLogger('basicLogger')\n",
    "logger.setLevel(logging.INFO)\n",
    "\n",
    "\n",
    "handler = RotatingFileHandler(log_file, maxBytes=max_log_size, backupCount=backup_count)\n",
    "formatter = logging.Formatter('%(asctime)s - %(levelname)s - %(message)s')\n",
    "handler.setFormatter(formatter)\n",
    "\n",
    "logger.addHandler(handler)"
   ]
  },
  {
   "cell_type": "code",
   "execution_count": 127,
   "id": "3d9a822f-019e-4e69-81d1-242135840d39",
   "metadata": {},
   "outputs": [],
   "source": [
    "def perform_task():\n",
    "    for i in range(10000):\n",
    "        logger.info(f\"Logging message number {i}\")\n",
    "\n",
    "perform_task()"
   ]
  },
  {
   "cell_type": "markdown",
   "id": "34b4dba0-9904-494b-a99d-afa692e5f6db",
   "metadata": {
    "jp-MarkdownHeadingCollapsed": true
   },
   "source": [
    "### Q19) Write a program that handles both IndexError and KeyError using a try-except block."
   ]
  },
  {
   "cell_type": "markdown",
   "id": "54284641-5352-469b-bec4-7b78d280c467",
   "metadata": {
    "jp-MarkdownHeadingCollapsed": true
   },
   "source": [
    "#### ANS- "
   ]
  },
  {
   "cell_type": "code",
   "execution_count": 71,
   "id": "3d134a7c-3a0d-4196-b203-d60a4f27b89c",
   "metadata": {},
   "outputs": [
    {
     "name": "stdin",
     "output_type": "stream",
     "text": [
      "Enter an index to access the list:  2\n"
     ]
    },
    {
     "name": "stdout",
     "output_type": "stream",
     "text": [
      "Value at index 2 : 3\n"
     ]
    },
    {
     "name": "stdin",
     "output_type": "stream",
     "text": [
      "Enter a key to access the dictionary:  d\n"
     ]
    },
    {
     "name": "stdout",
     "output_type": "stream",
     "text": [
      "Error: Key not found in dictionary.\n"
     ]
    }
   ],
   "source": [
    "data = [1, 2, 3]\n",
    "my_dict = {\"a\": 1, \"b\": 2, \"c\": 3}\n",
    "\n",
    "try:\n",
    "    index = int(input(\"Enter an index to access the list: \"))\n",
    "    value = data[index]\n",
    "    print(\"Value at index\", index, \":\", value)\n",
    "\n",
    "    key = input(\"Enter a key to access the dictionary: \")\n",
    "    dict_value = my_dict[key]\n",
    "    print(\"Value for key\", key, \":\", dict_value)\n",
    "\n",
    "except IndexError:\n",
    "    print(\"Error: Index is out of range.\")\n",
    "except KeyError:\n",
    "    print(\"Error: Key not found in dictionary.\")\n",
    "except ValueError:\n",
    "    print(\"Error: Invalid input for index (must be an integer).\")\n",
    "except Exception as e:\n",
    "    print(\"An unexpected error occurred:\", e)"
   ]
  },
  {
   "cell_type": "code",
   "execution_count": null,
   "id": "7ae17ca2-cff0-4f1c-a51d-43f1358fa083",
   "metadata": {},
   "outputs": [],
   "source": []
  },
  {
   "cell_type": "code",
   "execution_count": null,
   "id": "dbdd9907-dbf6-4218-8d71-0403fa491ccd",
   "metadata": {},
   "outputs": [],
   "source": []
  },
  {
   "cell_type": "markdown",
   "id": "6a9926d0-2e93-45ce-a197-a0f4742c42a1",
   "metadata": {
    "jp-MarkdownHeadingCollapsed": true
   },
   "source": [
    "### Q20) How would you open a file and read its contents using a context manager in Python?"
   ]
  },
  {
   "cell_type": "markdown",
   "id": "7bd47e98-82c7-4b24-9819-a7a4c4b40379",
   "metadata": {
    "jp-MarkdownHeadingCollapsed": true
   },
   "source": [
    "#### ANS-"
   ]
  },
  {
   "cell_type": "code",
   "execution_count": 77,
   "id": "78950b38-f475-4581-87a5-97c892fd3bc0",
   "metadata": {},
   "outputs": [
    {
     "name": "stdout",
     "output_type": "stream",
     "text": [
      "Hello! Myself Himadri Tanaya Sahu.\n",
      "I am doing Data Analytics Course.\n",
      "This is my first Python program.\n"
     ]
    }
   ],
   "source": [
    "try:\n",
    "    with open(\"example.txt\", \"r\") as file:\n",
    "       content = file.read()\n",
    "       print(content)\n",
    "except Exception as e:\n",
    "        print(f\"An error occurred: {e}\")    "
   ]
  },
  {
   "cell_type": "markdown",
   "id": "18464bb5-ab07-493e-94ef-38786ce45250",
   "metadata": {
    "jp-MarkdownHeadingCollapsed": true
   },
   "source": [
    "### Q21) Write a Python program that reads a file and prints the number of occurrences of a specific word."
   ]
  },
  {
   "cell_type": "markdown",
   "id": "614c1b52-583b-472c-9c34-80198c18428a",
   "metadata": {},
   "source": [
    "#### ANS- "
   ]
  },
  {
   "cell_type": "code",
   "execution_count": 148,
   "id": "6526e142-09a2-45ca-b17f-dac4f1eb6500",
   "metadata": {},
   "outputs": [],
   "source": [
    "import threading\n",
    "\n",
    "def count_word_in_chunk(text_chunk, word, result, index):\n",
    "    count = text_chunk.lower().split().count(word.lower())\n",
    "    result[index] = count\n",
    "\n",
    "def count_word_multithreaded(filename, word, num_threads=4):\n",
    "    with open(filename, 'r', encoding='utf-8') as file:\n",
    "        text = file.read()\n",
    "\n",
    "    words = text.split()\n",
    "    chunk_size = len(words) // num_threads\n",
    "    threads = []\n",
    "    results = [0] * num_threads\n",
    "\n",
    "    for i in range(num_threads):\n",
    "        start = i * chunk_size\n",
    "        end = (i + 1) * chunk_size if i != num_threads - 1 else len(words)\n",
    "        text_chunk = ' '.join(words[start:end])\n",
    "        t = threading.Thread(target=count_word_in_chunk, args=(text_chunk, word, results, i))\n",
    "        threads.append(t)\n",
    "        t.start()\n",
    "\n",
    "    for t in threads:\n",
    "        t.join()\n",
    "\n",
    "    total_count = sum(results)\n",
    "    print(f\"Total occurrences of '{word}': {total_count}\")"
   ]
  },
  {
   "cell_type": "code",
   "execution_count": 149,
   "id": "f79229e4-6b38-4b76-9afb-ae3f6501b53b",
   "metadata": {},
   "outputs": [
    {
     "name": "stdout",
     "output_type": "stream",
     "text": [
      "Total occurrences of 'python': 3\n"
     ]
    }
   ],
   "source": [
    "filename = 'sample.txt'\n",
    "search_word = 'python'\n",
    "count_word_multithreaded(filename, search_word, num_threads=4)"
   ]
  },
  {
   "cell_type": "markdown",
   "id": "b96bfb29-a58d-4b41-9863-18e6cce7d3be",
   "metadata": {
    "jp-MarkdownHeadingCollapsed": true
   },
   "source": [
    "### Q22) How can you check if a file is empty before attempting to read its contents?"
   ]
  },
  {
   "cell_type": "markdown",
   "id": "324da2e4-ea89-4990-ac19-1a1318967803",
   "metadata": {
    "jp-MarkdownHeadingCollapsed": true
   },
   "source": [
    "#### ANS-"
   ]
  },
  {
   "cell_type": "code",
   "execution_count": 78,
   "id": "8c13458e-c0a7-4059-aa0e-87d3e268cee1",
   "metadata": {},
   "outputs": [],
   "source": [
    "import os"
   ]
  },
  {
   "cell_type": "code",
   "execution_count": 80,
   "id": "be5a4261-8413-44f9-ae13-fa4de103f491",
   "metadata": {},
   "outputs": [],
   "source": [
    "file = open(\"file2.txt\", \"w\")"
   ]
  },
  {
   "cell_type": "code",
   "execution_count": 81,
   "id": "3bc100f5-e415-4542-abc8-737a1df33ebe",
   "metadata": {},
   "outputs": [
    {
     "data": {
      "text/plain": [
       "0"
      ]
     },
     "execution_count": 81,
     "metadata": {},
     "output_type": "execute_result"
    }
   ],
   "source": [
    "os.path.getsize(\"file2.txt\")           # if the os.path.getsize is '0' then only the file is empty."
   ]
  },
  {
   "cell_type": "code",
   "execution_count": 83,
   "id": "01204265-0023-439c-a010-b334b1dc4230",
   "metadata": {},
   "outputs": [],
   "source": [
    "with open(\"file2.txt\", \"r\") as file:\n",
    "    data = file.read()"
   ]
  },
  {
   "cell_type": "code",
   "execution_count": null,
   "id": "696da592-a11f-486a-8037-56b6dd3f58a8",
   "metadata": {},
   "outputs": [],
   "source": []
  },
  {
   "cell_type": "markdown",
   "id": "6817093c-606b-4491-97b7-97c3045fcc55",
   "metadata": {
    "jp-MarkdownHeadingCollapsed": true
   },
   "source": [
    "### Q23) Write a Python program that writes to a log file when an error occurs during file handling."
   ]
  },
  {
   "cell_type": "markdown",
   "id": "8b904c7b-6dec-4f4a-9006-c9cf89ae50dd",
   "metadata": {
    "jp-MarkdownHeadingCollapsed": true
   },
   "source": [
    "#### ANS-"
   ]
  },
  {
   "cell_type": "code",
   "execution_count": 124,
   "id": "38a4e979-e386-464b-9e0a-af7732f7f189",
   "metadata": {},
   "outputs": [],
   "source": [
    "import logging\n",
    "logging.basicConfig(filename = \"program.log\", level = logging.DEBUG, format = '%(asctime)s %(levelname)s %(message)s')\n",
    "def file(filename):\n",
    "  try:\n",
    "      with open(filename, 'r') as file:\n",
    "         content = file.read()\n",
    "         print(content)\n",
    "  except FileNotFoundError as e:\n",
    "    logging.error(f\"My file was not found {e}\")"
   ]
  },
  {
   "cell_type": "code",
   "execution_count": 125,
   "id": "63bbd308-ad0b-4703-9ca5-078380648d7d",
   "metadata": {},
   "outputs": [],
   "source": [
    "s1=\"prog1.txt\"\n",
    "file(s1)"
   ]
  }
 ],
 "metadata": {
  "kernelspec": {
   "display_name": "Python 3 (ipykernel)",
   "language": "python",
   "name": "python3"
  },
  "language_info": {
   "codemirror_mode": {
    "name": "ipython",
    "version": 3
   },
   "file_extension": ".py",
   "mimetype": "text/x-python",
   "name": "python",
   "nbconvert_exporter": "python",
   "pygments_lexer": "ipython3",
   "version": "3.13.2"
  }
 },
 "nbformat": 4,
 "nbformat_minor": 5
}
