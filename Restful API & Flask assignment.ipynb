{
 "cells": [
  {
   "cell_type": "markdown",
   "id": "54bd2d62-eca1-4d96-b0e5-f10b61b5a201",
   "metadata": {},
   "source": [
    "# Restful API & Flask"
   ]
  },
  {
   "cell_type": "markdown",
   "id": "43e1d739-f944-4b86-a31d-fd495c924f11",
   "metadata": {
    "jp-MarkdownHeadingCollapsed": true
   },
   "source": [
    "### Q1) What is a RESTful API?"
   ]
  },
  {
   "cell_type": "markdown",
   "id": "8378d25b-209a-432d-8c2f-8822fdc192fd",
   "metadata": {},
   "source": [
    "#### ANS- RESTful API is a type of web API that adheres to the principles and constraints of REST architecture, which is a way of designing networked applications. RESTful APIs support this information exchange because they follow secure, reliable, and efficient software communication standards.REST(Representational State Transfer API) is an architectural style, and an API built according to REST principles is called a RESTful API. REST APIs are stateless and rely on standard HTTP methods to perform operations on resources (e.g., users, posts, products). These methods are used to implement CRUD operations.\n",
    "\n",
    "#### For example, to generate monthly payslips, your internal accounts system has to share data with your customer's banking system to automate invoicing and communicate with an internal timesheet application. "
   ]
  },
  {
   "cell_type": "markdown",
   "id": "154f327c-e771-4229-a4da-cf3556ac5a14",
   "metadata": {
    "jp-MarkdownHeadingCollapsed": true
   },
   "source": [
    "### Q2) Explain the concept of API specification."
   ]
  },
  {
   "cell_type": "markdown",
   "id": "ae336eda-4dbe-49a5-a346-2494e72c0c0a",
   "metadata": {},
   "source": [
    "#### ANS- An API specification is a detailed, standardized description of how an API works — what it does, how to use it, and what to expect from it. It acts like a contract between the API provider and the consumer (developers), ensuring everyone understands how to interact with the API properly."
   ]
  },
  {
   "cell_type": "markdown",
   "id": "39a2a97b-f554-4417-aff5-5b12db3c83e4",
   "metadata": {},
   "source": [
    "##### key roles of APIs:-\n",
    "##### Real-time Predictions:\n",
    "APIs allow data scientists to deploy machine learning models and expose them as services, enabling real-time predictions. This is crucial for applications such as recommendation systems, fraud detection, or dynamic pricing models.\n",
    "##### Data Integration:\n",
    "APIs enable seamless integration of external data sources, such as databases, cloud platforms, or third-party services (e.g., social media, weather, financial data), which is essential for gathering diverse datasets needed for analysis and model building.\n",
    "##### Automation of Data Pipelines:\n",
    "APIs automate the process of data retrieval, preprocessing, and feeding data into machine learning models, helping streamline workflows and save time. This ensures that the data science process is efficient and reproducible.\n",
    "##### Collaboration and Sharing:\n",
    "APIs enable sharing of data, models, and services across teams or organizations, promoting collaboration in data science projects. It allows easy access to shared resources and fosters innovation through shared tools and datasets.\n",
    "##### Model Deployment:\n",
    "APIs provide a way to deploy machine learning models in production, making them accessible via endpoints for various applications or services. This is key for deploying predictive models in real-world scenarios."
   ]
  },
  {
   "cell_type": "markdown",
   "id": "7b75ae68-e4d7-42a7-82ee-bd0772206d41",
   "metadata": {
    "jp-MarkdownHeadingCollapsed": true
   },
   "source": [
    "### Q3)  What is Flask, and why is it popular for building APIs?"
   ]
  },
  {
   "cell_type": "markdown",
   "id": "e0fea29c-b643-4565-9c80-feca2893b552",
   "metadata": {},
   "source": [
    "#### ANS- Flask is a lightweight Python web framework, provides developers with the ability to map URLs to specific functions in the application. This process is known as routing. Flask also allows handling dynamic paths, redirects, and error handling seamlessly, making it a great choice for building web applications.It is popular for building APIs ,for the following reasons:-"
   ]
  },
  {
   "cell_type": "markdown",
   "id": "29914db7-a866-46db-bb4e-48965d726f29",
   "metadata": {},
   "source": [
    "##### 1. Lightweight and Minimalist\n",
    "Flask doesn’t force structure or decisions on you. It provides just the essentials to get a web server or API up and running.\n",
    "Ideal for microservices and small to medium applications.\n",
    "##### 2. Easy to Learn and Use\n",
    "Simple, readable syntax — especially good for beginners.\n",
    "You can write a working API endpoint in just a few lines of code."
   ]
  },
  {
   "cell_type": "code",
   "execution_count": 7,
   "id": "241680b3-0fcb-4338-9c56-c286430d36ad",
   "metadata": {},
   "outputs": [],
   "source": [
    "from flask import Flask, jsonify\n",
    "\n",
    "app = Flask(__name__)\n",
    "\n",
    "@app.route('/api/hello')\n",
    "def hello():\n",
    "    return jsonify({\"message\": \"Hello, world!\"})"
   ]
  },
  {
   "cell_type": "markdown",
   "id": "83691efc-f4ed-469d-8dae-cf1016cd2066",
   "metadata": {},
   "source": [
    "##### 3. Highly Flexible\n",
    "Flask doesn’t make assumptions about your project.\n",
    "You can choose your:\n",
    "Database (e.g., SQLite, PostgreSQL, MongoDB)\n",
    "Authentication system\n",
    "API design style (REST, GraphQL, etc.)\n",
    "\n",
    "##### 4. Strong Ecosystem and Extensions\n",
    "Popular extensions like:\n",
    "Flask-RESTful for building REST APIs\n",
    "Flask-JWT or Flask-Login for authentication\n",
    "Flask-SQLAlchemy for ORM support\n",
    "\n",
    "Large community = plenty of tutorials, plugins, and support\n",
    "\n",
    "##### 5. Python-Based\n",
    "Python is widely used in data science, backend services, automation, and education.\n",
    "Flask fits seamlessly into Python environments, especially for teams already using Python."
   ]
  },
  {
   "cell_type": "markdown",
   "id": "18576f07-6c40-4de2-9c4b-50ecc11f6836",
   "metadata": {
    "jp-MarkdownHeadingCollapsed": true
   },
   "source": [
    "### Q4)  What is routing in Flask?"
   ]
  },
  {
   "cell_type": "markdown",
   "id": "3aab24a1-ed93-4932-9c09-6d3588a26bf6",
   "metadata": {},
   "source": [
    "#### ANS- Routing in Flask is the process of mapping URLs to specific functions in your Flask application. These functions are typically referred to as view functions, and they define what content should be returned to the user when a specific route (URL) is requested.Flask uses the @app.route() decorator to bind a function to a URL."
   ]
  },
  {
   "cell_type": "markdown",
   "id": "17e44829-7952-4879-8d6c-9d083361a570",
   "metadata": {},
   "source": [
    "#### Static Routing\n",
    "#### Static routing maps fixed URLs to specific view functions. These routes do not change and are commonly used for static pages like the home page or about page."
   ]
  },
  {
   "cell_type": "code",
   "execution_count": 5,
   "id": "1e4d7ce8-16bb-41a7-9125-cc2c4d3ea7da",
   "metadata": {},
   "outputs": [],
   "source": [
    "from flask import Flask\n",
    "\n",
    "app = Flask(__name__)\n",
    "\n",
    "@app.route('/')\n",
    "def home():\n",
    "    return 'Welcome to the homepage!'\n",
    "\n",
    "@app.route('/about')\n",
    "def about():\n",
    "    return 'This is the about page.'"
   ]
  },
  {
   "cell_type": "markdown",
   "id": "2f6f7f90-7bf1-4946-a4c6-d41dbbb8c941",
   "metadata": {},
   "source": [
    "#### Dynamic Routing\n",
    "#### Dynamic routing enables URLs to accept variable parts (parameters) that are passed to the view function. These are useful for user-specific content or data-driven pages."
   ]
  },
  {
   "cell_type": "code",
   "execution_count": 6,
   "id": "d35bfcff-c0f5-462a-8230-576d765f0254",
   "metadata": {},
   "outputs": [],
   "source": [
    "@app.route('/user/<username>')\n",
    "def show_user_profile(username):\n",
    "    return f'User {username}'"
   ]
  },
  {
   "cell_type": "markdown",
   "id": "acb2f3b1-a7b8-4e9b-a9d7-a624c5a1be48",
   "metadata": {
    "jp-MarkdownHeadingCollapsed": true
   },
   "source": [
    "### Q5)  How do you create a simple Flask application?"
   ]
  },
  {
   "cell_type": "markdown",
   "id": "451d7943-b4fe-426d-98c2-e9e5996bf330",
   "metadata": {},
   "source": [
    "#### ANS- "
   ]
  },
  {
   "cell_type": "code",
   "execution_count": 2,
   "id": "d36534a7-f929-4265-b892-661095d47d06",
   "metadata": {},
   "outputs": [
    {
     "name": "stdout",
     "output_type": "stream",
     "text": [
      "Collecting Flask\n",
      "  Using cached flask-3.1.1-py3-none-any.whl.metadata (3.0 kB)\n",
      "Collecting blinker>=1.9.0 (from Flask)\n",
      "  Using cached blinker-1.9.0-py3-none-any.whl.metadata (1.6 kB)\n",
      "Collecting click>=8.1.3 (from Flask)\n",
      "  Using cached click-8.2.1-py3-none-any.whl.metadata (2.5 kB)\n",
      "Collecting itsdangerous>=2.2.0 (from Flask)\n",
      "  Using cached itsdangerous-2.2.0-py3-none-any.whl.metadata (1.9 kB)\n",
      "Requirement already satisfied: jinja2>=3.1.2 in c:\\users\\kiit\\appdata\\local\\programs\\python\\python313\\lib\\site-packages (from Flask) (3.1.6)\n",
      "Requirement already satisfied: markupsafe>=2.1.1 in c:\\users\\kiit\\appdata\\local\\programs\\python\\python313\\lib\\site-packages (from Flask) (3.0.2)\n",
      "Collecting werkzeug>=3.1.0 (from Flask)\n",
      "  Using cached werkzeug-3.1.3-py3-none-any.whl.metadata (3.7 kB)\n",
      "Requirement already satisfied: colorama in c:\\users\\kiit\\appdata\\local\\programs\\python\\python313\\lib\\site-packages (from click>=8.1.3->Flask) (0.4.6)\n",
      "Using cached flask-3.1.1-py3-none-any.whl (103 kB)\n",
      "Using cached blinker-1.9.0-py3-none-any.whl (8.5 kB)\n",
      "Using cached click-8.2.1-py3-none-any.whl (102 kB)\n",
      "Using cached itsdangerous-2.2.0-py3-none-any.whl (16 kB)\n",
      "Using cached werkzeug-3.1.3-py3-none-any.whl (224 kB)\n",
      "Installing collected packages: werkzeug, itsdangerous, click, blinker, Flask\n",
      "\n",
      "   ---------------------------------------- 0/5 [werkzeug]\n",
      "   ---------------------------------------- 0/5 [werkzeug]\n",
      "   ---------------------------------------- 0/5 [werkzeug]\n",
      "   ---------------------------------------- 0/5 [werkzeug]\n",
      "   ---------------------------------------- 0/5 [werkzeug]\n",
      "   ---------------------------------------- 0/5 [werkzeug]\n",
      "   ---------------------------------------- 0/5 [werkzeug]\n",
      "   ---------------- ----------------------- 2/5 [click]\n",
      "   ---------------- ----------------------- 2/5 [click]\n",
      "   ---------------- ----------------------- 2/5 [click]\n",
      "   -------------------------------- ------- 4/5 [Flask]\n",
      "   -------------------------------- ------- 4/5 [Flask]\n",
      "   -------------------------------- ------- 4/5 [Flask]\n",
      "   -------------------------------- ------- 4/5 [Flask]\n",
      "   ---------------------------------------- 5/5 [Flask]\n",
      "\n",
      "Successfully installed Flask-3.1.1 blinker-1.9.0 click-8.2.1 itsdangerous-2.2.0 werkzeug-3.1.3\n",
      "Note: you may need to restart the kernel to use updated packages.\n"
     ]
    }
   ],
   "source": [
    "pip install Flask"
   ]
  },
  {
   "cell_type": "code",
   "execution_count": null,
   "id": "13090445-5f3e-4dae-9311-fb9668302ddd",
   "metadata": {},
   "outputs": [],
   "source": [
    "#Create a Python file, e.g., app.py, "
   ]
  },
  {
   "cell_type": "code",
   "execution_count": 3,
   "id": "59bac22b-0744-4a7e-8a8d-8b279415f4ec",
   "metadata": {},
   "outputs": [
    {
     "name": "stdout",
     "output_type": "stream",
     "text": [
      " * Serving Flask app '__main__'\n",
      " * Debug mode: on\n"
     ]
    },
    {
     "name": "stderr",
     "output_type": "stream",
     "text": [
      "WARNING: This is a development server. Do not use it in a production deployment. Use a production WSGI server instead.\n",
      " * Running on http://127.0.0.1:5000\n",
      "Press CTRL+C to quit\n",
      " * Restarting with stat\n"
     ]
    },
    {
     "ename": "SystemExit",
     "evalue": "1",
     "output_type": "error",
     "traceback": [
      "An exception has occurred, use %tb to see the full traceback.\n",
      "\u001b[31mSystemExit\u001b[39m\u001b[31m:\u001b[39m 1\n"
     ]
    },
    {
     "name": "stderr",
     "output_type": "stream",
     "text": [
      "C:\\Users\\KIIT\\AppData\\Local\\Programs\\Python\\Python313\\Lib\\site-packages\\IPython\\core\\interactiveshell.py:3557: UserWarning: To exit: use 'exit', 'quit', or Ctrl-D.\n",
      "  warn(\"To exit: use 'exit', 'quit', or Ctrl-D.\", stacklevel=1)\n"
     ]
    }
   ],
   "source": [
    "from flask import Flask\n",
    "\n",
    "app = Flask(__name__)  # Create a Flask application instance\n",
    "\n",
    "@app.route('/')  # Define the route for the home page\n",
    "def home():\n",
    "    return 'Hello, Flask!'  # Return a simple response\n",
    "\n",
    "if __name__ == '__main__':\n",
    "    app.run(debug=True)  # Run the app in debug mode"
   ]
  },
  {
   "cell_type": "markdown",
   "id": "19123cfe-2a1c-4d4d-b8a0-dca3d5661677",
   "metadata": {},
   "source": [
    "In your terminal or command prompt,Run the Application\n",
    "python app.py"
   ]
  },
  {
   "cell_type": "markdown",
   "id": "6afdd5d0-2dc5-4842-84c8-abaaf1936fd1",
   "metadata": {},
   "source": [
    "#You should see output like this:\n",
    " * Running on http://127.0.0.1:5000/ (Press CTRL+C to quit)"
   ]
  },
  {
   "cell_type": "markdown",
   "id": "881c79a3-9388-4816-8b89-2bce8e2306d4",
   "metadata": {},
   "source": [
    "Open a browser and visit http://127.0.0.1:5000/ — you'll see \"Hello, Flask!\""
   ]
  },
  {
   "cell_type": "markdown",
   "id": "a74c0b14-f59b-4d38-a40c-b8970b78141a",
   "metadata": {
    "jp-MarkdownHeadingCollapsed": true
   },
   "source": [
    "### Q6)  What are HTTP methods used in RESTful APIs?"
   ]
  },
  {
   "cell_type": "markdown",
   "id": "51205f09-e80b-440b-9247-715e6d4894a5",
   "metadata": {},
   "source": [
    "#### ANS-  HTTP methods used in RESTful APIs are"
   ]
  },
  {
   "cell_type": "markdown",
   "id": "ba9528f9-e977-46b2-ab67-08baeb182a3c",
   "metadata": {},
   "source": [
    "#### 1. GET\n",
    "##### Structure: GET /resource HTTP/1.1 \n",
    "#####            Host: example.com \n",
    "##### Explanation: The GET method retrieves data from the server. It is used for fetching resources such as web pages, images, or data from a database. GET requests do not modify any data on the server.\n",
    "##### Use Case:\n",
    "##### Use GET when you want to retrieve data from the server without making any changes.\n",
    "##### Example: Retrieving a list of users from a database or fetching an HTML page.\n",
    "\n",
    "#### 2. POST\n",
    "##### Structure: POST /resource HTTP/1.1 \n",
    "#####            Host: example.com \n",
    "#####            Content-Type: application/json { \"name\": \"John\", \"age\": 30 }\n",
    "##### Explanation: The POST method sends data to the server to create a new resource or trigger an action. It is often used to submit form data, create new records, or initiate server-side processes.\n",
    "##### Use Case:\n",
    "##### Use POST when submitting form data or creating a new resource.\n",
    "##### Example: Creating a new user or posting a blog article.\n",
    "\n",
    "#### 3. PUT\n",
    "##### Structure: PUT /resource/1 HTTP/1.1 \n",
    "#####            Host: example.com \n",
    "#####            Content-Type: application/json { \"name\": \"John\", \"age\": 31 } \n",
    "##### Explanation: The PUT method is used to update an existing resource on the server. \n",
    "##### It replaces the current representation of the resource with the provided data.\n",
    "##### Use Case:\n",
    "##### Use PUT when you want to update an entire resource.\n",
    "##### Example: Updating a user's profile with new information, such as their age or name.\n",
    "\n",
    "#### 4. DELETE\n",
    "##### Structure: DELETE /resource/1 HTTP/1.1 \n",
    "#####            Host: example.com \n",
    "##### Explanation: The DELETE method is used to remove a resource from the server. It is used to delete data or records.\n",
    "##### Use Case:\n",
    "##### Use DELETE when you want to remove a resource.\n",
    "##### Example: Deleting a user from a database or removing a product from an online store.\n",
    "\n",
    "#### 5. PATCH\n",
    "##### Structure: PATCH /resource/1 HTTP/1.1 \n",
    "#####            Host: example.com \n",
    "#####            Content-Type: application/json { \"age\": 32 } \n",
    "\n",
    "##### Explanation: The PATCH method is used to partially update a resource. Unlike PUT, which replaces the entire resource, PATCH modifies only the specified fields.\n",
    "##### Use Case:\n",
    "##### Use PATCH when you want to update only specific parts of a resource.\n",
    "##### Example: Changing a user’s email address or updating just the price of a product.\n",
    "\n",
    "#### 6. HEAD\n",
    "##### Structure: HEAD /resource HTTP/1.1 \n",
    "#####            Host: example.com \n",
    "##### Explanation: The HEAD method is similar to GET, but it only retrieves the headers of a resource, not the body. It is useful for checking metadata like content type, length, or last-modified time without downloading the entire resource.\n",
    "##### Use Case:\n",
    "##### Use HEAD to check if a resource exists or to retrieve metadata (like checking if a file has changed).\n",
    "##### Example: Checking if a resource is available or verifying the size of a file.\n",
    "\n",
    "#### 7. OPTIONS\n",
    "##### Structure: OPTIONS /resource HTTP/1.1 \n",
    "#####            Host: example.com \n",
    "##### Explanation: The OPTIONS method is used to request information about the communication options available for a resource. It returns the allowed HTTP methods (GET, POST, PUT, etc.) for a specific resource.\n",
    "##### Use Case:\n",
    "##### Use OPTIONS to discover what HTTP methods are supported by a resource.\n",
    "##### Example: Before making a cross-origin request, checking which methods the server supports."
   ]
  },
  {
   "cell_type": "markdown",
   "id": "b567df2d-2ecd-4112-b761-03fcb883bbf4",
   "metadata": {
    "jp-MarkdownHeadingCollapsed": true
   },
   "source": [
    "### Q7)  What is the purpose of the @app.route() decorator in Flask?"
   ]
  },
  {
   "cell_type": "markdown",
   "id": "2e926618-2fd3-45ef-b1cc-26187f54ea7e",
   "metadata": {},
   "source": [
    "#### ANS- The @app.route() decorator in Flask is used to bind a specific URL path to a view function.The purpose of the @app.route() decorator in Flask is:-"
   ]
  },
  {
   "cell_type": "markdown",
   "id": "e49fecf2-d512-45ed-ac9a-b8389adc3459",
   "metadata": {},
   "source": [
    "##### 1.URL routing: Maps a URL (like /, /about, or /login) to a Python function that runs when that URL is accessed.\n",
    "##### 2.Associates logic with URLs: The decorated function returns the response (like HTML, JSON, etc.) to be sent to the client when the route is requested."
   ]
  },
  {
   "cell_type": "markdown",
   "id": "7c81870c-4ff3-4fd5-bf19-7c47414413af",
   "metadata": {
    "jp-MarkdownHeadingCollapsed": true
   },
   "source": [
    "### Q8)  What is the difference between GET and POST HTTP methods?"
   ]
  },
  {
   "cell_type": "markdown",
   "id": "e1306b8b-05f1-4486-bfda-e2290bf07551",
   "metadata": {},
   "source": [
    "#### ANS- The difference between GET and POST HTTP methods are:-"
   ]
  },
  {
   "cell_type": "markdown",
   "id": "759617f3-3cc5-4a8b-b580-9ccf882eca13",
   "metadata": {},
   "source": [
    "#### 1. GET\n",
    "##### Structure: GET /resource HTTP/1.1 \n",
    "#####            Host: example.com \n",
    "##### Explanation: The GET method retrieves data from the server. It is used for fetching resources such as web pages, images, or data from a database. GET requests do not modify any data on the server.\n",
    "##### Use Case:\n",
    "##### Use GET when you want to retrieve data from the server without making any changes.\n",
    "##### Example: Retrieving a list of users from a database or fetching an HTML page.\n",
    "\n",
    "#### 2. POST\n",
    "##### Structure: POST /resource HTTP/1.1 \n",
    "#####            Host: example.com \n",
    "#####            Content-Type: application/json { \"name\": \"John\", \"age\": 30 }\n",
    "##### Explanation: The POST method sends data to the server to create a new resource or trigger an action. It is often used to submit form data, create new records, or initiate server-side processes.\n",
    "##### Use Case:\n",
    "##### Use POST when submitting form data or creating a new resource.\n",
    "##### Example: Creating a new user or posting a blog article."
   ]
  },
  {
   "cell_type": "markdown",
   "id": "1a48b451-89b3-43b1-a0d4-6d97a827853f",
   "metadata": {
    "jp-MarkdownHeadingCollapsed": true
   },
   "source": [
    "### Q9)  How do you handle errors in Flask APIs?"
   ]
  },
  {
   "cell_type": "markdown",
   "id": "2a40f899-c8ea-4837-ab9d-b03c70913894",
   "metadata": {
    "jp-MarkdownHeadingCollapsed": true
   },
   "source": [
    "#### ANS- Error Handling- Error handling ensures the application gracefully responds to invalid requests or internal errors. Flask allows defining custom error pages using @app.errorhandler."
   ]
  },
  {
   "cell_type": "code",
   "execution_count": 8,
   "id": "a8504279-4d27-4c3b-8b4f-73f4bf1ae447",
   "metadata": {},
   "outputs": [],
   "source": [
    "from flask import jsonify\n",
    "\n",
    "@app.errorhandler(404)\n",
    "def not_found(error):\n",
    "    return jsonify({'error': 'Resource not found'}), 404\n",
    "\n",
    "@app.errorhandler(400)\n",
    "def bad_request(error):\n",
    "    return jsonify({'error': 'Bad request'}), 400\n",
    "\n",
    "@app.errorhandler(500)\n",
    "def internal_error(error):\n",
    "    return jsonify({'error': 'Internal server error'}), 500"
   ]
  },
  {
   "cell_type": "markdown",
   "id": "9db31d67-034b-4452-9c78-d9ec5083a9a6",
   "metadata": {
    "jp-MarkdownHeadingCollapsed": true
   },
   "source": [
    "#### Using Flask Extensions for Better Error Handling\n",
    "\n",
    "##### flask-restful has built-in error handling with custom exception classes.\n",
    "##### flask-marshmallow can help validate and handle schema errors."
   ]
  },
  {
   "cell_type": "code",
   "execution_count": 10,
   "id": "4b51b556-da1f-4690-bed7-1cae3d297631",
   "metadata": {},
   "outputs": [
    {
     "name": "stdout",
     "output_type": "stream",
     "text": [
      "Requirement already satisfied: flask in c:\\users\\kiit\\appdata\\local\\programs\\python\\python313\\lib\\site-packages (3.1.1)\n",
      "Collecting flask-restful\n",
      "  Downloading Flask_RESTful-0.3.10-py2.py3-none-any.whl.metadata (1.0 kB)\n",
      "Collecting marshmallow\n",
      "  Downloading marshmallow-4.0.0-py3-none-any.whl.metadata (7.4 kB)\n",
      "Requirement already satisfied: blinker>=1.9.0 in c:\\users\\kiit\\appdata\\local\\programs\\python\\python313\\lib\\site-packages (from flask) (1.9.0)\n",
      "Requirement already satisfied: click>=8.1.3 in c:\\users\\kiit\\appdata\\local\\programs\\python\\python313\\lib\\site-packages (from flask) (8.2.1)\n",
      "Requirement already satisfied: itsdangerous>=2.2.0 in c:\\users\\kiit\\appdata\\local\\programs\\python\\python313\\lib\\site-packages (from flask) (2.2.0)\n",
      "Requirement already satisfied: jinja2>=3.1.2 in c:\\users\\kiit\\appdata\\local\\programs\\python\\python313\\lib\\site-packages (from flask) (3.1.6)\n",
      "Requirement already satisfied: markupsafe>=2.1.1 in c:\\users\\kiit\\appdata\\local\\programs\\python\\python313\\lib\\site-packages (from flask) (3.0.2)\n",
      "Requirement already satisfied: werkzeug>=3.1.0 in c:\\users\\kiit\\appdata\\local\\programs\\python\\python313\\lib\\site-packages (from flask) (3.1.3)\n",
      "Collecting aniso8601>=0.82 (from flask-restful)\n",
      "  Downloading aniso8601-10.0.1-py2.py3-none-any.whl.metadata (23 kB)\n",
      "Requirement already satisfied: six>=1.3.0 in c:\\users\\kiit\\appdata\\local\\programs\\python\\python313\\lib\\site-packages (from flask-restful) (1.17.0)\n",
      "Requirement already satisfied: pytz in c:\\users\\kiit\\appdata\\local\\programs\\python\\python313\\lib\\site-packages (from flask-restful) (2025.2)\n",
      "Requirement already satisfied: colorama in c:\\users\\kiit\\appdata\\local\\programs\\python\\python313\\lib\\site-packages (from click>=8.1.3->flask) (0.4.6)\n",
      "Downloading Flask_RESTful-0.3.10-py2.py3-none-any.whl (26 kB)\n",
      "Downloading marshmallow-4.0.0-py3-none-any.whl (48 kB)\n",
      "Downloading aniso8601-10.0.1-py2.py3-none-any.whl (52 kB)\n",
      "Installing collected packages: aniso8601, marshmallow, flask-restful\n",
      "\n",
      "   ---------------------------------------- 0/3 [aniso8601]\n",
      "   ---------------------------------------- 0/3 [aniso8601]\n",
      "   ---------------------------------------- 0/3 [aniso8601]\n",
      "   ---------------------------------------- 0/3 [aniso8601]\n",
      "   ------------- -------------------------- 1/3 [marshmallow]\n",
      "   ------------- -------------------------- 1/3 [marshmallow]\n",
      "   -------------------------- ------------- 2/3 [flask-restful]\n",
      "   ---------------------------------------- 3/3 [flask-restful]\n",
      "\n",
      "Successfully installed aniso8601-10.0.1 flask-restful-0.3.10 marshmallow-4.0.0\n",
      "Note: you may need to restart the kernel to use updated packages.\n"
     ]
    }
   ],
   "source": [
    "pip install flask flask-restful marshmallow"
   ]
  },
  {
   "cell_type": "code",
   "execution_count": 11,
   "id": "f1e32d17-111e-47c4-935f-9220187d611c",
   "metadata": {},
   "outputs": [
    {
     "name": "stdout",
     "output_type": "stream",
     "text": [
      " * Serving Flask app '__main__'\n",
      " * Debug mode: on\n"
     ]
    },
    {
     "name": "stderr",
     "output_type": "stream",
     "text": [
      "WARNING: This is a development server. Do not use it in a production deployment. Use a production WSGI server instead.\n",
      " * Running on http://127.0.0.1:5000\n",
      "Press CTRL+C to quit\n",
      " * Restarting with stat\n"
     ]
    },
    {
     "ename": "SystemExit",
     "evalue": "1",
     "output_type": "error",
     "traceback": [
      "An exception has occurred, use %tb to see the full traceback.\n",
      "\u001b[31mSystemExit\u001b[39m\u001b[31m:\u001b[39m 1\n"
     ]
    }
   ],
   "source": [
    "from flask import Flask, request\n",
    "from flask_restful import Resource, Api\n",
    "from marshmallow import Schema, fields, ValidationError\n",
    "\n",
    "app = Flask(__name__)\n",
    "api = Api(app)\n",
    "\n",
    "class UserSchema(Schema):\n",
    "    name = fields.String(required=True)\n",
    "    age = fields.Integer(required=True)\n",
    "\n",
    "user_schema = UserSchema()\n",
    "\n",
    "class UserResource(Resource):\n",
    "    def post(self):\n",
    "        try:\n",
    "        \n",
    "            data = user_schema.load(request.get_json())\n",
    "            return {\"message\": \"User created\", \"data\": data}, 201\n",
    "        except ValidationError as err:\n",
    "            \n",
    "            return {\"errors\": err.messages}, 400\n",
    "\n",
    "api.add_resource(UserResource, '/users')\n",
    "\n",
    "# Global error handler for unexpected exceptions\n",
    "@app.errorhandler(Exception)\n",
    "def handle_generic_exception(e):\n",
    "    return {\"error\": \"An unexpected error occurred\", \"message\": str(e)}, 500\n",
    "\n",
    "if __name__ == '__main__':\n",
    "    app.run(debug=True)"
   ]
  },
  {
   "cell_type": "markdown",
   "id": "de4a9ce2-7503-4d1b-a301-e3aa1386d2af",
   "metadata": {
    "jp-MarkdownHeadingCollapsed": true
   },
   "source": [
    "### Q10) How do you connect Flask to a SQL database?"
   ]
  },
  {
   "cell_type": "markdown",
   "id": "cacd765d-cdad-4508-ac7d-5e3d9c82ecd3",
   "metadata": {},
   "source": [
    "#### ANS- To connect Flask to a SQL database, you typically use SQLAlchemy or Flask-SQLAlchemy (a Flask extension that integrates SQLAlchemy more easily). "
   ]
  },
  {
   "cell_type": "code",
   "execution_count": null,
   "id": "0325847e-1daf-48bc-8d7d-0d1d8569b7ff",
   "metadata": {},
   "outputs": [],
   "source": [
    "#1. Install Flask-SQLAlchemy\n",
    "pip install Flask-SQLAlchemy"
   ]
  },
  {
   "cell_type": "code",
   "execution_count": null,
   "id": "28aa0a73-5feb-4299-8539-c18bb5b4072f",
   "metadata": {},
   "outputs": [],
   "source": [
    "#2. Basic Project Structure\n",
    "myapp/\n",
    "├── app.py\n",
    "└── app.db  # SQLite database (or connect to PostgreSQL/MySQL)"
   ]
  },
  {
   "cell_type": "code",
   "execution_count": null,
   "id": "e53434eb-6cba-4b85-8cae-6362c1e8fd54",
   "metadata": {},
   "outputs": [],
   "source": [
    "#3. Set Up Your Flask App and Database Configuration\n",
    "from flask import Flask\n",
    "from flask_sqlalchemy import SQLAlchemy\n",
    "\n",
    "app = Flask(__name__)\n",
    "\n",
    "app.config['SQLALCHEMY_DATABASE_URI'] = 'sqlite:///app.db'\n",
    "app.config['SQLALCHEMY_TRACK_MODIFICATIONS'] = False\n",
    "\n",
    "db = SQLAlchemy(app)"
   ]
  },
  {
   "cell_type": "code",
   "execution_count": null,
   "id": "bc63b023-e022-4960-b815-2026898830cc",
   "metadata": {},
   "outputs": [],
   "source": [
    "#4. Define a Model (Table)\n",
    "class User(db.Model):\n",
    "    id = db.Column(db.Integer, primary_key=True)\n",
    "    username = db.Column(db.String(80), unique=True, nullable=False)\n",
    "    email = db.Column(db.String(120), unique=True, nullable=False)\n",
    "\n",
    "    def __repr__(self):\n",
    "        return f'<User {self.username}>'"
   ]
  },
  {
   "cell_type": "code",
   "execution_count": null,
   "id": "1d071fd5-3766-425f-a821-da750dfeab96",
   "metadata": {},
   "outputs": [],
   "source": [
    "#5. Create the Database\n",
    "with app.app_context():\n",
    "    db.create_all()"
   ]
  },
  {
   "cell_type": "code",
   "execution_count": null,
   "id": "1ab87076-3f56-4dd8-b0ac-748fc011ed86",
   "metadata": {},
   "outputs": [],
   "source": [
    "#6. Add and Query Data\n",
    "with app.app_context():\n",
    "    new_user = User(username='alice', email='alice@example.com')\n",
    "    db.session.add(new_user)\n",
    "    db.session.commit()\n",
    "\n",
    "with app.app_context():\n",
    "    users = User.query.all()\n",
    "    print(users)"
   ]
  },
  {
   "cell_type": "markdown",
   "id": "ede57d43-cbeb-4788-9650-b862704fd6bb",
   "metadata": {
    "jp-MarkdownHeadingCollapsed": true
   },
   "source": [
    "### Q11)  What is the role of Flask-SQLAlchemy?"
   ]
  },
  {
   "cell_type": "markdown",
   "id": "e264aa08-a43b-4421-8a0c-671212a0eb76",
   "metadata": {},
   "source": [
    "#### ANS- SQLAlchemy is a popular ORM (Object-Relational Mapping) library that allows you to interact with databases using Python objects instead of writing raw SQL queries. Flask-SQLAlchemy integrates SQLAlchemy with Flask, making it easier to work with databases.\n",
    "#### Main functionality(role):\n",
    "##### Database integration: Allows Flask to work with relational databases like MySQL, PostgreSQL, SQLite, etc.\n",
    "##### Model creation: You define Python classes as models that represent your database tables.\n",
    "##### Querying: You can perform database operations (CRUD - Create, Read, Update, Delete) using Python objects instead of raw SQL.\n",
    "##### Session management: It handles database connections and sessions for you."
   ]
  },
  {
   "cell_type": "code",
   "execution_count": 13,
   "id": "31ab0f6a-a308-4b72-8930-fc945e675af6",
   "metadata": {},
   "outputs": [
    {
     "name": "stdout",
     "output_type": "stream",
     "text": [
      "Collecting flask_sqlalchemy\n",
      "  Downloading flask_sqlalchemy-3.1.1-py3-none-any.whl.metadata (3.4 kB)\n",
      "Requirement already satisfied: flask>=2.2.5 in c:\\users\\kiit\\appdata\\local\\programs\\python\\python313\\lib\\site-packages (from flask_sqlalchemy) (3.1.1)\n",
      "Collecting sqlalchemy>=2.0.16 (from flask_sqlalchemy)\n",
      "  Downloading sqlalchemy-2.0.41-cp313-cp313-win_amd64.whl.metadata (9.8 kB)\n",
      "Requirement already satisfied: blinker>=1.9.0 in c:\\users\\kiit\\appdata\\local\\programs\\python\\python313\\lib\\site-packages (from flask>=2.2.5->flask_sqlalchemy) (1.9.0)\n",
      "Requirement already satisfied: click>=8.1.3 in c:\\users\\kiit\\appdata\\local\\programs\\python\\python313\\lib\\site-packages (from flask>=2.2.5->flask_sqlalchemy) (8.2.1)\n",
      "Requirement already satisfied: itsdangerous>=2.2.0 in c:\\users\\kiit\\appdata\\local\\programs\\python\\python313\\lib\\site-packages (from flask>=2.2.5->flask_sqlalchemy) (2.2.0)\n",
      "Requirement already satisfied: jinja2>=3.1.2 in c:\\users\\kiit\\appdata\\local\\programs\\python\\python313\\lib\\site-packages (from flask>=2.2.5->flask_sqlalchemy) (3.1.6)\n",
      "Requirement already satisfied: markupsafe>=2.1.1 in c:\\users\\kiit\\appdata\\local\\programs\\python\\python313\\lib\\site-packages (from flask>=2.2.5->flask_sqlalchemy) (3.0.2)\n",
      "Requirement already satisfied: werkzeug>=3.1.0 in c:\\users\\kiit\\appdata\\local\\programs\\python\\python313\\lib\\site-packages (from flask>=2.2.5->flask_sqlalchemy) (3.1.3)\n",
      "Requirement already satisfied: colorama in c:\\users\\kiit\\appdata\\local\\programs\\python\\python313\\lib\\site-packages (from click>=8.1.3->flask>=2.2.5->flask_sqlalchemy) (0.4.6)\n",
      "Collecting greenlet>=1 (from sqlalchemy>=2.0.16->flask_sqlalchemy)\n",
      "  Downloading greenlet-3.2.2-cp313-cp313-win_amd64.whl.metadata (4.2 kB)\n",
      "Requirement already satisfied: typing-extensions>=4.6.0 in c:\\users\\kiit\\appdata\\local\\programs\\python\\python313\\lib\\site-packages (from sqlalchemy>=2.0.16->flask_sqlalchemy) (4.13.0)\n",
      "Downloading flask_sqlalchemy-3.1.1-py3-none-any.whl (25 kB)\n",
      "Downloading sqlalchemy-2.0.41-cp313-cp313-win_amd64.whl (2.1 MB)\n",
      "   ---------------------------------------- 0.0/2.1 MB ? eta -:--:--\n",
      "   ---------------------------------------- 0.0/2.1 MB ? eta -:--:--\n",
      "   ---- ----------------------------------- 0.3/2.1 MB ? eta -:--:--\n",
      "   --------- ------------------------------ 0.5/2.1 MB 950.1 kB/s eta 0:00:02\n",
      "   -------------- ------------------------- 0.8/2.1 MB 935.9 kB/s eta 0:00:02\n",
      "   -------------- ------------------------- 0.8/2.1 MB 935.9 kB/s eta 0:00:02\n",
      "   ------------------- -------------------- 1.0/2.1 MB 927.2 kB/s eta 0:00:02\n",
      "   ------------------- -------------------- 1.0/2.1 MB 927.2 kB/s eta 0:00:02\n",
      "   ------------------------ --------------- 1.3/2.1 MB 776.9 kB/s eta 0:00:02\n",
      "   ------------------------ --------------- 1.3/2.1 MB 776.9 kB/s eta 0:00:02\n",
      "   ------------------------ --------------- 1.3/2.1 MB 776.9 kB/s eta 0:00:02\n",
      "   ----------------------------- ---------- 1.6/2.1 MB 716.4 kB/s eta 0:00:01\n",
      "   ----------------------------- ---------- 1.6/2.1 MB 716.4 kB/s eta 0:00:01\n",
      "   ---------------------------------- ----- 1.8/2.1 MB 693.8 kB/s eta 0:00:01\n",
      "   ---------------------------------- ----- 1.8/2.1 MB 693.8 kB/s eta 0:00:01\n",
      "   ---------------------------------------- 2.1/2.1 MB 687.6 kB/s eta 0:00:00\n",
      "Downloading greenlet-3.2.2-cp313-cp313-win_amd64.whl (296 kB)\n",
      "Installing collected packages: greenlet, sqlalchemy, flask_sqlalchemy\n",
      "\n",
      "   ---------------------------------------- 0/3 [greenlet]\n",
      "   ---------------------------------------- 0/3 [greenlet]\n",
      "   ---------------------------------------- 0/3 [greenlet]\n",
      "   ------------- -------------------------- 1/3 [sqlalchemy]\n",
      "   ------------- -------------------------- 1/3 [sqlalchemy]\n",
      "   ------------- -------------------------- 1/3 [sqlalchemy]\n",
      "   ------------- -------------------------- 1/3 [sqlalchemy]\n",
      "   ------------- -------------------------- 1/3 [sqlalchemy]\n",
      "   ------------- -------------------------- 1/3 [sqlalchemy]\n",
      "   ------------- -------------------------- 1/3 [sqlalchemy]\n",
      "   ------------- -------------------------- 1/3 [sqlalchemy]\n",
      "   ------------- -------------------------- 1/3 [sqlalchemy]\n",
      "   ------------- -------------------------- 1/3 [sqlalchemy]\n",
      "   ------------- -------------------------- 1/3 [sqlalchemy]\n",
      "   ------------- -------------------------- 1/3 [sqlalchemy]\n",
      "   ------------- -------------------------- 1/3 [sqlalchemy]\n",
      "   ------------- -------------------------- 1/3 [sqlalchemy]\n",
      "   ------------- -------------------------- 1/3 [sqlalchemy]\n",
      "   ------------- -------------------------- 1/3 [sqlalchemy]\n",
      "   ------------- -------------------------- 1/3 [sqlalchemy]\n",
      "   ------------- -------------------------- 1/3 [sqlalchemy]\n",
      "   ------------- -------------------------- 1/3 [sqlalchemy]\n",
      "   ------------- -------------------------- 1/3 [sqlalchemy]\n",
      "   ------------- -------------------------- 1/3 [sqlalchemy]\n",
      "   ------------- -------------------------- 1/3 [sqlalchemy]\n",
      "   ------------- -------------------------- 1/3 [sqlalchemy]\n",
      "   ------------- -------------------------- 1/3 [sqlalchemy]\n",
      "   ------------- -------------------------- 1/3 [sqlalchemy]\n",
      "   ------------- -------------------------- 1/3 [sqlalchemy]\n",
      "   ------------- -------------------------- 1/3 [sqlalchemy]\n",
      "   ------------- -------------------------- 1/3 [sqlalchemy]\n",
      "   ------------- -------------------------- 1/3 [sqlalchemy]\n",
      "   ------------- -------------------------- 1/3 [sqlalchemy]\n",
      "   ------------- -------------------------- 1/3 [sqlalchemy]\n",
      "   ------------- -------------------------- 1/3 [sqlalchemy]\n",
      "   ------------- -------------------------- 1/3 [sqlalchemy]\n",
      "   ------------- -------------------------- 1/3 [sqlalchemy]\n",
      "   ------------- -------------------------- 1/3 [sqlalchemy]\n",
      "   ------------- -------------------------- 1/3 [sqlalchemy]\n",
      "   ------------- -------------------------- 1/3 [sqlalchemy]\n",
      "   ------------- -------------------------- 1/3 [sqlalchemy]\n",
      "   ------------- -------------------------- 1/3 [sqlalchemy]\n",
      "   ------------- -------------------------- 1/3 [sqlalchemy]\n",
      "   ------------- -------------------------- 1/3 [sqlalchemy]\n",
      "   -------------------------- ------------- 2/3 [flask_sqlalchemy]\n",
      "   ---------------------------------------- 3/3 [flask_sqlalchemy]\n",
      "\n",
      "Successfully installed flask_sqlalchemy-3.1.1 greenlet-3.2.2 sqlalchemy-2.0.41\n",
      "Note: you may need to restart the kernel to use updated packages.\n"
     ]
    }
   ],
   "source": [
    "pip install flask_sqlalchemy"
   ]
  },
  {
   "cell_type": "code",
   "execution_count": 14,
   "id": "dc118fc0-8a14-4468-ab47-6b6afa919367",
   "metadata": {},
   "outputs": [
    {
     "name": "stdout",
     "output_type": "stream",
     "text": [
      " * Serving Flask app '__main__'\n",
      " * Debug mode: on\n"
     ]
    },
    {
     "name": "stderr",
     "output_type": "stream",
     "text": [
      "WARNING: This is a development server. Do not use it in a production deployment. Use a production WSGI server instead.\n",
      " * Running on http://127.0.0.1:5000\n",
      "Press CTRL+C to quit\n",
      " * Restarting with stat\n"
     ]
    },
    {
     "ename": "SystemExit",
     "evalue": "1",
     "output_type": "error",
     "traceback": [
      "An exception has occurred, use %tb to see the full traceback.\n",
      "\u001b[31mSystemExit\u001b[39m\u001b[31m:\u001b[39m 1\n"
     ]
    }
   ],
   "source": [
    "from flask import Flask\n",
    "from flask_sqlalchemy import SQLAlchemy\n",
    "\n",
    "app = Flask(__name__)\n",
    "app.config['SQLALCHEMY_DATABASE_URI'] = 'sqlite:///example.db'\n",
    "db = SQLAlchemy(app)\n",
    "\n",
    "class Product(db.Model):\n",
    "    id = db.Column(db.Integer, primary_key=True)\n",
    "    name = db.Column(db.String(50), nullable=False)\n",
    "\n",
    "@app.route('/create')\n",
    "def create():\n",
    "    db.create_all()\n",
    "    new_product = Product(name=\"Coffee\")\n",
    "    db.session.add(new_product)\n",
    "    db.session.commit()\n",
    "    return \"Product added!\"\n",
    "\n",
    "if __name__ == '__main__':\n",
    "    app.run(debug=True)"
   ]
  },
  {
   "cell_type": "markdown",
   "id": "2572bbac-aa3b-429b-8f63-7bc342594316",
   "metadata": {
    "jp-MarkdownHeadingCollapsed": true
   },
   "source": [
    "### Q12)  What are Flask blueprints, and how are they useful?"
   ]
  },
  {
   "cell_type": "markdown",
   "id": "43ed447e-1368-4446-94e2-259b00e0a3b7",
   "metadata": {
    "jp-MarkdownHeadingCollapsed": true
   },
   "source": [
    "#### ANS- Flask Blueprints are a way to organize your Flask application into modular components. They allow you to split your application into multiple parts, each with its own routes, templates, static files, and other functionality.Blueprints in Flask allow you to structure your application in a modular way. Instead of placing all the routes, models, and configurations in a single file (such as app.py), you can split them into smaller, reusable components called blueprints. Each blueprint handles a specific functionality or section of your application. "
   ]
  },
  {
   "cell_type": "markdown",
   "id": "f8814b4a-1916-4183-bf3a-dfeb4f20a909",
   "metadata": {
    "jp-MarkdownHeadingCollapsed": true
   },
   "source": [
    "#### Modular Code Structure\n",
    "Blueprints let you split your app into logical sections (e.g., auth, blog, admin), making your code easier to manage and maintain.\n",
    "#### Improved Scalability\n",
    "As your app grows, blueprints help scale the project by keeping related routes, templates, and static files organized.\n",
    "#### Reusability\n",
    "You can create blueprints (like an auth system) and reuse them across multiple Flask projects.\n",
    "#### Team Collaboration\n",
    "Developers can work on different parts of the app independently by assigning different blueprints to different team members.\n",
    "#### Cleaner Integration with App Factory Pattern\n",
    "Blueprints work seamlessly with the app factory pattern, making it easier to configure and test your app in different environments."
   ]
  },
  {
   "cell_type": "markdown",
   "id": "fa95cae6-3602-4f67-8a62-8038ee7e07f9",
   "metadata": {
    "jp-MarkdownHeadingCollapsed": true
   },
   "source": [
    "### Q13) What is the purpose of Flask's request object?"
   ]
  },
  {
   "cell_type": "markdown",
   "id": "22f09a82-00c8-4bdd-918f-7f8e4bc8784d",
   "metadata": {},
   "source": [
    "#### ANS- The Purpose of Flask's request Object\n",
    "#### Access Form Data\n",
    "##### Get data from HTML forms submitted via POST.\n",
    "##### → request.form['username']\n",
    "\n",
    "#### Read Query Parameters (GET data)\n",
    "##### Get data from the URL (e.g., /search?term=flask).\n",
    "##### → request.args.get('term')\n",
    "\n",
    "#### Handle JSON Input\n",
    "##### Read JSON payloads from API requests.\n",
    "##### → request.get_json()\n",
    "\n",
    "#### Check Request Method\n",
    "##### Detect if the request is GET, POST, etc.\n",
    "##### → request.method\n",
    "\n",
    "#### Access Headers and Cookies\n",
    "##### Get request headers or cookies sent by the client.\n",
    "##### → request.headers['User-Agent']\n",
    "##### → request.cookies.get('session_id')"
   ]
  },
  {
   "cell_type": "markdown",
   "id": "1cf2ea89-f473-46f7-b8cd-478100b24706",
   "metadata": {
    "jp-MarkdownHeadingCollapsed": true
   },
   "source": [
    "### Q14) How do you create a RESTful API endpoint using Flask?"
   ]
  },
  {
   "cell_type": "markdown",
   "id": "dec17f2b-2b78-4f77-8752-7cdeae64d75d",
   "metadata": {},
   "source": [
    "#### ANS-  Creating a RESTful API endpoint using Flask involves:\n",
    "##### Defining routes using @app.route\n",
    "##### Supporting HTTP methods like GET, POST, PUT, and DELETE\n",
    "##### Using request to access incoming data\n",
    "##### Returning JSON responses with jsonify\n",
    "##### Using appropriate status codes"
   ]
  },
  {
   "cell_type": "markdown",
   "id": "5a36c5d6-ed4a-454b-9235-2941dc46546e",
   "metadata": {},
   "source": [
    "#1. Install Flask\n",
    "pip install Flask"
   ]
  },
  {
   "cell_type": "markdown",
   "id": "22840292-5217-4c75-b578-ca43e48ea0cd",
   "metadata": {},
   "source": [
    "#2. Create a Flask App (app.py)\n",
    "from flask import Flask, request, jsonify\n",
    "app = Flask(__name__)\n",
    "users = [\n",
    "    {\"id\": 1, \"name\": \"Alice\"},\n",
    "    {\"id\": 2, \"name\": \"Bob\"}\n",
    "]"
   ]
  },
  {
   "cell_type": "markdown",
   "id": "f75bf7a9-a638-44b7-b04f-e41c2d4910db",
   "metadata": {},
   "source": [
    "##### 3. Define RESTful API Endpoints\n",
    "#GET: Retrieve all users\n",
    "@app.route('/users', methods=['GET'])\n",
    "def get_users():\n",
    "    return jsonify(users), 200"
   ]
  },
  {
   "cell_type": "markdown",
   "id": "de3ec3f5-c8f0-4ad5-ba77-bd7a005e8c93",
   "metadata": {},
   "source": [
    "##### DELETE: Remove a user\n",
    "@app.route('/users/<int:user_id>', methods=['DELETE'])\n",
    "def delete_user(user_id):\n",
    "    global users\n",
    "    users = [u for u in users if u['id'] != user_id]\n",
    "    return jsonify({'message': 'User deleted'}), 204"
   ]
  },
  {
   "cell_type": "markdown",
   "id": "1ffea8a7-14b6-42ea-aeed-fcf909e64d77",
   "metadata": {},
   "source": [
    "##### 4. Run the App\n",
    "if __name__ == '__main__':\n",
    "    app.run(debug=True)"
   ]
  },
  {
   "cell_type": "markdown",
   "id": "e472e228-ddf1-4f22-8064-1686b48b37df",
   "metadata": {
    "jp-MarkdownHeadingCollapsed": true
   },
   "source": [
    "### Q15) What is the purpose of Flask's jsonify() function?"
   ]
  },
  {
   "cell_type": "markdown",
   "id": "c2a1aed6-a7c6-4a42-9475-f8fd8d0fc671",
   "metadata": {},
   "source": [
    "#### ANS- The purpose of Flask's jsonify() function is used to convert Python data structures such as dictionaries or lists into a valid JSON response. It automatically handles JSON encoding and returns a Response object with the appropriate Content-Type header set to application/json.It also supports proper character encoding and can handle complex data types more gracefully."
   ]
  },
  {
   "cell_type": "code",
   "execution_count": 17,
   "id": "6ac302e2-471a-4a59-bf76-fa686c5f2c08",
   "metadata": {},
   "outputs": [],
   "source": [
    "from flask import Flask, jsonify\n",
    "\n",
    "app = Flask(__name__)\n",
    "\n",
    "@app.route('/api/data')\n",
    "def get_data():\n",
    "    data = {'name': 'Alice', 'age': 30}\n",
    "    return jsonify(data)\n"
   ]
  },
  {
   "cell_type": "markdown",
   "id": "ec492013-f1fb-4110-a264-d2ee6db68b20",
   "metadata": {},
   "source": [
    "This will return:\n",
    "\n",
    "Body: {\"name\":\"Alice\",\"age\":30}\n",
    "\n",
    "Header: Content-Type: application/json"
   ]
  },
  {
   "cell_type": "markdown",
   "id": "c51dc41a-217a-434c-bcdd-1cb014c46b90",
   "metadata": {
    "jp-MarkdownHeadingCollapsed": true
   },
   "source": [
    "### Q16) Explain Flask’s url_for() function."
   ]
  },
  {
   "cell_type": "markdown",
   "id": "6074c0e2-f24b-4795-a4a7-a34d7fe966fb",
   "metadata": {},
   "source": [
    "#### ANS- Flask’s url_for() function is a built-in utility that helps generate URLs for your application dynamically. Instead of hardcoding URLs directly into your templates or code, you can use url_for() to build URLs based on the name of the view function and any arguments it needs. This makes your code more maintainable and flexible."
   ]
  },
  {
   "cell_type": "markdown",
   "id": "4c651dff-95e9-409e-bf55-d6264e8f26b0",
   "metadata": {},
   "source": [
    "@app.route('/user/<username>')\n",
    "def profile(username):\n",
    "    return f\"User: {username}\"\n"
   ]
  },
  {
   "cell_type": "markdown",
   "id": "f058c1b3-57a9-4ae7-be68-d31b61e12bec",
   "metadata": {},
   "source": [
    "url_for('profile', username='john')\n"
   ]
  },
  {
   "cell_type": "markdown",
   "id": "4f8e9c5d-e1dc-4252-beac-394eb2abc63e",
   "metadata": {},
   "source": [
    "#This will return:\n",
    "'/user/john'\n"
   ]
  },
  {
   "cell_type": "markdown",
   "id": "4b3c616e-d5c3-447d-8555-6d7b7f8c70b6",
   "metadata": {},
   "source": [
    "#### url_for() is used for:-\n",
    "##### Avoid hardcoding: Prevents broken links if your route changes.\n",
    "##### Handles URL encoding: Automatically escapes special characters.\n",
    "##### Supports blueprints and static files:"
   ]
  },
  {
   "cell_type": "markdown",
   "id": "9fcea8ab-48a5-463b-a1f5-09de6a428de1",
   "metadata": {},
   "source": [
    "url_for('static', filename='style.css')"
   ]
  },
  {
   "cell_type": "markdown",
   "id": "c29b2b73-8cf4-434c-9a69-9bc9e6449fe5",
   "metadata": {
    "jp-MarkdownHeadingCollapsed": true
   },
   "source": [
    "### Q17) How does Flask handle static files (CSS, JavaScript, etc.)?"
   ]
  },
  {
   "cell_type": "markdown",
   "id": "ef99f09a-172b-4156-b88d-f19726414007",
   "metadata": {},
   "source": [
    "#### ANS- "
   ]
  },
  {
   "cell_type": "code",
   "execution_count": 1,
   "id": "7bed1400-1762-4489-ba6b-549ca9feee03",
   "metadata": {},
   "outputs": [
    {
     "name": "stdout",
     "output_type": "stream",
     "text": [
      " * Serving Flask app '__main__'\n",
      " * Debug mode: on\n"
     ]
    },
    {
     "name": "stderr",
     "output_type": "stream",
     "text": [
      "WARNING: This is a development server. Do not use it in a production deployment. Use a production WSGI server instead.\n",
      " * Running on http://127.0.0.1:5000\n",
      "Press CTRL+C to quit\n",
      " * Restarting with stat\n"
     ]
    },
    {
     "ename": "SystemExit",
     "evalue": "1",
     "output_type": "error",
     "traceback": [
      "An exception has occurred, use %tb to see the full traceback.\n",
      "\u001b[31mSystemExit\u001b[39m\u001b[31m:\u001b[39m 1\n"
     ]
    },
    {
     "name": "stderr",
     "output_type": "stream",
     "text": [
      "C:\\Users\\KIIT\\AppData\\Local\\Programs\\Python\\Python313\\Lib\\site-packages\\IPython\\core\\interactiveshell.py:3557: UserWarning: To exit: use 'exit', 'quit', or Ctrl-D.\n",
      "  warn(\"To exit: use 'exit', 'quit', or Ctrl-D.\", stacklevel=1)\n"
     ]
    }
   ],
   "source": [
    "#app.py\n",
    "from flask import Flask, render_template\n",
    "\n",
    "app = Flask(__name__)\n",
    "\n",
    "@app.route('/')\n",
    "def home():\n",
    "    return render_template('index.html')\n",
    "\n",
    "if __name__ == '__main__':\n",
    "    app.run(debug=True)"
   ]
  },
  {
   "cell_type": "code",
   "execution_count": null,
   "id": "5eb26658-d5d2-4e07-8c1b-b048f33d3ff4",
   "metadata": {},
   "outputs": [],
   "source": [
    "#templates/index.html\n",
    "<!DOCTYPE html>\n",
    "<html lang=\"en\">\n",
    "<head>\n",
    "    <meta charset=\"UTF-8\">\n",
    "    <title>Static File Example</title>\n",
    "    <link rel=\"stylesheet\" href=\"{{ url_for('static', filename='css/styles.css') }}\">\n",
    "</head>\n",
    "<body>\n",
    "    <h1>Hello from Flask!</h1>\n",
    "    <button onclick=\"showMessage()\">Click Me</button>\n",
    "\n",
    "    <script src=\"{{ url_for('static', filename='js/script.js') }}\"></script>\n",
    "</body>\n",
    "</html>"
   ]
  },
  {
   "cell_type": "code",
   "execution_count": null,
   "id": "216c81db-d36b-4c43-888c-65823f071237",
   "metadata": {},
   "outputs": [],
   "source": [
    "#static/css/styles.css\n",
    "\n",
    "body {\n",
    "    background-color: #f0f8ff;\n",
    "    font-family: Arial, sans-serif;\n",
    "    text-align: center;\n",
    "    padding-top: 50px;\n",
    "}\n",
    "\n",
    "h1 {\n",
    "    color: #333;\n",
    "}"
   ]
  },
  {
   "cell_type": "code",
   "execution_count": null,
   "id": "a0f47afd-9dcd-4c71-bbbb-c616bf5830eb",
   "metadata": {},
   "outputs": [],
   "source": [
    "#static/js/script.js\n",
    "\n",
    "function showMessage() {\n",
    "    alert(\"Button clicked! JavaScript is working.\");\n",
    "}"
   ]
  },
  {
   "cell_type": "markdown",
   "id": "8d90770f-7102-4ff0-a246-0ecfb48249f6",
   "metadata": {},
   "source": [
    "Run It by Save all files in the correct directory structure.In your terminal, navigate to the my_flask_app directory.\n",
    "#Run:python app.py\n",
    "Open http://127.0.0.1:5000/ in your browser."
   ]
  },
  {
   "cell_type": "markdown",
   "id": "9f967d01-205d-41cd-a446-4e54f7dd029b",
   "metadata": {
    "jp-MarkdownHeadingCollapsed": true
   },
   "source": [
    "### Q18) What is an API specification, and how does it help in building a Flask API?"
   ]
  },
  {
   "cell_type": "markdown",
   "id": "aeb51a9a-b603-4ae6-8b70-51c742c41b7b",
   "metadata": {},
   "source": [
    "#### ANS- An API specification details the functional and expected behavior of an API, as well as the fundamental design philosophy and supported data types. It contains both documentation and API definitions to create a contract that people and software can read.An API specification provides a broad understanding of how an API behaves and how the API links with other APIs. It explains how the API functions and the results to expect when using the API. A good example of an API specification is the OpenAPI Specification.An API specification is a detailed blueprint or contract that describes how an API works. It outlines:\n",
    "#### The available endpoints (e.g., /users, /login)\n",
    "#### The HTTP methods used (GET, POST, PUT, DELETE)\n",
    "#### The request parameters (path, query, headers, body)\n",
    "#### The response structure and status codes\n",
    "#### Any authentication requirements\n",
    "#### Supported data formats (e.g., JSON, XML)\n",
    "#### The most common format for API specifications is OpenAPI"
   ]
  },
  {
   "cell_type": "markdown",
   "id": "9bdf334f-0020-477b-9ae4-1baeb17c8c80",
   "metadata": {},
   "source": [
    "#### In the following ways API Specification Helps When Building a Flask API :-"
   ]
  },
  {
   "cell_type": "markdown",
   "id": "60a7cabd-c734-42d1-8141-625dabff5dc6",
   "metadata": {},
   "source": [
    "| Benefit               | Description                                                               |\n",
    "| --------------------- | ------------------------------------------------------------------------- |\n",
    "| ✅ **Documentation**   | Automatically generate user-friendly docs using tools like Swagger UI     |\n",
    "| ✅ **Clear Contract**  | Ensures backend and frontend (or client) teams agree on the interface     |\n",
    "| ✅ **Validation**      | You can automatically validate input/output against the spec              |\n",
    "| ✅ **Mocking**         | Generate fake data or endpoints to test without writing full backend code |\n",
    "| ✅ **Code Generation** | Generate Flask route skeletons or client SDKs from the spec               |\n",
    "| ✅ **Testing**         | Use the spec to write automated tests or check conformance                |\n"
   ]
  },
  {
   "cell_type": "markdown",
   "id": "3cc1adbe-5080-40e4-83f3-69b7e8f404f6",
   "metadata": {
    "jp-MarkdownHeadingCollapsed": true
   },
   "source": [
    "### Q19) What are HTTP status codes, and why are they important in a Flask API?"
   ]
  },
  {
   "cell_type": "markdown",
   "id": "d553dedb-fd62-4184-a3d5-5968b0598a58",
   "metadata": {},
   "source": [
    "#### ANS- HTTP status codes are three-digit numbers returned by a web server (or a web application like a Flask API) in response to a client request (usually from a browser or another app). They indicate the result of the request — whether it was successful, failed, redirected, etc.\n",
    "#### Common Status Codes in Flask APIs:"
   ]
  },
  {
   "cell_type": "markdown",
   "id": "f2e8dd10-b6e8-4d06-a74f-5021d0abe587",
   "metadata": {},
   "source": [
    "| Code | Meaning               | When to Use                                               |\n",
    "| ---- | --------------------- | --------------------------------------------------------- |\n",
    "| 200  | OK                    | Request was successful                                    |\n",
    "| 201  | Created               | New resource successfully created (e.g., after POST)      |\n",
    "| 204  | No Content            | Request successful, no response body (e.g., after DELETE) |\n",
    "| 400  | Bad Request           | Client sent invalid data                                  |\n",
    "| 401  | Unauthorized          | Authentication required                                   |\n",
    "| 403  | Forbidden             | User is not allowed to access the resource                |\n",
    "| 404  | Not Found             | Resource does not exist                                   |\n",
    "| 500  | Internal Server Error | Unexpected error on the server                            |\n"
   ]
  },
  {
   "cell_type": "markdown",
   "id": "3cd67d4c-7d27-4ea7-a611-ee859aaeae62",
   "metadata": {},
   "source": [
    "#### In a Flask API,  Importantance of Status Codes are:-\n",
    "##### Communicate Clearly with Clients: APIs often interact with other programs, not people. Status codes provide a standard way to communicate success or failure.\n",
    "##### Enable Better Error Handling: Client applications can react appropriately based on the status code (e.g., retry on 500, show login form on 401).\n",
    "##### Improve Debugging and Logging: Helps developers understand what's going wrong by looking at logs or response codes."
   ]
  },
  {
   "cell_type": "markdown",
   "id": "cb25f00d-6bcc-4488-9a4c-45cc46eb3a52",
   "metadata": {
    "jp-MarkdownHeadingCollapsed": true
   },
   "source": [
    "### Q20) How do you handle POST requests in Flask?"
   ]
  },
  {
   "cell_type": "markdown",
   "id": "67e73649-1e74-4eb4-9f55-2a11c93d9f0f",
   "metadata": {},
   "source": [
    "#### ANS- In Flask, handling POST requests involves creating a route that allows the POST method and then accessing the submitted data using Flask's request object."
   ]
  },
  {
   "cell_type": "code",
   "execution_count": null,
   "id": "aff8173b-57b5-4d28-a1e3-973b649c7c1e",
   "metadata": {},
   "outputs": [],
   "source": [
    "from flask import Flask, request, jsonify\n",
    "app = Flask(__name__)"
   ]
  },
  {
   "cell_type": "code",
   "execution_count": 2,
   "id": "537c42b3-b802-4a0c-80d4-f9b62443edcd",
   "metadata": {},
   "outputs": [],
   "source": [
    "#### 2. Create a POST Route\n",
    "\n",
    "##### a) Handling JSON Data\n",
    "@app.route('/submit', methods=['POST'])\n",
    "def handle_post():\n",
    "    data = request.get_json()  \n",
    "    name = data.get('name')\n",
    "    return jsonify({'message': f'Hello, {name}!'}), 200"
   ]
  },
  {
   "cell_type": "code",
   "execution_count": null,
   "id": "3caeb746-549c-4dc8-b1bb-8db3edcc815c",
   "metadata": {},
   "outputs": [],
   "source": [
    "#####b) Handling Form Data (e.g., from HTML forms)\n",
    "@app.route('/submit', methods=['POST'])\n",
    "def submit_form():\n",
    "    name = request.form.get('name')\n",
    "    return f\"Hello, {name}!\""
   ]
  },
  {
   "cell_type": "code",
   "execution_count": null,
   "id": "a33ceac7-1fc2-49c8-a73e-cccacd2c317b",
   "metadata": {},
   "outputs": [],
   "source": [
    "#### 3. Example HTML Form\n",
    "<form action=\"/submit\" method=\"POST\">\n",
    "  <input type=\"text\" name=\"name\">\n",
    "  <button type=\"submit\">Submit</button>\n",
    "</form>"
   ]
  },
  {
   "cell_type": "code",
   "execution_count": null,
   "id": "36c65044-58d3-42e0-a2c7-0dfbf3a77ae1",
   "metadata": {},
   "outputs": [],
   "source": [
    "#### 4. Testing with curl or Postman\n",
    "curl -X POST -H \"Content-Type: application/json\" \\\n",
    "    -d '{\"name\": \"Alice\"}' http://localhost:5000/api/data"
   ]
  },
  {
   "cell_type": "markdown",
   "id": "08c85491-dd73-4357-915b-9d7482966742",
   "metadata": {
    "jp-MarkdownHeadingCollapsed": true
   },
   "source": [
    "### Q21) How would you secure a Flask API?"
   ]
  },
  {
   "cell_type": "markdown",
   "id": "6091f51c-e5c6-4c2d-aa3d-9686b312ecb7",
   "metadata": {
    "jp-MarkdownHeadingCollapsed": true
   },
   "source": [
    "#### ANS-To secure a Flask API, several methods can be employed, focusing on authentication, authorization, and general security practices.\n",
    "#### HTTPS:\n",
    "It is crucial to enforce HTTPS to encrypt communication between the client and server, protecting sensitive data during transmission."
   ]
  },
  {
   "cell_type": "markdown",
   "id": "1521bc92-5978-45a1-925e-eb38a98067b4",
   "metadata": {
    "jp-MarkdownHeadingCollapsed": true
   },
   "source": [
    "#### Authentication:\n",
    "##### Token-based authentication (JWT): After a user logs in, the server sends a token that the user must include in subsequent requests. The server validates this token to authenticate the user. Libraries like Flask-JWT-Extended can be used to implement JWT authentication.\n",
    "##### API Keys: Assign unique keys to clients, which they include in their requests. This method is simpler but less secure than token-based authentication.\n",
    "##### OAuth 2.0: Implement OAuth 2.0 for more complex authorization scenarios, especially when third-party access is involved."
   ]
  },
  {
   "cell_type": "markdown",
   "id": "86954a43-6ce5-4bb7-9d0e-449760be571e",
   "metadata": {},
   "source": [
    "#### Authorization:\n",
    "Role-Based Access Control (RBAC): Assign roles to users and grant permissions based on these roles. Libraries like Flask-Security can help implement RBAC.\n",
    "#### Input Validation:\n",
    "Sanitize and validate all user inputs to prevent injection attacks.\n",
    "Use Flask-RESTful for request parsing and validation.\n",
    "#### Error Handling and Logging:\n",
    "Implement proper error handling to avoid exposing sensitive information.\n",
    "Use logging to monitor and debug the API, but ensure logs do not contain sensitive data.\n",
    "#### Security Headers:\n",
    "Set HTTP security headers to protect against common web vulnerabilities like XSS and CSRF.\n",
    "#### Rate Limiting:\n",
    "Implement rate limiting to prevent brute-force attacks and DoS attacks.\n",
    "#### Dependency Management:\n",
    "Keep all dependencies updated to avoid security vulnerabilities in third-party libraries."
   ]
  },
  {
   "cell_type": "markdown",
   "id": "2d5b4406-2ee1-4a9b-be65-74d89ec8e425",
   "metadata": {},
   "source": [
    "#### Disable Debug Mode:\n",
    "Ensure debug mode is disabled in production to prevent exposing sensitive information and potential vulnerabilities.\n",
    "#### Regular Security Audits:\n",
    "Conduct regular security audits and penetration testing to identify and address potential vulnerabilities"
   ]
  },
  {
   "cell_type": "markdown",
   "id": "8ebe8e83-ccf8-4038-8742-960312237d9d",
   "metadata": {
    "jp-MarkdownHeadingCollapsed": true
   },
   "source": [
    "### Q22) What is the significance of the Flask-RESTful extension?"
   ]
  },
  {
   "cell_type": "markdown",
   "id": "b4785b98-9b07-4f2e-972f-a0d6c04d23c3",
   "metadata": {},
   "source": [
    "#### ANS- The Flask-RESTful extension significantly simplifies the development of RESTful APIs within Flask applications. It provides a structured way to define resources, manage HTTP methods, and handle data serialization/deserialization, leading to cleaner, more maintainable code. By leveraging the Resource class, it enables developers to define HTTP methods as class methods, making it easier to organize and manage API endpoints. \n",
    "#### Key Significance:\n",
    "##### Simplified API Development:\n",
    "Flask RESTful abstracts away the complexities of defining and handling API endpoints, making the process more straightforward and efficient. \n",
    "##### Resource-Oriented Approach:\n",
    "The Resource class encourages a well-structured approach to API design, promoting reusability and maintainability. \n",
    "##### Best Practice Adherence:\n",
    "It encourages the use of RESTful principles, resulting in APIs that are easier to scale, maintain, and integrate with other services. \n",
    "##### Object-Oriented Programming:\n",
    "It allows developers to write cleaner, more object-oriented code for API development. \n",
    "##### Data Serialization/Deserialization:\n",
    "It provides built-in mechanisms for serializing and deserializing data, simplifying the process of handling data formats like JSON."
   ]
  },
  {
   "cell_type": "markdown",
   "id": "732be844-1f91-4873-bcde-bbb2274d8851",
   "metadata": {
    "jp-MarkdownHeadingCollapsed": true
   },
   "source": [
    "### Q23) What is the role of Flask’s session object?"
   ]
  },
  {
   "cell_type": "markdown",
   "id": "be50314f-a59b-42ce-81aa-9fde66c254c0",
   "metadata": {},
   "source": [
    "#### ANS-Flask’s session object plays a key role in managing user-specific data across multiple requests. It's essentially used for storing data on a per-client basis during a browsing session.Key Roles of session in Flask:\n",
    "#### State Management:\n",
    "HTTP is a stateless protocol, so session helps preserve state (e.g., login status, user preferences) across requests.\n",
    "#### Client-Side Storage:\n",
    "Flask stores session data on the client side using a securely signed cookie. The data is serialized (using JSON) and cryptographically signed to prevent tampering.The cookie is stored in the user’s browser, and Flask verifies the signature to ensure the data hasn't been modified.\n",
    "#### Storing Temporary Data:\n",
    "It's commonly used to store temporary data such as User authentication status,Shopping cart contents,Flash messages (in conjunction with Flask’s flash() and get_flashed_messages()) etc.\n",
    "#### Security:\n",
    "Flask uses the SECRET_KEY config variable to sign the session cookie. Without this key, Flask can’t verify the session data"
   ]
  },
  {
   "cell_type": "code",
   "execution_count": 1,
   "id": "01d17762-58e8-4738-be51-c1f2949091e8",
   "metadata": {},
   "outputs": [],
   "source": [
    "#In this example, the session tracks the logged-in user across different routes.\n",
    "\n",
    "from flask import Flask, session, redirect, url_for, request\n",
    "\n",
    "app = Flask(__name__)\n",
    "app.secret_key = 'your_secret_key_here'  # Required for session to work\n",
    "\n",
    "@app.route('/login', methods=['POST'])\n",
    "def login():\n",
    "    session['username'] = request.form['username']\n",
    "    return redirect(url_for('profile'))\n",
    "\n",
    "@app.route('/profile')\n",
    "def profile():\n",
    "    if 'username' in session:\n",
    "        return f\"Welcome, {session['username']}!\"\n",
    "    return \"You are not logged in.\"\n",
    "\n",
    "@app.route('/logout')\n",
    "def logout():\n",
    "    session.pop('username', None)\n",
    "    return \"You have been logged out.\""
   ]
  },
  {
   "cell_type": "markdown",
   "id": "45b1987e-9c5b-4b67-8520-26322735f781",
   "metadata": {},
   "source": [
    "# Practical"
   ]
  },
  {
   "cell_type": "markdown",
   "id": "8535fe84-6cdb-4fe9-abee-5420613f1276",
   "metadata": {
    "jp-MarkdownHeadingCollapsed": true
   },
   "source": [
    "### Q1) How do you create a basic Flask application?"
   ]
  },
  {
   "cell_type": "markdown",
   "id": "055ff043-634e-4ecf-b19c-0a85307cfbf5",
   "metadata": {},
   "source": [
    "#### ANS- "
   ]
  },
  {
   "cell_type": "code",
   "execution_count": 6,
   "id": "3afa4167-5f82-4593-a7a9-56dd206e6923",
   "metadata": {},
   "outputs": [
    {
     "name": "stdout",
     "output_type": "stream",
     "text": [
      "Requirement already satisfied: Flask in c:\\users\\kiit\\appdata\\local\\programs\\python\\python313\\lib\\site-packages (3.1.1)\n",
      "Requirement already satisfied: blinker>=1.9.0 in c:\\users\\kiit\\appdata\\local\\programs\\python\\python313\\lib\\site-packages (from Flask) (1.9.0)\n",
      "Requirement already satisfied: click>=8.1.3 in c:\\users\\kiit\\appdata\\local\\programs\\python\\python313\\lib\\site-packages (from Flask) (8.2.1)\n",
      "Requirement already satisfied: itsdangerous>=2.2.0 in c:\\users\\kiit\\appdata\\local\\programs\\python\\python313\\lib\\site-packages (from Flask) (2.2.0)\n",
      "Requirement already satisfied: jinja2>=3.1.2 in c:\\users\\kiit\\appdata\\local\\programs\\python\\python313\\lib\\site-packages (from Flask) (3.1.6)\n",
      "Requirement already satisfied: markupsafe>=2.1.1 in c:\\users\\kiit\\appdata\\local\\programs\\python\\python313\\lib\\site-packages (from Flask) (3.0.2)\n",
      "Requirement already satisfied: werkzeug>=3.1.0 in c:\\users\\kiit\\appdata\\local\\programs\\python\\python313\\lib\\site-packages (from Flask) (3.1.3)\n",
      "Requirement already satisfied: colorama in c:\\users\\kiit\\appdata\\local\\programs\\python\\python313\\lib\\site-packages (from click>=8.1.3->Flask) (0.4.6)\n",
      "Note: you may need to restart the kernel to use updated packages.\n"
     ]
    }
   ],
   "source": [
    "pip install Flask"
   ]
  },
  {
   "cell_type": "code",
   "execution_count": 10,
   "id": "9fb99a7c-59ac-4c79-8545-b7099b0b4fbb",
   "metadata": {},
   "outputs": [
    {
     "name": "stdout",
     "output_type": "stream",
     "text": [
      " * Serving Flask app '__main__'\n",
      " * Debug mode: on\n"
     ]
    },
    {
     "name": "stderr",
     "output_type": "stream",
     "text": [
      "WARNING: This is a development server. Do not use it in a production deployment. Use a production WSGI server instead.\n",
      " * Running on http://127.0.0.1:5000\n",
      "Press CTRL+C to quit\n",
      " * Restarting with stat\n"
     ]
    },
    {
     "ename": "SystemExit",
     "evalue": "1",
     "output_type": "error",
     "traceback": [
      "An exception has occurred, use %tb to see the full traceback.\n",
      "\u001b[31mSystemExit\u001b[39m\u001b[31m:\u001b[39m 1\n"
     ]
    },
    {
     "name": "stderr",
     "output_type": "stream",
     "text": [
      "C:\\Users\\KIIT\\AppData\\Local\\Programs\\Python\\Python313\\Lib\\site-packages\\IPython\\core\\interactiveshell.py:3557: UserWarning: To exit: use 'exit', 'quit', or Ctrl-D.\n",
      "  warn(\"To exit: use 'exit', 'quit', or Ctrl-D.\", stacklevel=1)\n"
     ]
    }
   ],
   "source": [
    "#Create a Python file, e.g., app.py, with the following contents:\n",
    "from flask import Flask\n",
    "\n",
    "app = Flask(__name__)  \n",
    "\n",
    "@app.route('/')\n",
    "def home():\n",
    "    return \"Hello, Flask!\"  \n",
    "\n",
    "if __name__ == '__main__':\n",
    "    app.run(debug=True) "
   ]
  },
  {
   "cell_type": "markdown",
   "id": "711270b4-f4dd-4283-9396-026c85fb7034",
   "metadata": {},
   "source": [
    "#Run the App\n",
    "python app.py"
   ]
  },
  {
   "cell_type": "markdown",
   "id": "263dcc3d-68ad-4ce2-babe-f49e31d638a0",
   "metadata": {},
   "source": [
    "You should see output like:\n",
    " * Running on http://127.0.0.1:5000/ (Press CTRL+C to quit)"
   ]
  },
  {
   "cell_type": "markdown",
   "id": "2f589e49-0ea6-4af1-8e02-42b24dcf4e78",
   "metadata": {},
   "source": [
    "Open that URL in your browser, and you'll see:\n",
    "Hello, Flask!"
   ]
  },
  {
   "cell_type": "markdown",
   "id": "feec3550-e005-4df2-9fc9-3b7ed339c0f4",
   "metadata": {},
   "source": [
    "### Q2) How do you serve static files like images or CSS in Flask?"
   ]
  },
  {
   "cell_type": "markdown",
   "id": "2702b45f-53fd-4b1a-a43a-bdee5d058261",
   "metadata": {},
   "source": [
    "#### ANS- "
   ]
  },
  {
   "cell_type": "code",
   "execution_count": null,
   "id": "34f08632-3c1a-42d6-ad93-67ca809b2bc5",
   "metadata": {},
   "outputs": [],
   "source": [
    "#templates/index.html:\n",
    "<!DOCTYPE html>\n",
    "<html>\n",
    "<head>\n",
    "    <link rel=\"stylesheet\" type=\"text/css\" href=\"{{ url_for('static', filename='css/style.css') }}\">\n",
    "</head>\n",
    "<body>\n",
    "    <h1>Hello, Flask!</h1>\n",
    "    <img src=\"{{ url_for('static', filename='images/logo.png') }}\" alt=\"Logo\">\n",
    "</body>\n",
    "</html>"
   ]
  },
  {
   "cell_type": "code",
   "execution_count": 1,
   "id": "7ab66452-341f-4645-a780-809fa4a6dff9",
   "metadata": {},
   "outputs": [],
   "source": [
    "#app.py:\n",
    "from flask import Flask, render_template\n",
    "\n",
    "app = Flask(__name__)\n",
    "\n",
    "@app.route('/')\n",
    "def index():\n",
    "    return render_template('index.html')"
   ]
  },
  {
   "cell_type": "markdown",
   "id": "b68b9955-8031-459b-96b2-63f757f0c74a",
   "metadata": {
    "jp-MarkdownHeadingCollapsed": true
   },
   "source": [
    "### Q3) How do you define different routes with different HTTP methods in Flask?"
   ]
  },
  {
   "cell_type": "markdown",
   "id": "0f754488-3340-4006-85a7-b04bdb12250c",
   "metadata": {},
   "source": [
    "#### ANS- In Flask, you define different routes and handle different HTTP methods using the @app.route() decorator with the methods argument. Here's how you can do it:"
   ]
  },
  {
   "cell_type": "code",
   "execution_count": 12,
   "id": "7a9064d0-91f7-4c2f-8f42-6f3f6cd13d12",
   "metadata": {},
   "outputs": [],
   "source": [
    "from flask import Flask, request\n",
    "\n",
    "app = Flask(__name__)\n",
    "\n",
    "@app.route('/example', methods=['GET'])\n",
    "def get_example():\n",
    "    return \"This is a GET request\"\n",
    "\n",
    "@app.route('/example', methods=['POST'])\n",
    "def post_example():\n",
    "    return \"This is a POST request\"\n",
    "\n",
    "@app.route('/example', methods=['PUT'])\n",
    "def put_example():\n",
    "    return \"This is a PUT request\"\n",
    "\n",
    "@app.route('/example', methods=['DELETE'])\n",
    "def delete_example():\n",
    "    return \"This is a DELETE request\""
   ]
  },
  {
   "cell_type": "code",
   "execution_count": 13,
   "id": "2911685b-7bf3-4505-9ae1-223942ce29bc",
   "metadata": {},
   "outputs": [],
   "source": [
    "#You can also define a single function to handle multiple methods and distinguish between them using request.method:\n",
    "from flask import Flask, request\n",
    "\n",
    "app = Flask(__name__)\n",
    "\n",
    "@app.route('/item', methods=['GET', 'POST'])\n",
    "def handle_item():\n",
    "    if request.method == 'GET':\n",
    "        return \"Handling GET\"\n",
    "    elif request.method == 'POST':\n",
    "        return \"Handling POST\""
   ]
  },
  {
   "cell_type": "markdown",
   "id": "47d8c6cb-04c7-495c-b80c-68306e14abf7",
   "metadata": {
    "jp-MarkdownHeadingCollapsed": true
   },
   "source": [
    "### Q4) How do you render HTML templates in Flask?"
   ]
  },
  {
   "cell_type": "markdown",
   "id": "92ea2983-c0d3-4903-bf59-0807d435b0dd",
   "metadata": {},
   "source": [
    "#### ANS- In Flask, you render HTML templates using the render_template() function, which loads an HTML file from the templates/ directory and injects data into it if needed."
   ]
  },
  {
   "cell_type": "code",
   "execution_count": null,
   "id": "5c167f8a-a48d-4a56-bf3b-4ed4f2b05ec0",
   "metadata": {},
   "outputs": [],
   "source": [
    "#In templates/hello.html\n",
    "<!doctype html>\n",
    "<html>\n",
    "  <head><title>Hello</title></head>\n",
    "  <body>\n",
    "    <h1>Hello, {{ name }}!</h1>\n",
    "  </body>\n",
    "</html>"
   ]
  },
  {
   "cell_type": "code",
   "execution_count": 10,
   "id": "30e3a8c4-5a01-40a5-a329-0eaed44c1362",
   "metadata": {},
   "outputs": [
    {
     "name": "stdout",
     "output_type": "stream",
     "text": [
      " * Serving Flask app '__main__'\n",
      " * Debug mode: on\n"
     ]
    },
    {
     "name": "stderr",
     "output_type": "stream",
     "text": [
      "WARNING: This is a development server. Do not use it in a production deployment. Use a production WSGI server instead.\n",
      " * Running on http://127.0.0.1:5000\n",
      "Press CTRL+C to quit\n",
      " * Restarting with stat\n"
     ]
    },
    {
     "ename": "SystemExit",
     "evalue": "1",
     "output_type": "error",
     "traceback": [
      "An exception has occurred, use %tb to see the full traceback.\n",
      "\u001b[31mSystemExit\u001b[39m\u001b[31m:\u001b[39m 1\n"
     ]
    }
   ],
   "source": [
    "# app.py\n",
    "from flask import Flask, render_template\n",
    "\n",
    "app = Flask(__name__)\n",
    "\n",
    "@app.route('/<name>')\n",
    "def hello(name):\n",
    "    return render_template('hello.html', name=name)\n",
    "\n",
    "if __name__ == '__main__':\n",
    "    app.run(debug=True)"
   ]
  },
  {
   "cell_type": "markdown",
   "id": "67c4ae50-71ea-4796-ad89-2de2f6533e05",
   "metadata": {
    "jp-MarkdownHeadingCollapsed": true
   },
   "source": [
    "### Q5) How can you generate URLs for routes in Flask using url_for?"
   ]
  },
  {
   "cell_type": "markdown",
   "id": "a71ed39f-551c-4d08-b3e9-a48243828e68",
   "metadata": {},
   "source": [
    "#### ANS- "
   ]
  },
  {
   "cell_type": "code",
   "execution_count": 18,
   "id": "a0e0a92d-4ced-473f-bdf1-e0e332d6ce79",
   "metadata": {},
   "outputs": [],
   "source": [
    "from flask import Flask, url_for\n",
    "\n",
    "app = Flask(__name__)\n",
    "\n",
    "@app.route('/hello')\n",
    "def hello():\n",
    "    return \"Hello!\"\n",
    "\n",
    "@app.route('/')\n",
    "def index():\n",
    "    # Generate URL for the 'hello' view function\n",
    "    return f\"Go to the hello page: {url_for('hello')}\""
   ]
  },
  {
   "cell_type": "markdown",
   "id": "9392f8f8-1196-4dc0-8f05-43e68cb0e7d0",
   "metadata": {},
   "source": [
    "Output in browser:\n",
    "Go to the hello page: /hello "
   ]
  },
  {
   "cell_type": "markdown",
   "id": "ac4ac2e5-8d7e-4473-b80d-ef262892d42b",
   "metadata": {
    "jp-MarkdownHeadingCollapsed": true
   },
   "source": [
    "### Q6) How do you handle forms in Flask?"
   ]
  },
  {
   "cell_type": "markdown",
   "id": "7779ea80-9d74-4afb-a48e-c0cadf768ed7",
   "metadata": {},
   "source": [
    "#### ANS- "
   ]
  },
  {
   "cell_type": "markdown",
   "id": "41dddaa9-825e-4834-8ef5-d2decd21e10a",
   "metadata": {},
   "source": [
    "#Create the HTML Form\n",
    "<!doctype html>\n",
    "<html>\n",
    "  <body>\n",
    "    <form method=\"POST\">\n",
    "      <label>Name:</label>\n",
    "      <input type=\"text\" name=\"name\">\n",
    "      <input type=\"submit\" value=\"Submit\">\n",
    "    </form>\n",
    "  </body>\n",
    "</html>"
   ]
  },
  {
   "cell_type": "code",
   "execution_count": 8,
   "id": "83ee485c-026c-41f0-a3fa-6488f6a274e7",
   "metadata": {},
   "outputs": [],
   "source": [
    "#Handle the Form in Your Flask App\n",
    "from flask import Flask, request, render_template\n",
    "\n",
    "app = Flask(__name__)\n",
    "\n",
    "@app.route('/', methods=['GET', 'POST'])\n",
    "def form():\n",
    "    if request.method == 'POST':\n",
    "        name = request.form['name']\n",
    "        return f'Hello, {name}!'\n",
    "    return render_template('form.html')"
   ]
  },
  {
   "cell_type": "code",
   "execution_count": 9,
   "id": "4a9d5622-8b03-4334-8d8c-0f5539dd24e8",
   "metadata": {},
   "outputs": [],
   "source": [
    "#Use WTForms for Validation\n",
    "from flask import Flask, render_template, redirect\n",
    "from flask_wtf import FlaskForm\n",
    "from wtforms import StringField, SubmitField\n",
    "from wtforms.validators import DataRequired\n",
    "\n",
    "app = Flask(__name__)\n",
    "app.secret_key = 'your-secret-key'\n",
    "\n",
    "class NameForm(FlaskForm):\n",
    "    name = StringField('Name', validators=[DataRequired()])\n",
    "    submit = SubmitField('Submit')\n",
    "\n",
    "@app.route('/', methods=['GET', 'POST'])\n",
    "def form():\n",
    "    form = NameForm()\n",
    "    if form.validate_on_submit():\n",
    "        return f'Hello, {form.name.data}!'\n",
    "    return render_template('form_with_wtforms.html', form=form)"
   ]
  },
  {
   "cell_type": "markdown",
   "id": "bd54408e-fcfa-40ec-b805-271ae311b724",
   "metadata": {},
   "source": [
    "#And in templates/form_with_wtforms.html:\n",
    "<form method=\"POST\">\n",
    "    {{ form.hidden_tag() }}\n",
    "    {{ form.name.label }} {{ form.name() }}\n",
    "    {{ form.submit() }}\n",
    "</form>"
   ]
  },
  {
   "cell_type": "markdown",
   "id": "88c39359-9fab-4877-9289-390644f3f896",
   "metadata": {
    "jp-MarkdownHeadingCollapsed": true
   },
   "source": [
    "### Q7) How can you validate form data in Flask?"
   ]
  },
  {
   "cell_type": "markdown",
   "id": "3d486cdc-1ca9-4d6a-8f5e-41c4a48662b8",
   "metadata": {},
   "source": [
    "#### ANS- "
   ]
  },
  {
   "cell_type": "code",
   "execution_count": 3,
   "id": "2908fa8c-1d84-4504-9b1c-fb82dfa79f31",
   "metadata": {},
   "outputs": [],
   "source": [
    "#1. Manual Validation (Basic Flask) using request.form.\n",
    "from flask import Flask, request, render_template, redirect, url_for\n",
    "\n",
    "app = Flask(__name__)\n",
    "\n",
    "@app.route('/', methods=['GET', 'POST'])\n",
    "def form():\n",
    "    error = None\n",
    "    if request.method == 'POST':\n",
    "        name = request.form.get('name')\n",
    "        age = request.form.get('age')\n",
    "\n",
    "        if not name:\n",
    "            error = 'Name is required.'\n",
    "        elif not age.isdigit():\n",
    "            error = 'Age must be a number.'\n",
    "        else:\n",
    "            return f'Hello {name}, you are {age} years old.'\n",
    "\n",
    "    return render_template('form.html', error=error)\n"
   ]
  },
  {
   "cell_type": "markdown",
   "id": "52788cb8-6b1b-4ba6-8945-51b1a21b4865",
   "metadata": {},
   "source": [
    "#HTML (templates/form.html):\n",
    "<form method=\"post\">\n",
    "    Name: <input type=\"text\" name=\"name\"><br>\n",
    "    Age: <input type=\"text\" name=\"age\"><br>\n",
    "    <input type=\"submit\" value=\"Submit\">\n",
    "</form>\n",
    "{% if error %}\n",
    "    <p style=\"color:red;\">{{ error }}</p>\n",
    "{% endif %}\n"
   ]
  },
  {
   "cell_type": "markdown",
   "id": "ff668dfc-1e81-4f4f-9aca-76bc24394c1e",
   "metadata": {},
   "source": [
    "#2. Using Flask-WTF "
   ]
  },
  {
   "cell_type": "code",
   "execution_count": 6,
   "id": "a2f03706-108b-4999-b80d-7f6ef298e509",
   "metadata": {},
   "outputs": [
    {
     "name": "stdout",
     "output_type": "stream",
     "text": [
      "Collecting flask-wtf\n",
      "  Downloading flask_wtf-1.2.2-py3-none-any.whl.metadata (3.4 kB)\n",
      "Requirement already satisfied: flask in c:\\users\\kiit\\appdata\\local\\programs\\python\\python313\\lib\\site-packages (from flask-wtf) (3.1.1)\n",
      "Requirement already satisfied: itsdangerous in c:\\users\\kiit\\appdata\\local\\programs\\python\\python313\\lib\\site-packages (from flask-wtf) (2.2.0)\n",
      "Collecting wtforms (from flask-wtf)\n",
      "  Downloading wtforms-3.2.1-py3-none-any.whl.metadata (5.3 kB)\n",
      "Requirement already satisfied: blinker>=1.9.0 in c:\\users\\kiit\\appdata\\local\\programs\\python\\python313\\lib\\site-packages (from flask->flask-wtf) (1.9.0)\n",
      "Requirement already satisfied: click>=8.1.3 in c:\\users\\kiit\\appdata\\local\\programs\\python\\python313\\lib\\site-packages (from flask->flask-wtf) (8.2.1)\n",
      "Requirement already satisfied: jinja2>=3.1.2 in c:\\users\\kiit\\appdata\\local\\programs\\python\\python313\\lib\\site-packages (from flask->flask-wtf) (3.1.6)\n",
      "Requirement already satisfied: markupsafe>=2.1.1 in c:\\users\\kiit\\appdata\\local\\programs\\python\\python313\\lib\\site-packages (from flask->flask-wtf) (3.0.2)\n",
      "Requirement already satisfied: werkzeug>=3.1.0 in c:\\users\\kiit\\appdata\\local\\programs\\python\\python313\\lib\\site-packages (from flask->flask-wtf) (3.1.3)\n",
      "Requirement already satisfied: colorama in c:\\users\\kiit\\appdata\\local\\programs\\python\\python313\\lib\\site-packages (from click>=8.1.3->flask->flask-wtf) (0.4.6)\n",
      "Downloading flask_wtf-1.2.2-py3-none-any.whl (12 kB)\n",
      "Downloading wtforms-3.2.1-py3-none-any.whl (152 kB)\n",
      "Installing collected packages: wtforms, flask-wtf\n",
      "\n",
      "   ---------------------------------------- 0/2 [wtforms]\n",
      "   ---------------------------------------- 0/2 [wtforms]\n",
      "   -------------------- ------------------- 1/2 [flask-wtf]\n",
      "   ---------------------------------------- 2/2 [flask-wtf]\n",
      "\n",
      "Successfully installed flask-wtf-1.2.2 wtforms-3.2.1\n",
      "Note: you may need to restart the kernel to use updated packages.\n"
     ]
    }
   ],
   "source": [
    "pip install flask-wtf"
   ]
  },
  {
   "cell_type": "code",
   "execution_count": 7,
   "id": "1c14b686-f9cf-4f1d-b487-b590bed13069",
   "metadata": {},
   "outputs": [],
   "source": [
    "from flask import Flask, render_template, redirect\n",
    "from flask_wtf import FlaskForm\n",
    "from wtforms import StringField, IntegerField, SubmitField\n",
    "from wtforms.validators import DataRequired, NumberRange\n",
    "\n",
    "app = Flask(__name__)\n",
    "app.secret_key = 'secretkey' \n",
    "\n",
    "class MyForm(FlaskForm):\n",
    "    name = StringField('Name', validators=[DataRequired()])\n",
    "    age = IntegerField('Age', validators=[DataRequired(), NumberRange(min=1, max=120)])\n",
    "    submit = SubmitField('Submit')\n",
    "\n",
    "@app.route('/', methods=['GET', 'POST'])\n",
    "def form():\n",
    "    form = MyForm()\n",
    "    if form.validate_on_submit():\n",
    "        name = form.name.data\n",
    "        age = form.age.data\n",
    "        return f'Hello {name}, you are {age} years old.'\n",
    "    return render_template('form.html', form=form)\n"
   ]
  },
  {
   "cell_type": "markdown",
   "id": "18adb29a-6c84-4427-875e-2b8d4293d222",
   "metadata": {},
   "source": [
    "#templates/form.html\n",
    "<form method=\"post\">\n",
    "    {{ form.hidden_tag() }}\n",
    "    {{ form.name.label }} {{ form.name() }}<br>\n",
    "    {{ form.age.label }} {{ form.age() }}<br>\n",
    "    {{ form.submit() }}\n",
    "</form>\n",
    "\n",
    "{% for field, errors in form.errors.items() %}\n",
    "    {% for error in errors %}\n",
    "        <p style=\"color:red;\">{{ error }}</p>\n",
    "    {% endfor %}\n",
    "{% endfor %}"
   ]
  },
  {
   "cell_type": "markdown",
   "id": "7b2bdc49-7338-45fc-8388-1f1420a6bc7e",
   "metadata": {
    "jp-MarkdownHeadingCollapsed": true
   },
   "source": [
    "### Q8) How do you manage sessions in Flask?"
   ]
  },
  {
   "cell_type": "markdown",
   "id": "3615fd9a-32fb-4e96-a82e-3d4d47a899dd",
   "metadata": {},
   "source": [
    "#### ANS- "
   ]
  },
  {
   "cell_type": "code",
   "execution_count": 2,
   "id": "b3b044e4-abb4-4cd3-9322-8c2ce161dc11",
   "metadata": {},
   "outputs": [
    {
     "name": "stdout",
     "output_type": "stream",
     "text": [
      " * Serving Flask app '__main__'\n",
      " * Debug mode: on\n"
     ]
    },
    {
     "name": "stderr",
     "output_type": "stream",
     "text": [
      "WARNING: This is a development server. Do not use it in a production deployment. Use a production WSGI server instead.\n",
      " * Running on http://127.0.0.1:5000\n",
      "Press CTRL+C to quit\n",
      " * Restarting with stat\n"
     ]
    },
    {
     "ename": "SystemExit",
     "evalue": "1",
     "output_type": "error",
     "traceback": [
      "An exception has occurred, use %tb to see the full traceback.\n",
      "\u001b[31mSystemExit\u001b[39m\u001b[31m:\u001b[39m 1\n"
     ]
    },
    {
     "name": "stderr",
     "output_type": "stream",
     "text": [
      "C:\\Users\\KIIT\\AppData\\Local\\Programs\\Python\\Python313\\Lib\\site-packages\\IPython\\core\\interactiveshell.py:3557: UserWarning: To exit: use 'exit', 'quit', or Ctrl-D.\n",
      "  warn(\"To exit: use 'exit', 'quit', or Ctrl-D.\", stacklevel=1)\n"
     ]
    }
   ],
   "source": [
    "from flask import Flask, session, redirect, url_for, request\n",
    "\n",
    "app = Flask(__name__)\n",
    "app.secret_key = 'my_secret_key'  # Needed for session to work\n",
    "\n",
    "# Home page\n",
    "@app.route('/')\n",
    "def home():\n",
    "    if 'username' in session:\n",
    "        return f\"Hello, {session['username']}! <br><a href='/logout'>Logout</a>\"\n",
    "    return \"You are not logged in. <br><a href='/login'>Login</a>\"\n",
    "\n",
    "# Login page\n",
    "@app.route('/login', methods=['GET', 'POST'])\n",
    "def login():\n",
    "    if request.method == 'POST':\n",
    "        session['username'] = request.form['username']  # Store username in session\n",
    "        return redirect(url_for('home'))\n",
    "    return '''\n",
    "        <form method=\"post\">\n",
    "            Username: <input type=\"text\" name=\"username\">\n",
    "            <input type=\"submit\" value=\"Login\">\n",
    "        </form>\n",
    "    '''\n",
    "\n",
    "# Logout\n",
    "@app.route('/logout')\n",
    "def logout():\n",
    "    session.pop('username', None)  # Remove user from session\n",
    "    return redirect(url_for('home'))\n",
    "\n",
    "if __name__ == '__main__':\n",
    "    app.run(debug=True)\n"
   ]
  },
  {
   "cell_type": "markdown",
   "id": "1449fd75-215f-41f2-a63d-ab83789224a6",
   "metadata": {},
   "source": [
    "#User visits home page (/):\n",
    "If logged in (username in session), show greeting.If not, show link to login.\n",
    "\n",
    "#User goes to login page (/login):\n",
    "If form is submitted, Flask saves the username to the session using session['username'].\n",
    "\n",
    "#Session keeps the user logged in:\n",
    "Even when navigating back to /, Flask remembers the user.\n",
    "\n",
    "#User logs out (/logout):\n",
    "Flask removes the username from the session using session.pop()."
   ]
  },
  {
   "cell_type": "markdown",
   "id": "59c4c868-b4be-473d-9a59-8ecb4c35320b",
   "metadata": {
    "jp-MarkdownHeadingCollapsed": true
   },
   "source": [
    "### Q9) How do you redirect to a different route in Flask?"
   ]
  },
  {
   "cell_type": "markdown",
   "id": "8a26a64e-a408-418f-8752-fbbd418ade47",
   "metadata": {},
   "source": [
    "#### ANS- "
   ]
  },
  {
   "cell_type": "code",
   "execution_count": 34,
   "id": "75ed165d-2714-46c0-923f-b097688bbfb7",
   "metadata": {},
   "outputs": [],
   "source": [
    "#using the redirect() function along with url_for():\n",
    "from flask import Flask, redirect, url_for\n",
    "\n",
    "app = Flask(__name__)\n",
    "\n",
    "@app.route('/')\n",
    "def home():\n",
    "    return 'Home Page'\n",
    "\n",
    "@app.route('/redirect-me')\n",
    "def redirect_me():\n",
    "    return redirect(url_for('new_route'))\n",
    "\n",
    "@app.route('/new-route')\n",
    "def new_route():\n",
    "    return 'You have been redirected!'"
   ]
  },
  {
   "cell_type": "code",
   "execution_count": 35,
   "id": "709af3a7-96ae-4ca3-8567-4d0a5e08a400",
   "metadata": {},
   "outputs": [],
   "source": [
    "#Redirect with Parameters:\n",
    "@app.route('/user/<username>')\n",
    "def user_profile(username):\n",
    "    return f'User: {username}'\n",
    "\n",
    "@app.route('/go-to-user')\n",
    "def go_to_user():\n",
    "    return redirect(url_for('user_profile', username='john'))"
   ]
  },
  {
   "cell_type": "markdown",
   "id": "f4d8aa39-4167-4d36-821f-e150de799e4c",
   "metadata": {
    "jp-MarkdownHeadingCollapsed": true
   },
   "source": [
    "### Q10) How do you handle errors in Flask (e.g., 404)?"
   ]
  },
  {
   "cell_type": "markdown",
   "id": "68d3bfac-ba7f-4273-a5d1-b145b61cc05e",
   "metadata": {},
   "source": [
    "#### ANS- "
   ]
  },
  {
   "cell_type": "code",
   "execution_count": 33,
   "id": "af037583-654d-4375-bbad-645613d14fce",
   "metadata": {},
   "outputs": [],
   "source": [
    "from flask import Flask, render_template\n",
    "\n",
    "app = Flask(__name__)\n",
    "\n",
    "@app.errorhandler(404)\n",
    "def page_not_found(e):\n",
    "    return render_template('404.html'), 404"
   ]
  },
  {
   "cell_type": "code",
   "execution_count": null,
   "id": "c3a12025-0af8-457f-b02f-06f3e4115264",
   "metadata": {},
   "outputs": [],
   "source": [
    "#templates/404.html:\n",
    "<h1>404 - Page Not Found</h1>\n",
    "<p>Sorry, that page does not exist.</p>"
   ]
  },
  {
   "cell_type": "markdown",
   "id": "e0de29e2-0ae2-4e67-a365-73700725f8b1",
   "metadata": {
    "jp-MarkdownHeadingCollapsed": true
   },
   "source": [
    "### Q11) How do you structure a Flask app using Blueprints?"
   ]
  },
  {
   "cell_type": "markdown",
   "id": "956c5ea1-fbcf-4b32-9f58-fadb4d2d6a3e",
   "metadata": {},
   "source": [
    "#### ANS-"
   ]
  },
  {
   "cell_type": "code",
   "execution_count": 16,
   "id": "127696fd-b7fc-4552-b1cc-7013aae7110c",
   "metadata": {},
   "outputs": [],
   "source": [
    "#Create a Blueprint\n",
    "##main/routes.py:\n",
    "from flask import Blueprint, render_template\n",
    "\n",
    "main = Blueprint('main', __name__, template_folder='templates')\n",
    "\n",
    "@main.route('/')\n",
    "def index():\n",
    "    return render_template('main/index.html')"
   ]
  },
  {
   "cell_type": "code",
   "execution_count": null,
   "id": "e64962cb-4947-46c1-af62-9a6d769c5efc",
   "metadata": {},
   "outputs": [],
   "source": [
    "#Register Blueprint in the Main App\n",
    "##app.py:\n",
    "from flask import Flask\n",
    "from main import main\n",
    "\n",
    "app = Flask(__name__)\n",
    "app.register_blueprint(main)\n",
    "\n",
    "if __name__ == '__main__':\n",
    "    app.run(debug=True)"
   ]
  },
  {
   "cell_type": "code",
   "execution_count": null,
   "id": "ac4fe8dc-e750-49d5-b3cc-fa912a6bcf75",
   "metadata": {},
   "outputs": [],
   "source": [
    "#Create a Template\n",
    "##main/templates/main/index.html:\n",
    "<!doctype html>\n",
    "<html>\n",
    "  <head><title>Home</title></head>\n",
    "  <body>\n",
    "    <h1>Hello from Blueprint!</h1>\n",
    "  </body>\n",
    "</html>"
   ]
  },
  {
   "cell_type": "markdown",
   "id": "e170236d-d812-4ef6-803d-95d5ce70f436",
   "metadata": {},
   "source": [
    "When you run app.py and navigate to http://127.0.0.1:5000/, you’ll see the output from main/index.html."
   ]
  },
  {
   "cell_type": "markdown",
   "id": "2fba1abb-2271-4e10-939d-6ce586e1ec30",
   "metadata": {
    "jp-MarkdownHeadingCollapsed": true
   },
   "source": [
    "### Q12) How do you define a custom Jinja filter in Flask?"
   ]
  },
  {
   "cell_type": "markdown",
   "id": "03fea550-136a-4e84-90af-b1c78bd30b7c",
   "metadata": {},
   "source": [
    "#### ANS- "
   ]
  },
  {
   "cell_type": "code",
   "execution_count": 3,
   "id": "27283fef-832d-4ddd-9c9a-4bc5b52a35bb",
   "metadata": {},
   "outputs": [
    {
     "name": "stdout",
     "output_type": "stream",
     "text": [
      " * Serving Flask app '__main__'\n",
      " * Debug mode: on\n"
     ]
    },
    {
     "name": "stderr",
     "output_type": "stream",
     "text": [
      "WARNING: This is a development server. Do not use it in a production deployment. Use a production WSGI server instead.\n",
      " * Running on http://127.0.0.1:5000\n",
      "Press CTRL+C to quit\n",
      " * Restarting with stat\n"
     ]
    },
    {
     "ename": "SystemExit",
     "evalue": "1",
     "output_type": "error",
     "traceback": [
      "An exception has occurred, use %tb to see the full traceback.\n",
      "\u001b[31mSystemExit\u001b[39m\u001b[31m:\u001b[39m 1\n"
     ]
    }
   ],
   "source": [
    "# app.py\n",
    "from flask import Flask, render_template\n",
    "app = Flask(__name__)\n",
    "\n",
    "@app.template_filter('reverse')\n",
    "def reverse_string(s):\n",
    "    return s[::-1]\n",
    "@app.route('/')\n",
    "def home():\n",
    "    return render_template('hello.html', name=\"Flask\")\n",
    "\n",
    "if __name__ == '__main__':\n",
    "    app.run(debug=True)"
   ]
  },
  {
   "cell_type": "code",
   "execution_count": null,
   "id": "97fc0d28-f489-49ed-8ad2-05346c34032a",
   "metadata": {},
   "outputs": [],
   "source": [
    "#templates/hello.html\n",
    "<!DOCTYPE html>\n",
    "<html>\n",
    "<head>\n",
    "    <title>Custom Jinja Filter</title>\n",
    "</head>\n",
    "<body>\n",
    "    <h1>Custom Jinja Filter Example</h1>\n",
    "    <p>Original Name: {{ name }}</p>\n",
    "    <p>Reversed Name: {{ name | reverse }}</p>\n",
    "</body>\n",
    "</html>"
   ]
  },
  {
   "cell_type": "markdown",
   "id": "309b1752-f74c-4743-9dbc-934e61c09eb5",
   "metadata": {},
   "source": [
    "Save the files (app.py and hello.html inside a templates folder).\n",
    "Run the Flask app:python app.py\n",
    "Open your browser and go to http://127.0.0.1:5000."
   ]
  },
  {
   "cell_type": "code",
   "execution_count": null,
   "id": "00dd9847-94ab-493d-95cc-c436015e9965",
   "metadata": {},
   "outputs": [],
   "source": [
    "Open your browser and go to http://127.0.0.1:5000.\n",
    "Original Name: Flask\n",
    "Reversed Name: ksalF"
   ]
  },
  {
   "cell_type": "markdown",
   "id": "e7f4bcb8-2da1-4879-95b3-62f841e2a595",
   "metadata": {},
   "source": [
    "### Q13) How can you redirect with query parameters in Flask?"
   ]
  },
  {
   "cell_type": "markdown",
   "id": "f97d8f77-c40f-49aa-9f90-8f3c185b7572",
   "metadata": {},
   "source": [
    "#### ANS- "
   ]
  },
  {
   "cell_type": "markdown",
   "id": "2a4ec617-00b4-44d9-bbb4-9db4a86f2b85",
   "metadata": {},
   "source": [
    "In Flask, you can redirect with query parameters using redirect() and url_for() by passing additional keyword arguments to url_for()—these get converted into query parameters."
   ]
  },
  {
   "cell_type": "code",
   "execution_count": 2,
   "id": "40303b14-5028-4f02-9ac2-768e89ae30ca",
   "metadata": {},
   "outputs": [],
   "source": [
    "from flask import Flask, redirect, url_for, request\n",
    "\n",
    "app = Flask(__name__)\n",
    "\n",
    "@app.route('/')\n",
    "def index():\n",
    "    # Redirect to /search with query parameters\n",
    "    return redirect(url_for('search', q='flask', page=2))\n",
    "\n",
    "@app.route('/search')\n",
    "def search():\n",
    "    query = request.args.get('q')\n",
    "    page = request.args.get('page', type=int)\n",
    "    return f\"Search query: {query}, Page: {page}\""
   ]
  },
  {
   "cell_type": "markdown",
   "id": "f20da3b4-8522-4552-a5d9-d2d8da71425d",
   "metadata": {},
   "source": [
    "#Output: Visiting / will redirect you to:\n",
    "\n",
    "/search?q=flask&page=2"
   ]
  },
  {
   "cell_type": "markdown",
   "id": "21d87e81-a715-4072-9389-9e5199d0f6ac",
   "metadata": {
    "jp-MarkdownHeadingCollapsed": true
   },
   "source": [
    "### Q14) How do you return JSON responses in Flask?"
   ]
  },
  {
   "cell_type": "markdown",
   "id": "085d3940-2231-4e6d-9dd1-3f59da716b8c",
   "metadata": {},
   "source": [
    "#### ANS- In Flask, you can return JSON responses easily using the jsonify() function, which converts Python dictionaries (or other serializable data structures) into a proper JSON response with the correct Content-Type."
   ]
  },
  {
   "cell_type": "code",
   "execution_count": 19,
   "id": "20fcc21b-d5f1-4451-8367-76473daedfd3",
   "metadata": {},
   "outputs": [],
   "source": [
    "from flask import Flask, jsonify\n",
    "\n",
    "app = Flask(__name__)\n",
    "\n",
    "@app.route('/api/data')\n",
    "def get_data():\n",
    "    data = {\n",
    "        \"name\": \"Alice\",\n",
    "        \"age\": 30,\n",
    "        \"location\": \"Wonderland\"\n",
    "    }\n",
    "    return jsonify(data)"
   ]
  },
  {
   "cell_type": "markdown",
   "id": "a5121ec9-9c0e-40bf-b7bb-271669171e6c",
   "metadata": {},
   "source": [
    "#Response Output:"
   ]
  },
  {
   "cell_type": "markdown",
   "id": "2f5d2429-bb73-4f1c-8fb1-e965506c86e2",
   "metadata": {},
   "source": [
    "{\n",
    "  \"name\": \"Alice\",\n",
    "  \"age\": 30,\n",
    "  \"location\": \"Wonderland\"\n",
    "}"
   ]
  },
  {
   "cell_type": "markdown",
   "id": "48377f2b-6223-4c4c-860d-84fe1ce5ab71",
   "metadata": {
    "jp-MarkdownHeadingCollapsed": true
   },
   "source": [
    "### Q15) How do you capture URL parameters in Flask?"
   ]
  },
  {
   "cell_type": "markdown",
   "id": "1d5c920e-4655-467d-b86b-2f82de6e499e",
   "metadata": {},
   "source": [
    "#### ANS- In Flask, you can capture URL parameters (also called route parameters or path variables) by including them in the route using angle brackets < >, and then using them as arguments in your view function."
   ]
  },
  {
   "cell_type": "code",
   "execution_count": 20,
   "id": "68583910-947c-41e5-8616-1f31d96214fb",
   "metadata": {},
   "outputs": [],
   "source": [
    "from flask import Flask\n",
    "\n",
    "app = Flask(__name__)\n",
    "\n",
    "@app.route('/user/<username>')\n",
    "def show_user(username):\n",
    "    return f\"User: {username}\""
   ]
  },
  {
   "cell_type": "markdown",
   "id": "7677acf9-319a-4f7f-8eb2-ece6d810a444",
   "metadata": {},
   "source": [
    "Visiting: /user/alice\n",
    "Returns: User: alice"
   ]
  },
  {
   "cell_type": "code",
   "execution_count": 23,
   "id": "2d40650f-b4e3-4cec-977f-bdc809e5f93b",
   "metadata": {},
   "outputs": [],
   "source": [
    "#You can specify a type in the URL:\n",
    "@app.route('/post/<int:post_id>')\n",
    "def show_post(post_id):\n",
    "    return f\"Post ID: {post_id}\""
   ]
  },
  {
   "cell_type": "code",
   "execution_count": 24,
   "id": "c9795cca-47b3-498f-bb95-52438e80e6ff",
   "metadata": {},
   "outputs": [],
   "source": [
    "#Multiple Parameters:\n",
    "@app.route('/user/<username>/post/<int:post_id>')\n",
    "def user_post(username, post_id):\n",
    "    return f\"User: {username}, Post: {post_id}\""
   ]
  }
 ],
 "metadata": {
  "kernelspec": {
   "display_name": "Python 3 (ipykernel)",
   "language": "python",
   "name": "python3"
  },
  "language_info": {
   "codemirror_mode": {
    "name": "ipython",
    "version": 3
   },
   "file_extension": ".py",
   "mimetype": "text/x-python",
   "name": "python",
   "nbconvert_exporter": "python",
   "pygments_lexer": "ipython3",
   "version": "3.13.3"
  }
 },
 "nbformat": 4,
 "nbformat_minor": 5
}
